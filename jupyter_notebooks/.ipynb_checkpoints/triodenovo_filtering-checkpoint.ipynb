{
 "cells": [
  {
   "cell_type": "markdown",
   "metadata": {},
   "source": [
    "## Filtering Triodenovo Calls"
   ]
  },
  {
   "cell_type": "markdown",
   "metadata": {},
   "source": [
    "DNMs were called by Yale using the TrioDenovo program and by HMS as previously described, and filtered using the same criteria, which have been shown to yield a specificity of 96.3% as described previously. These hard filters include: \n",
    "(1) an in-cohort MAF ≤ 4×10−4; \n",
    "(2) a minimum 10 total reads total, 5 alternate allele reads, and a minimum 20% alternate allele ratio in the proband if alternate allele reads ≥ 10 or, if alternate allele reads is < 10, a minimum 28% alternate ratio; \n",
    "(3) a minimum depth of 10 reference reads and alternate allele ratio < 3.5% in parents; and \n",
    "(4) exonic or canonical splice-site variants.\n",
    "\n",
    "https://www.ncbi.nlm.nih.gov/pmc/articles/PMC5675000/"
   ]
  },
  {
   "cell_type": "markdown",
   "metadata": {},
   "source": [
    "The output genotypes for Indels are incorrect in this version but the de novo evidence is correctly calculated. The incorrect genotype \"A/A\" is the homozygous reference allele, \"A/C\" is the heterozygous, and \"C/C\" is the homozygous alternative allele, where the reference and alternative alleles for Indels are in the REF and ALT columns.\n",
    "\n",
    "https://genome.sph.umich.edu/wiki/Triodenovo#Output"
   ]
  },
  {
   "cell_type": "code",
   "execution_count": 4,
   "metadata": {},
   "outputs": [],
   "source": [
    "\n",
    "with open('../intermediate/triodenovo/pcgc11_variants.vcf','w') as outf:\n",
    "    with open('/pollard/home/mpittman/oligo/intermediate/triodenovo/pcgc11_denovo.vcf') as f:\n",
    "        for line in f:\n",
    "\n",
    "            if line.startswith('##'):\n",
    "                outf.write(line)\n",
    "                continue\n",
    "\n",
    "            if line.startswith('#'):\n",
    "                header = line.strip().split('\\t')\n",
    "                outf.write(line)\n",
    "                continue\n",
    "\n",
    "            line_array = line.strip().split('\\t')\n",
    "\n",
    "            form = line_array[8].split(':')\n",
    "            dp_idx = form.index('DP')\n",
    "\n",
    "            # Find the carrier family\n",
    "            dps = []\n",
    "            for i,value in enumerate(line_array[9:], start=9):\n",
    "                if not value.startswith('./.'):\n",
    "\n",
    "                    ## Filter by minimum of total reads - Proband\n",
    "                    if not header[i].endswith(('-01','-02')):\n",
    "                        proband_dp = value.split(':')[dp_idx]\n",
    "                        dps.append(proband_dp)\n",
    "\n",
    "                        ## Filter by minimum of alternate allele ratio\n",
    "                        # Can't be done without AD info \n",
    "\n",
    "                    ## Filter minimum parental reads\n",
    "                    else:\n",
    "                        parent_dp = value.split(':')[dp_idx]\n",
    "                        dps.append(parent_dp)\n",
    "                        # Allele read ratio - can't be done without AD info\n",
    "                        \n",
    "            # Remove if too many people in the cohort had this variant\n",
    "                        \n",
    "            if any(i=='.' for i in dps):\n",
    "                continue\n",
    "            if any(int(i) < 10 for i in dps):\n",
    "                continue\n",
    "                        \n",
    "            outf.write(line)\n",
    "\n"
   ]
  },
  {
   "cell_type": "code",
   "execution_count": 25,
   "metadata": {},
   "outputs": [
    {
     "ename": "KeyboardInterrupt",
     "evalue": "",
     "output_type": "error",
     "traceback": [
      "\u001b[0;31m---------------------------------------------------------------------------\u001b[0m",
      "\u001b[0;31mKeyboardInterrupt\u001b[0m                         Traceback (most recent call last)",
      "\u001b[0;32m<ipython-input-25-9e20cd6cf652>\u001b[0m in \u001b[0;36m<module>\u001b[0;34m\u001b[0m\n\u001b[1;32m     16\u001b[0m \u001b[0;34m\u001b[0m\u001b[0m\n\u001b[0;32m---> 17\u001b[0;31m             \u001b[0mline_array\u001b[0m \u001b[0;34m=\u001b[0m \u001b[0mline\u001b[0m\u001b[0;34m.\u001b[0m\u001b[0mstrip\u001b[0m\u001b[0;34m(\u001b[0m\u001b[0;34m)\u001b[0m\u001b[0;34m.\u001b[0m\u001b[0msplit\u001b[0m\u001b[0;34m(\u001b[0m\u001b[0;34m'\\t'\u001b[0m\u001b[0;34m)\u001b[0m\u001b[0;34m\u001b[0m\u001b[0;34m\u001b[0m\u001b[0m\n\u001b[0m\u001b[1;32m     18\u001b[0m \u001b[0;34m\u001b[0m\u001b[0m\n",
      "\u001b[0;31mKeyboardInterrupt\u001b[0m: ",
      "\nDuring handling of the above exception, another exception occurred:\n",
      "\u001b[0;31mKeyboardInterrupt\u001b[0m                         Traceback (most recent call last)",
      "\u001b[0;32m<ipython-input-25-9e20cd6cf652>\u001b[0m in \u001b[0;36m<module>\u001b[0;34m\u001b[0m\n\u001b[1;32m     55\u001b[0m                 \u001b[0;32mcontinue\u001b[0m\u001b[0;34m\u001b[0m\u001b[0;34m\u001b[0m\u001b[0m\n\u001b[1;32m     56\u001b[0m \u001b[0;34m\u001b[0m\u001b[0m\n\u001b[0;32m---> 57\u001b[0;31m             \u001b[0moutf\u001b[0m\u001b[0;34m.\u001b[0m\u001b[0mwrite\u001b[0m\u001b[0;34m(\u001b[0m\u001b[0mline\u001b[0m\u001b[0;34m)\u001b[0m\u001b[0;34m\u001b[0m\u001b[0;34m\u001b[0m\u001b[0m\n\u001b[0m\u001b[1;32m     58\u001b[0m \u001b[0;34m\u001b[0m\u001b[0m\n",
      "\u001b[0;31mKeyboardInterrupt\u001b[0m: "
     ]
    }
   ],
   "source": [
    "weird_list = []\n",
    "pid_list = []\n",
    "\n",
    "with open('../intermediate/triodenovo/pcgc1_variants.vcf','w') as outf:\n",
    "    with open('/pollard/home/mpittman/oligo/intermediate/triodenovo/pcgc1_denovo.vcf') as f:\n",
    "        for line in f:\n",
    "\n",
    "            if line.startswith('##'):\n",
    "                outf.write(line)\n",
    "                continue\n",
    "\n",
    "            if line.startswith('#'):\n",
    "                header = line.strip().split('\\t')\n",
    "                outf.write(line)\n",
    "                continue\n",
    "\n",
    "            line_array = line.strip().split('\\t')\n",
    "\n",
    "            form = line_array[8].split(':')\n",
    "            dp_idx = form.index('DP')\n",
    "\n",
    "            # Find the carrier family\n",
    "            dps = []\n",
    "            for i,value in enumerate(line_array[9:], start=9):\n",
    "                if not value.startswith('./.'):\n",
    "\n",
    "                    ## Filter by minimum of total reads - Proband\n",
    "                    if not header[i].endswith(('-01','-02')):\n",
    "                        proband = header[i]\n",
    "                        proband_dp = value.split(':')[dp_idx]\n",
    "                        dps.append(proband_dp)\n",
    "\n",
    "                        ## Filter by minimum of alternate allele ratio\n",
    "                        # Can't be done without AD info \n",
    "\n",
    "                    ## Filter minimum parental reads\n",
    "                    else:\n",
    "                        parent_dp = value.split(':')[dp_idx]\n",
    "                        dps.append(parent_dp)\n",
    "                        # Allele read ratio - can't be done without AD info\n",
    "            \n",
    "            #######################\n",
    "            # Remove if too many individuals in the cohort had this variant\n",
    "                  \n",
    "            # This is very odd.....DP should only be one integer - this should be called AD\n",
    "            if any(',' in i for i in dps):\n",
    "                pid_list.append(proband)\n",
    "                weird_list.append(line)\n",
    "                for k,val in enumerate(dps):\n",
    "                    dps[k] = sum([int(j) for j in val.split(',')]) \n",
    "                \n",
    "            if any(j=='.' for j in dps):\n",
    "                continue\n",
    "            if any(int(j) < 10 for j in dps):\n",
    "                continue\n",
    "                        \n",
    "            outf.write(line)\n",
    "\n"
   ]
  },
  {
   "cell_type": "code",
   "execution_count": null,
   "metadata": {},
   "outputs": [],
   "source": [
    "# Check out weird lines\n",
    "print(len(weird_list))\n",
    "print(weird_list[0])\n",
    "print(pid_list[0])"
   ]
  },
  {
   "cell_type": "code",
   "execution_count": null,
   "metadata": {},
   "outputs": [],
   "source": [
    "print(header)"
   ]
  },
  {
   "cell_type": "code",
   "execution_count": 21,
   "metadata": {},
   "outputs": [
    {
     "name": "stdout",
     "output_type": "stream",
     "text": [
      "['1', '899927', 'rs757111315', 'C', 'T', '4529.2', 'PASS', '.', 'GT:AB:AD:DP:GQ:PGT:PID:PL']\n",
      "0/1:.:8,1:9:18:0|1:899924_C_A:18,0,434\n",
      "0/1:.:13,2:15:4:.:.:4,0,418\n",
      "0/1:0.89:31,4:35:75:0|1:899924_C_A:75,0,2186\n",
      "0/1:0.92:22,2:24:3:0|1:899924_C_A:3,0,1091\n",
      "0/1:.:8,2:10:40:0|1:899924_C_A:40,0,330\n",
      "0/1:.:0,1:1:29:0|1:899924_C_A:39,0,29\n",
      "0/1:0.75:3,1:4:65:0|1:899924_C_A:65,0,120\n",
      "1/1:.:0,1:1:3:.:.:33,3,0\n",
      "0/1:0.89:31,4:35:59:0|1:899924_C_A:59,0,1468\n",
      "['1', '899927', 'rs757111315', 'CGGGGAGGGGGG', 'C', '4529.2', 'PASS', '.', 'GT:AB:AD:DP:GQ:PGT:PID:PL']\n",
      "1/1:.:0,8:8:36:.:.:327,36,0\n",
      "0/1:.:4,2:6:25:.:.:25,0,1021\n",
      "1/1:.:0,9:9:39:.:.:361,39,0\n",
      "0/1:.:8,1:9:38:.:.:38,0,930\n",
      "0/1:.:2,4:6:86:.:.:86,0,436\n",
      "1/1:.:0,7:7:32:.:.:325,32,0\n",
      "1/1:.:0,5:5:22:.:.:194,22,0\n",
      "0/1:.:3,1:4:43:.:.:43,0,397\n",
      "1/1:.:0,2:2:11:.:.:100,11,0\n",
      "1/1:.:0,4:4:17:.:.:176,17,0\n",
      "1/1:.:0,3:3:14:.:.:114,14,0\n",
      "1/1:.:0,4:4:19:.:.:183,19,0\n",
      "0/1:.:1,2:3:75:.:.:75,0,131\n"
     ]
    },
    {
     "ename": "KeyboardInterrupt",
     "evalue": "",
     "output_type": "error",
     "traceback": [
      "\u001b[0;31m---------------------------------------------------------------------------\u001b[0m",
      "\u001b[0;31mKeyboardInterrupt\u001b[0m                         Traceback (most recent call last)",
      "\u001b[0;32m<ipython-input-21-b995f1b6c8ca>\u001b[0m in \u001b[0;36m<module>\u001b[0;34m\u001b[0m\n\u001b[1;32m      2\u001b[0m \u001b[0;34m\u001b[0m\u001b[0m\n\u001b[1;32m      3\u001b[0m \u001b[0;32mwith\u001b[0m \u001b[0mopen\u001b[0m\u001b[0;34m(\u001b[0m\u001b[0;34m'/pollard/data/genetics/PCGC/WES/Yale/rare_PCGC_072020/split_files/xaa'\u001b[0m\u001b[0;34m)\u001b[0m \u001b[0;32mas\u001b[0m \u001b[0mf\u001b[0m\u001b[0;34m:\u001b[0m\u001b[0;34m\u001b[0m\u001b[0;34m\u001b[0m\u001b[0m\n\u001b[0;32m----> 4\u001b[0;31m     \u001b[0;32mfor\u001b[0m \u001b[0mline\u001b[0m \u001b[0;32min\u001b[0m \u001b[0mf\u001b[0m\u001b[0;34m:\u001b[0m\u001b[0;34m\u001b[0m\u001b[0;34m\u001b[0m\u001b[0m\n\u001b[0m\u001b[1;32m      5\u001b[0m         \u001b[0;32mif\u001b[0m \u001b[0mline\u001b[0m\u001b[0;34m.\u001b[0m\u001b[0mstartswith\u001b[0m\u001b[0;34m(\u001b[0m\u001b[0;34m'#'\u001b[0m\u001b[0;34m)\u001b[0m\u001b[0;34m:\u001b[0m\u001b[0;34m\u001b[0m\u001b[0;34m\u001b[0m\u001b[0m\n\u001b[1;32m      6\u001b[0m             \u001b[0;32mcontinue\u001b[0m\u001b[0;34m\u001b[0m\u001b[0;34m\u001b[0m\u001b[0m\n",
      "\u001b[0;32m~/miniconda3/envs/ctf-apms/lib/python3.6/codecs.py\u001b[0m in \u001b[0;36mdecode\u001b[0;34m(self, input, final)\u001b[0m\n\u001b[1;32m    316\u001b[0m         \u001b[0;32mraise\u001b[0m \u001b[0mNotImplementedError\u001b[0m\u001b[0;34m\u001b[0m\u001b[0;34m\u001b[0m\u001b[0m\n\u001b[1;32m    317\u001b[0m \u001b[0;34m\u001b[0m\u001b[0m\n\u001b[0;32m--> 318\u001b[0;31m     \u001b[0;32mdef\u001b[0m \u001b[0mdecode\u001b[0m\u001b[0;34m(\u001b[0m\u001b[0mself\u001b[0m\u001b[0;34m,\u001b[0m \u001b[0minput\u001b[0m\u001b[0;34m,\u001b[0m \u001b[0mfinal\u001b[0m\u001b[0;34m=\u001b[0m\u001b[0;32mFalse\u001b[0m\u001b[0;34m)\u001b[0m\u001b[0;34m:\u001b[0m\u001b[0;34m\u001b[0m\u001b[0;34m\u001b[0m\u001b[0m\n\u001b[0m\u001b[1;32m    319\u001b[0m         \u001b[0;31m# decode input (taking the buffer into account)\u001b[0m\u001b[0;34m\u001b[0m\u001b[0;34m\u001b[0m\u001b[0;34m\u001b[0m\u001b[0m\n\u001b[1;32m    320\u001b[0m         \u001b[0mdata\u001b[0m \u001b[0;34m=\u001b[0m \u001b[0mself\u001b[0m\u001b[0;34m.\u001b[0m\u001b[0mbuffer\u001b[0m \u001b[0;34m+\u001b[0m \u001b[0minput\u001b[0m\u001b[0;34m\u001b[0m\u001b[0;34m\u001b[0m\u001b[0m\n",
      "\u001b[0;31mKeyboardInterrupt\u001b[0m: "
     ]
    }
   ],
   "source": [
    "rsid = \"rs757111315\"\n",
    "\n",
    "with open('/pollard/data/genetics/PCGC/WES/Yale/rare_PCGC_072020/split_files/xaa') as f:\n",
    "    for line in f:\n",
    "        if line.startswith('#'):\n",
    "            continue\n",
    "        line_array = line.strip().split('\\t')\n",
    "        if line_array[2] == rsid:\n",
    "            print(line_array[0:9])\n",
    "            for i in line_array[9:]:\n",
    "                if not i.startswith(('./.','0/0')):\n",
    "                    print(i)\n",
    "        else:\n",
    "            continue"
   ]
  },
  {
   "cell_type": "code",
   "execution_count": 7,
   "metadata": {},
   "outputs": [],
   "source": [
    "# Run annovar on these variants\n",
    "annovar_path = '/pollard/home/mpittman/PCGC/code/annovar'\n",
    "out_path = '../intermediate/triodenovo/'\n",
    "fname = 'pcgc11_variants.vcf'\n",
    "\n",
    "cmd1 = \"perl {}/table_annovar.pl {}/{} {}/humandb/ -buildver hg19 -out {}/{}\".format(annovar_path,out_path,fname,\n",
    "                                                                                     annovar_path,out_path,fname)\n",
    "cmd2 = \" -remove -protocol refGene,dbnsfp30a,exac03 -operation g,f,f -nastring . -vcfinput\"\n",
    "\n",
    "cmd = cmd1+cmd2\n",
    "os.system(cmd)"
   ]
  },
  {
   "cell_type": "code",
   "execution_count": 8,
   "metadata": {},
   "outputs": [],
   "source": [
    "# Filter out non-exonic/non-canonical splice sites"
   ]
  },
  {
   "cell_type": "code",
   "execution_count": null,
   "metadata": {},
   "outputs": [],
   "source": [
    "# Get into desired format"
   ]
  }
 ],
 "metadata": {
  "kernelspec": {
   "display_name": "Python 3",
   "language": "python",
   "name": "python3"
  },
  "language_info": {
   "codemirror_mode": {
    "name": "ipython",
    "version": 3
   },
   "file_extension": ".py",
   "mimetype": "text/x-python",
   "name": "python",
   "nbconvert_exporter": "python",
   "pygments_lexer": "ipython3",
   "version": "3.6.10"
  }
 },
 "nbformat": 4,
 "nbformat_minor": 4
}
