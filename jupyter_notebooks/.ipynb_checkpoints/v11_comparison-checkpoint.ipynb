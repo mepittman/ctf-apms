{
 "cells": [
  {
   "cell_type": "code",
   "execution_count": 1,
   "metadata": {},
   "outputs": [
    {
     "name": "stderr",
     "output_type": "stream",
     "text": [
      "Loading required package: bitops\n",
      "Registered S3 method overwritten by 'openssl':\n",
      "  method      from\n",
      "  print.bytes Rcpp\n"
     ]
    }
   ],
   "source": [
    "library(RCurl)\n",
    "library(XML)\n",
    "library(biomaRt)\n",
    "library(data.table)"
   ]
  },
  {
   "cell_type": "code",
   "execution_count": 11,
   "metadata": {},
   "outputs": [
    {
     "data": {
      "text/html": [
       "<table>\n",
       "<thead><tr><th scope=col>Blinded.ID</th><th scope=col>CHROM</th><th scope=col>POS</th><th scope=col>REF</th><th scope=col>ALT</th><th scope=col>Variant.Class</th><th scope=col>variant_type</th><th scope=col>Gene</th><th scope=col>AA_change</th></tr></thead>\n",
       "<tbody>\n",
       "\t<tr><td>GT04011952         </td><td>19                 </td><td>  8491545          </td><td>C                  </td><td>G                  </td><td>mis                </td><td>Case Non-synonymous</td><td>MARCH2             </td><td>p.L77V             </td></tr>\n",
       "\t<tr><td>1-00788            </td><td>10                 </td><td> 94070938          </td><td>G                  </td><td>A                  </td><td>mis                </td><td>Case Non-synonymous</td><td>MARCH5             </td><td>p.E28K             </td></tr>\n",
       "\t<tr><td>1-01469            </td><td>2                  </td><td>242275458          </td><td>C                  </td><td>T                  </td><td>mis                </td><td>Case Non-synonymous</td><td>SEPT2              </td><td>p.R106C            </td></tr>\n",
       "\t<tr><td>1-06549            </td><td>22                 </td><td> 42382110          </td><td>G                  </td><td>A                  </td><td>mis                </td><td>Case Non-synonymous</td><td>SEPT3              </td><td>p.G109R            </td></tr>\n",
       "\t<tr><td>1-05720            </td><td>17                 </td><td> 56604065          </td><td>A                  </td><td>C                  </td><td>mis                </td><td>Case Non-synonymous</td><td>SEPT4              </td><td>p.L127R            </td></tr>\n",
       "\t<tr><td>1-07417            </td><td>5                  </td><td>132097207          </td><td>C                  </td><td>G                  </td><td>misD               </td><td>Case Non-synonymous</td><td>SEPT8              </td><td>p.R302P            </td></tr>\n",
       "</tbody>\n",
       "</table>\n"
      ],
      "text/latex": [
       "\\begin{tabular}{r|lllllllll}\n",
       " Blinded.ID & CHROM & POS & REF & ALT & Variant.Class & variant\\_type & Gene & AA\\_change\\\\\n",
       "\\hline\n",
       "\t GT04011952          & 19                  &   8491545           & C                   & G                   & mis                 & Case Non-synonymous & MARCH2              & p.L77V             \\\\\n",
       "\t 1-00788             & 10                  &  94070938           & G                   & A                   & mis                 & Case Non-synonymous & MARCH5              & p.E28K             \\\\\n",
       "\t 1-01469             & 2                   & 242275458           & C                   & T                   & mis                 & Case Non-synonymous & SEPT2               & p.R106C            \\\\\n",
       "\t 1-06549             & 22                  &  42382110           & G                   & A                   & mis                 & Case Non-synonymous & SEPT3               & p.G109R            \\\\\n",
       "\t 1-05720             & 17                  &  56604065           & A                   & C                   & mis                 & Case Non-synonymous & SEPT4               & p.L127R            \\\\\n",
       "\t 1-07417             & 5                   & 132097207           & C                   & G                   & misD                & Case Non-synonymous & SEPT8               & p.R302P            \\\\\n",
       "\\end{tabular}\n"
      ],
      "text/markdown": [
       "\n",
       "| Blinded.ID | CHROM | POS | REF | ALT | Variant.Class | variant_type | Gene | AA_change |\n",
       "|---|---|---|---|---|---|---|---|---|\n",
       "| GT04011952          | 19                  |   8491545           | C                   | G                   | mis                 | Case Non-synonymous | MARCH2              | p.L77V              |\n",
       "| 1-00788             | 10                  |  94070938           | G                   | A                   | mis                 | Case Non-synonymous | MARCH5              | p.E28K              |\n",
       "| 1-01469             | 2                   | 242275458           | C                   | T                   | mis                 | Case Non-synonymous | SEPT2               | p.R106C             |\n",
       "| 1-06549             | 22                  |  42382110           | G                   | A                   | mis                 | Case Non-synonymous | SEPT3               | p.G109R             |\n",
       "| 1-05720             | 17                  |  56604065           | A                   | C                   | mis                 | Case Non-synonymous | SEPT4               | p.L127R             |\n",
       "| 1-07417             | 5                   | 132097207           | C                   | G                   | misD                | Case Non-synonymous | SEPT8               | p.R302P             |\n",
       "\n"
      ],
      "text/plain": [
       "  Blinded.ID CHROM POS       REF ALT Variant.Class variant_type        Gene  \n",
       "1 GT04011952 19      8491545 C   G   mis           Case Non-synonymous MARCH2\n",
       "2 1-00788    10     94070938 G   A   mis           Case Non-synonymous MARCH5\n",
       "3 1-01469    2     242275458 C   T   mis           Case Non-synonymous SEPT2 \n",
       "4 1-06549    22     42382110 G   A   mis           Case Non-synonymous SEPT3 \n",
       "5 1-05720    17     56604065 A   C   mis           Case Non-synonymous SEPT4 \n",
       "6 1-07417    5     132097207 C   G   misD          Case Non-synonymous SEPT8 \n",
       "  AA_change\n",
       "1 p.L77V   \n",
       "2 p.E28K   \n",
       "3 p.R106C  \n",
       "4 p.G109R  \n",
       "5 p.L127R  \n",
       "6 p.R302P  "
      ]
     },
     "metadata": {},
     "output_type": "display_data"
    }
   ],
   "source": [
    "# Load in case and control dnvs\n",
    "cases = read.csv('~/lab_notebooks/outer_join_dnvs.csv', stringsAsFactors = FALSE)\n",
    "ctrls = read.csv('../data/variants/DNV_ctrls.csv', stringsAsFactors = FALSE)\n",
    "\n",
    "names(cases) <- c('Blinded.ID','CHROM','POS','REF','ALT','Gene','Variant.Class','AA_change')\n",
    "\n",
    "cases$variant_type = ifelse(cases$Variant.Class == \"syn\", \"Case Synonymous\", \"Case Non-synonymous\")\n",
    "ctrls$variant_type = ifelse(ctrls$Variant.Class == \"syn\", \"Control Synonymous\", \"Control Non-synonymous\")\n",
    "\n",
    "cols  = c(\"Blinded.ID\",\"CHROM\",\"POS\",'REF','ALT','Variant.Class','variant_type','Gene','AA_change')\n",
    "combined = rbind(cases[,cols], ctrls[,cols])"
   ]
  },
  {
   "cell_type": "code",
   "execution_count": 12,
   "metadata": {},
   "outputs": [
    {
     "data": {
      "text/html": [
       "<table>\n",
       "<thead><tr><th scope=col>Blinded.ID</th><th scope=col>CHROM</th><th scope=col>POS</th><th scope=col>REF</th><th scope=col>ALT</th><th scope=col>Variant.Class</th><th scope=col>variant_type</th><th scope=col>Gene</th><th scope=col>AA_change</th><th scope=col>Interactome</th><th scope=col>variant_type_2</th></tr></thead>\n",
       "<tbody>\n",
       "\t<tr><td>GT04011952                         </td><td>19                                 </td><td>  8491545                          </td><td>C                                  </td><td>G                                  </td><td>mis                                </td><td>Case Non-synonymous                </td><td>MARCH2                             </td><td>p.L77V                             </td><td>Non-interactome                    </td><td>Case Non-synonymous_Non-interactome</td></tr>\n",
       "\t<tr><td>1-00788                            </td><td>10                                 </td><td> 94070938                          </td><td>G                                  </td><td>A                                  </td><td>mis                                </td><td>Case Non-synonymous                </td><td>MARCH5                             </td><td>p.E28K                             </td><td>Non-interactome                    </td><td>Case Non-synonymous_Non-interactome</td></tr>\n",
       "\t<tr><td>1-01469                            </td><td>2                                  </td><td>242275458                          </td><td>C                                  </td><td>T                                  </td><td>mis                                </td><td>Case Non-synonymous                </td><td>SEPT2                              </td><td>p.R106C                            </td><td>Non-interactome                    </td><td>Case Non-synonymous_Non-interactome</td></tr>\n",
       "\t<tr><td>1-06549                            </td><td>22                                 </td><td> 42382110                          </td><td>G                                  </td><td>A                                  </td><td>mis                                </td><td>Case Non-synonymous                </td><td>SEPT3                              </td><td>p.G109R                            </td><td>Non-interactome                    </td><td>Case Non-synonymous_Non-interactome</td></tr>\n",
       "\t<tr><td>1-05720                            </td><td>17                                 </td><td> 56604065                          </td><td>A                                  </td><td>C                                  </td><td>mis                                </td><td>Case Non-synonymous                </td><td>SEPT4                              </td><td>p.L127R                            </td><td>Non-interactome                    </td><td>Case Non-synonymous_Non-interactome</td></tr>\n",
       "\t<tr><td>1-07417                            </td><td>5                                  </td><td>132097207                          </td><td>C                                  </td><td>G                                  </td><td>misD                               </td><td>Case Non-synonymous                </td><td>SEPT8                              </td><td>p.R302P                            </td><td>Non-interactome                    </td><td>Case Non-synonymous_Non-interactome</td></tr>\n",
       "</tbody>\n",
       "</table>\n"
      ],
      "text/latex": [
       "\\begin{tabular}{r|lllllllllll}\n",
       " Blinded.ID & CHROM & POS & REF & ALT & Variant.Class & variant\\_type & Gene & AA\\_change & Interactome & variant\\_type\\_2\\\\\n",
       "\\hline\n",
       "\t GT04011952                            & 19                                    &   8491545                             & C                                     & G                                     & mis                                   & Case Non-synonymous                   & MARCH2                                & p.L77V                                & Non-interactome                       & Case Non-synonymous\\_Non-interactome\\\\\n",
       "\t 1-00788                               & 10                                    &  94070938                             & G                                     & A                                     & mis                                   & Case Non-synonymous                   & MARCH5                                & p.E28K                                & Non-interactome                       & Case Non-synonymous\\_Non-interactome\\\\\n",
       "\t 1-01469                               & 2                                     & 242275458                             & C                                     & T                                     & mis                                   & Case Non-synonymous                   & SEPT2                                 & p.R106C                               & Non-interactome                       & Case Non-synonymous\\_Non-interactome\\\\\n",
       "\t 1-06549                               & 22                                    &  42382110                             & G                                     & A                                     & mis                                   & Case Non-synonymous                   & SEPT3                                 & p.G109R                               & Non-interactome                       & Case Non-synonymous\\_Non-interactome\\\\\n",
       "\t 1-05720                               & 17                                    &  56604065                             & A                                     & C                                     & mis                                   & Case Non-synonymous                   & SEPT4                                 & p.L127R                               & Non-interactome                       & Case Non-synonymous\\_Non-interactome\\\\\n",
       "\t 1-07417                               & 5                                     & 132097207                             & C                                     & G                                     & misD                                  & Case Non-synonymous                   & SEPT8                                 & p.R302P                               & Non-interactome                       & Case Non-synonymous\\_Non-interactome\\\\\n",
       "\\end{tabular}\n"
      ],
      "text/markdown": [
       "\n",
       "| Blinded.ID | CHROM | POS | REF | ALT | Variant.Class | variant_type | Gene | AA_change | Interactome | variant_type_2 |\n",
       "|---|---|---|---|---|---|---|---|---|---|---|\n",
       "| GT04011952                          | 19                                  |   8491545                           | C                                   | G                                   | mis                                 | Case Non-synonymous                 | MARCH2                              | p.L77V                              | Non-interactome                     | Case Non-synonymous_Non-interactome |\n",
       "| 1-00788                             | 10                                  |  94070938                           | G                                   | A                                   | mis                                 | Case Non-synonymous                 | MARCH5                              | p.E28K                              | Non-interactome                     | Case Non-synonymous_Non-interactome |\n",
       "| 1-01469                             | 2                                   | 242275458                           | C                                   | T                                   | mis                                 | Case Non-synonymous                 | SEPT2                               | p.R106C                             | Non-interactome                     | Case Non-synonymous_Non-interactome |\n",
       "| 1-06549                             | 22                                  |  42382110                           | G                                   | A                                   | mis                                 | Case Non-synonymous                 | SEPT3                               | p.G109R                             | Non-interactome                     | Case Non-synonymous_Non-interactome |\n",
       "| 1-05720                             | 17                                  |  56604065                           | A                                   | C                                   | mis                                 | Case Non-synonymous                 | SEPT4                               | p.L127R                             | Non-interactome                     | Case Non-synonymous_Non-interactome |\n",
       "| 1-07417                             | 5                                   | 132097207                           | C                                   | G                                   | misD                                | Case Non-synonymous                 | SEPT8                               | p.R302P                             | Non-interactome                     | Case Non-synonymous_Non-interactome |\n",
       "\n"
      ],
      "text/plain": [
       "  Blinded.ID CHROM POS       REF ALT Variant.Class variant_type        Gene  \n",
       "1 GT04011952 19      8491545 C   G   mis           Case Non-synonymous MARCH2\n",
       "2 1-00788    10     94070938 G   A   mis           Case Non-synonymous MARCH5\n",
       "3 1-01469    2     242275458 C   T   mis           Case Non-synonymous SEPT2 \n",
       "4 1-06549    22     42382110 G   A   mis           Case Non-synonymous SEPT3 \n",
       "5 1-05720    17     56604065 A   C   mis           Case Non-synonymous SEPT4 \n",
       "6 1-07417    5     132097207 C   G   misD          Case Non-synonymous SEPT8 \n",
       "  AA_change Interactome     variant_type_2                     \n",
       "1 p.L77V    Non-interactome Case Non-synonymous_Non-interactome\n",
       "2 p.E28K    Non-interactome Case Non-synonymous_Non-interactome\n",
       "3 p.R106C   Non-interactome Case Non-synonymous_Non-interactome\n",
       "4 p.G109R   Non-interactome Case Non-synonymous_Non-interactome\n",
       "5 p.L127R   Non-interactome Case Non-synonymous_Non-interactome\n",
       "6 p.R302P   Non-interactome Case Non-synonymous_Non-interactome"
      ]
     },
     "metadata": {},
     "output_type": "display_data"
    }
   ],
   "source": [
    "gt_df = read.table('../intermediate/interactome_lists/GATA4-TBX5_genes.txt', stringsAsFactors=FALSE)\n",
    "gt_interactome = gt_df$V1\n",
    "\n",
    "combined$Interactome = ifelse(combined$Gene %in% gt_interactome, \"Interactome\", \"Non-interactome\")\n",
    "combined$variant_type_2 = paste0(combined$variant_type, '_', combined$Interactome)\n",
    "head(combined)"
   ]
  },
  {
   "cell_type": "markdown",
   "metadata": {},
   "source": [
    "### CADD"
   ]
  },
  {
   "cell_type": "code",
   "execution_count": 13,
   "metadata": {},
   "outputs": [],
   "source": [
    "dat = read.table('/pollard/home/mpittman/ctf-apms/data/cadd/v11_variants.tsv', sep = \"\\t\", \n",
    "               stringsAsFactors = FALSE, fill=TRUE)\n",
    "names(dat) <- c(\"CHROM\",\"POS\",\"REF\",\"ALT\",\"CADD.score\",\"Phred.score\")"
   ]
  },
  {
   "cell_type": "code",
   "execution_count": 17,
   "metadata": {},
   "outputs": [],
   "source": [
    "cdf1 = read.table('../data/cadd/cadd_scores.tsv',sep = \"\\t\", \n",
    "               stringsAsFactors = FALSE, fill=TRUE)\n",
    "names(cdf1) <- c(\"CHROM\",\"POS\",\"REF\",\"ALT\",\"CADD.score\",\"Phred.score\")"
   ]
  },
  {
   "cell_type": "code",
   "execution_count": 27,
   "metadata": {},
   "outputs": [],
   "source": [
    "cadd = unique(rbind(cdf1, dat))\n",
    "df = merge(combined, cadd)\n",
    "df$Gene <- gsub(\"\\\\\\\\x3b\", ';', df$Gene)"
   ]
  },
  {
   "cell_type": "markdown",
   "metadata": {},
   "source": [
    "### gnomAD pLI scores"
   ]
  },
  {
   "cell_type": "code",
   "execution_count": 28,
   "metadata": {},
   "outputs": [
    {
     "data": {
      "text/html": [
       "<ol class=list-inline>\n",
       "\t<li>'UQCRHL'</li>\n",
       "\t<li>'MFSD4A'</li>\n",
       "\t<li>'FAM72A;FAM72C'</li>\n",
       "\t<li>'PCNX2'</li>\n",
       "\t<li>'KDF1'</li>\n",
       "\t<li>'NRDC'</li>\n",
       "\t<li>'CFAP58'</li>\n",
       "\t<li>'CFAP46'</li>\n",
       "\t<li>'ZNF518A'</li>\n",
       "\t<li>'CEP126'</li>\n",
       "\t<li>'CEP126'</li>\n",
       "\t<li>'JAML'</li>\n",
       "\t<li>'SRPRA'</li>\n",
       "\t<li>'GCN1'</li>\n",
       "\t<li>'TIGAR'</li>\n",
       "\t<li>'CFAP54'</li>\n",
       "\t<li>'LINS1'</li>\n",
       "\t<li>'INAFM2'</li>\n",
       "\t<li>'KNL1'</li>\n",
       "\t<li>'JMJD7-PLA2G4B;PLA2G4B'</li>\n",
       "\t<li>'INTS14'</li>\n",
       "\t<li>'MARF1'</li>\n",
       "\t<li>'CRAMP1'</li>\n",
       "\t<li>'DRC7'</li>\n",
       "\t<li>'DRC7'</li>\n",
       "\t<li>'LOC100506388'</li>\n",
       "\t<li>'TMEM94'</li>\n",
       "\t<li>'9-Sep'</li>\n",
       "\t<li>'ARHGAP45'</li>\n",
       "\t<li>'HSH2D'</li>\n",
       "\t<li>'ERICH4'</li>\n",
       "\t<li>'BICRA'</li>\n",
       "\t<li>'PRR36'</li>\n",
       "\t<li>'RGPD5;RGPD8'</li>\n",
       "\t<li>'C2CD6'</li>\n",
       "\t<li>'CFAP65'</li>\n",
       "\t<li>'CFAP65'</li>\n",
       "\t<li>'RETREG2'</li>\n",
       "\t<li>'ASB3;GPR75-ASB3'</li>\n",
       "\t<li>'RGPD1;RGPD2'</li>\n",
       "\t<li>'RGPD1;RGPD2'</li>\n",
       "\t<li>'ADIG'</li>\n",
       "\t<li>'PLAC4'</li>\n",
       "\t<li>'CFAP44'</li>\n",
       "\t<li>'CFAP44'</li>\n",
       "\t<li>'USF3'</li>\n",
       "\t<li>'ALG1L2'</li>\n",
       "\t<li>'PXYLP1'</li>\n",
       "\t<li>'MUC4;MUC4'</li>\n",
       "\t<li>'CISD2;SLC9B1'</li>\n",
       "\t<li>'ANAPC4;ANAPC4'</li>\n",
       "\t<li>'NWD2'</li>\n",
       "\t<li>'ADCY2;ADCY2'</li>\n",
       "\t<li>'ADGRV1'</li>\n",
       "\t<li>'MFSD4B'</li>\n",
       "\t<li>'HGC6.3'</li>\n",
       "\t<li>'C4A;C4B;C4B_2'</li>\n",
       "\t<li>'SMIM29'</li>\n",
       "\t<li>'RPS10;RPS10-NUDT3'</li>\n",
       "\t<li>'CASP8AP2'</li>\n",
       "\t<li>'CASP8AP2'</li>\n",
       "\t<li>'C7orf55-LUC7L2;LUC7L2'</li>\n",
       "\t<li>'SSPO'</li>\n",
       "\t<li>'NIPSNAP2'</li>\n",
       "\t<li>'ZNF735'</li>\n",
       "\t<li>'C8orf76;ZHX1-C8orf76'</li>\n",
       "\t<li>'SPATA31C1'</li>\n",
       "\t<li>'SPATA31C2'</li>\n",
       "\t<li>'GCNA'</li>\n",
       "</ol>\n"
      ],
      "text/latex": [
       "\\begin{enumerate*}\n",
       "\\item 'UQCRHL'\n",
       "\\item 'MFSD4A'\n",
       "\\item 'FAM72A;FAM72C'\n",
       "\\item 'PCNX2'\n",
       "\\item 'KDF1'\n",
       "\\item 'NRDC'\n",
       "\\item 'CFAP58'\n",
       "\\item 'CFAP46'\n",
       "\\item 'ZNF518A'\n",
       "\\item 'CEP126'\n",
       "\\item 'CEP126'\n",
       "\\item 'JAML'\n",
       "\\item 'SRPRA'\n",
       "\\item 'GCN1'\n",
       "\\item 'TIGAR'\n",
       "\\item 'CFAP54'\n",
       "\\item 'LINS1'\n",
       "\\item 'INAFM2'\n",
       "\\item 'KNL1'\n",
       "\\item 'JMJD7-PLA2G4B;PLA2G4B'\n",
       "\\item 'INTS14'\n",
       "\\item 'MARF1'\n",
       "\\item 'CRAMP1'\n",
       "\\item 'DRC7'\n",
       "\\item 'DRC7'\n",
       "\\item 'LOC100506388'\n",
       "\\item 'TMEM94'\n",
       "\\item '9-Sep'\n",
       "\\item 'ARHGAP45'\n",
       "\\item 'HSH2D'\n",
       "\\item 'ERICH4'\n",
       "\\item 'BICRA'\n",
       "\\item 'PRR36'\n",
       "\\item 'RGPD5;RGPD8'\n",
       "\\item 'C2CD6'\n",
       "\\item 'CFAP65'\n",
       "\\item 'CFAP65'\n",
       "\\item 'RETREG2'\n",
       "\\item 'ASB3;GPR75-ASB3'\n",
       "\\item 'RGPD1;RGPD2'\n",
       "\\item 'RGPD1;RGPD2'\n",
       "\\item 'ADIG'\n",
       "\\item 'PLAC4'\n",
       "\\item 'CFAP44'\n",
       "\\item 'CFAP44'\n",
       "\\item 'USF3'\n",
       "\\item 'ALG1L2'\n",
       "\\item 'PXYLP1'\n",
       "\\item 'MUC4;MUC4'\n",
       "\\item 'CISD2;SLC9B1'\n",
       "\\item 'ANAPC4;ANAPC4'\n",
       "\\item 'NWD2'\n",
       "\\item 'ADCY2;ADCY2'\n",
       "\\item 'ADGRV1'\n",
       "\\item 'MFSD4B'\n",
       "\\item 'HGC6.3'\n",
       "\\item 'C4A;C4B;C4B\\_2'\n",
       "\\item 'SMIM29'\n",
       "\\item 'RPS10;RPS10-NUDT3'\n",
       "\\item 'CASP8AP2'\n",
       "\\item 'CASP8AP2'\n",
       "\\item 'C7orf55-LUC7L2;LUC7L2'\n",
       "\\item 'SSPO'\n",
       "\\item 'NIPSNAP2'\n",
       "\\item 'ZNF735'\n",
       "\\item 'C8orf76;ZHX1-C8orf76'\n",
       "\\item 'SPATA31C1'\n",
       "\\item 'SPATA31C2'\n",
       "\\item 'GCNA'\n",
       "\\end{enumerate*}\n"
      ],
      "text/markdown": [
       "1. 'UQCRHL'\n",
       "2. 'MFSD4A'\n",
       "3. 'FAM72A;FAM72C'\n",
       "4. 'PCNX2'\n",
       "5. 'KDF1'\n",
       "6. 'NRDC'\n",
       "7. 'CFAP58'\n",
       "8. 'CFAP46'\n",
       "9. 'ZNF518A'\n",
       "10. 'CEP126'\n",
       "11. 'CEP126'\n",
       "12. 'JAML'\n",
       "13. 'SRPRA'\n",
       "14. 'GCN1'\n",
       "15. 'TIGAR'\n",
       "16. 'CFAP54'\n",
       "17. 'LINS1'\n",
       "18. 'INAFM2'\n",
       "19. 'KNL1'\n",
       "20. 'JMJD7-PLA2G4B;PLA2G4B'\n",
       "21. 'INTS14'\n",
       "22. 'MARF1'\n",
       "23. 'CRAMP1'\n",
       "24. 'DRC7'\n",
       "25. 'DRC7'\n",
       "26. 'LOC100506388'\n",
       "27. 'TMEM94'\n",
       "28. '9-Sep'\n",
       "29. 'ARHGAP45'\n",
       "30. 'HSH2D'\n",
       "31. 'ERICH4'\n",
       "32. 'BICRA'\n",
       "33. 'PRR36'\n",
       "34. 'RGPD5;RGPD8'\n",
       "35. 'C2CD6'\n",
       "36. 'CFAP65'\n",
       "37. 'CFAP65'\n",
       "38. 'RETREG2'\n",
       "39. 'ASB3;GPR75-ASB3'\n",
       "40. 'RGPD1;RGPD2'\n",
       "41. 'RGPD1;RGPD2'\n",
       "42. 'ADIG'\n",
       "43. 'PLAC4'\n",
       "44. 'CFAP44'\n",
       "45. 'CFAP44'\n",
       "46. 'USF3'\n",
       "47. 'ALG1L2'\n",
       "48. 'PXYLP1'\n",
       "49. 'MUC4;MUC4'\n",
       "50. 'CISD2;SLC9B1'\n",
       "51. 'ANAPC4;ANAPC4'\n",
       "52. 'NWD2'\n",
       "53. 'ADCY2;ADCY2'\n",
       "54. 'ADGRV1'\n",
       "55. 'MFSD4B'\n",
       "56. 'HGC6.3'\n",
       "57. 'C4A;C4B;C4B_2'\n",
       "58. 'SMIM29'\n",
       "59. 'RPS10;RPS10-NUDT3'\n",
       "60. 'CASP8AP2'\n",
       "61. 'CASP8AP2'\n",
       "62. 'C7orf55-LUC7L2;LUC7L2'\n",
       "63. 'SSPO'\n",
       "64. 'NIPSNAP2'\n",
       "65. 'ZNF735'\n",
       "66. 'C8orf76;ZHX1-C8orf76'\n",
       "67. 'SPATA31C1'\n",
       "68. 'SPATA31C2'\n",
       "69. 'GCNA'\n",
       "\n",
       "\n"
      ],
      "text/plain": [
       " [1] \"UQCRHL\"                \"MFSD4A\"                \"FAM72A;FAM72C\"        \n",
       " [4] \"PCNX2\"                 \"KDF1\"                  \"NRDC\"                 \n",
       " [7] \"CFAP58\"                \"CFAP46\"                \"ZNF518A\"              \n",
       "[10] \"CEP126\"                \"CEP126\"                \"JAML\"                 \n",
       "[13] \"SRPRA\"                 \"GCN1\"                  \"TIGAR\"                \n",
       "[16] \"CFAP54\"                \"LINS1\"                 \"INAFM2\"               \n",
       "[19] \"KNL1\"                  \"JMJD7-PLA2G4B;PLA2G4B\" \"INTS14\"               \n",
       "[22] \"MARF1\"                 \"CRAMP1\"                \"DRC7\"                 \n",
       "[25] \"DRC7\"                  \"LOC100506388\"          \"TMEM94\"               \n",
       "[28] \"9-Sep\"                 \"ARHGAP45\"              \"HSH2D\"                \n",
       "[31] \"ERICH4\"                \"BICRA\"                 \"PRR36\"                \n",
       "[34] \"RGPD5;RGPD8\"           \"C2CD6\"                 \"CFAP65\"               \n",
       "[37] \"CFAP65\"                \"RETREG2\"               \"ASB3;GPR75-ASB3\"      \n",
       "[40] \"RGPD1;RGPD2\"           \"RGPD1;RGPD2\"           \"ADIG\"                 \n",
       "[43] \"PLAC4\"                 \"CFAP44\"                \"CFAP44\"               \n",
       "[46] \"USF3\"                  \"ALG1L2\"                \"PXYLP1\"               \n",
       "[49] \"MUC4;MUC4\"             \"CISD2;SLC9B1\"          \"ANAPC4;ANAPC4\"        \n",
       "[52] \"NWD2\"                  \"ADCY2;ADCY2\"           \"ADGRV1\"               \n",
       "[55] \"MFSD4B\"                \"HGC6.3\"                \"C4A;C4B;C4B_2\"        \n",
       "[58] \"SMIM29\"                \"RPS10;RPS10-NUDT3\"     \"CASP8AP2\"             \n",
       "[61] \"CASP8AP2\"              \"C7orf55-LUC7L2;LUC7L2\" \"SSPO\"                 \n",
       "[64] \"NIPSNAP2\"              \"ZNF735\"                \"C8orf76;ZHX1-C8orf76\" \n",
       "[67] \"SPATA31C1\"             \"SPATA31C2\"             \"GCNA\"                 "
      ]
     },
     "metadata": {},
     "output_type": "display_data"
    }
   ],
   "source": [
    "gnomad = read.table('../data/databases/gnomad_constraint.txt', sep = \"\\t\", stringsAsFactors=FALSE, header=TRUE)\n",
    "df$Gene[which(!df$Gene %in% gnomad$gene)]"
   ]
  },
  {
   "cell_type": "code",
   "execution_count": 31,
   "metadata": {},
   "outputs": [
    {
     "data": {
      "text/html": [
       "FALSE"
      ],
      "text/latex": [
       "FALSE"
      ],
      "text/markdown": [
       "FALSE"
      ],
      "text/plain": [
       "[1] FALSE"
      ]
     },
     "metadata": {},
     "output_type": "display_data"
    },
    {
     "data": {
      "text/html": [
       "TRUE"
      ],
      "text/latex": [
       "TRUE"
      ],
      "text/markdown": [
       "TRUE"
      ],
      "text/plain": [
       "[1] TRUE"
      ]
     },
     "metadata": {},
     "output_type": "display_data"
    }
   ],
   "source": [
    "\"HCG25371\" %in% gnomad$gene\n",
    "\n",
    "\"MFSD4\" %in% gnomad$gene"
   ]
  },
  {
   "cell_type": "markdown",
   "metadata": {},
   "source": [
    "### Haploinsufficiency"
   ]
  },
  {
   "cell_type": "markdown",
   "metadata": {},
   "source": [
    "### Expression specificity"
   ]
  },
  {
   "cell_type": "markdown",
   "metadata": {},
   "source": [
    "### Node degree"
   ]
  },
  {
   "cell_type": "code",
   "execution_count": null,
   "metadata": {},
   "outputs": [],
   "source": []
  }
 ],
 "metadata": {
  "kernelspec": {
   "display_name": "R",
   "language": "R",
   "name": "ir"
  },
  "language_info": {
   "codemirror_mode": "r",
   "file_extension": ".r",
   "mimetype": "text/x-r-source",
   "name": "R",
   "pygments_lexer": "r",
   "version": "3.6.1"
  }
 },
 "nbformat": 4,
 "nbformat_minor": 4
}
