{
 "cells": [
  {
   "cell_type": "markdown",
   "metadata": {},
   "source": [
    "## Create mutation tables"
   ]
  },
  {
   "cell_type": "code",
   "execution_count": 1,
   "metadata": {},
   "outputs": [
    {
     "name": "stderr",
     "output_type": "stream",
     "text": [
      "Registered S3 method overwritten by 'openssl':\n",
      "  method      from\n",
      "  print.bytes Rcpp\n",
      "Loading required package: Biobase\n",
      "Loading required package: BiocGenerics\n",
      "Loading required package: parallel\n",
      "\n",
      "Attaching package: ‘BiocGenerics’\n",
      "\n",
      "The following objects are masked from ‘package:parallel’:\n",
      "\n",
      "    clusterApply, clusterApplyLB, clusterCall, clusterEvalQ,\n",
      "    clusterExport, clusterMap, parApply, parCapply, parLapply,\n",
      "    parLapplyLB, parRapply, parSapply, parSapplyLB\n",
      "\n",
      "The following objects are masked from ‘package:stats’:\n",
      "\n",
      "    IQR, mad, sd, var, xtabs\n",
      "\n",
      "The following objects are masked from ‘package:base’:\n",
      "\n",
      "    anyDuplicated, append, as.data.frame, basename, cbind, colnames,\n",
      "    dirname, do.call, duplicated, eval, evalq, Filter, Find, get, grep,\n",
      "    grepl, intersect, is.unsorted, lapply, Map, mapply, match, mget,\n",
      "    order, paste, pmax, pmax.int, pmin, pmin.int, Position, rank,\n",
      "    rbind, Reduce, rownames, sapply, setdiff, sort, table, tapply,\n",
      "    union, unique, unsplit, which, which.max, which.min\n",
      "\n",
      "Welcome to Bioconductor\n",
      "\n",
      "    Vignettes contain introductory material; view with\n",
      "    'browseVignettes()'. To cite Bioconductor, see\n",
      "    'citation(\"Biobase\")', and for packages 'citation(\"pkgname\")'.\n",
      "\n",
      "Loading required package: ShortRead\n",
      "Loading required package: BiocParallel\n",
      "Loading required package: Biostrings\n",
      "Loading required package: S4Vectors\n",
      "Loading required package: stats4\n",
      "\n",
      "Attaching package: ‘S4Vectors’\n",
      "\n",
      "The following object is masked from ‘package:base’:\n",
      "\n",
      "    expand.grid\n",
      "\n",
      "Loading required package: IRanges\n",
      "Loading required package: XVector\n",
      "\n",
      "Attaching package: ‘Biostrings’\n",
      "\n",
      "The following object is masked from ‘package:base’:\n",
      "\n",
      "    strsplit\n",
      "\n",
      "Loading required package: Rsamtools\n",
      "Loading required package: GenomeInfoDb\n",
      "Loading required package: GenomicRanges\n",
      "Loading required package: GenomicAlignments\n",
      "Loading required package: SummarizedExperiment\n",
      "Loading required package: DelayedArray\n",
      "Loading required package: matrixStats\n",
      "\n",
      "Attaching package: ‘matrixStats’\n",
      "\n",
      "The following objects are masked from ‘package:Biobase’:\n",
      "\n",
      "    anyMissing, rowMedians\n",
      "\n",
      "\n",
      "Attaching package: ‘DelayedArray’\n",
      "\n",
      "The following objects are masked from ‘package:matrixStats’:\n",
      "\n",
      "    colMaxs, colMins, colRanges, rowMaxs, rowMins, rowRanges\n",
      "\n",
      "The following objects are masked from ‘package:base’:\n",
      "\n",
      "    aperm, apply, rowsum\n",
      "\n",
      "Registered S3 method overwritten by 'R.oo':\n",
      "  method        from       \n",
      "  throw.default R.methodsS3\n",
      "\n",
      "Attaching package: ‘dplyr’\n",
      "\n",
      "The following object is masked from ‘package:ShortRead’:\n",
      "\n",
      "    id\n",
      "\n",
      "The following objects are masked from ‘package:GenomicAlignments’:\n",
      "\n",
      "    first, last\n",
      "\n",
      "The following object is masked from ‘package:matrixStats’:\n",
      "\n",
      "    count\n",
      "\n",
      "The following objects are masked from ‘package:GenomicRanges’:\n",
      "\n",
      "    intersect, setdiff, union\n",
      "\n",
      "The following object is masked from ‘package:GenomeInfoDb’:\n",
      "\n",
      "    intersect\n",
      "\n",
      "The following objects are masked from ‘package:Biostrings’:\n",
      "\n",
      "    collapse, intersect, setdiff, setequal, union\n",
      "\n",
      "The following object is masked from ‘package:XVector’:\n",
      "\n",
      "    slice\n",
      "\n",
      "The following objects are masked from ‘package:IRanges’:\n",
      "\n",
      "    collapse, desc, intersect, setdiff, slice, union\n",
      "\n",
      "The following objects are masked from ‘package:S4Vectors’:\n",
      "\n",
      "    first, intersect, rename, setdiff, setequal, union\n",
      "\n",
      "The following object is masked from ‘package:Biobase’:\n",
      "\n",
      "    combine\n",
      "\n",
      "The following objects are masked from ‘package:BiocGenerics’:\n",
      "\n",
      "    combine, intersect, setdiff, union\n",
      "\n",
      "The following object is masked from ‘package:biomaRt’:\n",
      "\n",
      "    select\n",
      "\n",
      "The following objects are masked from ‘package:stats’:\n",
      "\n",
      "    filter, lag\n",
      "\n",
      "The following objects are masked from ‘package:base’:\n",
      "\n",
      "    intersect, setdiff, setequal, union\n",
      "\n"
     ]
    }
   ],
   "source": [
    "library(biomaRt)\n",
    "library(EDASeq)\n",
    "library(dplyr)"
   ]
  },
  {
   "cell_type": "code",
   "execution_count": 2,
   "metadata": {},
   "outputs": [],
   "source": [
    "# Load variants - de novo\n",
    "DNV_cases = read.csv(\"../data/variants/DNV_cases.csv\", skip=1, header = TRUE, stringsAsFactors = FALSE)\n",
    "DNV_ctrls = read.csv(\"../data/variants/DNV_ctrls.csv\", skip=1, header = TRUE, stringsAsFactors = FALSE)\n",
    "\n",
    "dnv_case_syn <- DNV_cases[which(DNV_cases$Variant.Class == \"syn\"),]\n",
    "dnv_ctrl_syn <- DNV_ctrls[which(DNV_ctrls$Variant.Class == \"syn\"),]\n",
    "dnv_cases <- DNV_cases[which(!(DNV_cases$Variant.Class == \"syn\")),]\n",
    "dnv_ctrls <- DNV_ctrls[which(!(DNV_ctrls$Variant.Class == \"syn\")),]\n"
   ]
  },
  {
   "cell_type": "code",
   "execution_count": 3,
   "metadata": {},
   "outputs": [],
   "source": [
    "# Load variants - rare loss of function\n",
    "rare_lof_cases = read.csv(\"../data/variants/LoF_cases.csv\", header = TRUE, stringsAsFactors = FALSE)\n",
    "rare_lof_ctrls = read.csv(\"../data/variants/LoF_ctrls.csv\", header = TRUE, stringsAsFactors = FALSE)\n",
    "\n",
    "# Load variants - loss of function from Utah WES dataset\n",
    "all_lof_cases = read.csv(\"../data/variants/wes_lof_cases.csv\", header = TRUE, stringsAsFactors = FALSE)\n",
    "new_col = data.frame(do.call('rbind', strsplit(as.character(all_lof_cases$CHR.POS.REF.ALT),':',fixed=TRUE)))\n",
    "names(new_col) = c(\"CHR\",\"POS\",\"REF\",\"ALT\")\n",
    "all_lof_cases = cbind(all_lof_cases, new_col)\n",
    "all_lof_cases = all_lof_cases[which(! grepl(\".mo|.fa\", all_lof_cases$Blinded.ID)),]\n"
   ]
  },
  {
   "cell_type": "code",
   "execution_count": 4,
   "metadata": {},
   "outputs": [
    {
     "data": {
      "text/html": [
       "<table>\n",
       "<thead><tr><th scope=col>Blinded.ID</th><th scope=col>Cardiac.Category</th><th scope=col>EM</th><th scope=col>NDD</th><th scope=col>GT</th><th scope=col>CHR</th><th scope=col>POS</th><th scope=col>REF</th><th scope=col>ALT</th><th scope=col>Func.refGene</th><th scope=col>ExonicFunc.refGene</th><th scope=col>Gene</th><th scope=col>AA.change</th><th scope=col>ExAC_ALL</th><th scope=col>HHE.Rank</th><th scope=col>pLI.Score</th><th scope=col>Type</th></tr></thead>\n",
       "<tbody>\n",
       "\t<tr><td>1-04685             </td><td>other               </td><td>No                  </td><td>Yes                 </td><td>0/1                 </td><td>12                  </td><td>58152532            </td><td>G                   </td><td>GC                  </td><td>exonic              </td><td>frameshift_insertion</td><td>9-Mar               </td><td>p.R298fs            </td><td>.                   </td><td>36.2                </td><td>0.35                </td><td>Transmitted         </td></tr>\n",
       "\t<tr><td>1-04316             </td><td>LVO                 </td><td>No                  </td><td>No                  </td><td>0/1                 </td><td>17                  </td><td>60865894            </td><td>G                   </td><td>A                   </td><td>exonic              </td><td>stopgain            </td><td>10-Mar              </td><td>p.Q53X              </td><td>8.24E-06            </td><td>23.4                </td><td>0                   </td><td>Transmitted         </td></tr>\n",
       "\t<tr><td>1-03347             </td><td>other               </td><td>Yes                 </td><td>Yes                 </td><td>0/1                 </td><td>17                  </td><td>60802372            </td><td>G                   </td><td>T                   </td><td>exonic              </td><td>stopgain            </td><td>10-Mar              </td><td>p.C676X             </td><td>8.24E-06            </td><td>23.4                </td><td>0                   </td><td>Transmitted         </td></tr>\n",
       "\t<tr><td>1-05605             </td><td>other               </td><td>Yes                 </td><td>Yes                 </td><td>0/1                 </td><td>17                  </td><td>60814383            </td><td>C                   </td><td>CA                  </td><td>exonic              </td><td>frameshift_insertion</td><td>10-Mar              </td><td>p.L281fs            </td><td>.                   </td><td>23.4                </td><td>0                   </td><td>Transmitted         </td></tr>\n",
       "\t<tr><td>1-04548             </td><td>other               </td><td>No                  </td><td>Yes                 </td><td>0/1                 </td><td>17                  </td><td>60865906            </td><td>G                   </td><td>A                   </td><td>exonic              </td><td>stopgain            </td><td>10-Mar              </td><td>p.Q49X              </td><td>.                   </td><td>23.4                </td><td>0                   </td><td>Transmitted         </td></tr>\n",
       "\t<tr><td>1-02703             </td><td>CTD                 </td><td>Yes                 </td><td>No                  </td><td>0/1                 </td><td>17                  </td><td>60814679            </td><td>G                   </td><td>A                   </td><td>exonic              </td><td>stopgain            </td><td>10-Mar              </td><td>p.Q183X             </td><td>.                   </td><td>23.4                </td><td>0                   </td><td>Unknown Transmission</td></tr>\n",
       "</tbody>\n",
       "</table>\n"
      ],
      "text/latex": [
       "\\begin{tabular}{r|lllllllllllllllll}\n",
       " Blinded.ID & Cardiac.Category & EM & NDD & GT & CHR & POS & REF & ALT & Func.refGene & ExonicFunc.refGene & Gene & AA.change & ExAC\\_ALL & HHE.Rank & pLI.Score & Type\\\\\n",
       "\\hline\n",
       "\t 1-04685                & other                  & No                     & Yes                    & 0/1                    & 12                     & 58152532               & G                      & GC                     & exonic                 & frameshift\\_insertion & 9-Mar                  & p.R298fs               & .                      & 36.2                   & 0.35                   & Transmitted           \\\\\n",
       "\t 1-04316              & LVO                  & No                   & No                   & 0/1                  & 17                   & 60865894             & G                    & A                    & exonic               & stopgain             & 10-Mar               & p.Q53X               & 8.24E-06             & 23.4                 & 0                    & Transmitted         \\\\\n",
       "\t 1-03347              & other                & Yes                  & Yes                  & 0/1                  & 17                   & 60802372             & G                    & T                    & exonic               & stopgain             & 10-Mar               & p.C676X              & 8.24E-06             & 23.4                 & 0                    & Transmitted         \\\\\n",
       "\t 1-05605                & other                  & Yes                    & Yes                    & 0/1                    & 17                     & 60814383               & C                      & CA                     & exonic                 & frameshift\\_insertion & 10-Mar                 & p.L281fs               & .                      & 23.4                   & 0                      & Transmitted           \\\\\n",
       "\t 1-04548              & other                & No                   & Yes                  & 0/1                  & 17                   & 60865906             & G                    & A                    & exonic               & stopgain             & 10-Mar               & p.Q49X               & .                    & 23.4                 & 0                    & Transmitted         \\\\\n",
       "\t 1-02703              & CTD                  & Yes                  & No                   & 0/1                  & 17                   & 60814679             & G                    & A                    & exonic               & stopgain             & 10-Mar               & p.Q183X              & .                    & 23.4                 & 0                    & Unknown Transmission\\\\\n",
       "\\end{tabular}\n"
      ],
      "text/markdown": [
       "\n",
       "| Blinded.ID | Cardiac.Category | EM | NDD | GT | CHR | POS | REF | ALT | Func.refGene | ExonicFunc.refGene | Gene | AA.change | ExAC_ALL | HHE.Rank | pLI.Score | Type |\n",
       "|---|---|---|---|---|---|---|---|---|---|---|---|---|---|---|---|---|\n",
       "| 1-04685              | other                | No                   | Yes                  | 0/1                  | 12                   | 58152532             | G                    | GC                   | exonic               | frameshift_insertion | 9-Mar                | p.R298fs             | .                    | 36.2                 | 0.35                 | Transmitted          |\n",
       "| 1-04316              | LVO                  | No                   | No                   | 0/1                  | 17                   | 60865894             | G                    | A                    | exonic               | stopgain             | 10-Mar               | p.Q53X               | 8.24E-06             | 23.4                 | 0                    | Transmitted          |\n",
       "| 1-03347              | other                | Yes                  | Yes                  | 0/1                  | 17                   | 60802372             | G                    | T                    | exonic               | stopgain             | 10-Mar               | p.C676X              | 8.24E-06             | 23.4                 | 0                    | Transmitted          |\n",
       "| 1-05605              | other                | Yes                  | Yes                  | 0/1                  | 17                   | 60814383             | C                    | CA                   | exonic               | frameshift_insertion | 10-Mar               | p.L281fs             | .                    | 23.4                 | 0                    | Transmitted          |\n",
       "| 1-04548              | other                | No                   | Yes                  | 0/1                  | 17                   | 60865906             | G                    | A                    | exonic               | stopgain             | 10-Mar               | p.Q49X               | .                    | 23.4                 | 0                    | Transmitted          |\n",
       "| 1-02703              | CTD                  | Yes                  | No                   | 0/1                  | 17                   | 60814679             | G                    | A                    | exonic               | stopgain             | 10-Mar               | p.Q183X              | .                    | 23.4                 | 0                    | Unknown Transmission |\n",
       "\n"
      ],
      "text/plain": [
       "  Blinded.ID Cardiac.Category EM  NDD GT  CHR POS      REF ALT Func.refGene\n",
       "1 1-04685    other            No  Yes 0/1 12  58152532 G   GC  exonic      \n",
       "2 1-04316    LVO              No  No  0/1 17  60865894 G   A   exonic      \n",
       "3 1-03347    other            Yes Yes 0/1 17  60802372 G   T   exonic      \n",
       "4 1-05605    other            Yes Yes 0/1 17  60814383 C   CA  exonic      \n",
       "5 1-04548    other            No  Yes 0/1 17  60865906 G   A   exonic      \n",
       "6 1-02703    CTD              Yes No  0/1 17  60814679 G   A   exonic      \n",
       "  ExonicFunc.refGene   Gene   AA.change ExAC_ALL HHE.Rank pLI.Score\n",
       "1 frameshift_insertion 9-Mar  p.R298fs  .        36.2     0.35     \n",
       "2 stopgain             10-Mar p.Q53X    8.24E-06 23.4     0        \n",
       "3 stopgain             10-Mar p.C676X   8.24E-06 23.4     0        \n",
       "4 frameshift_insertion 10-Mar p.L281fs  .        23.4     0        \n",
       "5 stopgain             10-Mar p.Q49X    .        23.4     0        \n",
       "6 stopgain             10-Mar p.Q183X   .        23.4     0        \n",
       "  Type                \n",
       "1 Transmitted         \n",
       "2 Transmitted         \n",
       "3 Transmitted         \n",
       "4 Transmitted         \n",
       "5 Transmitted         \n",
       "6 Unknown Transmission"
      ]
     },
     "metadata": {},
     "output_type": "display_data"
    },
    {
     "data": {
      "text/html": [
       "<table>\n",
       "<thead><tr><th></th><th scope=col>CHR.POS.REF.ALT</th><th scope=col>MAF</th><th scope=col>Gene</th><th scope=col>Func</th><th scope=col>Variant.Class</th><th scope=col>AA.change</th><th scope=col>Blinded.ID</th><th scope=col>ProbandGT</th><th scope=col>CHR</th><th scope=col>POS</th><th scope=col>REF</th><th scope=col>ALT</th></tr></thead>\n",
       "<tbody>\n",
       "\t<tr><th scope=row>1</th><td>16:83933005:G:T </td><td>2.618e-04       </td><td>MLYCD           </td><td>stopgain        </td><td>loss of function</td><td>p.E86X          </td><td>1-07026         </td><td>1/0             </td><td>16              </td><td>83933005        </td><td>G               </td><td>T               </td></tr>\n",
       "\t<tr><th scope=row>3</th><td>16:83933185:A:T </td><td>1.192e-04       </td><td>MLYCD           </td><td>stopgain        </td><td>loss of function</td><td>p.K146X         </td><td>1-00861         </td><td>1/1             </td><td>16              </td><td>83933185        </td><td>A               </td><td>T               </td></tr>\n",
       "\t<tr><th scope=row>4</th><td>16:84012136:C:T </td><td>8.541e-04       </td><td>NECAB2          </td><td>stopgain        </td><td>loss of function</td><td>p.R31X          </td><td>1-04332         </td><td>1/0             </td><td>16              </td><td>84012136        </td><td>C               </td><td>T               </td></tr>\n",
       "\t<tr><th scope=row>5</th><td>16:84012136:C:T </td><td>8.541e-04       </td><td>NECAB2          </td><td>stopgain        </td><td>loss of function</td><td>p.R31X          </td><td>1-05886         </td><td>1/0             </td><td>16              </td><td>84012136        </td><td>C               </td><td>T               </td></tr>\n",
       "\t<tr><th scope=row>7</th><td>16:84034400:G:A </td><td>7.726e-05       </td><td>NECAB2          </td><td>stopgain        </td><td>loss of function</td><td>p.W327X         </td><td>1-02023         </td><td>1/0             </td><td>16              </td><td>84034400        </td><td>G               </td><td>A               </td></tr>\n",
       "\t<tr><th scope=row>8</th><td>16:84089672:G:T </td><td>1.700e-04       </td><td>MBTPS1          </td><td>stopgain        </td><td>loss of function</td><td>p.S967X         </td><td>1-02287         </td><td>1/0             </td><td>16              </td><td>84089672        </td><td>G               </td><td>T               </td></tr>\n",
       "</tbody>\n",
       "</table>\n"
      ],
      "text/latex": [
       "\\begin{tabular}{r|llllllllllll}\n",
       "  & CHR.POS.REF.ALT & MAF & Gene & Func & Variant.Class & AA.change & Blinded.ID & ProbandGT & CHR & POS & REF & ALT\\\\\n",
       "\\hline\n",
       "\t1 & 16:83933005:G:T  & 2.618e-04        & MLYCD            & stopgain         & loss of function & p.E86X           & 1-07026          & 1/0              & 16               & 83933005         & G                & T               \\\\\n",
       "\t3 & 16:83933185:A:T  & 1.192e-04        & MLYCD            & stopgain         & loss of function & p.K146X          & 1-00861          & 1/1              & 16               & 83933185         & A                & T               \\\\\n",
       "\t4 & 16:84012136:C:T  & 8.541e-04        & NECAB2           & stopgain         & loss of function & p.R31X           & 1-04332          & 1/0              & 16               & 84012136         & C                & T               \\\\\n",
       "\t5 & 16:84012136:C:T  & 8.541e-04        & NECAB2           & stopgain         & loss of function & p.R31X           & 1-05886          & 1/0              & 16               & 84012136         & C                & T               \\\\\n",
       "\t7 & 16:84034400:G:A  & 7.726e-05        & NECAB2           & stopgain         & loss of function & p.W327X          & 1-02023          & 1/0              & 16               & 84034400         & G                & A               \\\\\n",
       "\t8 & 16:84089672:G:T  & 1.700e-04        & MBTPS1           & stopgain         & loss of function & p.S967X          & 1-02287          & 1/0              & 16               & 84089672         & G                & T               \\\\\n",
       "\\end{tabular}\n"
      ],
      "text/markdown": [
       "\n",
       "| <!--/--> | CHR.POS.REF.ALT | MAF | Gene | Func | Variant.Class | AA.change | Blinded.ID | ProbandGT | CHR | POS | REF | ALT |\n",
       "|---|---|---|---|---|---|---|---|---|---|---|---|---|\n",
       "| 1 | 16:83933005:G:T  | 2.618e-04        | MLYCD            | stopgain         | loss of function | p.E86X           | 1-07026          | 1/0              | 16               | 83933005         | G                | T                |\n",
       "| 3 | 16:83933185:A:T  | 1.192e-04        | MLYCD            | stopgain         | loss of function | p.K146X          | 1-00861          | 1/1              | 16               | 83933185         | A                | T                |\n",
       "| 4 | 16:84012136:C:T  | 8.541e-04        | NECAB2           | stopgain         | loss of function | p.R31X           | 1-04332          | 1/0              | 16               | 84012136         | C                | T                |\n",
       "| 5 | 16:84012136:C:T  | 8.541e-04        | NECAB2           | stopgain         | loss of function | p.R31X           | 1-05886          | 1/0              | 16               | 84012136         | C                | T                |\n",
       "| 7 | 16:84034400:G:A  | 7.726e-05        | NECAB2           | stopgain         | loss of function | p.W327X          | 1-02023          | 1/0              | 16               | 84034400         | G                | A                |\n",
       "| 8 | 16:84089672:G:T  | 1.700e-04        | MBTPS1           | stopgain         | loss of function | p.S967X          | 1-02287          | 1/0              | 16               | 84089672         | G                | T                |\n",
       "\n"
      ],
      "text/plain": [
       "  CHR.POS.REF.ALT MAF       Gene   Func     Variant.Class    AA.change\n",
       "1 16:83933005:G:T 2.618e-04 MLYCD  stopgain loss of function p.E86X   \n",
       "3 16:83933185:A:T 1.192e-04 MLYCD  stopgain loss of function p.K146X  \n",
       "4 16:84012136:C:T 8.541e-04 NECAB2 stopgain loss of function p.R31X   \n",
       "5 16:84012136:C:T 8.541e-04 NECAB2 stopgain loss of function p.R31X   \n",
       "7 16:84034400:G:A 7.726e-05 NECAB2 stopgain loss of function p.W327X  \n",
       "8 16:84089672:G:T 1.700e-04 MBTPS1 stopgain loss of function p.S967X  \n",
       "  Blinded.ID ProbandGT CHR POS      REF ALT\n",
       "1 1-07026    1/0       16  83933005 G   T  \n",
       "3 1-00861    1/1       16  83933185 A   T  \n",
       "4 1-04332    1/0       16  84012136 C   T  \n",
       "5 1-05886    1/0       16  84012136 C   T  \n",
       "7 1-02023    1/0       16  84034400 G   A  \n",
       "8 1-02287    1/0       16  84089672 G   T  "
      ]
     },
     "metadata": {},
     "output_type": "display_data"
    }
   ],
   "source": [
    "head(rare_lof_cases)\n",
    "head(all_lof_cases)"
   ]
  },
  {
   "cell_type": "code",
   "execution_count": 5,
   "metadata": {},
   "outputs": [],
   "source": [
    "cols <- c(\"Blinded.ID\", \"Cardiac.Category\", \"EM\", \"NDD\", \"CHR\", \"POS\", \"REF\", \"ALT\", \n",
    "          \"Gene\",\"Variant.Class\",\"AA.change\",\"HHE.Rank\")\n",
    "m_dnv = DNV_cases[,cols]\n",
    "m_dnv$genotype = \"heterozygous\""
   ]
  },
  {
   "cell_type": "code",
   "execution_count": 6,
   "metadata": {},
   "outputs": [],
   "source": [
    "get_mut_tables <- function(lof_type){\n",
    "    \n",
    "    if (lof_type == \"natgen-lof\"){\n",
    "        cols <- c(\"Blinded.ID\", \"CHR\", \"POS\", \"REF\", \"ALT\", \"Gene\",\"ExonicFunc.refGene\",\"AA.change\")\n",
    "        m_lof = rare_lof_cases[,cols]\n",
    "        names(m_lof) <- c(\"Blinded.ID\", \"CHR\", \"POS\", \"REF\", \"ALT\", \"Gene\",\"Func\",\"AA.change\")\n",
    "        m_lof$genotype = \"heterozygous\" # All super-rare LoFs were heterozygous\n",
    "        \n",
    "    } else if (lof_type == \"all-rare-lof\"){\n",
    "        cols <- c(\"Blinded.ID\", \"CHR\", \"POS\", \"REF\", \"ALT\", \"Gene\",\"Func\",\"AA.change\",\"ProbandGT\")\n",
    "        m_lof = all_lof_cases[,cols]\n",
    "        m_lof$genotype = \"heterozygous\"\n",
    "        for (i in c(1:nrow(m_lof))){\n",
    "            if (m_lof$ProbandGT[i] == \"1/1\"){\n",
    "                m_lof$genotype[i] = \"homozygous\"\n",
    "            }\n",
    "        }\n",
    "        \n",
    "        # Add NatGen LoF variants if the person isn't in WES\n",
    "        wes_ids = unique(m_lof$Blinded.ID)\n",
    "        not_in_wes = unique(rare_lof_cases$Blinded.ID[which(!rare_lof_cases$Blinded.ID %in% wes_ids)])\n",
    "        cols <- c(\"Blinded.ID\", \"CHR\", \"POS\", \"REF\", \"ALT\", \"Gene\",\"ExonicFunc.refGene\",\"AA.change\")\n",
    "        more_lofs = rare_lof_cases[which(rare_lof_cases$Blinded.ID %in% not_in_wes),c(cols)]\n",
    "        names(more_lofs) <- c(\"Blinded.ID\", \"CHR\", \"POS\", \"REF\", \"ALT\", \"Gene\",\"Func\",\"AA.change\")\n",
    "        more_lofs$genotype = \"heterozygous\"\n",
    "        \n",
    "        cols = names(more_lofs)\n",
    "        m_lof$POS <- as.numeric(as.character(m_lof$POS))\n",
    "        m_lof = rbind(m_lof[,c(cols)], more_lofs)\n",
    "    }\n",
    "    \n",
    "    # Spike in interesting variants\n",
    "    spiked = read.csv(\"../data/variants/oligogenic_variants.csv\", stringsAsFactors = F)\n",
    "    spiked$genotype <- \"heterozygous\"\n",
    "    names(spiked)[which(names(spiked)==\"ExonicFunc.refGene\")] <- \"Variant.Class\"\n",
    "    cols <- c(\"Blinded.ID\", \"Cardiac.Category\", \"EM\", \"NDD\", \"CHR\", \"POS\", \"REF\", \"ALT\", \"Gene\",\"Variant.Class\",\"AA.change\",\"genotype\",\"HHE.Rank\")\n",
    "    d_add = spiked[,cols]\n",
    "    m_dnv = rbind(m_dnv, d_add)\n",
    "\n",
    "    spiked[\"ProbandGT\"] = \"0/1\"\n",
    "    spiked$Func = \"misD\"\n",
    "    cols <- c(\"Blinded.ID\", \"CHR\", \"POS\", \"REF\", \"ALT\", \"Gene\",\"Func\",\"AA.change\",\"genotype\")\n",
    "    l_add = spiked[,cols]\n",
    "    m_lof = rbind(m_lof, l_add)\n",
    "    \n",
    "    m_lof$inh_type = \"lof\"\n",
    "    m_dnv$inh_type = \"dnv\"\n",
    "    names(m_dnv)[10] <- \"Func\"\n",
    "    \n",
    "    # Remove any lofs that were actually dnvs\n",
    "    common <- intersect(m_lof[,c(\"Blinded.ID\",\"CHR\",\"POS\")], m_dnv[,c(\"Blinded.ID\",\"CHR\",\"POS\")]) \n",
    "    m_lof = anti_join(m_lof, common, by=c(\"Blinded.ID\",\"CHR\",\"POS\"))\n",
    "    cols = c(\"Blinded.ID\",\"CHR\",\"POS\",\"REF\",\"ALT\",\"Gene\",\"Func\",\"AA.change\",\"genotype\",\"inh_type\")\n",
    "    comb_muts = rbind(m_lof[,c(cols)], m_dnv[,c(cols)])\n",
    "    \n",
    "    comb_muts[which(comb_muts$Blinded.ID == \"OLIGO\"),\"inh_type\"] = \"lof\"\n",
    "    \n",
    "    return(comb_muts)\n",
    "}\n",
    "\n"
   ]
  },
  {
   "cell_type": "code",
   "execution_count": 7,
   "metadata": {},
   "outputs": [],
   "source": [
    "mut_table = m_dnv\n",
    "    \n",
    "#m_dnv$inh_type = \"dnv\"\n",
    "#names(m_dnv)[10] <- \"Func\""
   ]
  },
  {
   "cell_type": "markdown",
   "metadata": {},
   "source": [
    "## Mutations per kilobase"
   ]
  },
  {
   "cell_type": "code",
   "execution_count": 8,
   "metadata": {},
   "outputs": [
    {
     "data": {
      "text/html": [
       "<ol class=list-inline>\n",
       "\t<li>'MARCH2'</li>\n",
       "\t<li>'MARCH5'</li>\n",
       "\t<li>'SEPT2'</li>\n",
       "\t<li>'SEPT3'</li>\n",
       "\t<li>'SEPT4'</li>\n",
       "\t<li>'SEPT8'</li>\n",
       "</ol>\n"
      ],
      "text/latex": [
       "\\begin{enumerate*}\n",
       "\\item 'MARCH2'\n",
       "\\item 'MARCH5'\n",
       "\\item 'SEPT2'\n",
       "\\item 'SEPT3'\n",
       "\\item 'SEPT4'\n",
       "\\item 'SEPT8'\n",
       "\\end{enumerate*}\n"
      ],
      "text/markdown": [
       "1. 'MARCH2'\n",
       "2. 'MARCH5'\n",
       "3. 'SEPT2'\n",
       "4. 'SEPT3'\n",
       "5. 'SEPT4'\n",
       "6. 'SEPT8'\n",
       "\n",
       "\n"
      ],
      "text/plain": [
       "[1] \"MARCH2\" \"MARCH5\" \"SEPT2\"  \"SEPT3\"  \"SEPT4\"  \"SEPT8\" "
      ]
     },
     "metadata": {},
     "output_type": "display_data"
    },
    {
     "name": "stderr",
     "output_type": "stream",
     "text": [
      "Cache found\n"
     ]
    },
    {
     "data": {
      "text/html": [
       "<table>\n",
       "<thead><tr><th scope=col>ensembl_gene_id</th><th scope=col>hgnc_symbol</th></tr></thead>\n",
       "<tbody>\n",
       "\t<tr><td>ENSG00000094914</td><td>AAAS           </td></tr>\n",
       "\t<tr><td>ENSG00000081760</td><td>AACS           </td></tr>\n",
       "\t<tr><td>ENSG00000115977</td><td>AAK1           </td></tr>\n",
       "\t<tr><td>ENSG00000183044</td><td>ABAT           </td></tr>\n",
       "\t<tr><td>ENSG00000179869</td><td>ABCA13         </td></tr>\n",
       "\t<tr><td>ENSG00000198691</td><td>ABCA4          </td></tr>\n",
       "</tbody>\n",
       "</table>\n"
      ],
      "text/latex": [
       "\\begin{tabular}{r|ll}\n",
       " ensembl\\_gene\\_id & hgnc\\_symbol\\\\\n",
       "\\hline\n",
       "\t ENSG00000094914 & AAAS           \\\\\n",
       "\t ENSG00000081760 & AACS           \\\\\n",
       "\t ENSG00000115977 & AAK1           \\\\\n",
       "\t ENSG00000183044 & ABAT           \\\\\n",
       "\t ENSG00000179869 & ABCA13         \\\\\n",
       "\t ENSG00000198691 & ABCA4          \\\\\n",
       "\\end{tabular}\n"
      ],
      "text/markdown": [
       "\n",
       "| ensembl_gene_id | hgnc_symbol |\n",
       "|---|---|\n",
       "| ENSG00000094914 | AAAS            |\n",
       "| ENSG00000081760 | AACS            |\n",
       "| ENSG00000115977 | AAK1            |\n",
       "| ENSG00000183044 | ABAT            |\n",
       "| ENSG00000179869 | ABCA13          |\n",
       "| ENSG00000198691 | ABCA4           |\n",
       "\n"
      ],
      "text/plain": [
       "  ensembl_gene_id hgnc_symbol\n",
       "1 ENSG00000094914 AAAS       \n",
       "2 ENSG00000081760 AACS       \n",
       "3 ENSG00000115977 AAK1       \n",
       "4 ENSG00000183044 ABAT       \n",
       "5 ENSG00000179869 ABCA13     \n",
       "6 ENSG00000198691 ABCA4      "
      ]
     },
     "metadata": {},
     "output_type": "display_data"
    },
    {
     "data": {
      "text/html": [
       "4820"
      ],
      "text/latex": [
       "4820"
      ],
      "text/markdown": [
       "4820"
      ],
      "text/plain": [
       "[1] 4820"
      ]
     },
     "metadata": {},
     "output_type": "display_data"
    },
    {
     "data": {
      "text/html": [
       "4527"
      ],
      "text/latex": [
       "4527"
      ],
      "text/markdown": [
       "4527"
      ],
      "text/plain": [
       "[1] 4527"
      ]
     },
     "metadata": {},
     "output_type": "display_data"
    }
   ],
   "source": [
    "gene_list = read.table(\"/pollard/home/mpittman/APMS2/intermediate/characterized_gene_list.txt\",\n",
    "                      stringsAsFactors=FALSE)\n",
    "genes = gene_list$V1\n",
    "head(genes)\n",
    "\n",
    "# Get ensembl ids of genes\n",
    "ensembl = useMart(\"ensembl\",dataset=\"hsapiens_gene_ensembl\")\n",
    "hgnc_ens_ids = getBM(attributes=c('ensembl_gene_id', 'hgnc_symbol'),\n",
    "      filters = 'hgnc_symbol', \n",
    "      values = genes, \n",
    "      mart = ensembl)\n",
    "head(hgnc_ens_ids)\n",
    "\n",
    "length(genes)\n",
    "nrow(hgnc_ens_ids)\n",
    "missing = genes[which(!genes %in% hgnc_ens_ids$hgnc_symbol)]"
   ]
  },
  {
   "cell_type": "code",
   "execution_count": 9,
   "metadata": {},
   "outputs": [
    {
     "name": "stderr",
     "output_type": "stream",
     "text": [
      "Cache found\n"
     ]
    },
    {
     "data": {
      "text/html": [
       "<table>\n",
       "<thead><tr><th scope=col>ensembl_gene_id</th><th scope=col>external_synonym</th></tr></thead>\n",
       "<tbody>\n",
       "\t<tr><td>ENSG00000014257</td><td>ACPP           </td></tr>\n",
       "\t<tr><td>ENSG00000163050</td><td>ADCK3          </td></tr>\n",
       "\t<tr><td>ENSG00000123815</td><td>ADCK4          </td></tr>\n",
       "\t<tr><td>ENSG00000173020</td><td>ADRBK1         </td></tr>\n",
       "\t<tr><td>ENSG00000104964</td><td>AES            </td></tr>\n",
       "\t<tr><td>ENSG00000188234</td><td>AGAP8          </td></tr>\n",
       "</tbody>\n",
       "</table>\n"
      ],
      "text/latex": [
       "\\begin{tabular}{r|ll}\n",
       " ensembl\\_gene\\_id & external\\_synonym\\\\\n",
       "\\hline\n",
       "\t ENSG00000014257 & ACPP           \\\\\n",
       "\t ENSG00000163050 & ADCK3          \\\\\n",
       "\t ENSG00000123815 & ADCK4          \\\\\n",
       "\t ENSG00000173020 & ADRBK1         \\\\\n",
       "\t ENSG00000104964 & AES            \\\\\n",
       "\t ENSG00000188234 & AGAP8          \\\\\n",
       "\\end{tabular}\n"
      ],
      "text/markdown": [
       "\n",
       "| ensembl_gene_id | external_synonym |\n",
       "|---|---|\n",
       "| ENSG00000014257 | ACPP            |\n",
       "| ENSG00000163050 | ADCK3           |\n",
       "| ENSG00000123815 | ADCK4           |\n",
       "| ENSG00000173020 | ADRBK1          |\n",
       "| ENSG00000104964 | AES             |\n",
       "| ENSG00000188234 | AGAP8           |\n",
       "\n"
      ],
      "text/plain": [
       "  ensembl_gene_id external_synonym\n",
       "1 ENSG00000014257 ACPP            \n",
       "2 ENSG00000163050 ADCK3           \n",
       "3 ENSG00000123815 ADCK4           \n",
       "4 ENSG00000173020 ADRBK1          \n",
       "5 ENSG00000104964 AES             \n",
       "6 ENSG00000188234 AGAP8           "
      ]
     },
     "metadata": {},
     "output_type": "display_data"
    },
    {
     "data": {
      "text/html": [
       "229"
      ],
      "text/latex": [
       "229"
      ],
      "text/markdown": [
       "229"
      ],
      "text/plain": [
       "[1] 229"
      ]
     },
     "metadata": {},
     "output_type": "display_data"
    },
    {
     "data": {
      "text/html": [
       "193"
      ],
      "text/latex": [
       "193"
      ],
      "text/markdown": [
       "193"
      ],
      "text/plain": [
       "[1] 193"
      ]
     },
     "metadata": {},
     "output_type": "display_data"
    },
    {
     "data": {
      "text/html": [
       "<ol class=list-inline>\n",
       "\t<li>'PGBD3'</li>\n",
       "\t<li>'CDR1'</li>\n",
       "\t<li>'KIAA1107'</li>\n",
       "\t<li>'9-Sep'</li>\n",
       "\t<li>'HDGFRP2'</li>\n",
       "\t<li>'RP11-1055B8.7'</li>\n",
       "</ol>\n"
      ],
      "text/latex": [
       "\\begin{enumerate*}\n",
       "\\item 'PGBD3'\n",
       "\\item 'CDR1'\n",
       "\\item 'KIAA1107'\n",
       "\\item '9-Sep'\n",
       "\\item 'HDGFRP2'\n",
       "\\item 'RP11-1055B8.7'\n",
       "\\end{enumerate*}\n"
      ],
      "text/markdown": [
       "1. 'PGBD3'\n",
       "2. 'CDR1'\n",
       "3. 'KIAA1107'\n",
       "4. '9-Sep'\n",
       "5. 'HDGFRP2'\n",
       "6. 'RP11-1055B8.7'\n",
       "\n",
       "\n"
      ],
      "text/plain": [
       "[1] \"PGBD3\"         \"CDR1\"          \"KIAA1107\"      \"9-Sep\"        \n",
       "[5] \"HDGFRP2\"       \"RP11-1055B8.7\""
      ]
     },
     "metadata": {},
     "output_type": "display_data"
    },
    {
     "data": {
      "text/html": [
       "<table>\n",
       "<thead><tr><th scope=col>ensembl_gene_id</th><th scope=col>gene_name</th></tr></thead>\n",
       "<tbody>\n",
       "\t<tr><td>ENSG00000257308</td><td>PGBD3          </td></tr>\n",
       "\t<tr><td>ENSG00000184258</td><td>CDR1           </td></tr>\n",
       "\t<tr><td>ENSG00000189195</td><td>KIAA1107       </td></tr>\n",
       "\t<tr><td>ENSG00000184640</td><td>9-Sep          </td></tr>\n",
       "\t<tr><td>ENSG00000167674</td><td>HDGFRP2        </td></tr>\n",
       "\t<tr><td>ENSG00000171282</td><td>RP11-1055B8.7  </td></tr>\n",
       "</tbody>\n",
       "</table>\n"
      ],
      "text/latex": [
       "\\begin{tabular}{r|ll}\n",
       " ensembl\\_gene\\_id & gene\\_name\\\\\n",
       "\\hline\n",
       "\t ENSG00000257308 & PGBD3          \\\\\n",
       "\t ENSG00000184258 & CDR1           \\\\\n",
       "\t ENSG00000189195 & KIAA1107       \\\\\n",
       "\t ENSG00000184640 & 9-Sep          \\\\\n",
       "\t ENSG00000167674 & HDGFRP2        \\\\\n",
       "\t ENSG00000171282 & RP11-1055B8.7  \\\\\n",
       "\\end{tabular}\n"
      ],
      "text/markdown": [
       "\n",
       "| ensembl_gene_id | gene_name |\n",
       "|---|---|\n",
       "| ENSG00000257308 | PGBD3           |\n",
       "| ENSG00000184258 | CDR1            |\n",
       "| ENSG00000189195 | KIAA1107        |\n",
       "| ENSG00000184640 | 9-Sep           |\n",
       "| ENSG00000167674 | HDGFRP2         |\n",
       "| ENSG00000171282 | RP11-1055B8.7   |\n",
       "\n"
      ],
      "text/plain": [
       "  ensembl_gene_id gene_name    \n",
       "1 ENSG00000257308 PGBD3        \n",
       "2 ENSG00000184258 CDR1         \n",
       "3 ENSG00000189195 KIAA1107     \n",
       "4 ENSG00000184640 9-Sep        \n",
       "5 ENSG00000167674 HDGFRP2      \n",
       "6 ENSG00000171282 RP11-1055B8.7"
      ]
     },
     "metadata": {},
     "output_type": "display_data"
    }
   ],
   "source": [
    "alias_ens_ids = getBM(attributes=c('ensembl_gene_id', 'external_synonym'),\n",
    "      filters = 'external_synonym', \n",
    "      values = missing, \n",
    "      mart = ensembl)\n",
    "head(alias_ens_ids)\n",
    "\n",
    "length(missing)\n",
    "nrow(alias_ens_ids)\n",
    "unique(missing[which(!missing %in% alias_ens_ids$external_synonym)])\n",
    "\n",
    "# Manually enter data for these missing genes\n",
    "manual = data.frame(\"ensembl_gene_id\" = c(\"ENSG00000257308\",\"ENSG00000184258\", \"ENSG00000189195\",\n",
    "                                         \"ENSG00000184640\", \"ENSG00000167674\", \"ENSG00000171282\"),\n",
    "                   \"gene_name\" = c(\"PGBD3\",\"CDR1\",\"KIAA1107\",\n",
    "                                  \"9-Sep\", \"HDGFRP2\", \"RP11-1055B8.7\"))\n",
    "manual\n",
    "\n",
    "# Create a single dataframe with ensembl gene ids\n",
    "names(alias_ens_ids) = c(\"ensembl_gene_id\",\"gene_name\")\n",
    "names(hgnc_ens_ids) = c(\"ensembl_gene_id\",\"gene_name\")\n",
    "\n",
    "ens_ids = rbind(alias_ens_ids, hgnc_ens_ids)\n",
    "ens_ids = rbind(ens_ids, manual)"
   ]
  },
  {
   "cell_type": "code",
   "execution_count": 10,
   "metadata": {},
   "outputs": [
    {
     "name": "stderr",
     "output_type": "stream",
     "text": [
      "Connecting to BioMart ...\n",
      "Downloading sequences ...\n",
      "This may take a few minutes ...\n",
      "Cache found\n",
      "Warning message:\n",
      "“'GenomicRangesList' is deprecated.\n",
      "Use 'GRangesList(..., compress=FALSE)' instead.\n",
      "See help(\"Deprecated\")”Cache found\n",
      "Cache found\n"
     ]
    },
    {
     "data": {
      "text/html": [
       "<table>\n",
       "<thead><tr><th></th><th scope=col>length</th><th scope=col>gc</th></tr></thead>\n",
       "<tbody>\n",
       "\t<tr><th scope=row>ENSG00000014257</th><td>4280     </td><td>0.4324766</td></tr>\n",
       "\t<tr><th scope=row>ENSG00000163050</th><td>7797     </td><td>0.5508529</td></tr>\n",
       "\t<tr><th scope=row>ENSG00000123815</th><td>5487     </td><td>0.5192273</td></tr>\n",
       "\t<tr><th scope=row>ENSG00000173020</th><td>6602     </td><td>0.6176916</td></tr>\n",
       "\t<tr><th scope=row>ENSG00000104964</th><td>5236     </td><td>0.6077158</td></tr>\n",
       "\t<tr><th scope=row>ENSG00000188234</th><td>3474     </td><td>0.3842832</td></tr>\n",
       "</tbody>\n",
       "</table>\n"
      ],
      "text/latex": [
       "\\begin{tabular}{r|ll}\n",
       "  & length & gc\\\\\n",
       "\\hline\n",
       "\tENSG00000014257 & 4280      & 0.4324766\\\\\n",
       "\tENSG00000163050 & 7797      & 0.5508529\\\\\n",
       "\tENSG00000123815 & 5487      & 0.5192273\\\\\n",
       "\tENSG00000173020 & 6602      & 0.6176916\\\\\n",
       "\tENSG00000104964 & 5236      & 0.6077158\\\\\n",
       "\tENSG00000188234 & 3474      & 0.3842832\\\\\n",
       "\\end{tabular}\n"
      ],
      "text/markdown": [
       "\n",
       "| <!--/--> | length | gc |\n",
       "|---|---|---|\n",
       "| ENSG00000014257 | 4280      | 0.4324766 |\n",
       "| ENSG00000163050 | 7797      | 0.5508529 |\n",
       "| ENSG00000123815 | 5487      | 0.5192273 |\n",
       "| ENSG00000173020 | 6602      | 0.6176916 |\n",
       "| ENSG00000104964 | 5236      | 0.6077158 |\n",
       "| ENSG00000188234 | 3474      | 0.3842832 |\n",
       "\n"
      ],
      "text/plain": [
       "                length gc       \n",
       "ENSG00000014257 4280   0.4324766\n",
       "ENSG00000163050 7797   0.5508529\n",
       "ENSG00000123815 5487   0.5192273\n",
       "ENSG00000173020 6602   0.6176916\n",
       "ENSG00000104964 5236   0.6077158\n",
       "ENSG00000188234 3474   0.3842832"
      ]
     },
     "metadata": {},
     "output_type": "display_data"
    },
    {
     "data": {
      "text/html": [
       "<table>\n",
       "<thead><tr><th></th><th scope=col>length</th><th scope=col>gc</th><th scope=col>ensembl_gene_id</th></tr></thead>\n",
       "<tbody>\n",
       "\t<tr><th scope=row>ENSG00000014257</th><td>4280           </td><td>0.4324766      </td><td>ENSG00000014257</td></tr>\n",
       "\t<tr><th scope=row>ENSG00000163050</th><td>7797           </td><td>0.5508529      </td><td>ENSG00000163050</td></tr>\n",
       "\t<tr><th scope=row>ENSG00000123815</th><td>5487           </td><td>0.5192273      </td><td>ENSG00000123815</td></tr>\n",
       "\t<tr><th scope=row>ENSG00000173020</th><td>6602           </td><td>0.6176916      </td><td>ENSG00000173020</td></tr>\n",
       "\t<tr><th scope=row>ENSG00000104964</th><td>5236           </td><td>0.6077158      </td><td>ENSG00000104964</td></tr>\n",
       "\t<tr><th scope=row>ENSG00000188234</th><td>3474           </td><td>0.3842832      </td><td>ENSG00000188234</td></tr>\n",
       "</tbody>\n",
       "</table>\n"
      ],
      "text/latex": [
       "\\begin{tabular}{r|lll}\n",
       "  & length & gc & ensembl\\_gene\\_id\\\\\n",
       "\\hline\n",
       "\tENSG00000014257 & 4280            & 0.4324766       & ENSG00000014257\\\\\n",
       "\tENSG00000163050 & 7797            & 0.5508529       & ENSG00000163050\\\\\n",
       "\tENSG00000123815 & 5487            & 0.5192273       & ENSG00000123815\\\\\n",
       "\tENSG00000173020 & 6602            & 0.6176916       & ENSG00000173020\\\\\n",
       "\tENSG00000104964 & 5236            & 0.6077158       & ENSG00000104964\\\\\n",
       "\tENSG00000188234 & 3474            & 0.3842832       & ENSG00000188234\\\\\n",
       "\\end{tabular}\n"
      ],
      "text/markdown": [
       "\n",
       "| <!--/--> | length | gc | ensembl_gene_id |\n",
       "|---|---|---|---|\n",
       "| ENSG00000014257 | 4280            | 0.4324766       | ENSG00000014257 |\n",
       "| ENSG00000163050 | 7797            | 0.5508529       | ENSG00000163050 |\n",
       "| ENSG00000123815 | 5487            | 0.5192273       | ENSG00000123815 |\n",
       "| ENSG00000173020 | 6602            | 0.6176916       | ENSG00000173020 |\n",
       "| ENSG00000104964 | 5236            | 0.6077158       | ENSG00000104964 |\n",
       "| ENSG00000188234 | 3474            | 0.3842832       | ENSG00000188234 |\n",
       "\n"
      ],
      "text/plain": [
       "                length gc        ensembl_gene_id\n",
       "ENSG00000014257 4280   0.4324766 ENSG00000014257\n",
       "ENSG00000163050 7797   0.5508529 ENSG00000163050\n",
       "ENSG00000123815 5487   0.5192273 ENSG00000123815\n",
       "ENSG00000173020 6602   0.6176916 ENSG00000173020\n",
       "ENSG00000104964 5236   0.6077158 ENSG00000104964\n",
       "ENSG00000188234 3474   0.3842832 ENSG00000188234"
      ]
     },
     "metadata": {},
     "output_type": "display_data"
    },
    {
     "data": {
      "text/html": [],
      "text/latex": [],
      "text/markdown": [],
      "text/plain": [
       "character(0)"
      ]
     },
     "metadata": {},
     "output_type": "display_data"
    },
    {
     "data": {
      "text/html": [
       "<table>\n",
       "<thead><tr><th scope=col>ensembl_gene_id</th><th scope=col>gene_name</th><th scope=col>length</th><th scope=col>gc</th></tr></thead>\n",
       "<tbody>\n",
       "\t<tr><td>ENSG00000014257</td><td>ACPP           </td><td>4280           </td><td>0.4324766      </td></tr>\n",
       "\t<tr><td>ENSG00000163050</td><td>ADCK3          </td><td>7797           </td><td>0.5508529      </td></tr>\n",
       "\t<tr><td>ENSG00000123815</td><td>ADCK4          </td><td>5487           </td><td>0.5192273      </td></tr>\n",
       "\t<tr><td>ENSG00000173020</td><td>ADRBK1         </td><td>6602           </td><td>0.6176916      </td></tr>\n",
       "\t<tr><td>ENSG00000104964</td><td>AES            </td><td>5236           </td><td>0.6077158      </td></tr>\n",
       "\t<tr><td>ENSG00000188234</td><td>AGAP8          </td><td>3474           </td><td>0.3842832      </td></tr>\n",
       "</tbody>\n",
       "</table>\n"
      ],
      "text/latex": [
       "\\begin{tabular}{r|llll}\n",
       " ensembl\\_gene\\_id & gene\\_name & length & gc\\\\\n",
       "\\hline\n",
       "\t ENSG00000014257 & ACPP            & 4280            & 0.4324766      \\\\\n",
       "\t ENSG00000163050 & ADCK3           & 7797            & 0.5508529      \\\\\n",
       "\t ENSG00000123815 & ADCK4           & 5487            & 0.5192273      \\\\\n",
       "\t ENSG00000173020 & ADRBK1          & 6602            & 0.6176916      \\\\\n",
       "\t ENSG00000104964 & AES             & 5236            & 0.6077158      \\\\\n",
       "\t ENSG00000188234 & AGAP8           & 3474            & 0.3842832      \\\\\n",
       "\\end{tabular}\n"
      ],
      "text/markdown": [
       "\n",
       "| ensembl_gene_id | gene_name | length | gc |\n",
       "|---|---|---|---|\n",
       "| ENSG00000014257 | ACPP            | 4280            | 0.4324766       |\n",
       "| ENSG00000163050 | ADCK3           | 7797            | 0.5508529       |\n",
       "| ENSG00000123815 | ADCK4           | 5487            | 0.5192273       |\n",
       "| ENSG00000173020 | ADRBK1          | 6602            | 0.6176916       |\n",
       "| ENSG00000104964 | AES             | 5236            | 0.6077158       |\n",
       "| ENSG00000188234 | AGAP8           | 3474            | 0.3842832       |\n",
       "\n"
      ],
      "text/plain": [
       "  ensembl_gene_id gene_name length gc       \n",
       "1 ENSG00000014257 ACPP      4280   0.4324766\n",
       "2 ENSG00000163050 ADCK3     7797   0.5508529\n",
       "3 ENSG00000123815 ADCK4     5487   0.5192273\n",
       "4 ENSG00000173020 ADRBK1    6602   0.6176916\n",
       "5 ENSG00000104964 AES       5236   0.6077158\n",
       "6 ENSG00000188234 AGAP8     3474   0.3842832"
      ]
     },
     "metadata": {},
     "output_type": "display_data"
    }
   ],
   "source": [
    "gene_lengths = getGeneLengthAndGCContent(ens_ids$ensembl_gene_id, \"hsa\")\n",
    "\n",
    "head(gene_lengths)\n",
    "len_df = as.data.frame(gene_lengths)\n",
    "len_df$ensembl_gene_id = row.names(len_df)\n",
    "\n",
    "head(len_df)\n",
    "\n",
    "# Check which genes don't have CDS lengths\n",
    "ens_ids$ensembl_gene_id[which(!ens_ids$ensembl_gene_id %in% len_df$ensembl_gene_id)] # They all do!\n",
    "\n",
    "# Join length df with name df\n",
    "cds_lengths = left_join(ens_ids, len_df, by=\"ensembl_gene_id\")\n",
    "head(cds_lengths)"
   ]
  },
  {
   "cell_type": "code",
   "execution_count": 11,
   "metadata": {},
   "outputs": [
    {
     "data": {
      "text/html": [
       "3949"
      ],
      "text/latex": [
       "3949"
      ],
      "text/markdown": [
       "3949"
      ],
      "text/plain": [
       "[1] 3949"
      ]
     },
     "metadata": {},
     "output_type": "display_data"
    },
    {
     "data": {
      "text/html": [
       "3771"
      ],
      "text/latex": [
       "3771"
      ],
      "text/markdown": [
       "3771"
      ],
      "text/plain": [
       "[1] 3771"
      ]
     },
     "metadata": {},
     "output_type": "display_data"
    }
   ],
   "source": [
    "length_map = unique(cds_lengths[,c('gene_name','length')])\n",
    "nrow(length_map)\n",
    "length(unique(length_map$gene_name))"
   ]
  },
  {
   "cell_type": "code",
   "execution_count": 12,
   "metadata": {},
   "outputs": [
    {
     "data": {
      "text/html": [
       "<table>\n",
       "<thead><tr><th></th><th scope=col>ensembl_gene_id</th><th scope=col>gene_name</th><th scope=col>length</th><th scope=col>gc</th></tr></thead>\n",
       "<tbody>\n",
       "\t<tr><th scope=row>2848</th><td>ENSG00000276582</td><td>ABCB11         </td><td>2040           </td><td>0.4225490      </td></tr>\n",
       "\t<tr><th scope=row>2849</th><td>ENSG00000073734</td><td>ABCB11         </td><td>7715           </td><td>0.3617628      </td></tr>\n",
       "</tbody>\n",
       "</table>\n"
      ],
      "text/latex": [
       "\\begin{tabular}{r|llll}\n",
       "  & ensembl\\_gene\\_id & gene\\_name & length & gc\\\\\n",
       "\\hline\n",
       "\t2848 & ENSG00000276582 & ABCB11          & 2040            & 0.4225490      \\\\\n",
       "\t2849 & ENSG00000073734 & ABCB11          & 7715            & 0.3617628      \\\\\n",
       "\\end{tabular}\n"
      ],
      "text/markdown": [
       "\n",
       "| <!--/--> | ensembl_gene_id | gene_name | length | gc |\n",
       "|---|---|---|---|---|\n",
       "| 2848 | ENSG00000276582 | ABCB11          | 2040            | 0.4225490       |\n",
       "| 2849 | ENSG00000073734 | ABCB11          | 7715            | 0.3617628       |\n",
       "\n"
      ],
      "text/plain": [
       "     ensembl_gene_id gene_name length gc       \n",
       "2848 ENSG00000276582 ABCB11    2040   0.4225490\n",
       "2849 ENSG00000073734 ABCB11    7715   0.3617628"
      ]
     },
     "metadata": {},
     "output_type": "display_data"
    }
   ],
   "source": [
    "cds_lengths[which(cds_lengths$gene_name==\"ABCB11\"),]"
   ]
  },
  {
   "cell_type": "code",
   "execution_count": 13,
   "metadata": {},
   "outputs": [],
   "source": [
    "# Average genes with multiple possible CDS lengths\n",
    "length_map = aggregate(.~gene_name, data=length_map, mean)"
   ]
  },
  {
   "cell_type": "code",
   "execution_count": 14,
   "metadata": {},
   "outputs": [
    {
     "data": {
      "text/html": [
       "<table>\n",
       "<thead><tr><th scope=col>gene_name</th><th scope=col>length</th></tr></thead>\n",
       "<tbody>\n",
       "\t<tr><td>9-Sep</td><td>12817</td></tr>\n",
       "\t<tr><td>A2M  </td><td> 6318</td></tr>\n",
       "\t<tr><td>AAAS </td><td> 4727</td></tr>\n",
       "\t<tr><td>AACS </td><td>16039</td></tr>\n",
       "\t<tr><td>AAK1 </td><td>24843</td></tr>\n",
       "\t<tr><td>AAMP </td><td> 3140</td></tr>\n",
       "</tbody>\n",
       "</table>\n"
      ],
      "text/latex": [
       "\\begin{tabular}{r|ll}\n",
       " gene\\_name & length\\\\\n",
       "\\hline\n",
       "\t 9-Sep & 12817\\\\\n",
       "\t A2M   &  6318\\\\\n",
       "\t AAAS  &  4727\\\\\n",
       "\t AACS  & 16039\\\\\n",
       "\t AAK1  & 24843\\\\\n",
       "\t AAMP  &  3140\\\\\n",
       "\\end{tabular}\n"
      ],
      "text/markdown": [
       "\n",
       "| gene_name | length |\n",
       "|---|---|\n",
       "| 9-Sep | 12817 |\n",
       "| A2M   |  6318 |\n",
       "| AAAS  |  4727 |\n",
       "| AACS  | 16039 |\n",
       "| AAK1  | 24843 |\n",
       "| AAMP  |  3140 |\n",
       "\n"
      ],
      "text/plain": [
       "  gene_name length\n",
       "1 9-Sep     12817 \n",
       "2 A2M        6318 \n",
       "3 AAAS       4727 \n",
       "4 AACS      16039 \n",
       "5 AAK1      24843 \n",
       "6 AAMP       3140 "
      ]
     },
     "metadata": {},
     "output_type": "display_data"
    }
   ],
   "source": [
    "head(length_map)"
   ]
  },
  {
   "cell_type": "code",
   "execution_count": 15,
   "metadata": {},
   "outputs": [
    {
     "name": "stderr",
     "output_type": "stream",
     "text": [
      "Warning message:\n",
      "“Column `CHR` joining factor and character vector, coercing into character vector”Warning message:\n",
      "“Column `CHR` joining factor and character vector, coercing into character vector”"
     ]
    },
    {
     "data": {
      "text/html": [
       "<table>\n",
       "<thead><tr><th scope=col>gene_name</th><th scope=col>length</th><th scope=col>natgen-lof_mutperkb</th><th scope=col>all-rare-lof_mutperkb</th></tr></thead>\n",
       "<tbody>\n",
       "\t<tr><td>9-Sep     </td><td>12817     </td><td>0.07802138</td><td>        NA</td></tr>\n",
       "\t<tr><td>A2M       </td><td> 6318     </td><td>0.31655587</td><td>0.31655587</td></tr>\n",
       "\t<tr><td>AAAS      </td><td> 4727     </td><td>0.84620267</td><td>0.63465200</td></tr>\n",
       "\t<tr><td>AACS      </td><td>16039     </td><td>0.12469605</td><td>0.06234803</td></tr>\n",
       "\t<tr><td>AAK1      </td><td>24843     </td><td>0.08050558</td><td>0.08050558</td></tr>\n",
       "\t<tr><td>AAMP      </td><td> 3140     </td><td>        NA</td><td>        NA</td></tr>\n",
       "</tbody>\n",
       "</table>\n"
      ],
      "text/latex": [
       "\\begin{tabular}{r|llll}\n",
       " gene\\_name & length & natgen-lof\\_mutperkb & all-rare-lof\\_mutperkb\\\\\n",
       "\\hline\n",
       "\t 9-Sep      & 12817      & 0.07802138 &         NA\\\\\n",
       "\t A2M        &  6318      & 0.31655587 & 0.31655587\\\\\n",
       "\t AAAS       &  4727      & 0.84620267 & 0.63465200\\\\\n",
       "\t AACS       & 16039      & 0.12469605 & 0.06234803\\\\\n",
       "\t AAK1       & 24843      & 0.08050558 & 0.08050558\\\\\n",
       "\t AAMP       &  3140      &         NA &         NA\\\\\n",
       "\\end{tabular}\n"
      ],
      "text/markdown": [
       "\n",
       "| gene_name | length | natgen-lof_mutperkb | all-rare-lof_mutperkb |\n",
       "|---|---|---|---|\n",
       "| 9-Sep      | 12817      | 0.07802138 |         NA |\n",
       "| A2M        |  6318      | 0.31655587 | 0.31655587 |\n",
       "| AAAS       |  4727      | 0.84620267 | 0.63465200 |\n",
       "| AACS       | 16039      | 0.12469605 | 0.06234803 |\n",
       "| AAK1       | 24843      | 0.08050558 | 0.08050558 |\n",
       "| AAMP       |  3140      |         NA |         NA |\n",
       "\n"
      ],
      "text/plain": [
       "  gene_name length natgen-lof_mutperkb all-rare-lof_mutperkb\n",
       "1 9-Sep     12817  0.07802138                  NA           \n",
       "2 A2M        6318  0.31655587          0.31655587           \n",
       "3 AAAS       4727  0.84620267          0.63465200           \n",
       "4 AACS      16039  0.12469605          0.06234803           \n",
       "5 AAK1      24843  0.08050558          0.08050558           \n",
       "6 AAMP       3140          NA                  NA           "
      ]
     },
     "metadata": {},
     "output_type": "display_data"
    }
   ],
   "source": [
    "# Number of variants normalized by length\n",
    "\n",
    "for (lof_type in c(\"natgen-lof\",\"all-rare-lof\")){\n",
    "    \n",
    "    comb_muts = get_mut_tables(lof_type)\n",
    "    cols = c(\"Blinded.ID\",\"Gene\",\"CHR\",\"POS\")\n",
    "    \n",
    "    freq_table <- as.data.frame(table(comb_muts$Gene))\n",
    "    freq_table$geneLength <- length_map$length[match(freq_table$Var1, length_map$gene_name)]\n",
    "    freq_table$mutperkb <- (freq_table$Freq / freq_table$geneLength) * 1000\n",
    "\n",
    "    mut_table[,paste0(lof_type, \"_mutperkb\")] <- freq_table$mutperkb[match(mut_table$Gene, freq_table$Var1)]\n",
    "    length_map[,paste0(lof_type, \"_mutperkb\")] = freq_table$mutperkb[match(length_map$gene_name, freq_table$Var1)]\n",
    "\n",
    "}\n",
    "\n",
    "head(length_map)\n",
    "length_map[is.na(length_map)] <- 0"
   ]
  },
  {
   "cell_type": "markdown",
   "metadata": {},
   "source": [
    "## Specificity scoring"
   ]
  },
  {
   "cell_type": "code",
   "execution_count": 16,
   "metadata": {},
   "outputs": [
    {
     "data": {
      "text/html": [
       "<table>\n",
       "<thead><tr><th scope=col>Name</th><th scope=col>Description</th><th scope=col>Adipose...Subcutaneous</th><th scope=col>Adipose...Visceral..Omentum.</th><th scope=col>Adrenal.Gland</th><th scope=col>Artery...Aorta</th><th scope=col>Artery...Coronary</th><th scope=col>Artery...Tibial</th><th scope=col>Bladder</th><th scope=col>Brain...Amygdala</th><th scope=col>...</th><th scope=col>Skin...Not.Sun.Exposed..Suprapubic.</th><th scope=col>Skin...Sun.Exposed..Lower.leg.</th><th scope=col>Small.Intestine...Terminal.Ileum</th><th scope=col>Spleen</th><th scope=col>Stomach</th><th scope=col>Testis</th><th scope=col>Thyroid</th><th scope=col>Uterus</th><th scope=col>Vagina</th><th scope=col>Whole.Blood</th></tr></thead>\n",
       "<tbody>\n",
       "\t<tr><td>ENSG00000223972.5</td><td>DDX11L1          </td><td>0.00000          </td><td>0.00000          </td><td>0.0000000        </td><td>0.00000          </td><td>0.00000          </td><td>0.00000          </td><td>0.0000000        </td><td>0.0000000        </td><td>...              </td><td>0.0000000        </td><td>0.00000          </td><td>0.0000000        </td><td>0.00000          </td><td>0.0000000        </td><td>0.1664030        </td><td>0.00000          </td><td>0.00000          </td><td>0.00000          </td><td>0.00000          </td></tr>\n",
       "\t<tr><td>ENSG00000227232.5</td><td>WASH7P           </td><td>4.06403          </td><td>3.37111          </td><td>2.6854900        </td><td>4.04762          </td><td>3.90076          </td><td>3.63963          </td><td>5.1637500        </td><td>1.4385900        </td><td>...              </td><td>5.9329800        </td><td>6.13265          </td><td>4.1937800        </td><td>5.92631          </td><td>3.0624800        </td><td>4.7025300        </td><td>6.27255          </td><td>7.19001          </td><td>5.74554          </td><td>2.64743          </td></tr>\n",
       "\t<tr><td>ENSG00000278267.1</td><td>MIR6859-1        </td><td>0.00000          </td><td>0.00000          </td><td>0.0000000        </td><td>0.00000          </td><td>0.00000          </td><td>0.00000          </td><td>0.0000000        </td><td>0.0000000        </td><td>...              </td><td>0.0000000        </td><td>0.00000          </td><td>0.0000000        </td><td>0.00000          </td><td>0.0000000        </td><td>0.0000000        </td><td>0.00000          </td><td>0.00000          </td><td>0.00000          </td><td>0.00000          </td></tr>\n",
       "\t<tr><td>ENSG00000243485.5</td><td>MIR1302-2HG      </td><td>0.00000          </td><td>0.00000          </td><td>0.0000000        </td><td>0.00000          </td><td>0.00000          </td><td>0.00000          </td><td>0.0000000        </td><td>0.0000000        </td><td>...              </td><td>0.0000000        </td><td>0.00000          </td><td>0.0000000        </td><td>0.00000          </td><td>0.0000000        </td><td>0.0542228        </td><td>0.00000          </td><td>0.00000          </td><td>0.00000          </td><td>0.00000          </td></tr>\n",
       "\t<tr><td>ENSG00000237613.2</td><td>FAM138A          </td><td>0.00000          </td><td>0.00000          </td><td>0.0000000        </td><td>0.00000          </td><td>0.00000          </td><td>0.00000          </td><td>0.0000000        </td><td>0.0000000        </td><td>...              </td><td>0.0000000        </td><td>0.00000          </td><td>0.0000000        </td><td>0.00000          </td><td>0.0000000        </td><td>0.0000000        </td><td>0.00000          </td><td>0.00000          </td><td>0.00000          </td><td>0.00000          </td></tr>\n",
       "\t<tr><td>ENSG00000268020.3</td><td>OR4G4P           </td><td>0.00000          </td><td>0.00000          </td><td>0.0363952        </td><td>0.00000          </td><td>0.00000          </td><td>0.00000          </td><td>0.0354698        </td><td>0.0496721        </td><td>...              </td><td>0.0267156        </td><td>0.00000          </td><td>0.0354079        </td><td>0.00000          </td><td>0.0325904        </td><td>0.0000000        </td><td>0.00000          </td><td>0.00000          </td><td>0.00000          </td><td>0.00000          </td></tr>\n",
       "</tbody>\n",
       "</table>\n"
      ],
      "text/latex": [
       "\\begin{tabular}{r|llllllllllllllllllllllllllllllllllllllllllllllllllllllll}\n",
       " Name & Description & Adipose...Subcutaneous & Adipose...Visceral..Omentum. & Adrenal.Gland & Artery...Aorta & Artery...Coronary & Artery...Tibial & Bladder & Brain...Amygdala & ... & Skin...Not.Sun.Exposed..Suprapubic. & Skin...Sun.Exposed..Lower.leg. & Small.Intestine...Terminal.Ileum & Spleen & Stomach & Testis & Thyroid & Uterus & Vagina & Whole.Blood\\\\\n",
       "\\hline\n",
       "\t ENSG00000223972.5 & DDX11L1           & 0.00000           & 0.00000           & 0.0000000         & 0.00000           & 0.00000           & 0.00000           & 0.0000000         & 0.0000000         & ...               & 0.0000000         & 0.00000           & 0.0000000         & 0.00000           & 0.0000000         & 0.1664030         & 0.00000           & 0.00000           & 0.00000           & 0.00000          \\\\\n",
       "\t ENSG00000227232.5 & WASH7P            & 4.06403           & 3.37111           & 2.6854900         & 4.04762           & 3.90076           & 3.63963           & 5.1637500         & 1.4385900         & ...               & 5.9329800         & 6.13265           & 4.1937800         & 5.92631           & 3.0624800         & 4.7025300         & 6.27255           & 7.19001           & 5.74554           & 2.64743          \\\\\n",
       "\t ENSG00000278267.1 & MIR6859-1         & 0.00000           & 0.00000           & 0.0000000         & 0.00000           & 0.00000           & 0.00000           & 0.0000000         & 0.0000000         & ...               & 0.0000000         & 0.00000           & 0.0000000         & 0.00000           & 0.0000000         & 0.0000000         & 0.00000           & 0.00000           & 0.00000           & 0.00000          \\\\\n",
       "\t ENSG00000243485.5 & MIR1302-2HG       & 0.00000           & 0.00000           & 0.0000000         & 0.00000           & 0.00000           & 0.00000           & 0.0000000         & 0.0000000         & ...               & 0.0000000         & 0.00000           & 0.0000000         & 0.00000           & 0.0000000         & 0.0542228         & 0.00000           & 0.00000           & 0.00000           & 0.00000          \\\\\n",
       "\t ENSG00000237613.2 & FAM138A           & 0.00000           & 0.00000           & 0.0000000         & 0.00000           & 0.00000           & 0.00000           & 0.0000000         & 0.0000000         & ...               & 0.0000000         & 0.00000           & 0.0000000         & 0.00000           & 0.0000000         & 0.0000000         & 0.00000           & 0.00000           & 0.00000           & 0.00000          \\\\\n",
       "\t ENSG00000268020.3 & OR4G4P            & 0.00000           & 0.00000           & 0.0363952         & 0.00000           & 0.00000           & 0.00000           & 0.0354698         & 0.0496721         & ...               & 0.0267156         & 0.00000           & 0.0354079         & 0.00000           & 0.0325904         & 0.0000000         & 0.00000           & 0.00000           & 0.00000           & 0.00000          \\\\\n",
       "\\end{tabular}\n"
      ],
      "text/markdown": [
       "\n",
       "| Name | Description | Adipose...Subcutaneous | Adipose...Visceral..Omentum. | Adrenal.Gland | Artery...Aorta | Artery...Coronary | Artery...Tibial | Bladder | Brain...Amygdala | ... | Skin...Not.Sun.Exposed..Suprapubic. | Skin...Sun.Exposed..Lower.leg. | Small.Intestine...Terminal.Ileum | Spleen | Stomach | Testis | Thyroid | Uterus | Vagina | Whole.Blood |\n",
       "|---|---|---|---|---|---|---|---|---|---|---|---|---|---|---|---|---|---|---|---|---|\n",
       "| ENSG00000223972.5 | DDX11L1           | 0.00000           | 0.00000           | 0.0000000         | 0.00000           | 0.00000           | 0.00000           | 0.0000000         | 0.0000000         | ...               | 0.0000000         | 0.00000           | 0.0000000         | 0.00000           | 0.0000000         | 0.1664030         | 0.00000           | 0.00000           | 0.00000           | 0.00000           |\n",
       "| ENSG00000227232.5 | WASH7P            | 4.06403           | 3.37111           | 2.6854900         | 4.04762           | 3.90076           | 3.63963           | 5.1637500         | 1.4385900         | ...               | 5.9329800         | 6.13265           | 4.1937800         | 5.92631           | 3.0624800         | 4.7025300         | 6.27255           | 7.19001           | 5.74554           | 2.64743           |\n",
       "| ENSG00000278267.1 | MIR6859-1         | 0.00000           | 0.00000           | 0.0000000         | 0.00000           | 0.00000           | 0.00000           | 0.0000000         | 0.0000000         | ...               | 0.0000000         | 0.00000           | 0.0000000         | 0.00000           | 0.0000000         | 0.0000000         | 0.00000           | 0.00000           | 0.00000           | 0.00000           |\n",
       "| ENSG00000243485.5 | MIR1302-2HG       | 0.00000           | 0.00000           | 0.0000000         | 0.00000           | 0.00000           | 0.00000           | 0.0000000         | 0.0000000         | ...               | 0.0000000         | 0.00000           | 0.0000000         | 0.00000           | 0.0000000         | 0.0542228         | 0.00000           | 0.00000           | 0.00000           | 0.00000           |\n",
       "| ENSG00000237613.2 | FAM138A           | 0.00000           | 0.00000           | 0.0000000         | 0.00000           | 0.00000           | 0.00000           | 0.0000000         | 0.0000000         | ...               | 0.0000000         | 0.00000           | 0.0000000         | 0.00000           | 0.0000000         | 0.0000000         | 0.00000           | 0.00000           | 0.00000           | 0.00000           |\n",
       "| ENSG00000268020.3 | OR4G4P            | 0.00000           | 0.00000           | 0.0363952         | 0.00000           | 0.00000           | 0.00000           | 0.0354698         | 0.0496721         | ...               | 0.0267156         | 0.00000           | 0.0354079         | 0.00000           | 0.0325904         | 0.0000000         | 0.00000           | 0.00000           | 0.00000           | 0.00000           |\n",
       "\n"
      ],
      "text/plain": [
       "  Name              Description Adipose...Subcutaneous\n",
       "1 ENSG00000223972.5 DDX11L1     0.00000               \n",
       "2 ENSG00000227232.5 WASH7P      4.06403               \n",
       "3 ENSG00000278267.1 MIR6859-1   0.00000               \n",
       "4 ENSG00000243485.5 MIR1302-2HG 0.00000               \n",
       "5 ENSG00000237613.2 FAM138A     0.00000               \n",
       "6 ENSG00000268020.3 OR4G4P      0.00000               \n",
       "  Adipose...Visceral..Omentum. Adrenal.Gland Artery...Aorta Artery...Coronary\n",
       "1 0.00000                      0.0000000     0.00000        0.00000          \n",
       "2 3.37111                      2.6854900     4.04762        3.90076          \n",
       "3 0.00000                      0.0000000     0.00000        0.00000          \n",
       "4 0.00000                      0.0000000     0.00000        0.00000          \n",
       "5 0.00000                      0.0000000     0.00000        0.00000          \n",
       "6 0.00000                      0.0363952     0.00000        0.00000          \n",
       "  Artery...Tibial Bladder   Brain...Amygdala ...\n",
       "1 0.00000         0.0000000 0.0000000        ...\n",
       "2 3.63963         5.1637500 1.4385900        ...\n",
       "3 0.00000         0.0000000 0.0000000        ...\n",
       "4 0.00000         0.0000000 0.0000000        ...\n",
       "5 0.00000         0.0000000 0.0000000        ...\n",
       "6 0.00000         0.0354698 0.0496721        ...\n",
       "  Skin...Not.Sun.Exposed..Suprapubic. Skin...Sun.Exposed..Lower.leg.\n",
       "1 0.0000000                           0.00000                       \n",
       "2 5.9329800                           6.13265                       \n",
       "3 0.0000000                           0.00000                       \n",
       "4 0.0000000                           0.00000                       \n",
       "5 0.0000000                           0.00000                       \n",
       "6 0.0267156                           0.00000                       \n",
       "  Small.Intestine...Terminal.Ileum Spleen  Stomach   Testis    Thyroid Uterus \n",
       "1 0.0000000                        0.00000 0.0000000 0.1664030 0.00000 0.00000\n",
       "2 4.1937800                        5.92631 3.0624800 4.7025300 6.27255 7.19001\n",
       "3 0.0000000                        0.00000 0.0000000 0.0000000 0.00000 0.00000\n",
       "4 0.0000000                        0.00000 0.0000000 0.0542228 0.00000 0.00000\n",
       "5 0.0000000                        0.00000 0.0000000 0.0000000 0.00000 0.00000\n",
       "6 0.0354079                        0.00000 0.0325904 0.0000000 0.00000 0.00000\n",
       "  Vagina  Whole.Blood\n",
       "1 0.00000 0.00000    \n",
       "2 5.74554 2.64743    \n",
       "3 0.00000 0.00000    \n",
       "4 0.00000 0.00000    \n",
       "5 0.00000 0.00000    \n",
       "6 0.00000 0.00000    "
      ]
     },
     "metadata": {},
     "output_type": "display_data"
    },
    {
     "data": {
      "text/html": [
       "56200"
      ],
      "text/latex": [
       "56200"
      ],
      "text/markdown": [
       "56200"
      ],
      "text/plain": [
       "[1] 56200"
      ]
     },
     "metadata": {},
     "output_type": "display_data"
    },
    {
     "data": {
      "text/html": [
       "54592"
      ],
      "text/latex": [
       "54592"
      ],
      "text/markdown": [
       "54592"
      ],
      "text/plain": [
       "[1] 54592"
      ]
     },
     "metadata": {},
     "output_type": "display_data"
    }
   ],
   "source": [
    "gtex = read.table(\"../data/databases/GTEx_Analysis_2017-06-05_v8_RNASeQCv1.1.9_gene_median_tpm.gct.gz\",\n",
    "                  sep = \"\\t\", stringsAsFactors=F, header=T, skip=2, fill=T)\n",
    "head(gtex)\n",
    "nrow(gtex)\n",
    "length(unique(gtex$Description)) # Some genes have multiple transcripts"
   ]
  },
  {
   "cell_type": "code",
   "execution_count": 17,
   "metadata": {},
   "outputs": [
    {
     "data": {
      "text/html": [
       "<table>\n",
       "<thead><tr><th scope=col>Description</th><th scope=col>Adipose...Subcutaneous</th><th scope=col>Adipose...Visceral..Omentum.</th><th scope=col>Adrenal.Gland</th><th scope=col>Artery...Aorta</th><th scope=col>Artery...Coronary</th><th scope=col>Artery...Tibial</th><th scope=col>Bladder</th><th scope=col>Brain...Amygdala</th><th scope=col>Brain...Anterior.cingulate.cortex..BA24.</th><th scope=col>...</th><th scope=col>Skin...Not.Sun.Exposed..Suprapubic.</th><th scope=col>Skin...Sun.Exposed..Lower.leg.</th><th scope=col>Small.Intestine...Terminal.Ileum</th><th scope=col>Spleen</th><th scope=col>Stomach</th><th scope=col>Testis</th><th scope=col>Thyroid</th><th scope=col>Uterus</th><th scope=col>Vagina</th><th scope=col>Whole.Blood</th></tr></thead>\n",
       "<tbody>\n",
       "\t<tr><td>5_8S_rRNA </td><td>0.00000000</td><td>0.00000000</td><td>0.0000000 </td><td>0.0000000 </td><td>0.0000000 </td><td>0.0000000 </td><td>0.00000000</td><td>0.00000   </td><td>0.00000000</td><td>...       </td><td>0.00000000</td><td>0.00000000</td><td>0.00000000</td><td>0.00000000</td><td>0.000000  </td><td>0.00000000</td><td>0.00000000</td><td>0.00000000</td><td>0.00000000</td><td>0.00000000</td></tr>\n",
       "\t<tr><td>5S_rRNA   </td><td>0.03274744</td><td>0.00000000</td><td>0.0000000 </td><td>0.0000000 </td><td>0.0000000 </td><td>0.0000000 </td><td>0.00000000</td><td>0.00000   </td><td>0.00000000</td><td>...       </td><td>0.01952531</td><td>0.02435181</td><td>0.02203625</td><td>0.06317431</td><td>0.012659  </td><td>0.03525225</td><td>0.02120125</td><td>0.03329181</td><td>0.02251006</td><td>0.01484906</td></tr>\n",
       "\t<tr><td>7SK       </td><td>0.00000000</td><td>0.00000000</td><td>0.0000000 </td><td>0.0000000 </td><td>0.0000000 </td><td>0.0000000 </td><td>0.00000000</td><td>0.00000   </td><td>0.00000000</td><td>...       </td><td>0.01897867</td><td>0.00000000</td><td>0.00000000</td><td>0.00000000</td><td>0.000000  </td><td>0.39720833</td><td>0.00000000</td><td>0.00000000</td><td>0.00000000</td><td>0.00000000</td></tr>\n",
       "\t<tr><td>A1BG      </td><td>3.10956000</td><td>3.27881000</td><td>1.4056600 </td><td>3.3715600 </td><td>7.4051300 </td><td>6.4385600 </td><td>2.17151000</td><td>4.02207   </td><td>3.55573000</td><td>...       </td><td>2.34010000</td><td>2.19279000</td><td>2.80474000</td><td>6.32484000</td><td>1.350860  </td><td>1.54219000</td><td>4.53652000</td><td>7.84693000</td><td>5.49158000</td><td>1.69172000</td></tr>\n",
       "\t<tr><td>A1BG-AS1  </td><td>1.61339000</td><td>1.95934000</td><td>1.0248200 </td><td>2.1095300 </td><td>5.0850900 </td><td>3.5362300 </td><td>1.25874000</td><td>1.00217   </td><td>1.86325000</td><td>...       </td><td>1.50524000</td><td>1.25731000</td><td>2.50539000</td><td>5.42682000</td><td>1.006890  </td><td>0.64078600</td><td>3.71696000</td><td>6.28329000</td><td>3.27360000</td><td>1.28071000</td></tr>\n",
       "\t<tr><td>A1CF      </td><td>0.00738411</td><td>0.00561853</td><td>0.0187032 </td><td>0.0163877 </td><td>0.0122843 </td><td>0.0158928 </td><td>0.00884071</td><td>0.00000   </td><td>0.00468671</td><td>...       </td><td>0.01123390</td><td>0.01439770</td><td>6.02867000</td><td>0.00963833</td><td>0.239152  </td><td>0.04755730</td><td>0.01639170</td><td>0.00701341</td><td>0.01087620</td><td>0.00572623</td></tr>\n",
       "</tbody>\n",
       "</table>\n"
      ],
      "text/latex": [
       "\\begin{tabular}{r|lllllllllllllllllllllllllllllllllllllllllllllllllllllll}\n",
       " Description & Adipose...Subcutaneous & Adipose...Visceral..Omentum. & Adrenal.Gland & Artery...Aorta & Artery...Coronary & Artery...Tibial & Bladder & Brain...Amygdala & Brain...Anterior.cingulate.cortex..BA24. & ... & Skin...Not.Sun.Exposed..Suprapubic. & Skin...Sun.Exposed..Lower.leg. & Small.Intestine...Terminal.Ileum & Spleen & Stomach & Testis & Thyroid & Uterus & Vagina & Whole.Blood\\\\\n",
       "\\hline\n",
       "\t 5\\_8S\\_rRNA & 0.00000000    & 0.00000000    & 0.0000000     & 0.0000000     & 0.0000000     & 0.0000000     & 0.00000000    & 0.00000       & 0.00000000    & ...           & 0.00000000    & 0.00000000    & 0.00000000    & 0.00000000    & 0.000000      & 0.00000000    & 0.00000000    & 0.00000000    & 0.00000000    & 0.00000000   \\\\\n",
       "\t 5S\\_rRNA   & 0.03274744  & 0.00000000  & 0.0000000   & 0.0000000   & 0.0000000   & 0.0000000   & 0.00000000  & 0.00000     & 0.00000000  & ...         & 0.01952531  & 0.02435181  & 0.02203625  & 0.06317431  & 0.012659    & 0.03525225  & 0.02120125  & 0.03329181  & 0.02251006  & 0.01484906 \\\\\n",
       "\t 7SK        & 0.00000000 & 0.00000000 & 0.0000000  & 0.0000000  & 0.0000000  & 0.0000000  & 0.00000000 & 0.00000    & 0.00000000 & ...        & 0.01897867 & 0.00000000 & 0.00000000 & 0.00000000 & 0.000000   & 0.39720833 & 0.00000000 & 0.00000000 & 0.00000000 & 0.00000000\\\\\n",
       "\t A1BG       & 3.10956000 & 3.27881000 & 1.4056600  & 3.3715600  & 7.4051300  & 6.4385600  & 2.17151000 & 4.02207    & 3.55573000 & ...        & 2.34010000 & 2.19279000 & 2.80474000 & 6.32484000 & 1.350860   & 1.54219000 & 4.53652000 & 7.84693000 & 5.49158000 & 1.69172000\\\\\n",
       "\t A1BG-AS1   & 1.61339000 & 1.95934000 & 1.0248200  & 2.1095300  & 5.0850900  & 3.5362300  & 1.25874000 & 1.00217    & 1.86325000 & ...        & 1.50524000 & 1.25731000 & 2.50539000 & 5.42682000 & 1.006890   & 0.64078600 & 3.71696000 & 6.28329000 & 3.27360000 & 1.28071000\\\\\n",
       "\t A1CF       & 0.00738411 & 0.00561853 & 0.0187032  & 0.0163877  & 0.0122843  & 0.0158928  & 0.00884071 & 0.00000    & 0.00468671 & ...        & 0.01123390 & 0.01439770 & 6.02867000 & 0.00963833 & 0.239152   & 0.04755730 & 0.01639170 & 0.00701341 & 0.01087620 & 0.00572623\\\\\n",
       "\\end{tabular}\n"
      ],
      "text/markdown": [
       "\n",
       "| Description | Adipose...Subcutaneous | Adipose...Visceral..Omentum. | Adrenal.Gland | Artery...Aorta | Artery...Coronary | Artery...Tibial | Bladder | Brain...Amygdala | Brain...Anterior.cingulate.cortex..BA24. | ... | Skin...Not.Sun.Exposed..Suprapubic. | Skin...Sun.Exposed..Lower.leg. | Small.Intestine...Terminal.Ileum | Spleen | Stomach | Testis | Thyroid | Uterus | Vagina | Whole.Blood |\n",
       "|---|---|---|---|---|---|---|---|---|---|---|---|---|---|---|---|---|---|---|---|---|\n",
       "| 5_8S_rRNA  | 0.00000000 | 0.00000000 | 0.0000000  | 0.0000000  | 0.0000000  | 0.0000000  | 0.00000000 | 0.00000    | 0.00000000 | ...        | 0.00000000 | 0.00000000 | 0.00000000 | 0.00000000 | 0.000000   | 0.00000000 | 0.00000000 | 0.00000000 | 0.00000000 | 0.00000000 |\n",
       "| 5S_rRNA    | 0.03274744 | 0.00000000 | 0.0000000  | 0.0000000  | 0.0000000  | 0.0000000  | 0.00000000 | 0.00000    | 0.00000000 | ...        | 0.01952531 | 0.02435181 | 0.02203625 | 0.06317431 | 0.012659   | 0.03525225 | 0.02120125 | 0.03329181 | 0.02251006 | 0.01484906 |\n",
       "| 7SK        | 0.00000000 | 0.00000000 | 0.0000000  | 0.0000000  | 0.0000000  | 0.0000000  | 0.00000000 | 0.00000    | 0.00000000 | ...        | 0.01897867 | 0.00000000 | 0.00000000 | 0.00000000 | 0.000000   | 0.39720833 | 0.00000000 | 0.00000000 | 0.00000000 | 0.00000000 |\n",
       "| A1BG       | 3.10956000 | 3.27881000 | 1.4056600  | 3.3715600  | 7.4051300  | 6.4385600  | 2.17151000 | 4.02207    | 3.55573000 | ...        | 2.34010000 | 2.19279000 | 2.80474000 | 6.32484000 | 1.350860   | 1.54219000 | 4.53652000 | 7.84693000 | 5.49158000 | 1.69172000 |\n",
       "| A1BG-AS1   | 1.61339000 | 1.95934000 | 1.0248200  | 2.1095300  | 5.0850900  | 3.5362300  | 1.25874000 | 1.00217    | 1.86325000 | ...        | 1.50524000 | 1.25731000 | 2.50539000 | 5.42682000 | 1.006890   | 0.64078600 | 3.71696000 | 6.28329000 | 3.27360000 | 1.28071000 |\n",
       "| A1CF       | 0.00738411 | 0.00561853 | 0.0187032  | 0.0163877  | 0.0122843  | 0.0158928  | 0.00884071 | 0.00000    | 0.00468671 | ...        | 0.01123390 | 0.01439770 | 6.02867000 | 0.00963833 | 0.239152   | 0.04755730 | 0.01639170 | 0.00701341 | 0.01087620 | 0.00572623 |\n",
       "\n"
      ],
      "text/plain": [
       "  Description Adipose...Subcutaneous Adipose...Visceral..Omentum. Adrenal.Gland\n",
       "1 5_8S_rRNA   0.00000000             0.00000000                   0.0000000    \n",
       "2 5S_rRNA     0.03274744             0.00000000                   0.0000000    \n",
       "3 7SK         0.00000000             0.00000000                   0.0000000    \n",
       "4 A1BG        3.10956000             3.27881000                   1.4056600    \n",
       "5 A1BG-AS1    1.61339000             1.95934000                   1.0248200    \n",
       "6 A1CF        0.00738411             0.00561853                   0.0187032    \n",
       "  Artery...Aorta Artery...Coronary Artery...Tibial Bladder    Brain...Amygdala\n",
       "1 0.0000000      0.0000000         0.0000000       0.00000000 0.00000         \n",
       "2 0.0000000      0.0000000         0.0000000       0.00000000 0.00000         \n",
       "3 0.0000000      0.0000000         0.0000000       0.00000000 0.00000         \n",
       "4 3.3715600      7.4051300         6.4385600       2.17151000 4.02207         \n",
       "5 2.1095300      5.0850900         3.5362300       1.25874000 1.00217         \n",
       "6 0.0163877      0.0122843         0.0158928       0.00884071 0.00000         \n",
       "  Brain...Anterior.cingulate.cortex..BA24. ...\n",
       "1 0.00000000                               ...\n",
       "2 0.00000000                               ...\n",
       "3 0.00000000                               ...\n",
       "4 3.55573000                               ...\n",
       "5 1.86325000                               ...\n",
       "6 0.00468671                               ...\n",
       "  Skin...Not.Sun.Exposed..Suprapubic. Skin...Sun.Exposed..Lower.leg.\n",
       "1 0.00000000                          0.00000000                    \n",
       "2 0.01952531                          0.02435181                    \n",
       "3 0.01897867                          0.00000000                    \n",
       "4 2.34010000                          2.19279000                    \n",
       "5 1.50524000                          1.25731000                    \n",
       "6 0.01123390                          0.01439770                    \n",
       "  Small.Intestine...Terminal.Ileum Spleen     Stomach  Testis     Thyroid   \n",
       "1 0.00000000                       0.00000000 0.000000 0.00000000 0.00000000\n",
       "2 0.02203625                       0.06317431 0.012659 0.03525225 0.02120125\n",
       "3 0.00000000                       0.00000000 0.000000 0.39720833 0.00000000\n",
       "4 2.80474000                       6.32484000 1.350860 1.54219000 4.53652000\n",
       "5 2.50539000                       5.42682000 1.006890 0.64078600 3.71696000\n",
       "6 6.02867000                       0.00963833 0.239152 0.04755730 0.01639170\n",
       "  Uterus     Vagina     Whole.Blood\n",
       "1 0.00000000 0.00000000 0.00000000 \n",
       "2 0.03329181 0.02251006 0.01484906 \n",
       "3 0.00000000 0.00000000 0.00000000 \n",
       "4 7.84693000 5.49158000 1.69172000 \n",
       "5 6.28329000 3.27360000 1.28071000 \n",
       "6 0.00701341 0.01087620 0.00572623 "
      ]
     },
     "metadata": {},
     "output_type": "display_data"
    }
   ],
   "source": [
    "gtex = aggregate(.~Description, data=gtex[,c(-1)], mean)\n",
    "head(gtex)"
   ]
  },
  {
   "cell_type": "code",
   "execution_count": 18,
   "metadata": {},
   "outputs": [
    {
     "data": {
      "text/html": [
       "<ol class=list-inline>\n",
       "\t<li>'9-Sep'</li>\n",
       "\t<li>'ABHD16B'</li>\n",
       "\t<li>'ADCK3'</li>\n",
       "\t<li>'ADCK4'</li>\n",
       "\t<li>'ADRBK1'</li>\n",
       "\t<li>'AGAP8'</li>\n",
       "\t<li>'ANKRD32'</li>\n",
       "\t<li>'APOA1BP'</li>\n",
       "\t<li>'AQPEP'</li>\n",
       "\t<li>'ASUN'</li>\n",
       "\t<li>'ATHL1'</li>\n",
       "\t<li>'AZI1'</li>\n",
       "\t<li>'BAI1'</li>\n",
       "\t<li>'BAI2'</li>\n",
       "\t<li>'BAI3'</li>\n",
       "\t<li>'BZRAP1'</li>\n",
       "\t<li>'C10orf12'</li>\n",
       "\t<li>'C10orf129'</li>\n",
       "\t<li>'C11orf30'</li>\n",
       "\t<li>'C13orf35'</li>\n",
       "\t<li>'C17orf66'</li>\n",
       "\t<li>'C17orf70'</li>\n",
       "\t<li>'C19orf40'</li>\n",
       "\t<li>'C19orf59'</li>\n",
       "\t<li>'C1orf173'</li>\n",
       "\t<li>'C1orf222'</li>\n",
       "\t<li>'C1orf65'</li>\n",
       "\t<li>'C20orf112'</li>\n",
       "\t<li>'C20orf26'</li>\n",
       "\t<li>'C2orf43'</li>\n",
       "\t<li>'C4orf40'</li>\n",
       "\t<li>'C5orf20'</li>\n",
       "\t<li>'C9orf171'</li>\n",
       "\t<li>'CASC5'</li>\n",
       "\t<li>'CCDC108'</li>\n",
       "\t<li>'CCDC132'</li>\n",
       "\t<li>'CCDC135'</li>\n",
       "\t<li>'CCDC41'</li>\n",
       "\t<li>'CD97'</li>\n",
       "\t<li>'CRAMP1L'</li>\n",
       "\t<li>'ELTD1'</li>\n",
       "\t<li>'EMR1'</li>\n",
       "\t<li>'EPT1'</li>\n",
       "\t<li>'ERBB2IP'</li>\n",
       "\t<li>'FAM101A'</li>\n",
       "\t<li>'FAM178A'</li>\n",
       "\t<li>'FAM179A'</li>\n",
       "\t<li>'FAM179B'</li>\n",
       "\t<li>'FAM21C'</li>\n",
       "\t<li>'FAM73A'</li>\n",
       "\t<li>'FIGF'</li>\n",
       "\t<li>'FTSJ2'</li>\n",
       "\t<li>'GCOM1'</li>\n",
       "\t<li>'GPR112'</li>\n",
       "\t<li>'GPR116'</li>\n",
       "\t<li>'GPR125'</li>\n",
       "\t<li>'GPR126'</li>\n",
       "\t<li>'GPR133'</li>\n",
       "\t<li>'GPR98'</li>\n",
       "\t<li>'Hdgfrp2'</li>\n",
       "\t<li>'HDGFRP2'</li>\n",
       "\t<li>'JMJD7-PLA2G4B'</li>\n",
       "\t<li>'KIAA0195'</li>\n",
       "\t<li>'KIAA0196'</li>\n",
       "\t<li>'KIAA1009'</li>\n",
       "\t<li>'KIAA1244'</li>\n",
       "\t<li>'KIAA1407'</li>\n",
       "\t<li>'KIAA1432'</li>\n",
       "\t<li>'KIAA1598'</li>\n",
       "\t<li>'KIAA1715'</li>\n",
       "\t<li>'LPHN1'</li>\n",
       "\t<li>'LPHN3'</li>\n",
       "\t<li>'LPPR3'</li>\n",
       "\t<li>'MEF2BNB'</li>\n",
       "\t<li>'MTERF'</li>\n",
       "\t<li>'NAPRT1'</li>\n",
       "\t<li>'NARG2'</li>\n",
       "\t<li>'NBPF24'</li>\n",
       "\t<li>'PCNXL2'</li>\n",
       "\t<li>'PCNXL3'</li>\n",
       "\t<li>'PGBD3'</li>\n",
       "\t<li>'PIDD'</li>\n",
       "\t<li>'PPAP2A'</li>\n",
       "\t<li>'PTCHD2'</li>\n",
       "\t<li>'PTPLAD2'</li>\n",
       "\t<li>'PVRL1'</li>\n",
       "\t<li>'SCAND3'</li>\n",
       "\t<li>'SEPN1'</li>\n",
       "\t<li>'SEPW1'</li>\n",
       "\t<li>'SERINC4'</li>\n",
       "\t<li>'SUV420H1'</li>\n",
       "\t<li>'SUV420H2'</li>\n",
       "\t<li>'TOMM70A'</li>\n",
       "\t<li>'VWA9'</li>\n",
       "\t<li>'WAPAL'</li>\n",
       "\t<li>'WDR16'</li>\n",
       "\t<li>'WDR52'</li>\n",
       "\t<li>'WDR65'</li>\n",
       "\t<li>'WDR96'</li>\n",
       "\t<li>'WHSC1'</li>\n",
       "\t<li>'WIBG'</li>\n",
       "</ol>\n"
      ],
      "text/latex": [
       "\\begin{enumerate*}\n",
       "\\item '9-Sep'\n",
       "\\item 'ABHD16B'\n",
       "\\item 'ADCK3'\n",
       "\\item 'ADCK4'\n",
       "\\item 'ADRBK1'\n",
       "\\item 'AGAP8'\n",
       "\\item 'ANKRD32'\n",
       "\\item 'APOA1BP'\n",
       "\\item 'AQPEP'\n",
       "\\item 'ASUN'\n",
       "\\item 'ATHL1'\n",
       "\\item 'AZI1'\n",
       "\\item 'BAI1'\n",
       "\\item 'BAI2'\n",
       "\\item 'BAI3'\n",
       "\\item 'BZRAP1'\n",
       "\\item 'C10orf12'\n",
       "\\item 'C10orf129'\n",
       "\\item 'C11orf30'\n",
       "\\item 'C13orf35'\n",
       "\\item 'C17orf66'\n",
       "\\item 'C17orf70'\n",
       "\\item 'C19orf40'\n",
       "\\item 'C19orf59'\n",
       "\\item 'C1orf173'\n",
       "\\item 'C1orf222'\n",
       "\\item 'C1orf65'\n",
       "\\item 'C20orf112'\n",
       "\\item 'C20orf26'\n",
       "\\item 'C2orf43'\n",
       "\\item 'C4orf40'\n",
       "\\item 'C5orf20'\n",
       "\\item 'C9orf171'\n",
       "\\item 'CASC5'\n",
       "\\item 'CCDC108'\n",
       "\\item 'CCDC132'\n",
       "\\item 'CCDC135'\n",
       "\\item 'CCDC41'\n",
       "\\item 'CD97'\n",
       "\\item 'CRAMP1L'\n",
       "\\item 'ELTD1'\n",
       "\\item 'EMR1'\n",
       "\\item 'EPT1'\n",
       "\\item 'ERBB2IP'\n",
       "\\item 'FAM101A'\n",
       "\\item 'FAM178A'\n",
       "\\item 'FAM179A'\n",
       "\\item 'FAM179B'\n",
       "\\item 'FAM21C'\n",
       "\\item 'FAM73A'\n",
       "\\item 'FIGF'\n",
       "\\item 'FTSJ2'\n",
       "\\item 'GCOM1'\n",
       "\\item 'GPR112'\n",
       "\\item 'GPR116'\n",
       "\\item 'GPR125'\n",
       "\\item 'GPR126'\n",
       "\\item 'GPR133'\n",
       "\\item 'GPR98'\n",
       "\\item 'Hdgfrp2'\n",
       "\\item 'HDGFRP2'\n",
       "\\item 'JMJD7-PLA2G4B'\n",
       "\\item 'KIAA0195'\n",
       "\\item 'KIAA0196'\n",
       "\\item 'KIAA1009'\n",
       "\\item 'KIAA1244'\n",
       "\\item 'KIAA1407'\n",
       "\\item 'KIAA1432'\n",
       "\\item 'KIAA1598'\n",
       "\\item 'KIAA1715'\n",
       "\\item 'LPHN1'\n",
       "\\item 'LPHN3'\n",
       "\\item 'LPPR3'\n",
       "\\item 'MEF2BNB'\n",
       "\\item 'MTERF'\n",
       "\\item 'NAPRT1'\n",
       "\\item 'NARG2'\n",
       "\\item 'NBPF24'\n",
       "\\item 'PCNXL2'\n",
       "\\item 'PCNXL3'\n",
       "\\item 'PGBD3'\n",
       "\\item 'PIDD'\n",
       "\\item 'PPAP2A'\n",
       "\\item 'PTCHD2'\n",
       "\\item 'PTPLAD2'\n",
       "\\item 'PVRL1'\n",
       "\\item 'SCAND3'\n",
       "\\item 'SEPN1'\n",
       "\\item 'SEPW1'\n",
       "\\item 'SERINC4'\n",
       "\\item 'SUV420H1'\n",
       "\\item 'SUV420H2'\n",
       "\\item 'TOMM70A'\n",
       "\\item 'VWA9'\n",
       "\\item 'WAPAL'\n",
       "\\item 'WDR16'\n",
       "\\item 'WDR52'\n",
       "\\item 'WDR65'\n",
       "\\item 'WDR96'\n",
       "\\item 'WHSC1'\n",
       "\\item 'WIBG'\n",
       "\\end{enumerate*}\n"
      ],
      "text/markdown": [
       "1. '9-Sep'\n",
       "2. 'ABHD16B'\n",
       "3. 'ADCK3'\n",
       "4. 'ADCK4'\n",
       "5. 'ADRBK1'\n",
       "6. 'AGAP8'\n",
       "7. 'ANKRD32'\n",
       "8. 'APOA1BP'\n",
       "9. 'AQPEP'\n",
       "10. 'ASUN'\n",
       "11. 'ATHL1'\n",
       "12. 'AZI1'\n",
       "13. 'BAI1'\n",
       "14. 'BAI2'\n",
       "15. 'BAI3'\n",
       "16. 'BZRAP1'\n",
       "17. 'C10orf12'\n",
       "18. 'C10orf129'\n",
       "19. 'C11orf30'\n",
       "20. 'C13orf35'\n",
       "21. 'C17orf66'\n",
       "22. 'C17orf70'\n",
       "23. 'C19orf40'\n",
       "24. 'C19orf59'\n",
       "25. 'C1orf173'\n",
       "26. 'C1orf222'\n",
       "27. 'C1orf65'\n",
       "28. 'C20orf112'\n",
       "29. 'C20orf26'\n",
       "30. 'C2orf43'\n",
       "31. 'C4orf40'\n",
       "32. 'C5orf20'\n",
       "33. 'C9orf171'\n",
       "34. 'CASC5'\n",
       "35. 'CCDC108'\n",
       "36. 'CCDC132'\n",
       "37. 'CCDC135'\n",
       "38. 'CCDC41'\n",
       "39. 'CD97'\n",
       "40. 'CRAMP1L'\n",
       "41. 'ELTD1'\n",
       "42. 'EMR1'\n",
       "43. 'EPT1'\n",
       "44. 'ERBB2IP'\n",
       "45. 'FAM101A'\n",
       "46. 'FAM178A'\n",
       "47. 'FAM179A'\n",
       "48. 'FAM179B'\n",
       "49. 'FAM21C'\n",
       "50. 'FAM73A'\n",
       "51. 'FIGF'\n",
       "52. 'FTSJ2'\n",
       "53. 'GCOM1'\n",
       "54. 'GPR112'\n",
       "55. 'GPR116'\n",
       "56. 'GPR125'\n",
       "57. 'GPR126'\n",
       "58. 'GPR133'\n",
       "59. 'GPR98'\n",
       "60. 'Hdgfrp2'\n",
       "61. 'HDGFRP2'\n",
       "62. 'JMJD7-PLA2G4B'\n",
       "63. 'KIAA0195'\n",
       "64. 'KIAA0196'\n",
       "65. 'KIAA1009'\n",
       "66. 'KIAA1244'\n",
       "67. 'KIAA1407'\n",
       "68. 'KIAA1432'\n",
       "69. 'KIAA1598'\n",
       "70. 'KIAA1715'\n",
       "71. 'LPHN1'\n",
       "72. 'LPHN3'\n",
       "73. 'LPPR3'\n",
       "74. 'MEF2BNB'\n",
       "75. 'MTERF'\n",
       "76. 'NAPRT1'\n",
       "77. 'NARG2'\n",
       "78. 'NBPF24'\n",
       "79. 'PCNXL2'\n",
       "80. 'PCNXL3'\n",
       "81. 'PGBD3'\n",
       "82. 'PIDD'\n",
       "83. 'PPAP2A'\n",
       "84. 'PTCHD2'\n",
       "85. 'PTPLAD2'\n",
       "86. 'PVRL1'\n",
       "87. 'SCAND3'\n",
       "88. 'SEPN1'\n",
       "89. 'SEPW1'\n",
       "90. 'SERINC4'\n",
       "91. 'SUV420H1'\n",
       "92. 'SUV420H2'\n",
       "93. 'TOMM70A'\n",
       "94. 'VWA9'\n",
       "95. 'WAPAL'\n",
       "96. 'WDR16'\n",
       "97. 'WDR52'\n",
       "98. 'WDR65'\n",
       "99. 'WDR96'\n",
       "100. 'WHSC1'\n",
       "101. 'WIBG'\n",
       "\n",
       "\n"
      ],
      "text/plain": [
       "  [1] \"9-Sep\"         \"ABHD16B\"       \"ADCK3\"         \"ADCK4\"        \n",
       "  [5] \"ADRBK1\"        \"AGAP8\"         \"ANKRD32\"       \"APOA1BP\"      \n",
       "  [9] \"AQPEP\"         \"ASUN\"          \"ATHL1\"         \"AZI1\"         \n",
       " [13] \"BAI1\"          \"BAI2\"          \"BAI3\"          \"BZRAP1\"       \n",
       " [17] \"C10orf12\"      \"C10orf129\"     \"C11orf30\"      \"C13orf35\"     \n",
       " [21] \"C17orf66\"      \"C17orf70\"      \"C19orf40\"      \"C19orf59\"     \n",
       " [25] \"C1orf173\"      \"C1orf222\"      \"C1orf65\"       \"C20orf112\"    \n",
       " [29] \"C20orf26\"      \"C2orf43\"       \"C4orf40\"       \"C5orf20\"      \n",
       " [33] \"C9orf171\"      \"CASC5\"         \"CCDC108\"       \"CCDC132\"      \n",
       " [37] \"CCDC135\"       \"CCDC41\"        \"CD97\"          \"CRAMP1L\"      \n",
       " [41] \"ELTD1\"         \"EMR1\"          \"EPT1\"          \"ERBB2IP\"      \n",
       " [45] \"FAM101A\"       \"FAM178A\"       \"FAM179A\"       \"FAM179B\"      \n",
       " [49] \"FAM21C\"        \"FAM73A\"        \"FIGF\"          \"FTSJ2\"        \n",
       " [53] \"GCOM1\"         \"GPR112\"        \"GPR116\"        \"GPR125\"       \n",
       " [57] \"GPR126\"        \"GPR133\"        \"GPR98\"         \"Hdgfrp2\"      \n",
       " [61] \"HDGFRP2\"       \"JMJD7-PLA2G4B\" \"KIAA0195\"      \"KIAA0196\"     \n",
       " [65] \"KIAA1009\"      \"KIAA1244\"      \"KIAA1407\"      \"KIAA1432\"     \n",
       " [69] \"KIAA1598\"      \"KIAA1715\"      \"LPHN1\"         \"LPHN3\"        \n",
       " [73] \"LPPR3\"         \"MEF2BNB\"       \"MTERF\"         \"NAPRT1\"       \n",
       " [77] \"NARG2\"         \"NBPF24\"        \"PCNXL2\"        \"PCNXL3\"       \n",
       " [81] \"PGBD3\"         \"PIDD\"          \"PPAP2A\"        \"PTCHD2\"       \n",
       " [85] \"PTPLAD2\"       \"PVRL1\"         \"SCAND3\"        \"SEPN1\"        \n",
       " [89] \"SEPW1\"         \"SERINC4\"       \"SUV420H1\"      \"SUV420H2\"     \n",
       " [93] \"TOMM70A\"       \"VWA9\"          \"WAPAL\"         \"WDR16\"        \n",
       " [97] \"WDR52\"         \"WDR65\"         \"WDR96\"         \"WHSC1\"        \n",
       "[101] \"WIBG\"         "
      ]
     },
     "metadata": {},
     "output_type": "display_data"
    }
   ],
   "source": [
    "\n",
    "focal_genes = length_map$gene_name\n",
    "focal_genes[which(!focal_genes %in% gtex$Description)]\n"
   ]
  },
  {
   "cell_type": "code",
   "execution_count": 19,
   "metadata": {},
   "outputs": [],
   "source": [
    "# Select data that was in interactome genes\n",
    "gtex <- gtex[which(gtex$Description%in% focal_genes),c('Description','Heart...Atrial.Appendage',\n",
    "                                                               'Heart...Left.Ventricle','Artery...Aorta',\n",
    "                                                               'Artery...Coronary',\n",
    "                                                               'Brain...Amygdala','Brain...Cortex','Brain...Cerebellum','Brain...Hypothalamus','Bladder',\n",
    "                                                               'Breast...Mammary.Tissue','Colon...Sigmoid','Esophagus...Muscularis','Fallopian.Tube',\n",
    "                                                               'Adrenal.Gland','Kidney...Cortex','Liver','Lung','Pancreas','Prostate','Spleen',\n",
    "                                                               'Thyroid','Whole.Blood')]\n",
    "names(gtex) = c(\"Gene\",\"Adult Atrium\",\"Adult Left Ventricle\",\"Aortic Artery\",\"Coronary Artery\",\"Amygdala\",\n",
    "                  \"Cortex\",\"Cerebellum\",\n",
    "                  \"Hypothalamus\",\"Bladder\",\"Mammary Tissue\",\"Sigmoid Colon\",\"Espohagus Muscularis\",\"Fallopian Tube\",\n",
    "                  \"Adrenal Gland\",\"Kidney\",\"Liver\",\"Lung\",\"Pancreas\",\"Prostate\",\"Spleen\",\"Thyroid\",\"Whole Blood\")\n",
    "  \n",
    "row.names(gtex) <- gtex$Gene\n",
    "gtex <- gtex[,c(-1)]\n",
    "  \n",
    "gtex$heart_avg = rowMeans(gtex[,c(\"Adult Atrium\",\"Adult Left Ventricle\")])\n",
    "gtex$other_avg = rowMeans(gtex[,c(-1,-2,-23)])\n",
    "gtex$heart_specificity = gtex$heart_avg / rowSums(gtex[,c(-1,-2,-23)])\n",
    "length_map$specificity_score = gtex$heart_specificity[match(length_map$gene_name, row.names(gtex))]"
   ]
  },
  {
   "cell_type": "code",
   "execution_count": 20,
   "metadata": {},
   "outputs": [
    {
     "data": {
      "text/html": [
       "<table>\n",
       "<thead><tr><th scope=col>gene_name</th><th scope=col>length</th><th scope=col>natgen-lof_mutperkb</th><th scope=col>all-rare-lof_mutperkb</th><th scope=col>specificity_score</th></tr></thead>\n",
       "<tbody>\n",
       "\t<tr><td>9-Sep     </td><td>12817     </td><td>0.07802138</td><td>0.00000000</td><td>        NA</td></tr>\n",
       "\t<tr><td>A2M       </td><td> 6318     </td><td>0.31655587</td><td>0.31655587</td><td>0.01615005</td></tr>\n",
       "\t<tr><td>AAAS      </td><td> 4727     </td><td>0.84620267</td><td>0.63465200</td><td>0.02294493</td></tr>\n",
       "\t<tr><td>AACS      </td><td>16039     </td><td>0.12469605</td><td>0.06234803</td><td>0.02297194</td></tr>\n",
       "\t<tr><td>AAK1      </td><td>24843     </td><td>0.08050558</td><td>0.08050558</td><td>0.03164583</td></tr>\n",
       "\t<tr><td>AAMP      </td><td> 3140     </td><td>0.00000000</td><td>0.00000000</td><td>0.02383693</td></tr>\n",
       "</tbody>\n",
       "</table>\n"
      ],
      "text/latex": [
       "\\begin{tabular}{r|lllll}\n",
       " gene\\_name & length & natgen-lof\\_mutperkb & all-rare-lof\\_mutperkb & specificity\\_score\\\\\n",
       "\\hline\n",
       "\t 9-Sep      & 12817      & 0.07802138 & 0.00000000 &         NA\\\\\n",
       "\t A2M        &  6318      & 0.31655587 & 0.31655587 & 0.01615005\\\\\n",
       "\t AAAS       &  4727      & 0.84620267 & 0.63465200 & 0.02294493\\\\\n",
       "\t AACS       & 16039      & 0.12469605 & 0.06234803 & 0.02297194\\\\\n",
       "\t AAK1       & 24843      & 0.08050558 & 0.08050558 & 0.03164583\\\\\n",
       "\t AAMP       &  3140      & 0.00000000 & 0.00000000 & 0.02383693\\\\\n",
       "\\end{tabular}\n"
      ],
      "text/markdown": [
       "\n",
       "| gene_name | length | natgen-lof_mutperkb | all-rare-lof_mutperkb | specificity_score |\n",
       "|---|---|---|---|---|\n",
       "| 9-Sep      | 12817      | 0.07802138 | 0.00000000 |         NA |\n",
       "| A2M        |  6318      | 0.31655587 | 0.31655587 | 0.01615005 |\n",
       "| AAAS       |  4727      | 0.84620267 | 0.63465200 | 0.02294493 |\n",
       "| AACS       | 16039      | 0.12469605 | 0.06234803 | 0.02297194 |\n",
       "| AAK1       | 24843      | 0.08050558 | 0.08050558 | 0.03164583 |\n",
       "| AAMP       |  3140      | 0.00000000 | 0.00000000 | 0.02383693 |\n",
       "\n"
      ],
      "text/plain": [
       "  gene_name length natgen-lof_mutperkb all-rare-lof_mutperkb specificity_score\n",
       "1 9-Sep     12817  0.07802138          0.00000000                    NA       \n",
       "2 A2M        6318  0.31655587          0.31655587            0.01615005       \n",
       "3 AAAS       4727  0.84620267          0.63465200            0.02294493       \n",
       "4 AACS      16039  0.12469605          0.06234803            0.02297194       \n",
       "5 AAK1      24843  0.08050558          0.08050558            0.03164583       \n",
       "6 AAMP       3140  0.00000000          0.00000000            0.02383693       "
      ]
     },
     "metadata": {},
     "output_type": "display_data"
    }
   ],
   "source": [
    "head(length_map)"
   ]
  },
  {
   "cell_type": "code",
   "execution_count": 21,
   "metadata": {},
   "outputs": [],
   "source": [
    "write.csv(length_map, file = \"../intermediate/temp_characterization_data.csv\",\n",
    "         row.names=FALSE, quote=FALSE)"
   ]
  },
  {
   "cell_type": "code",
   "execution_count": null,
   "metadata": {},
   "outputs": [],
   "source": []
  }
 ],
 "metadata": {
  "kernelspec": {
   "display_name": "R",
   "language": "R",
   "name": "ir"
  },
  "language_info": {
   "codemirror_mode": "r",
   "file_extension": ".r",
   "mimetype": "text/x-r-source",
   "name": "R",
   "pygments_lexer": "r",
   "version": "3.6.1"
  }
 },
 "nbformat": 4,
 "nbformat_minor": 4
}
