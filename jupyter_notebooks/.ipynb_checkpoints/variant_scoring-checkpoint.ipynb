{
 "cells": [
  {
   "cell_type": "code",
   "execution_count": 1,
   "metadata": {},
   "outputs": [],
   "source": [
    "interactome = read.table('../intermediate/interactome_lists/GATA4-TBX5_genes.txt', stringsAsFactors=F)\n",
    "interactome_genes = interactome$V1"
   ]
  },
  {
   "cell_type": "markdown",
   "metadata": {},
   "source": [
    "## Load and format variants"
   ]
  },
  {
   "cell_type": "code",
   "execution_count": 2,
   "metadata": {},
   "outputs": [],
   "source": [
    "dnv_cases = read.csv(\"../data/variants/DNV_cases.csv\", stringsAsFactors=FALSE)\n",
    "dnv_ctrls = read.csv(\"../data/variants/DNV_ctrls.csv\", stringsAsFactors=FALSE)\n",
    "\n",
    "# separate synonymous and non-synonymous\n",
    "dnv_case_syn = dnv_cases[which(dnv_cases$Variant.Class == \"syn\"),]\n",
    "dnv_ctrl_syn = dnv_ctrls[which(dnv_ctrls$Variant.Class == \"syn\"),]\n",
    "dnv_cases = dnv_cases[which(!(dnv_cases$Variant.Class == \"syn\")),]\n",
    "dnv_ctrls = dnv_ctrls[which(!(dnv_ctrls$Variant.Class == \"syn\")),]\n",
    "\n",
    "inh_lof_cases = read.csv(\"../data/variants/LoF_cases.csv\", stringsAsFactors=FALSE)\n",
    "inh_lof_ctrls = read.csv(\"../data/variants/LoF_ctrls.csv\", stringsAsFactors=FALSE)"
   ]
  },
  {
   "cell_type": "code",
   "execution_count": 3,
   "metadata": {},
   "outputs": [],
   "source": [
    "# Format de novo variants\n",
    "cols <- c(\"Blinded.ID\", \"Cardiac.Category\", \"EM\", \"NDD\", \"CHR\", \"POS\", \n",
    "          \"REF\", \"ALT\", \"Gene\",\"Variant.Class\",\"AA.change\",\"HHE.Rank\")\n",
    "m_dnv = dnv_cases[,cols]\n",
    "\n",
    "# Format inherited LoF variants\n",
    "cols <- c(\"Blinded.ID\", \"CHR\", \"POS\", \"REF\", \"ALT\", \"Gene\",\"ExonicFunc.refGene\",\"AA.change\")\n",
    "m_lof = inh_lof_cases[,cols]\n",
    "m_lof$POS <- as.numeric(as.character(m_lof$POS))\n",
    "names(m_lof)[which(names(m_lof)==\"ExonicFunc.refGene\")] <- \"Variant.Class\"\n",
    "\n",
    "# Spike in reference variants\n",
    "spiked = read.csv(\"../data/variants/reference_variants.csv\", stringsAsFactors = F)\n",
    "names(spiked)[which(names(spiked)==\"ExonicFunc.refGene\")] <- \"Variant.Class\"\n",
    "cols <- c(\"Blinded.ID\", \"Cardiac.Category\", \"EM\", \"NDD\", \"CHR\", \"POS\", \"REF\", \"ALT\", \"Gene\",\n",
    "          \"Variant.Class\",\"AA.change\",\"HHE.Rank\")\n",
    "d_add = spiked[,cols]\n",
    "m_dnv = rbind(m_dnv, d_add)\n",
    "\n",
    "spiked[\"ProbandGT\"] = \"0/1\"\n",
    "spiked$Func = \"misD\"\n",
    "cols <- c(\"Blinded.ID\", \"CHR\", \"POS\", \"REF\", \"ALT\", \"Gene\",\"Variant.Class\",\"AA.change\")\n",
    "l_add = spiked[,cols]\n",
    "m_lof = rbind(m_lof, l_add)\n",
    "\n",
    "\n",
    "# Create a combined lof + dnv table\n",
    "m_lof$inh_type = \"lof\"\n",
    "m_dnv$inh_type = \"dnv\"\n",
    "cols = c(\"Blinded.ID\",\"CHR\",\"POS\",\"REF\",\"ALT\",\"Gene\",\"Variant.Class\",\"AA.change\",\"inh_type\")\n",
    "comb_muts = rbind(m_lof[,c(cols)], m_dnv[,c(cols)])\n",
    "comb_muts[which(comb_muts$Blinded.ID == \"OLIGO\"),\"inh_type\"] = \"lof\"\n",
    "\n",
    "# We focus mainly on de novo variants within interactome genes\n",
    "mut_table = m_dnv[which(m_dnv$Gene %in% interactome_genes | (m_dnv$Blinded.ID %in% c(\"GATA4\",\"OLIGO\",\"NKX25\"))),]"
   ]
  },
  {
   "cell_type": "markdown",
   "metadata": {},
   "source": [
    "## Tally DNV+rare loss-of-function mutations in each gene"
   ]
  },
  {
   "cell_type": "code",
   "execution_count": 4,
   "metadata": {},
   "outputs": [],
   "source": [
    "# Tally the number of DNV and inherited loss-of-function mutations per gene\n",
    "freq_table = as.data.frame(table(comb_muts$Gene), stringsAsFactors=F)"
   ]
  },
  {
   "cell_type": "markdown",
   "metadata": {},
   "source": [
    "## Mutations per kilobase"
   ]
  },
  {
   "cell_type": "code",
   "execution_count": 5,
   "metadata": {},
   "outputs": [],
   "source": [
    "exon_coords = read.table(\"../data/databases/gene_start_stop.txt\", sep = \"\\t\", header = TRUE, stringsAsFactors=F)\n",
    "exon_coords$CDS.Length = NULL\n",
    "exon_coords$geneLength = exon_coords$Gene.end..bp. - exon_coords$Gene.start..bp.\n",
    "exon_coords <- unique(exon_coords)\n",
    "\n",
    "freq_table$geneLength = exon_coords$geneLength[match(freq_table$Var1, exon_coords$Gene.name)]\n",
    "freq_table$mutperkb = (freq_table$Freq / freq_table$geneLength) * 1000\n",
    "\n",
    "mut_table$mutperkb = freq_table$mutperkb[match(mut_table$Gene, freq_table$Var1)]"
   ]
  },
  {
   "cell_type": "markdown",
   "metadata": {},
   "source": [
    "## Tissue-specific expression score"
   ]
  },
  {
   "cell_type": "code",
   "execution_count": 6,
   "metadata": {},
   "outputs": [],
   "source": [
    "gtex = read.table(\"../data/databases/GTEx_Analysis_2017-06-05_v8_RNASeQCv1.1.9_gene_median_tpm.gct.gz\",\n",
    "                  sep = \"\\t\", stringsAsFactors=F, skip=2, header=T)\n",
    "interactome_genes = c(interactome_genes, \"RFWD2\", \"TMEM55B\", \"MSH6\") # alias issue\n",
    "focal_genes = unique(c(interactome_genes, mut_table$Gene))"
   ]
  },
  {
   "cell_type": "code",
   "execution_count": 7,
   "metadata": {},
   "outputs": [],
   "source": [
    "gtex <- gtex[which(gtex$Description%in% focal_genes),c('Description','Heart...Atrial.Appendage',\n",
    "                                                       'Heart...Left.Ventricle','Artery...Aorta',\n",
    "                                                       'Artery...Coronary','Brain...Amygdala','Brain...Cortex',\n",
    "                                                       'Brain...Cerebellum','Brain...Hypothalamus','Bladder',\n",
    "                                                       'Breast...Mammary.Tissue','Colon...Sigmoid',\n",
    "                                                       'Esophagus...Muscularis','Fallopian.Tube',\n",
    "                                                       'Adrenal.Gland','Kidney...Cortex','Liver','Lung',\n",
    "                                                       'Pancreas','Prostate','Spleen','Thyroid','Whole.Blood')]\n",
    "names(gtex) = c(\"Gene\",\"Adult Atrium\",\"Adult Left Ventricle\",\"Aortic Artery\",\"Coronary Artery\",\"Amygdala\",\n",
    "                \"Cortex\",\"Cerebellum\",\"Hypothalamus\",\"Bladder\",\"Mammary Tissue\",\"Sigmoid Colon\",\n",
    "                \"Espohagus Muscularis\",\"Fallopian Tube\",\"Adrenal Gland\",\"Kidney\",\"Liver\",\"Lung\",\n",
    "                \"Pancreas\",\"Prostate\",\"Spleen\",\"Thyroid\",\"Whole Blood\")\n",
    "\n",
    "row.names(gtex) <- gtex$Gene\n",
    "gtex <- gtex[,c(-1)]"
   ]
  },
  {
   "cell_type": "code",
   "execution_count": 8,
   "metadata": {},
   "outputs": [],
   "source": [
    "gtex$heart_avg = rowMeans(gtex[,c(\"Adult Atrium\",\"Adult Left Ventricle\")])\n",
    "gtex$other_avg = rowMeans(gtex[,c(-1,-2,-23)])\n",
    "gtex$heart_specificity = gtex$heart_avg / rowSums(gtex[,c(-1,-2,-23)])\n",
    "mut_table$specificity_score = gtex$heart_specificity[match(mut_table$Gene, row.names(gtex))]"
   ]
  },
  {
   "cell_type": "markdown",
   "metadata": {},
   "source": [
    "## CADD scores and connectivity\n",
    "This was previously calculated in variant_comparison.ipynb"
   ]
  },
  {
   "cell_type": "code",
   "execution_count": 9,
   "metadata": {},
   "outputs": [],
   "source": [
    "variant_characteristics = read.table(\"../manuscript/tables/variant_characteristics.tsv\", sep=\"\\t\",\n",
    "                                    stringsAsFactors = FALSE, header = TRUE)\n",
    "names(variant_characteristics)[which(names(variant_characteristics)==\"CHROM\")] <- \"CHR\"\n",
    "\n",
    "# append data for reference variants\n",
    "ref_cadd = read.table('../data/cadd/cadd_reference_scores.tsv', sep=\"\\t\", \n",
    "                      stringsAsFactors = FALSE, header = FALSE)\n",
    "names(ref_cadd) <- c('CHR','POS','REF','ALT','CADD.score','PHRED.score')\n",
    "ref_cadd = merge(ref_cadd, spiked, all.y=TRUE)\n",
    "names(ref_cadd)[which(names(ref_cadd)==\"pLI.Score\")] <- \"pLI\"\n",
    "\n",
    "gene_lookup = unique(variant_characteristics[,c('Gene','corrected_dnv_node_degree',\n",
    "                                                'corrected_chd_node_degree','oe')])\n",
    "ref_cadd = merge(ref_cadd, gene_lookup, all.x = TRUE)\n",
    "\n",
    "# See variant_comparison.ipynb for this calculation\n",
    "ref_cadd[which(ref_cadd$Gene=='NKX2-5'),'corrected_dnv_node_degree'] = 0.3333333\n",
    "ref_cadd[which(ref_cadd$Gene=='NKX2-5'),'corrected_chd_node_degree'] = 1\n",
    "ref_cadd[which(ref_cadd$Gene %in% c('MYH7', 'MKL2')), 'corrected_chd_node_degree'] = 0\n",
    "ref_cadd[which(ref_cadd$Gene == \"MYH7\"), 'corrected_dnv_node_degree'] = 0.1052632\n",
    "ref_cadd[which(ref_cadd$Gene == \"MKL2\"), 'corrected_dnv_node_degree'] = 0\n",
    "\n",
    "ref_cadd[which(ref_cadd$Gene=='NKX2-5'),'oe'] = 0.95896\n",
    "ref_cadd[which(ref_cadd$Gene == \"MYH7\"), 'oe'] = 0.66794\n",
    "ref_cadd[which(ref_cadd$Gene == \"MKL2\"), 'oe'] = 0.93905"
   ]
  },
  {
   "cell_type": "code",
   "execution_count": 10,
   "metadata": {},
   "outputs": [],
   "source": [
    "cols = c('CHR','POS','REF','ALT','pLI','oe','corrected_dnv_node_degree','corrected_chd_node_degree','CADD.score')\n",
    "variant_characteristics = rbind(variant_characteristics[,c(cols)], ref_cadd[,c(cols)])\n",
    "gene_data = merge(mut_table, variant_characteristics[,c(cols)], by = c(\"CHR\",\"POS\",\"REF\",\"ALT\"), all.x=T)"
   ]
  },
  {
   "cell_type": "markdown",
   "metadata": {},
   "source": [
    "## Known protein domain"
   ]
  },
  {
   "cell_type": "code",
   "execution_count": 11,
   "metadata": {},
   "outputs": [],
   "source": [
    "# Determine if this occurs in a known protein domain\n",
    "###### OR is a lof variant - we expect these proteins to not do their job #######\n",
    "\n",
    "domains = read.csv(\"../data/databases/domain_annotations.csv\", stringsAsFactors = F)\n",
    "gene_data = merge(gene_data, domains[,c(\"CHR\",\"POS\",\"REF\",\"ALT\",\"Known.interaction\",\"NEARBY.VARIANTS\",\"BAIT\",\n",
    "                               \"Variant.protein.domain\",\"Protein.domains.affected\")], \n",
    "                by = c(\"CHR\",\"POS\",\"REF\",\"ALT\"), all.x = TRUE)\n",
    "gene_data$protein_domain_or_lof = 1\n",
    "neg_str = c(\"no specific domain\",\"non specific domain\",\"not known domain\",\"\")\n",
    "gene_data$protein_domain_or_lof[which(gene_data$Protein.domains.affected %in% neg_str)] <- 0.5\n",
    "gene_data$protein_domain_or_lof[which(gene_data$Variant.Class %in% c(\"non\",\"frameshift\",\"startloss\",\"splice\",\n",
    "                                                                   \"stoploss\"))] <- 1\n",
    "gd = gene_data"
   ]
  },
  {
   "cell_type": "markdown",
   "metadata": {},
   "source": [
    "## Proband-level data"
   ]
  },
  {
   "cell_type": "code",
   "execution_count": 12,
   "metadata": {},
   "outputs": [],
   "source": [
    "# Determine if that person has another mutation\n",
    "  #No known-mut or interactome = score 1\n",
    "  #LoF inherited interactor not know-mut = score 0.75\n",
    "  #DNV interactome not known mut mis = 0.75\n",
    "  #LoF inherited known-mut = score 0.5\n",
    "  #DNV interactome not known mut -LoF or misD = 0.5\n",
    "  #DNV known-mut mis = 0.25\n",
    "  #DNV known-mut LoF or misD = 0.1 (so we do not create 0 values)\n",
    "\n",
    "\n",
    "#### NOTE: This DOES NOT include whether the variant itself occurs in a known gene\n",
    "known = read.table(\"../data/databases/known_CHD_genes.txt\", stringsAsFactors = F)\n",
    "known_genes = known$V1\n",
    "\n",
    "unknown_interactors = interactome_genes[which(!interactome_genes %in% known_genes)]\n",
    "\n",
    "gd$no_known_muts = 1\n",
    "gd$known_dnv_gene_list = \"\"\n",
    "gd$known_lof_gene_list = \"\"\n",
    "gd$interactome_dnv_gene_list = \"\"\n",
    "gd$interactome_lof_gene_list = \"\"\n",
    "\n",
    "for (i in c(1:nrow(gd))){\n",
    "  \n",
    "  muts = comb_muts[which(comb_muts$Blinded.ID == gd$Blinded.ID[i]),]\n",
    "  muts = muts[which(!(muts$CHR == gd$CHR[i] & muts$POS == gd$POS[i])),] # don't include the variant itself\n",
    "  \n",
    "  if (any(muts$Gene %in% known_genes) | any(muts$Gene %in% unknown_interactors)){\n",
    "    \n",
    "    dnv_k = muts[which(muts$inh_type == \"dnv\" & muts$Gene %in% known_genes),]\n",
    "    lof_k = muts[which(muts$inh_type == \"lof\" & muts$Gene %in% known_genes),]\n",
    "    \n",
    "    dnv_i = muts[which(muts$inh_type == \"dnv\" & muts$Gene %in% unknown_interactors),]\n",
    "    lof_i = muts[which(muts$inh_type == \"lof\" & muts$Gene %in% unknown_interactors),]\n",
    "    \n",
    "    \n",
    "    if(nrow(dnv_k) >= 1){\n",
    "      if(any(muts$Func %in% c(\"misD\",\"frameshift\",\"stoploss\",\"startloss\",\"non\",\"splice\"))){\n",
    "        gd$no_known_muts[i] = 0.1\n",
    "      } else{\n",
    "        gd$no_known_muts[i] = 0.25\n",
    "      }\n",
    "      \n",
    "    }\n",
    "    \n",
    "    else if(nrow(dnv_i) >= 1){\n",
    "      if(any(muts$Func %in% c(\"misD\",\"frameshift\",\"stoploss\",\"startloss\",\"non\",\"splice\"))){\n",
    "        gd$no_known_muts[i] = 0.5\n",
    "      } else if (nrow(lof_k) >= 1){\n",
    "        gd$no_known_muts[i] = 0.5\n",
    "      } else{\n",
    "        gd$no_known_muts[i] = 0.75\n",
    "      }\n",
    "    }\n",
    "    \n",
    "    else if (nrow(lof_k) >= 1) {\n",
    "      gd$no_known_muts[i] = 0.5\n",
    "    }\n",
    "    \n",
    "    else if (nrow(lof_i) >= 1){\n",
    "      gd$no_known_muts[i] = 0.75\n",
    "    }\n",
    "    \n",
    "    else{\n",
    "      print(\"known gene weirdness\")\n",
    "    }\n",
    "    \n",
    "    gd$known_dnv_gene_list[i] = paste(dnv_k$Gene, collapse=\";\")\n",
    "    gd$known_lof_gene_list[i] = paste(lof_k$Gene, collapse=\";\")\n",
    "    gd$interactome_dnv_gene_list[i] = paste(dnv_i$Gene, collapse=\";\")\n",
    "    gd$interactome_lof_gene_list[i] = paste(lof_i$Gene, collapse=\";\")\n",
    "  }\n",
    "}"
   ]
  },
  {
   "cell_type": "code",
   "execution_count": 13,
   "metadata": {},
   "outputs": [],
   "source": [
    "# Determine if this person has other known interactome genes\n",
    "gd$interactome_genes_w_dnvs = \"\"\n",
    "gd$interactome_genes_w_lofs = \"\"\n",
    "for (i in c(1:nrow(gd))){\n",
    "  muts = comb_muts[which(comb_muts$Blinded.ID == gd$Blinded.ID[i]),]\n",
    "  muts = muts[which(!(muts$CHR == gd$CHR[i] & muts$POS == gd$POS[i])),] # don't include the variant itself\n",
    "  if (any(muts$Gene %in% interactome_genes)){\n",
    "    dnv_ = muts[which(muts$inh_type == \"dnv\" & muts$Gene %in% interactome_genes),]\n",
    "    lof_ = muts[which(muts$inh_type == \"lof\" & muts$Gene %in% interactome_genes),]\n",
    "    \n",
    "    gd$interactome_genes_w_dnvs[i] = paste(dnv_$Gene, collapse=\";\")\n",
    "    gd$interactome_genes_w_lofs[i] = paste(lof_$Gene, collapse=\";\")\n",
    "  }\n",
    "}"
   ]
  },
  {
   "cell_type": "code",
   "execution_count": 14,
   "metadata": {},
   "outputs": [],
   "source": [
    "# Column to state whether the gene the variant is in is known or not\n",
    "gd$known_gene = \"unknown\"\n",
    "gd$known_gene[which(gd$Gene %in% known_genes)] <- \"known\""
   ]
  },
  {
   "cell_type": "markdown",
   "metadata": {},
   "source": [
    "## Rank normalize and sum"
   ]
  },
  {
   "cell_type": "code",
   "execution_count": 15,
   "metadata": {},
   "outputs": [],
   "source": [
    "# Median-permute missing data\n",
    "medify <- function(dataframe, col_name){\n",
    "  med = median(as.numeric(dataframe[,col_name][!is.na(dataframe[,col_name])]))\n",
    "  dataframe[,col_name][which(is.na(dataframe[,col_name]))] <- med\n",
    "  return(dataframe)\n",
    "}\n",
    "\n",
    "gene_data = medify(gd, \"specificity_score\")\n",
    "gene_data = medify(gene_data, \"CADD.score\")"
   ]
  },
  {
   "cell_type": "code",
   "execution_count": 16,
   "metadata": {},
   "outputs": [],
   "source": [
    "# Create rank_cols for applicable columns: mutperkb, phyloP, specificity_score, CADD, pLI_gnomAD, oe\n",
    "rank_col <- function(dataframe, col_name_list){\n",
    "  for(col_name in col_name_list){\n",
    "      rank_col_name = paste0(col_name, \"_rank\")\n",
    "      if (col_name != \"oe\"){\n",
    "          dataframe[,rank_col_name] <- rank(dataframe[,col_name])\n",
    "      } else{\n",
    "          dataframe[,rank_col_name] <- rank(-dataframe[,col_name])\n",
    "      }\n",
    "  } \n",
    "    return(dataframe)\n",
    "}\n",
    "\n",
    "rank_data <- rank_col(gene_data, c(\"mutperkb\",\"specificity_score\",\"CADD.score\",\"corrected_chd_node_degree\",\n",
    "                                   \"corrected_dnv_node_degree\",\"pLI\",\"oe\"))\n",
    "\n",
    "rank_data$avg_gene_rank = rowMeans(rank_data[,c(\"mutperkb_rank\",\"specificity_score_rank\",\"oe_rank\",\n",
    "                                    \"corrected_chd_node_degree_rank\", \"corrected_dnv_node_degree_rank\",\n",
    "                                    \"pLI_rank\")])\n",
    "rank_data$avg_residue_rank = rank_data$CADD.score_rank\n",
    "rank_data$rank_sum =rowSums(rank_data[,c(\"avg_gene_rank\",\"avg_residue_rank\")])"
   ]
  },
  {
   "cell_type": "code",
   "execution_count": 17,
   "metadata": {},
   "outputs": [],
   "source": [
    "cols = c('CHR','POS','REF','ALT','Gene','known_gene','Variant.Class','AA.change','Blinded.ID',\n",
    "         'Cardiac.Category','NDD',\"CADD.score\",\"pLI\",\"HHE.Rank\",\"oe\",\"mutperkb\",\"specificity_score\", \n",
    "         \"corrected_chd_node_degree\",\"corrected_dnv_node_degree\",\n",
    "         \"no_known_muts\",\"known_dnv_gene_list\",\"known_lof_gene_list\",\"interactome_genes_w_dnvs\",\n",
    "         \"interactome_genes_w_lofs\",\"protein_domain_or_lof\",\"mutperkb_rank\",\"oe_rank\",\n",
    "         \"specificity_score_rank\",\"CADD.score_rank\",\"corrected_chd_node_degree_rank\",\n",
    "         \"corrected_dnv_node_degree_rank\",\"pLI_rank\",\"avg_gene_rank\",\"avg_residue_rank\",\"rank_sum\")\n",
    "\n",
    "gd <- rank_data[,c(cols)]\n",
    "f1 <- gd[order(-gd$rank_sum),]\n",
    "\n",
    "rank_data$binary_multiplied = rank_data$rank_sum * rank_data$no_known_muts * rank_data$protein_domain_or_lof\n",
    "gd <- rank_data[,c(cols,\"binary_multiplied\")]\n",
    "f2 <- gd[order(-gd$binary_multiplied),]\n",
    "\n",
    "\n",
    "# Save out\n",
    "write.csv(f1, \"../manuscript/tables/GATA4-TBX5_interactors_simple_rank_sum.csv\", quote=F, row.names = F)\n",
    "write.csv(f2,\"../manuscript/tables/GATA4-TBX5_interactors_binary_multiplied.csv\", quote=F, row.names = F)\n"
   ]
  },
  {
   "cell_type": "code",
   "execution_count": null,
   "metadata": {},
   "outputs": [],
   "source": []
  }
 ],
 "metadata": {
  "kernelspec": {
   "display_name": "R",
   "language": "R",
   "name": "ir"
  },
  "language_info": {
   "codemirror_mode": "r",
   "file_extension": ".r",
   "mimetype": "text/x-r-source",
   "name": "R",
   "pygments_lexer": "r",
   "version": "3.6.1"
  }
 },
 "nbformat": 4,
 "nbformat_minor": 4
}
