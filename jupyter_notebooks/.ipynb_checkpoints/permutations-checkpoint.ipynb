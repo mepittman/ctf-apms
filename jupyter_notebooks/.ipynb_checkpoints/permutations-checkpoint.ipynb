{
 "cells": [
  {
   "cell_type": "code",
   "execution_count": 1,
   "metadata": {},
   "outputs": [],
   "source": [
    "import os\n",
    "import sys\n",
    "import pickle\n",
    "import random\n",
    "import numpy as np\n",
    "from collections import defaultdict\n",
    "\n",
    "import matplotlib.pyplot as plt\n",
    "\n",
    "random.seed(42)\n",
    "\n",
    "import pandas as pd\n",
    "\n",
    "# Load in the protein-to-gene conversion table\n",
    "unimap = pd.read_csv(\"../data/databases/uniprot_to_gene.txt\", \n",
    "                     sep = \"\\t\", usecols=['UniProt','GeneSymbol'])\n",
    "\n",
    "n_perm = 10000"
   ]
  },
  {
   "cell_type": "code",
   "execution_count": 2,
   "metadata": {},
   "outputs": [],
   "source": [
    "def get_interactome(int_type):\n",
    "    gene_file = \"../intermediate/interactome_lists/{}_genes.txt\".format(int_type)\n",
    "    gene_list = []\n",
    "    \n",
    "    with open(gene_file) as f:\n",
    "        for line in f:\n",
    "            gene_list.append(line.strip())\n",
    "            \n",
    "    return gene_list"
   ]
  },
  {
   "cell_type": "code",
   "execution_count": 3,
   "metadata": {},
   "outputs": [],
   "source": [
    "# Random shuffle using numpy\n",
    "def np_random_shuffle(a):\n",
    "    \n",
    "    keys = list(a.keys())\n",
    "    np.random.shuffle(keys)\n",
    "    b = dict(zip(keys, a.values()))\n",
    "    return(b)\n",
    "\n",
    "# Scramble the IDs from the case and control dictionaries\n",
    "def scramble_ids(case_dict, ctrl_dict):\n",
    "    \n",
    "    combined_dict = {**case_dict, **ctrl_dict} \n",
    "    scrambled_dict = np_random_shuffle(combined_dict)\n",
    "    \n",
    "    case_ids = []\n",
    "    ctrl_ids = []\n",
    "    for key in combined_dict:\n",
    "        if key.startswith(\"1-\") or key.startswith(\"GT\"):\n",
    "            case_ids.append(key)\n",
    "        else:\n",
    "            ctrl_ids.append(key)\n",
    "    \n",
    "    scram_case = {k: scrambled_dict[k] for k in case_ids}\n",
    "    scram_ctrl = {k: scrambled_dict[k] for k in ctrl_ids}\n",
    "    \n",
    "    return(scram_case, scram_ctrl)\n",
    "\n",
    "    \n",
    "# Function to return n permuted odds ratios\n",
    "def perm_status(case_dict, ctrl_dict, gene_list, n_perm):\n",
    "    \n",
    "    perm_list = []\n",
    "    for i in range(0,n_perm):\n",
    "        scram_case, scram_ctrl = scramble_ids(case_dict, ctrl_dict)\n",
    "        perm_list.append(get_OR(scram_case, scram_ctrl, interactome))\n",
    "        \n",
    "    return(perm_list)\n",
    "    \n",
    "# Function to calculate p-value from list of permutation results\n",
    "def perm_res(perm_list, true_OR):\n",
    "    \n",
    "    nGreater = len([num for num in perm_list if num > true_OR])\n",
    "    pval = nGreater/len(perm_list)\n",
    "    minp = 1/len(perm_list)\n",
    "    \n",
    "    if nGreater == 0:\n",
    "        pval = \"<{}\".format(minp)\n",
    "        \n",
    "    return(pval)"
   ]
  },
  {
   "cell_type": "code",
   "execution_count": 4,
   "metadata": {},
   "outputs": [],
   "source": [
    "def get_dnv_dicts(mut_type, unknown=False):\n",
    "    \n",
    "    mut_str_dict = {'LoF':['non','frameshift','startloss','stoploss','loss of function'],\n",
    "                    'misD':['misD'], 'splice_':['splice'], 'mis_':['mis','misD'],\n",
    "                   'allmuts':['non','frameshift','startloss','stoploss','misD','splice','mis',\n",
    "                              'loss of function'],\n",
    "                   'allmis':['misD','mis']}\n",
    "    \n",
    "    CHD_proband_dict = defaultdict(list)\n",
    "    ASD_sibling_dict = defaultdict(list)\n",
    "    \n",
    "    if mut_type == \"syn\":\n",
    "        case_file = \"../data/variants/DNV_cases_syn.csv\"\n",
    "        ctrl_file = \"../data/variants/DNV_ctrls_syn.csv\"\n",
    "        \n",
    "        with open(case_file) as f:\n",
    "            first_line = f.readline()\n",
    "            gene_idx = first_line.split(',').index('Gene')\n",
    "            for line in f:\n",
    "                line_array = line.split(',')\n",
    "                \n",
    "                if unknown==True:\n",
    "                    if line_array[gene_idx] in known_genes:\n",
    "                        continue\n",
    "\n",
    "                CHD_proband_dict[line_array[0]].append(line_array[gene_idx])\n",
    "\n",
    "        with open(ctrl_file) as f:\n",
    "            first_line = f.readline()\n",
    "            gene_idx = first_line.split(',').index('Gene')\n",
    "            for line in f:\n",
    "                line_array = line.split(',')\n",
    "                \n",
    "                if unknown==True:\n",
    "                    if line_array[gene_idx] in known_genes:\n",
    "                        continue\n",
    "\n",
    "                ASD_sibling_dict[line_array[0]].append(line_array[gene_idx])\n",
    "                    \n",
    "    else:\n",
    "        case_file = \"../data/variants/DNV_cases_nonsyn.csv\"\n",
    "        ctrl_file = \"../data/variants/DNV_ctrls_nonsyn.csv\"\n",
    "\n",
    "        with open(case_file) as f:\n",
    "            first_line = f.readline()\n",
    "            gene_idx = first_line.split(',').index('Gene')\n",
    "            class_idx = first_line.split(',').index('Variant Class')\n",
    "            \n",
    "            for line in f:\n",
    "                line_array = line.split(',')\n",
    "                \n",
    "                if unknown==True:\n",
    "                    if line_array[gene_idx] in known_genes:\n",
    "                        continue\n",
    "\n",
    "                if line_array[class_idx] in mut_str_dict[mut_type]:\n",
    "                    CHD_proband_dict[line_array[0]].append(line_array[gene_idx])\n",
    "\n",
    "        with open(ctrl_file) as f:\n",
    "            first_line = f.readline()\n",
    "            gene_idx = first_line.split(',').index('Gene')\n",
    "            class_idx = first_line.split(',').index('Variant Class')\n",
    "            \n",
    "            for line in f:\n",
    "                line_array = line.split(',')\n",
    "                \n",
    "                if unknown==True:\n",
    "                    if line_array[gene_idx] in known_genes:\n",
    "                        continue\n",
    "\n",
    "                if line_array[class_idx] in mut_str_dict[mut_type]:\n",
    "                    ASD_sibling_dict[line_array[0]].append(line_array[gene_idx])\n",
    "\n",
    "    return CHD_proband_dict, ASD_sibling_dict"
   ]
  },
  {
   "cell_type": "code",
   "execution_count": 5,
   "metadata": {},
   "outputs": [],
   "source": [
    "# Functions to calculate odds ratio\n",
    "def get_OR(case_dict, ctrl_dict, gene_list, truth = False):\n",
    "    \n",
    "    case_ct, case_non_ct = get_ctable(case_dict, gene_list)\n",
    "    ctrl_ct, ctrl_non_ct = get_ctable(ctrl_dict, gene_list)\n",
    "                \n",
    "    # Add pseudocount if any values are equal to zero\n",
    "    if 0 in [case_ct, case_non_ct, ctrl_ct, ctrl_non_ct]:\n",
    "        case_ct+=0.5; case_non_ct+=0.5; ctrl_ct+=0.5; ctrl_non_ct+=0.5;\n",
    "        \n",
    "    # Calculate odds ratio\n",
    "    odds = (case_ct * ctrl_non_ct) / (ctrl_ct * case_non_ct)\n",
    "        \n",
    "    # Print contingency table, if it's the true odds ratio\n",
    "    if truth == True:\n",
    "        print(\"Case interactome muts: {}\".format(case_ct))\n",
    "        print(\"Case non-interactome muts: {}\".format(case_non_ct))\n",
    "        print(\"Ctrl interactome muts: {}\".format(ctrl_ct))\n",
    "        print(\"Ctrl non-interactome muts: {}\".format(ctrl_non_ct))\n",
    "        print(\"Odds ratio: {}\".format(odds))\n",
    "        \n",
    "    return(odds)\n",
    "\n",
    "# Function to iterate through dictionary, returning contingency table\n",
    "def get_ctable(dictionary, gene_list):\n",
    "    yes_ct = 0; no_ct = 0\n",
    "    \n",
    "    # Create contingency table - get yes and no values\n",
    "    for indi in dictionary:\n",
    "        \n",
    "        for genes in dictionary[indi]:\n",
    "\n",
    "            if (genes in gene_list):\n",
    "                yes_ct += 1\n",
    "            else:\n",
    "                no_ct += 1\n",
    "                \n",
    "    return(yes_ct, no_ct)"
   ]
  },
  {
   "cell_type": "code",
   "execution_count": 6,
   "metadata": {},
   "outputs": [],
   "source": [
    "# save out figure and text file\n",
    "def permutation_visualization(perm_list, OR, mut_type):\n",
    "    \n",
    "    pval = perm_res(perm_list, OR)\n",
    "    print(\"P-value: \", pval)\n",
    "    mut_str = mut_type.split(\"_\")[0]\n",
    "    \n",
    "    # Plot - original\n",
    "    plt.clf()\n",
    "    plt.hist(perm_list)\n",
    "    plt.suptitle('{} mutations'.format(mut_str), fontsize=18)\n",
    "    plt.figtext(0.99, 0.01, 'p-value = {}'.format(pval), horizontalalignment='right')\n",
    "    plt.xlabel('Odds Ratios', fontsize=16)\n",
    "    plt.ylabel('Frequency', fontsize=16)\n",
    "    ax = plt.axvline(OR, color='red', linewidth=2)\n",
    "    plt.show()"
   ]
  },
  {
   "cell_type": "code",
   "execution_count": 7,
   "metadata": {},
   "outputs": [],
   "source": [
    "# Known CHD-associated genes\n",
    "fname = \"../data/databases/known_CHD_genes.txt\"\n",
    "known_genes = []\n",
    "with open(fname) as f:\n",
    "    for line in f:\n",
    "        known_genes.append(line.strip())"
   ]
  },
  {
   "cell_type": "code",
   "execution_count": 8,
   "metadata": {},
   "outputs": [
    {
     "name": "stdout",
     "output_type": "stream",
     "text": [
      "205\n",
      "syn\n",
      "Case interactome muts: 6\n",
      "Case non-interactome muts: 695\n",
      "Ctrl interactome muts: 10\n",
      "Ctrl non-interactome muts: 474\n",
      "Odds ratio: 0.4092086330935252\n",
      "Normalized Odds Ratio:  1.0\n",
      "allmuts\n",
      "Case interactome muts: 60\n",
      "Case non-interactome muts: 2229\n",
      "Ctrl interactome muts: 15\n",
      "Ctrl non-interactome muts: 1331\n",
      "Odds ratio: 2.388515029161059\n",
      "Normalized Odds Ratio:  5.836912606423825\n",
      "Adjusted P-value:  <0.0001\n",
      "P-value:  <0.0001\n"
     ]
    },
    {
     "data": {
      "image/png": "[encoded data removed]",
      "text/plain": [
       "<Figure size 432x288 with 1 Axes>"
      ]
     },
     "metadata": {
      "needs_background": "light"
     },
     "output_type": "display_data"
    },
    {
     "name": "stdout",
     "output_type": "stream",
     "text": [
      "205\n",
      "syn\n",
      "Case interactome muts: 6\n",
      "Case non-interactome muts: 675\n",
      "Ctrl interactome muts: 9\n",
      "Ctrl non-interactome muts: 467\n",
      "Odds ratio: 0.46123456790123457\n",
      "Normalized Odds Ratio:  1.0\n",
      "allmuts\n",
      "Case interactome muts: 34\n",
      "Case non-interactome muts: 2101\n",
      "Ctrl interactome muts: 15\n",
      "Ctrl non-interactome muts: 1302\n",
      "Odds ratio: 1.4046644455021418\n",
      "Normalized Odds Ratio:  3.045444863106892\n",
      "Adjusted P-value:  0.0006\n",
      "P-value:  0.0006\n"
     ]
    },
    {
     "data": {
      "image/png": "[encoded data removed]",
      "text/plain": [
       "<Figure size 432x288 with 1 Axes>"
      ]
     },
     "metadata": {
      "needs_background": "light"
     },
     "output_type": "display_data"
    },
    {
     "name": "stdout",
     "output_type": "stream",
     "text": [
      "64\n",
      "syn\n",
      "Case interactome muts: 4\n",
      "Case non-interactome muts: 697\n",
      "Ctrl interactome muts: 3\n",
      "Ctrl non-interactome muts: 481\n",
      "Odds ratio: 0.9201339072214252\n",
      "Normalized Odds Ratio:  1.0\n",
      "allmuts\n",
      "Case interactome muts: 16\n",
      "Case non-interactome muts: 2273\n",
      "Ctrl interactome muts: 2\n",
      "Ctrl non-interactome muts: 1344\n",
      "Odds ratio: 4.730312362516498\n",
      "Normalized Odds Ratio:  5.140895608119541\n",
      "Adjusted P-value:  0.0039\n",
      "P-value:  0.0039\n"
     ]
    },
    {
     "data": {
      "image/png": "[encoded data removed]",
      "text/plain": [
       "<Figure size 432x288 with 1 Axes>"
      ]
     },
     "metadata": {
      "needs_background": "light"
     },
     "output_type": "display_data"
    },
    {
     "name": "stdout",
     "output_type": "stream",
     "text": [
      "64\n",
      "syn\n",
      "Case interactome muts: 4\n",
      "Case non-interactome muts: 677\n",
      "Ctrl interactome muts: 3\n",
      "Ctrl non-interactome muts: 473\n",
      "Odds ratio: 0.931560807483998\n",
      "Normalized Odds Ratio:  0.9999999999999999\n",
      "allmuts\n",
      "Case interactome muts: 8\n",
      "Case non-interactome muts: 2127\n",
      "Ctrl interactome muts: 2\n",
      "Ctrl non-interactome muts: 1315\n",
      "Odds ratio: 2.4729666196520923\n",
      "Normalized Odds Ratio:  2.6546486281783293\n",
      "Adjusted P-value:  0.077\n",
      "P-value:  0.077\n"
     ]
    },
    {
     "data": {
      "image/png": "[encoded data removed]",
      "text/plain": [
       "<Figure size 432x288 with 1 Axes>"
      ]
     },
     "metadata": {
      "needs_background": "light"
     },
     "output_type": "display_data"
    },
    {
     "name": "stdout",
     "output_type": "stream",
     "text": [
      "259\n",
      "syn\n",
      "Case interactome muts: 10\n",
      "Case non-interactome muts: 691\n",
      "Ctrl interactome muts: 12\n",
      "Ctrl non-interactome muts: 472\n",
      "Odds ratio: 0.5692233478051134\n",
      "Normalized Odds Ratio:  1.0\n",
      "allmuts\n",
      "Case interactome muts: 74\n",
      "Case non-interactome muts: 2215\n",
      "Ctrl interactome muts: 17\n",
      "Ctrl non-interactome muts: 1329\n",
      "Odds ratio: 2.611764705882353\n",
      "Normalized Odds Ratio:  4.588295114656032\n",
      "Adjusted P-value:  <0.0001\n",
      "P-value:  <0.0001\n"
     ]
    },
    {
     "data": {
      "image/png": "[encoded data removed]",
      "text/plain": [
       "<Figure size 432x288 with 1 Axes>"
      ]
     },
     "metadata": {
      "needs_background": "light"
     },
     "output_type": "display_data"
    },
    {
     "name": "stdout",
     "output_type": "stream",
     "text": [
      "259\n",
      "syn\n",
      "Case interactome muts: 10\n",
      "Case non-interactome muts: 671\n",
      "Ctrl interactome muts: 11\n",
      "Ctrl non-interactome muts: 465\n",
      "Odds ratio: 0.6299959355100935\n",
      "Normalized Odds Ratio:  1.0\n",
      "allmuts\n",
      "Case interactome muts: 40\n",
      "Case non-interactome muts: 2095\n",
      "Ctrl interactome muts: 17\n",
      "Ctrl non-interactome muts: 1300\n",
      "Odds ratio: 1.4600589639196968\n",
      "Normalized Odds Ratio:  2.317568862944362\n",
      "Adjusted P-value:  0.0034\n",
      "P-value:  0.0034\n"
     ]
    },
    {
     "data": {
      "image/png": "[encoded data removed]",
      "text/plain": [
       "<Figure size 432x288 with 1 Axes>"
      ]
     },
     "metadata": {
      "needs_background": "light"
     },
     "output_type": "display_data"
    },
    {
     "name": "stdout",
     "output_type": "stream",
     "text": [
      "142\n",
      "syn\n",
      "Case interactome muts: 6\n",
      "Case non-interactome muts: 695\n",
      "Ctrl interactome muts: 4\n",
      "Ctrl non-interactome muts: 480\n",
      "Odds ratio: 1.0359712230215827\n",
      "Normalized Odds Ratio:  1.0\n",
      "allmuts\n",
      "Case interactome muts: 28\n",
      "Case non-interactome muts: 2261\n",
      "Ctrl interactome muts: 11\n",
      "Ctrl non-interactome muts: 1335\n",
      "Odds ratio: 1.50295524908528\n",
      "Normalized Odds Ratio:  1.4507693029364856\n",
      "Adjusted P-value:  0.1442\n",
      "P-value:  0.1442\n"
     ]
    },
    {
     "data": {
      "image/png": "[encoded data removed]",
      "text/plain": [
       "<Figure size 432x288 with 1 Axes>"
      ]
     },
     "metadata": {
      "needs_background": "light"
     },
     "output_type": "display_data"
    },
    {
     "name": "stdout",
     "output_type": "stream",
     "text": [
      "142\n",
      "syn\n",
      "Case interactome muts: 6\n",
      "Case non-interactome muts: 675\n",
      "Ctrl interactome muts: 4\n",
      "Ctrl non-interactome muts: 472\n",
      "Odds ratio: 1.048888888888889\n",
      "Normalized Odds Ratio:  1.0\n",
      "allmuts\n",
      "Case interactome muts: 22\n",
      "Case non-interactome muts: 2113\n",
      "Ctrl interactome muts: 11\n",
      "Ctrl non-interactome muts: 1306\n",
      "Odds ratio: 1.2361571225745385\n",
      "Normalized Odds Ratio:  1.1785396295731827\n",
      "Adjusted P-value:  0.3453\n",
      "P-value:  0.3453\n"
     ]
    },
    {
     "data": {
      "image/png": "[encoded data removed]",
      "text/plain": [
       "<Figure size 432x288 with 1 Axes>"
      ]
     },
     "metadata": {
      "needs_background": "light"
     },
     "output_type": "display_data"
    },
    {
     "name": "stdout",
     "output_type": "stream",
     "text": [
      "90\n",
      "syn\n",
      "Case interactome muts: 3\n",
      "Case non-interactome muts: 698\n",
      "Ctrl interactome muts: 1\n",
      "Ctrl non-interactome muts: 483\n",
      "Odds ratio: 2.0759312320916905\n",
      "Normalized Odds Ratio:  1.0\n",
      "allmuts\n",
      "Case interactome muts: 21\n",
      "Case non-interactome muts: 2268\n",
      "Ctrl interactome muts: 5\n",
      "Ctrl non-interactome muts: 1341\n",
      "Odds ratio: 2.4833333333333334\n",
      "Normalized Odds Ratio:  1.1962502875546355\n",
      "Adjusted P-value:  0.3047\n",
      "P-value:  0.3047\n"
     ]
    },
    {
     "data": {
      "image/png": "[encoded data removed]",
      "text/plain": [
       "<Figure size 432x288 with 1 Axes>"
      ]
     },
     "metadata": {
      "needs_background": "light"
     },
     "output_type": "display_data"
    },
    {
     "name": "stdout",
     "output_type": "stream",
     "text": [
      "90\n",
      "syn\n",
      "Case interactome muts: 3\n",
      "Case non-interactome muts: 678\n",
      "Ctrl interactome muts: 1\n",
      "Ctrl non-interactome muts: 475\n",
      "Odds ratio: 2.101769911504425\n",
      "Normalized Odds Ratio:  1.0\n",
      "allmuts\n",
      "Case interactome muts: 16\n",
      "Case non-interactome muts: 2119\n",
      "Ctrl interactome muts: 5\n",
      "Ctrl non-interactome muts: 1312\n",
      "Odds ratio: 1.981311939594148\n",
      "Normalized Odds Ratio:  0.9426873649437421\n",
      "Adjusted P-value:  0.5985\n",
      "P-value:  0.5985\n"
     ]
    },
    {
     "data": {
      "image/png": "[encoded data removed]",
      "text/plain": [
       "<Figure size 432x288 with 1 Axes>"
      ]
     },
     "metadata": {
      "needs_background": "light"
     },
     "output_type": "display_data"
    },
    {
     "name": "stdout",
     "output_type": "stream",
     "text": [
      "184\n",
      "syn\n",
      "Case interactome muts: 7\n",
      "Case non-interactome muts: 694\n",
      "Ctrl interactome muts: 5\n",
      "Ctrl non-interactome muts: 479\n",
      "Odds ratio: 0.9662824207492795\n",
      "Normalized Odds Ratio:  1.0\n",
      "allmuts\n",
      "Case interactome muts: 38\n",
      "Case non-interactome muts: 2251\n",
      "Ctrl interactome muts: 15\n",
      "Ctrl non-interactome muts: 1331\n",
      "Odds ratio: 1.4979416555604916\n",
      "Normalized Odds Ratio:  1.5502110184297364\n",
      "Adjusted P-value:  0.0726\n",
      "P-value:  0.0726\n"
     ]
    },
    {
     "data": {
      "image/png": "[encoded data removed]",
      "text/plain": [
       "<Figure size 432x288 with 1 Axes>"
      ]
     },
     "metadata": {
      "needs_background": "light"
     },
     "output_type": "display_data"
    },
    {
     "name": "stdout",
     "output_type": "stream",
     "text": [
      "184\n",
      "syn\n",
      "Case interactome muts: 7\n",
      "Case non-interactome muts: 674\n",
      "Ctrl interactome muts: 5\n",
      "Ctrl non-interactome muts: 471\n",
      "Odds ratio: 0.9783382789317507\n",
      "Normalized Odds Ratio:  1.0\n",
      "allmuts\n",
      "Case interactome muts: 32\n",
      "Case non-interactome muts: 2103\n",
      "Ctrl interactome muts: 15\n",
      "Ctrl non-interactome muts: 1302\n",
      "Odds ratio: 1.3207798383262006\n",
      "Normalized Odds Ratio:  1.350023674600939\n",
      "Adjusted P-value:  0.1636\n",
      "P-value:  0.1636\n"
     ]
    },
    {
     "data": {
      "image/png": "[encoded data removed]",
      "text/plain": [
       "<Figure size 432x288 with 1 Axes>"
      ]
     },
     "metadata": {
      "needs_background": "light"
     },
     "output_type": "display_data"
    }
   ],
   "source": [
    "results_list = []\n",
    "\n",
    "for int_type in [\"GATA4\",\"TBX5\",\"GATA4-TBX5\",\"HEK-GATA4\",\"HEK-TBX5\",\"HEKGATA4-HEKTBX5\"]:\n",
    "    \n",
    "    for known_status in [\"allGenes\",\"unknownGenes\"]:\n",
    "\n",
    "        interactome = get_interactome(int_type)\n",
    "        print(len(interactome))\n",
    "\n",
    "        # Get OR correction figure\n",
    "        mut_type = \"syn\"\n",
    "        print(mut_type)\n",
    "\n",
    "        # Reduce dictionaries to desired MAF cutoff\n",
    "        if known_status == \"allGenes\":\n",
    "            probands, siblings = get_dnv_dicts(mut_type)\n",
    "        else:\n",
    "            probands, siblings = get_dnv_dicts(mut_type, True)\n",
    "\n",
    "\n",
    "        # Get true odds ratio\n",
    "        original_OR = get_OR(probands, siblings, interactome, truth=True)\n",
    "\n",
    "        # Find correction\n",
    "        correction_val = 1/original_OR\n",
    "\n",
    "        # Run permutations, correct values with or_correction\n",
    "        perm_list = perm_status(probands,siblings,interactome,n_perm)\n",
    "        normalized_OR = original_OR * correction_val\n",
    "        print(\"Normalized Odds Ratio: \", normalized_OR)\n",
    "\n",
    "        pval = perm_res(perm_list, original_OR)\n",
    "        keystr = \"{}_{}_{}_original_denovo\".format(int_type, mut_type, known_status)\n",
    "        results_list.append([keystr, original_OR, pval])\n",
    "\n",
    "        pval = perm_res(perm_list, normalized_OR)\n",
    "        keystr = \"{}_{}_{}_syn-corrected_denovo\".format(int_type, mut_type, known_status)\n",
    "        results_list.append([keystr, normalized_OR, pval])\n",
    "\n",
    "\n",
    "        # Print pvalues, save perm_lists for different stratifications of LoF minor allele frequency (MAF)\n",
    "        for mut_type in ['allmuts']:\n",
    "            print(mut_type)\n",
    "\n",
    "            # Reduce dictionaries to desired MAF cutoff\n",
    "            if known_status == \"allGenes\":\n",
    "                probands, siblings = get_dnv_dicts(mut_type)\n",
    "            else:\n",
    "                probands, siblings = get_dnv_dicts(mut_type, True)\n",
    "\n",
    "            # Get true odds ratio\n",
    "            original_OR = get_OR(probands, siblings, interactome, truth=True)\n",
    "\n",
    "            # Get 1000 permutations and read out results\n",
    "            perm_list = perm_status(probands,siblings,interactome,n_perm)\n",
    "            normalized_OR = original_OR * correction_val\n",
    "            print(\"Normalized Odds Ratio: \", normalized_OR)\n",
    "\n",
    "            pval = perm_res(perm_list, original_OR)\n",
    "            keystr = \"{}_nonsyn_{}_original_denovo\".format(int_type, known_status)\n",
    "            results_list.append([keystr, original_OR, pval])\n",
    "\n",
    "            pval = perm_res(perm_list, normalized_OR)\n",
    "            print(\"Adjusted P-value: \", pval)\n",
    "            keystr = \"{}_nonsyn_{}_syn-corrected_denovo\".format(int_type, known_status)\n",
    "            results_list.append([keystr, normalized_OR, pval])\n",
    "            \n",
    "            permutation_visualization(perm_list, normalized_OR, mut_type)\n",
    "\n",
    "        "
   ]
  },
  {
   "cell_type": "code",
   "execution_count": 9,
   "metadata": {},
   "outputs": [],
   "source": [
    "def get_lof_dicts(mut_type = \"lof\", unknown_only = False):\n",
    "    \n",
    "    print(mut_type)\n",
    "\n",
    "    case_file = \"../data/variants/LoF_cases.csv\"\n",
    "    ctrl_file = \"../data/variants/LoF_ctrls.csv\"\n",
    "\n",
    "    CHD_proband_dict = get_id_dict(case_file, unknown_only = unknown_only)\n",
    "    ASD_sibling_dict = get_id_dict(ctrl_file, unknown_only = unknown_only)\n",
    " \n",
    "    return CHD_proband_dict, ASD_sibling_dict\n",
    "\n",
    "def get_id_dict(filename, unknown_only = False):\n",
    "    \n",
    "    id_dict = defaultdict(list)\n",
    "    with open(filename) as f:\n",
    "        \n",
    "        first_line = f.readline().strip().split(',')\n",
    "        gene_idx = next(x for x,val in enumerate(first_line) if val == \"Gene\")\n",
    "        class_idx = next(x for x,val in enumerate(first_line) if val in ['Variant.Class','Variant_Class',\n",
    "                                                                         'Variant Class','ExonicFunc.refGene'])\n",
    "        next(f)\n",
    "        \n",
    "        for line in f:\n",
    "            line_array = line.split(',')\n",
    "            \n",
    "            # Ignore if it's a known gene and we're ignoring them\n",
    "            if unknown_only==True:\n",
    "                if line_array[gene_idx] in known_genes:\n",
    "                    continue\n",
    "            # Only save to dictionary if it's in the type of variants we're analyzing\n",
    "            id_dict[line_array[0]].append(line_array[gene_idx])\n",
    "                \n",
    "    return id_dict"
   ]
  },
  {
   "cell_type": "code",
   "execution_count": null,
   "metadata": {},
   "outputs": [
    {
     "name": "stdout",
     "output_type": "stream",
     "text": [
      "205\n",
      "lof\n",
      "Case interactome muts: 74\n",
      "Case non-interactome muts: 12257\n",
      "Ctrl interactome muts: 75\n",
      "Ctrl non-interactome muts: 13194\n",
      "Odds ratio: 1.0620934975932121\n",
      "Odds Ratio:  1.0620934975932121\n"
     ]
    }
   ],
   "source": [
    "for int_type in [\"GATA4\",\"TBX5\",\"GATA4-TBX5\",\"HEK-GATA4\",\"HEK-TBX5\",\"HEKGATA4-HEKTBX5\"]:\n",
    "    \n",
    "    interactome = get_interactome(int_type)\n",
    "    print(len(interactome))\n",
    "    \n",
    "    for known_status in [\"allGenes\",\"unknownGenes\"]:\n",
    "        \n",
    "        ### LOF \n",
    "        mut_type = \"lof\"\n",
    "        if known_status == \"allGenes\":\n",
    "            probands, siblings = get_lof_dicts(mut_type)\n",
    "        else:\n",
    "            probands, siblings = get_lof_dicts(mut_type, True)\n",
    "            \n",
    "        # Get true odds ratio\n",
    "        OR = get_OR(probands, siblings, interactome, truth=True)\n",
    "        print(\"Odds Ratio: \", OR)\n",
    "        \n",
    "        # Get 1000 permutations and read out results\n",
    "        perm_list = perm_status(probands,siblings,interactome,n_perm)\n",
    "\n",
    "        pval = perm_res(perm_list, OR)\n",
    "        print(\"P-value: \", pval)\n",
    "        keystr = \"inh-{}_nonsyn_{}_original_denovo\".format(int_type, known_status)\n",
    "        results_list.append([keystr, OR, pval])\n",
    "        \n",
    "        permutation_visualization(perm_list, OR, mut_type)\n",
    "        "
   ]
  },
  {
   "cell_type": "code",
   "execution_count": null,
   "metadata": {},
   "outputs": [],
   "source": [
    "combined = pd.DataFrame(results_list)\n",
    "combined.columns = ['permutation','OR','PVAL']\n",
    "combined[['Interactome','MutationType','GeneList','ORType','Inheritance']] = combined['permutation'].str.split(\"_\",expand=True) \n",
    "combined.head()\n"
   ]
  },
  {
   "cell_type": "code",
   "execution_count": null,
   "metadata": {},
   "outputs": [],
   "source": [
    "# Separate by distinct tests\n",
    "\n",
    "known_CP_keep = ['GATA4_inh-lof_allGenes_original_inherited','GATA4_nonsyn_allGenes_syn-corrected_denovo',\n",
    "                 'TBX5_inh-lof_allGenes_original_inherited','TBX5_nonsyn_allGenes_syn-corrected_denovo']\n",
    "\n",
    "known_HEK_keep = ['HEK-GATA4_inh-lof_allGenes_original_inherited','HEK-GATA4_nonsyn_allGenes_syn-corrected_denovo',\n",
    "                  'HEK-TBX5_inh-lof_allGenes_original_inherited','HEK-TBX5_nonsyn_allGenes_syn-corrected_denovo']\n",
    "\n",
    "unknown_CP_keep =['GATA4_inh-lof_unknownGenes_original_inherited','GATA4_nonsyn_unknownGenes_syn-corrected_denovo',\n",
    "                  'TBX5_inh-lof_unknownGenes_original_inherited','TBX5_nonsyn_unknownGenes_syn-corrected_denovo']\n",
    "\n",
    "unknown_HEK_keep = ['HEK-GATA4_inh-lof_unknownGenes_original_inherited','HEK-GATA4_nonsyn_unknownGenes_syn-corrected_denovo', \n",
    "                    'HEK-TBX5_inh-lof_unknownGenes_original_inherited','HEK-TBX5_nonsyn_unknownGenes_syn-corrected_denovo']\n",
    "\n"
   ]
  },
  {
   "cell_type": "code",
   "execution_count": null,
   "metadata": {},
   "outputs": [],
   "source": [
    "df_list = []\n",
    "from statsmodels.stats.multitest import multipletests\n",
    "\n",
    "for keep in [known_CP_keep, known_HEK_keep, unknown_CP_keep, unknown_HEK_keep]:\n",
    "    print(keep)\n",
    "    r = (combined.loc[combined['permutation'].isin(keep)])\n",
    "    print(r)\n",
    "    r['PVAL'] = r['PVAL'].replace('<0.0001','0.00009')\n",
    "    r['BH-corrected PVAL'] = multipletests(r['PVAL'].astype(float),method='fdr_bh')[1]\n",
    "    df_list.append(r)\n",
    "    \n",
    "c=pd.concat(df_list)\n",
    "c.head()"
   ]
  },
  {
   "cell_type": "code",
   "execution_count": null,
   "metadata": {},
   "outputs": [],
   "source": [
    "c.to_csv(\"../manuscript/tables/permutation_results.csv\", index=False)"
   ]
  },
  {
   "cell_type": "code",
   "execution_count": null,
   "metadata": {},
   "outputs": [],
   "source": [
    "# Function to contingency table counts\n",
    "def get_counts(case_dict, ctrl_dict, gene_list, truth = False):\n",
    "    \n",
    "    case_ct, case_non_ct = get_ctable(case_dict, gene_list)\n",
    "    ctrl_ct, ctrl_non_ct = get_ctable(ctrl_dict, gene_list)\n",
    "                \n",
    "    # Add pseudocount if any values are equal to zero\n",
    "    if 0 in [case_ct, case_non_ct, ctrl_ct, ctrl_non_ct]:\n",
    "        case_ct+=0.5; case_non_ct+=0.5; ctrl_ct+=0.5; ctrl_non_ct+=0.5;\n",
    "        \n",
    "    # Calculate odds ratio\n",
    "    odds = (case_ct * ctrl_non_ct) / (ctrl_ct * case_non_ct)\n",
    "        \n",
    "    # Print contingency table, if it's the true odds ratio\n",
    "    if truth == True:\n",
    "        print(\"Case interactome muts: {}\".format(case_ct))\n",
    "        print(\"Case non-interactome muts: {}\".format(case_non_ct))\n",
    "        print(\"Ctrl interactome muts: {}\".format(ctrl_ct))\n",
    "        print(\"Ctrl non-interactome muts: {}\".format(ctrl_non_ct))\n",
    "        print(\"Odds ratio: {}\".format(odds))\n",
    "        \n",
    "    return([case_ct, case_non_ct, ctrl_ct, ctrl_non_ct, odds])"
   ]
  },
  {
   "cell_type": "code",
   "execution_count": null,
   "metadata": {},
   "outputs": [],
   "source": [
    "# Create a count table for all tests of interest\n",
    "\n",
    "res_list = []\n",
    "\n",
    "for int_type in [\"GATA4\",\"TBX5\",\"GATA4-TBX5\",\"HEK-GATA4\",\"HEK-TBX5\",\"HEKGATA4-HEKTBX5\"]:\n",
    "    \n",
    "    interactome = get_interactome(int_type)\n",
    "    print(len(interactome))\n",
    "        \n",
    "    for known_status in [\"allGenes\",\"unknownGenes\"]:\n",
    "            \n",
    "        # Inherited loss of function data\n",
    "        if known_status == \"allGenes\":\n",
    "            probands, siblings = get_lof_dicts()\n",
    "        else:\n",
    "            probands, siblings = get_lof_dicts('lof', True)\n",
    "        ls = get_counts(probands, siblings, interactome, truth=True)\n",
    "        ls.append(\"{}_inh-lof_{}\".format(int_type, known_status))\n",
    "        res_list.append(ls)\n",
    "\n",
    "        # De novo data\n",
    "        mut_type = \"allmuts\"\n",
    "        if known_status == \"allGenes\":\n",
    "            probands, siblings = get_dnv_dicts(mut_type)\n",
    "        else:\n",
    "            probands, siblings = get_dnv_dicts(mut_type, True)\n",
    "\n",
    "        # Get odds ratio\n",
    "        ls = get_counts(probands, siblings, interactome, truth=True)\n",
    "        ls.append(\"{}_nonsyn-dnv_{}\".format(int_type, known_status))\n",
    "        res_list.append(ls)\n",
    "\n",
    "        # Synonymous data\n",
    "        mut_type = \"syn\"\n",
    "        if known_status == \"allGenes\":\n",
    "            probands, siblings = get_dnv_dicts(mut_type)\n",
    "        else:\n",
    "            probands, siblings = get_dnv_dicts(mut_type, True)\n",
    "        ls = get_counts(probands, siblings, interactome, truth=True)\n",
    "        ls.append(\"{}_syn-dnv_{}\".format(int_type, known_status))\n",
    "        res_list.append(ls)\n",
    "\n"
   ]
  },
  {
   "cell_type": "code",
   "execution_count": null,
   "metadata": {},
   "outputs": [],
   "source": [
    "res_df = pd.DataFrame(res_list, columns = ['case_interactome', 'case_noninteractome', \n",
    "                                  'ctrl_interactome', 'ctrl_noninteractome', 'uncorrected_odds','test'])\n",
    "\n",
    "res_df[['Interactome','MutationType','GeneList']] = res_df['test'].str.split(\"_\",expand=True) \n",
    "res_df.to_csv('../manuscript/tables/contingency_counts.csv')\n",
    "res_df"
   ]
  },
  {
   "cell_type": "code",
   "execution_count": null,
   "metadata": {},
   "outputs": [],
   "source": []
  }
 ],
 "metadata": {
  "kernelspec": {
   "display_name": "Python 3",
   "language": "python",
   "name": "python3"
  },
  "language_info": {
   "codemirror_mode": {
    "name": "ipython",
    "version": 3
   },
   "file_extension": ".py",
   "mimetype": "text/x-python",
   "name": "python",
   "nbconvert_exporter": "python",
   "pygments_lexer": "ipython3",
   "version": "3.6.10"
  }
 },
 "nbformat": 4,
 "nbformat_minor": 2
}
