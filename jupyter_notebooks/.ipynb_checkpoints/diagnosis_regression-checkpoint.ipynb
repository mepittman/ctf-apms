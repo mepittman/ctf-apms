{
 "cells": [
  {
   "cell_type": "markdown",
   "metadata": {},
   "source": [
    "# diagnosis_regression.ipynb\n",
    "\n",
    "This notebook uses de novo variant data from a large cohort of individuals with cardiac defects$^{1}$ to relate diagnosis categories to risk of having a de novo variant in a GATA4-TBX5 interactome gene.\n",
    "\n",
    "$^{1}$Jin, Sheng Chih, Jason Homsy, Samir Zaidi, Qiongshi Lu, Sarah Morton, Steven R. DePalma, Xue Zeng, et al. 2017. “Contribution of Rare Inherited and de Novo Variants in 2,871 Congenital Heart Disease Probands.” Nature Genetics 49 (11): 1593–1601."
   ]
  },
  {
   "cell_type": "code",
   "execution_count": 1,
   "metadata": {},
   "outputs": [],
   "source": [
    "diagnoses = read.csv('../data/variants/diagnoses.csv', stringsAsFactors = FALSE)\n",
    "\n",
    "categories = read.csv('../data/databases/diagnostic_categories.csv',header=TRUE, \n",
    "                      stringsAsFactors=FALSE)\n",
    "categories = categories[,c(1:2)]\n",
    "names(categories) = c(\"DIAGNOSES\",\"CATEGORY\")"
   ]
  },
  {
   "cell_type": "code",
   "execution_count": 2,
   "metadata": {},
   "outputs": [
    {
     "data": {
      "text/html": [
       "<table>\n",
       "<thead><tr><th scope=col>Blinded.ID</th><th scope=col>Cohort</th><th scope=col>Sample.Type</th><th scope=col>Cardiac.Category</th><th scope=col>Cardiac.Diagnoses</th><th scope=col>EM</th><th scope=col>NDD</th></tr></thead>\n",
       "<tbody>\n",
       "\t<tr><td>950400255                                                                                                                                                                                                                                                                                                                                                </td><td>PHN                                                                                                                                                                                                                                                                                                                                                      </td><td>Trio                                                                                                                                                                                                                                                                                                                                                     </td><td>LVO                                                                                                                                                                                                                                                                                                                                                      </td><td>HLHS, Ventricular Septal Defect                                                                                                                                                                                                                                                                                                                          </td><td>No                                                                                                                                                                                                                                                                                                                                                       </td><td>Yes                                                                                                                                                                                                                                                                                                                                                      </td></tr>\n",
       "\t<tr><td>1-00002                                                                                                                                                                                                                                                                                                                                                  </td><td>PCGC                                                                                                                                                                                                                                                                                                                                                     </td><td>Singleton                                                                                                                                                                                                                                                                                                                                                </td><td>LVO                                                                                                                                                                                                                                                                                                                                                      </td><td>AORTIC STENOSIS | HYPOPLASTIC AORTIC ANNULUS | HYPOPLASTIC LEFT HEART SYNDROME | HYPOPLASTIC MITRAL VALVE | MITRAL STENOSIS | TUBULAR HYPOPLASIA OF AORTA + COARCTATION                                                                                                                                                                                  </td><td>Yes                                                                                                                                                                                                                                                                                                                                                      </td><td>No                                                                                                                                                                                                                                                                                                                                                       </td></tr>\n",
       "\t<tr><td>1-00004                                                                                                                                                                                                                                                                                                                                                  </td><td>PCGC                                                                                                                                                                                                                                                                                                                                                     </td><td>Trio                                                                                                                                                                                                                                                                                                                                                     </td><td>CTD (TGA)                                                                                                                                                                                                                                                                                                                                                </td><td>INVERTED CORONARIES WITH POSTERIOR LAD IN D-LOOP TGA | TRANSPOSITION D-LOOP WITH VENTRICULAR SEPTAL DEFECT | VENTRICULAR SEPTAL DEFECT, MUSCULAR                                                                                                                                                                                                         </td><td>Yes                                                                                                                                                                                                                                                                                                                                                      </td><td>Unknown                                                                                                                                                                                                                                                                                                                                                  </td></tr>\n",
       "\t<tr><td>1-00008                                                                                                                                                                                                                                                                                                                                                  </td><td>PCGC                                                                                                                                                                                                                                                                                                                                                     </td><td>Trio                                                                                                                                                                                                                                                                                                                                                     </td><td>LVO                                                                                                                                                                                                                                                                                                                                                      </td><td>AORTIC STENOSIS - VALVAR | BICOMMISSURAL (BICUSPID, BILEAFLET, BIFOLIATE) AORTIC VALVE | LEFT AORTIC ARCH                                                                                                                                                                                                                                                </td><td>No                                                                                                                                                                                                                                                                                                                                                       </td><td>No                                                                                                                                                                                                                                                                                                                                                       </td></tr>\n",
       "\t<tr><td>1-00009                                                                                                                                                                                                                                                                                                                                                  </td><td>PCGC                                                                                                                                                                                                                                                                                                                                                     </td><td>Trio                                                                                                                                                                                                                                                                                                                                                     </td><td>CTD                                                                                                                                                                                                                                                                                                                                                      </td><td>AORTIC VALVE POSITION RELATIVE TO THE PULMONARY VALVE, ANTERIOR | AORTIC VALVE POSITION RELATIVE TO THE PULMONARY VALVE, LEFT | PULMONARY ATRESIA,VALVAR | PULMONARY STENOSIS, LEFT | SDD | SINGLE OUTLET VENTRICULOARTERIAL CONNECTION | SINGLE VENTRICLE, LEFT; DOUBLE INLET LEFT VENTRICLE | UNIVENTRICULAR, DOUBLE INLET ATRIOVENTRICULAR CONNECTION </td><td>No                                                                                                                                                                                                                                                                                                                                                       </td><td>No                                                                                                                                                                                                                                                                                                                                                       </td></tr>\n",
       "\t<tr><td>1-00018                                                                                                                                                                                                                                                                                                                                                  </td><td>PCGC                                                                                                                                                                                                                                                                                                                                                     </td><td>Trio                                                                                                                                                                                                                                                                                                                                                     </td><td>LVO                                                                                                                                                                                                                                                                                                                                                      </td><td>AORTIC STENOSIS | BICOMMISSURAL (BICUSPID, BILEAFLET, BIFOLIATE) AORTIC VALVE | COARCTATION | HYPOPLASTIC AORTIC ANNULUS | HYPOPLASTIC LEFT VENTRICLE (SUBNORMAL CAVITY VOLUME) | MITRAL ATRESIA | TOTALLY ANOMALOUS PULMONARY VENOUS RETURN, SUPRACARDIAC | VENTRICULAR SEPTAL DEFECT                                                                   </td><td>Yes                                                                                                                                                                                                                                                                                                                                                      </td><td>Yes                                                                                                                                                                                                                                                                                                                                                      </td></tr>\n",
       "</tbody>\n",
       "</table>\n"
      ],
      "text/latex": [
       "\\begin{tabular}{r|lllllll}\n",
       " Blinded.ID & Cohort & Sample.Type & Cardiac.Category & Cardiac.Diagnoses & EM & NDD\\\\\n",
       "\\hline\n",
       "\t 950400255                                                                                                                                                                                                                                                                                                                                                 & PHN                                                                                                                                                                                                                                                                                                                                                       & Trio                                                                                                                                                                                                                                                                                                                                                      & LVO                                                                                                                                                                                                                                                                                                                                                       & HLHS, Ventricular Septal Defect                                                                                                                                                                                                                                                                                                                           & No                                                                                                                                                                                                                                                                                                                                                        & Yes                                                                                                                                                                                                                                                                                                                                                      \\\\\n",
       "\t 1-00002                                                                                                                                                                                                                                                                                                                                                                                                     & PCGC                                                                                                                                                                                                                                                                                                                                                                                                        & Singleton                                                                                                                                                                                                                                                                                                                                                                                                   & LVO                                                                                                                                                                                                                                                                                                                                                                                                         & AORTIC STENOSIS \\textbar{} HYPOPLASTIC AORTIC ANNULUS \\textbar{} HYPOPLASTIC LEFT HEART SYNDROME \\textbar{} HYPOPLASTIC MITRAL VALVE \\textbar{} MITRAL STENOSIS \\textbar{} TUBULAR HYPOPLASIA OF AORTA + COARCTATION                                                                                                                                                                                   & Yes                                                                                                                                                                                                                                                                                                                                                                                                         & No                                                                                                                                                                                                                                                                                                                                                                                                         \\\\\n",
       "\t 1-00004                                                                                                                                                                                                                                                                                                                                                                       & PCGC                                                                                                                                                                                                                                                                                                                                                                          & Trio                                                                                                                                                                                                                                                                                                                                                                          & CTD (TGA)                                                                                                                                                                                                                                                                                                                                                                     & INVERTED CORONARIES WITH POSTERIOR LAD IN D-LOOP TGA \\textbar{} TRANSPOSITION D-LOOP WITH VENTRICULAR SEPTAL DEFECT \\textbar{} VENTRICULAR SEPTAL DEFECT, MUSCULAR                                                                                                                                                                                                          & Yes                                                                                                                                                                                                                                                                                                                                                                           & Unknown                                                                                                                                                                                                                                                                                                                                                                      \\\\\n",
       "\t 1-00008                                                                                                                                                                                                                                                                                                                                                                       & PCGC                                                                                                                                                                                                                                                                                                                                                                          & Trio                                                                                                                                                                                                                                                                                                                                                                          & LVO                                                                                                                                                                                                                                                                                                                                                                           & AORTIC STENOSIS - VALVAR \\textbar{} BICOMMISSURAL (BICUSPID, BILEAFLET, BIFOLIATE) AORTIC VALVE \\textbar{} LEFT AORTIC ARCH                                                                                                                                                                                                                                                 & No                                                                                                                                                                                                                                                                                                                                                                            & No                                                                                                                                                                                                                                                                                                                                                                           \\\\\n",
       "\t 1-00009                                                                                                                                                                                                                                                                                                                                                                                                                         & PCGC                                                                                                                                                                                                                                                                                                                                                                                                                            & Trio                                                                                                                                                                                                                                                                                                                                                                                                                            & CTD                                                                                                                                                                                                                                                                                                                                                                                                                             & AORTIC VALVE POSITION RELATIVE TO THE PULMONARY VALVE, ANTERIOR \\textbar{} AORTIC VALVE POSITION RELATIVE TO THE PULMONARY VALVE, LEFT \\textbar{} PULMONARY ATRESIA,VALVAR \\textbar{} PULMONARY STENOSIS, LEFT \\textbar{} SDD \\textbar{} SINGLE OUTLET VENTRICULOARTERIAL CONNECTION \\textbar{} SINGLE VENTRICLE, LEFT; DOUBLE INLET LEFT VENTRICLE \\textbar{} UNIVENTRICULAR, DOUBLE INLET ATRIOVENTRICULAR CONNECTION  & No                                                                                                                                                                                                                                                                                                                                                                                                                              & No                                                                                                                                                                                                                                                                                                                                                                                                                             \\\\\n",
       "\t 1-00018                                                                                                                                                                                                                                                                                                                                                                                                                         & PCGC                                                                                                                                                                                                                                                                                                                                                                                                                            & Trio                                                                                                                                                                                                                                                                                                                                                                                                                            & LVO                                                                                                                                                                                                                                                                                                                                                                                                                             & AORTIC STENOSIS \\textbar{} BICOMMISSURAL (BICUSPID, BILEAFLET, BIFOLIATE) AORTIC VALVE \\textbar{} COARCTATION \\textbar{} HYPOPLASTIC AORTIC ANNULUS \\textbar{} HYPOPLASTIC LEFT VENTRICLE (SUBNORMAL CAVITY VOLUME) \\textbar{} MITRAL ATRESIA \\textbar{} TOTALLY ANOMALOUS PULMONARY VENOUS RETURN, SUPRACARDIAC \\textbar{} VENTRICULAR SEPTAL DEFECT                                                                    & Yes                                                                                                                                                                                                                                                                                                                                                                                                                             & Yes                                                                                                                                                                                                                                                                                                                                                                                                                            \\\\\n",
       "\\end{tabular}\n"
      ],
      "text/markdown": [
       "\n",
       "| Blinded.ID | Cohort | Sample.Type | Cardiac.Category | Cardiac.Diagnoses | EM | NDD |\n",
       "|---|---|---|---|---|---|---|\n",
       "| 950400255                                                                                                                                                                                                                                                                                                                                                 | PHN                                                                                                                                                                                                                                                                                                                                                       | Trio                                                                                                                                                                                                                                                                                                                                                      | LVO                                                                                                                                                                                                                                                                                                                                                       | HLHS, Ventricular Septal Defect                                                                                                                                                                                                                                                                                                                           | No                                                                                                                                                                                                                                                                                                                                                        | Yes                                                                                                                                                                                                                                                                                                                                                       |\n",
       "| 1-00002                                                                                                                                                                                                                                                                                                                                                   | PCGC                                                                                                                                                                                                                                                                                                                                                      | Singleton                                                                                                                                                                                                                                                                                                                                                 | LVO                                                                                                                                                                                                                                                                                                                                                       | AORTIC STENOSIS | HYPOPLASTIC AORTIC ANNULUS | HYPOPLASTIC LEFT HEART SYNDROME | HYPOPLASTIC MITRAL VALVE | MITRAL STENOSIS | TUBULAR HYPOPLASIA OF AORTA + COARCTATION                                                                                                                                                                                   | Yes                                                                                                                                                                                                                                                                                                                                                       | No                                                                                                                                                                                                                                                                                                                                                        |\n",
       "| 1-00004                                                                                                                                                                                                                                                                                                                                                   | PCGC                                                                                                                                                                                                                                                                                                                                                      | Trio                                                                                                                                                                                                                                                                                                                                                      | CTD (TGA)                                                                                                                                                                                                                                                                                                                                                 | INVERTED CORONARIES WITH POSTERIOR LAD IN D-LOOP TGA | TRANSPOSITION D-LOOP WITH VENTRICULAR SEPTAL DEFECT | VENTRICULAR SEPTAL DEFECT, MUSCULAR                                                                                                                                                                                                          | Yes                                                                                                                                                                                                                                                                                                                                                       | Unknown                                                                                                                                                                                                                                                                                                                                                   |\n",
       "| 1-00008                                                                                                                                                                                                                                                                                                                                                   | PCGC                                                                                                                                                                                                                                                                                                                                                      | Trio                                                                                                                                                                                                                                                                                                                                                      | LVO                                                                                                                                                                                                                                                                                                                                                       | AORTIC STENOSIS - VALVAR | BICOMMISSURAL (BICUSPID, BILEAFLET, BIFOLIATE) AORTIC VALVE | LEFT AORTIC ARCH                                                                                                                                                                                                                                                 | No                                                                                                                                                                                                                                                                                                                                                        | No                                                                                                                                                                                                                                                                                                                                                        |\n",
       "| 1-00009                                                                                                                                                                                                                                                                                                                                                   | PCGC                                                                                                                                                                                                                                                                                                                                                      | Trio                                                                                                                                                                                                                                                                                                                                                      | CTD                                                                                                                                                                                                                                                                                                                                                       | AORTIC VALVE POSITION RELATIVE TO THE PULMONARY VALVE, ANTERIOR | AORTIC VALVE POSITION RELATIVE TO THE PULMONARY VALVE, LEFT | PULMONARY ATRESIA,VALVAR | PULMONARY STENOSIS, LEFT | SDD | SINGLE OUTLET VENTRICULOARTERIAL CONNECTION | SINGLE VENTRICLE, LEFT; DOUBLE INLET LEFT VENTRICLE | UNIVENTRICULAR, DOUBLE INLET ATRIOVENTRICULAR CONNECTION  | No                                                                                                                                                                                                                                                                                                                                                        | No                                                                                                                                                                                                                                                                                                                                                        |\n",
       "| 1-00018                                                                                                                                                                                                                                                                                                                                                   | PCGC                                                                                                                                                                                                                                                                                                                                                      | Trio                                                                                                                                                                                                                                                                                                                                                      | LVO                                                                                                                                                                                                                                                                                                                                                       | AORTIC STENOSIS | BICOMMISSURAL (BICUSPID, BILEAFLET, BIFOLIATE) AORTIC VALVE | COARCTATION | HYPOPLASTIC AORTIC ANNULUS | HYPOPLASTIC LEFT VENTRICLE (SUBNORMAL CAVITY VOLUME) | MITRAL ATRESIA | TOTALLY ANOMALOUS PULMONARY VENOUS RETURN, SUPRACARDIAC | VENTRICULAR SEPTAL DEFECT                                                                    | Yes                                                                                                                                                                                                                                                                                                                                                       | Yes                                                                                                                                                                                                                                                                                                                                                       |\n",
       "\n"
      ],
      "text/plain": [
       "  Blinded.ID Cohort Sample.Type Cardiac.Category\n",
       "1 950400255  PHN    Trio        LVO             \n",
       "2 1-00002    PCGC   Singleton   LVO             \n",
       "3 1-00004    PCGC   Trio        CTD (TGA)       \n",
       "4 1-00008    PCGC   Trio        LVO             \n",
       "5 1-00009    PCGC   Trio        CTD             \n",
       "6 1-00018    PCGC   Trio        LVO             \n",
       "  Cardiac.Diagnoses                                                                                                                                                                                                                                                                                                                                        \n",
       "1 HLHS, Ventricular Septal Defect                                                                                                                                                                                                                                                                                                                          \n",
       "2 AORTIC STENOSIS | HYPOPLASTIC AORTIC ANNULUS | HYPOPLASTIC LEFT HEART SYNDROME | HYPOPLASTIC MITRAL VALVE | MITRAL STENOSIS | TUBULAR HYPOPLASIA OF AORTA + COARCTATION                                                                                                                                                                                  \n",
       "3 INVERTED CORONARIES WITH POSTERIOR LAD IN D-LOOP TGA | TRANSPOSITION D-LOOP WITH VENTRICULAR SEPTAL DEFECT | VENTRICULAR SEPTAL DEFECT, MUSCULAR                                                                                                                                                                                                         \n",
       "4 AORTIC STENOSIS - VALVAR | BICOMMISSURAL (BICUSPID, BILEAFLET, BIFOLIATE) AORTIC VALVE | LEFT AORTIC ARCH                                                                                                                                                                                                                                                \n",
       "5 AORTIC VALVE POSITION RELATIVE TO THE PULMONARY VALVE, ANTERIOR | AORTIC VALVE POSITION RELATIVE TO THE PULMONARY VALVE, LEFT | PULMONARY ATRESIA,VALVAR | PULMONARY STENOSIS, LEFT | SDD | SINGLE OUTLET VENTRICULOARTERIAL CONNECTION | SINGLE VENTRICLE, LEFT; DOUBLE INLET LEFT VENTRICLE | UNIVENTRICULAR, DOUBLE INLET ATRIOVENTRICULAR CONNECTION \n",
       "6 AORTIC STENOSIS | BICOMMISSURAL (BICUSPID, BILEAFLET, BIFOLIATE) AORTIC VALVE | COARCTATION | HYPOPLASTIC AORTIC ANNULUS | HYPOPLASTIC LEFT VENTRICLE (SUBNORMAL CAVITY VOLUME) | MITRAL ATRESIA | TOTALLY ANOMALOUS PULMONARY VENOUS RETURN, SUPRACARDIAC | VENTRICULAR SEPTAL DEFECT                                                                   \n",
       "  EM  NDD    \n",
       "1 No  Yes    \n",
       "2 Yes No     \n",
       "3 Yes Unknown\n",
       "4 No  No     \n",
       "5 No  No     \n",
       "6 Yes Yes    "
      ]
     },
     "metadata": {},
     "output_type": "display_data"
    }
   ],
   "source": [
    "head(diagnoses)"
   ]
  },
  {
   "cell_type": "code",
   "execution_count": 3,
   "metadata": {},
   "outputs": [
    {
     "data": {
      "text/html": [
       "<table>\n",
       "<thead><tr><th scope=col>DIAGNOSES</th><th scope=col>CATEGORY</th></tr></thead>\n",
       "<tbody>\n",
       "\t<tr><td>CHARGE SYNDROME           </td><td>Syndromic                 </td></tr>\n",
       "\t<tr><td>ELLIS VAN CREVELD SYNDROME</td><td>Syndromic                 </td></tr>\n",
       "\t<tr><td>HOLT-ORAM SYNDROME        </td><td>Syndromic                 </td></tr>\n",
       "\t<tr><td>LOEYS DIETZ SYNDROME      </td><td>Syndromic                 </td></tr>\n",
       "\t<tr><td>KABUKI SYNDROME           </td><td>Syndromic                 </td></tr>\n",
       "\t<tr><td>NOONANS SYNDROME          </td><td>Syndromic                 </td></tr>\n",
       "</tbody>\n",
       "</table>\n"
      ],
      "text/latex": [
       "\\begin{tabular}{r|ll}\n",
       " DIAGNOSES & CATEGORY\\\\\n",
       "\\hline\n",
       "\t CHARGE SYNDROME            & Syndromic                 \\\\\n",
       "\t ELLIS VAN CREVELD SYNDROME & Syndromic                 \\\\\n",
       "\t HOLT-ORAM SYNDROME         & Syndromic                 \\\\\n",
       "\t LOEYS DIETZ SYNDROME       & Syndromic                 \\\\\n",
       "\t KABUKI SYNDROME            & Syndromic                 \\\\\n",
       "\t NOONANS SYNDROME           & Syndromic                 \\\\\n",
       "\\end{tabular}\n"
      ],
      "text/markdown": [
       "\n",
       "| DIAGNOSES | CATEGORY |\n",
       "|---|---|\n",
       "| CHARGE SYNDROME            | Syndromic                  |\n",
       "| ELLIS VAN CREVELD SYNDROME | Syndromic                  |\n",
       "| HOLT-ORAM SYNDROME         | Syndromic                  |\n",
       "| LOEYS DIETZ SYNDROME       | Syndromic                  |\n",
       "| KABUKI SYNDROME            | Syndromic                  |\n",
       "| NOONANS SYNDROME           | Syndromic                  |\n",
       "\n"
      ],
      "text/plain": [
       "  DIAGNOSES                  CATEGORY \n",
       "1 CHARGE SYNDROME            Syndromic\n",
       "2 ELLIS VAN CREVELD SYNDROME Syndromic\n",
       "3 HOLT-ORAM SYNDROME         Syndromic\n",
       "4 LOEYS DIETZ SYNDROME       Syndromic\n",
       "5 KABUKI SYNDROME            Syndromic\n",
       "6 NOONANS SYNDROME           Syndromic"
      ]
     },
     "metadata": {},
     "output_type": "display_data"
    }
   ],
   "source": [
    "head(categories)"
   ]
  },
  {
   "cell_type": "code",
   "execution_count": 4,
   "metadata": {},
   "outputs": [
    {
     "data": {
      "text/html": [
       "<table>\n",
       "<thead><tr><th scope=col>Blinded.ID</th><th scope=col>DIAGNOSES</th></tr></thead>\n",
       "<tbody>\n",
       "\t<tr><td>950400255                      </td><td>HLHS                           </td></tr>\n",
       "\t<tr><td>950400255                      </td><td>VENTRICULAR SEPTAL DEFECT      </td></tr>\n",
       "\t<tr><td>1-00002                        </td><td>AORTIC STENOSIS                </td></tr>\n",
       "\t<tr><td>1-00002                        </td><td>HYPOPLASTIC AORTIC ANNULUS     </td></tr>\n",
       "\t<tr><td>1-00002                        </td><td>HYPOPLASTIC LEFT HEART SYNDROME</td></tr>\n",
       "\t<tr><td>1-00002                        </td><td>HYPOPLASTIC MITRAL VALVE       </td></tr>\n",
       "</tbody>\n",
       "</table>\n"
      ],
      "text/latex": [
       "\\begin{tabular}{r|ll}\n",
       " Blinded.ID & DIAGNOSES\\\\\n",
       "\\hline\n",
       "\t 950400255                       & HLHS                           \\\\\n",
       "\t 950400255                       & VENTRICULAR SEPTAL DEFECT      \\\\\n",
       "\t 1-00002                         & AORTIC STENOSIS                \\\\\n",
       "\t 1-00002                         & HYPOPLASTIC AORTIC ANNULUS     \\\\\n",
       "\t 1-00002                         & HYPOPLASTIC LEFT HEART SYNDROME\\\\\n",
       "\t 1-00002                         & HYPOPLASTIC MITRAL VALVE       \\\\\n",
       "\\end{tabular}\n"
      ],
      "text/markdown": [
       "\n",
       "| Blinded.ID | DIAGNOSES |\n",
       "|---|---|\n",
       "| 950400255                       | HLHS                            |\n",
       "| 950400255                       | VENTRICULAR SEPTAL DEFECT       |\n",
       "| 1-00002                         | AORTIC STENOSIS                 |\n",
       "| 1-00002                         | HYPOPLASTIC AORTIC ANNULUS      |\n",
       "| 1-00002                         | HYPOPLASTIC LEFT HEART SYNDROME |\n",
       "| 1-00002                         | HYPOPLASTIC MITRAL VALVE        |\n",
       "\n"
      ],
      "text/plain": [
       "  Blinded.ID DIAGNOSES                      \n",
       "1 950400255  HLHS                           \n",
       "2 950400255  VENTRICULAR SEPTAL DEFECT      \n",
       "3 1-00002    AORTIC STENOSIS                \n",
       "4 1-00002    HYPOPLASTIC AORTIC ANNULUS     \n",
       "5 1-00002    HYPOPLASTIC LEFT HEART SYNDROME\n",
       "6 1-00002    HYPOPLASTIC MITRAL VALVE       "
      ]
     },
     "metadata": {},
     "output_type": "display_data"
    }
   ],
   "source": [
    "# Match each proband to their individual diagnoses\n",
    "diag_list = c()\n",
    "diag_df = data.frame(matrix(ncol=2, nrow=0))\n",
    "colnames(diag_df) = c(\"Blinded.ID\", \"DIAGNOSES\")\n",
    "\n",
    "for (i in 1:nrow(diagnoses)){\n",
    "  \n",
    "  my_diags = c()\n",
    "  my_id = diagnoses[i,'Blinded.ID']\n",
    "  \n",
    "  if( diagnoses[i,'Cohort'] == \"PCGC\"){\n",
    "    diags = strsplit(diagnoses[i,'Cardiac.Diagnoses'],\" \\\\| \")\n",
    "    for(j in diags){\n",
    "      diag_list = c(diag_list, trimws(j))\n",
    "      my_diags = c(my_diags,trimws(j))\n",
    "    }\n",
    "  } else if(diagnoses[i,'Cohort'] == 'PHN' & grepl(';',diagnoses[i, 'Cardiac.Diagnoses'])){\n",
    "    diags = strsplit(diagnoses[i,'Cardiac.Diagnoses'],\";\")\n",
    "    for(j in diags){\n",
    "      diag_list = c(diag_list, toupper(trimws(j)))\n",
    "      my_diags = c(my_diags, toupper(trimws(j)))\n",
    "    }\n",
    "  } else{\n",
    "    diags = strsplit(diagnoses[i,'Cardiac.Diagnoses'],\", \")\n",
    "    for(j in diags){\n",
    "      diag_list = c(diag_list, toupper(trimws(j)))\n",
    "      my_diags = c(my_diags, toupper(trimws(j)))\n",
    "    }\n",
    "  }\n",
    "  \n",
    "  df = data.frame(Blinded.ID = rep(my_id, length(my_diags)), DIAGNOSES = my_diags)\n",
    "  diag_df = rbind(diag_df, df)\n",
    "  \n",
    "}\n",
    "\n",
    "head(diag_df)"
   ]
  },
  {
   "cell_type": "code",
   "execution_count": 5,
   "metadata": {},
   "outputs": [
    {
     "data": {
      "text/html": [
       "<table>\n",
       "<thead><tr><th scope=col>Blinded.ID</th><th scope=col>DIAGNOSES</th><th scope=col>Category</th></tr></thead>\n",
       "<tbody>\n",
       "\t<tr><td>950400255                      </td><td>HLHS                           </td><td>Single Ventricle Defect        </td></tr>\n",
       "\t<tr><td>950400255                      </td><td>VENTRICULAR SEPTAL DEFECT      </td><td>Septation                      </td></tr>\n",
       "\t<tr><td>1-00002                        </td><td>AORTIC STENOSIS                </td><td>Semilunar valvular             </td></tr>\n",
       "\t<tr><td>1-00002                        </td><td>HYPOPLASTIC AORTIC ANNULUS     </td><td>Semilunar valvular             </td></tr>\n",
       "\t<tr><td>1-00002                        </td><td>HYPOPLASTIC LEFT HEART SYNDROME</td><td>Single Ventricle Defect        </td></tr>\n",
       "\t<tr><td>1-00002                        </td><td>HYPOPLASTIC MITRAL VALVE       </td><td>AV valvular                    </td></tr>\n",
       "</tbody>\n",
       "</table>\n"
      ],
      "text/latex": [
       "\\begin{tabular}{r|lll}\n",
       " Blinded.ID & DIAGNOSES & Category\\\\\n",
       "\\hline\n",
       "\t 950400255                       & HLHS                            & Single Ventricle Defect        \\\\\n",
       "\t 950400255                       & VENTRICULAR SEPTAL DEFECT       & Septation                      \\\\\n",
       "\t 1-00002                         & AORTIC STENOSIS                 & Semilunar valvular             \\\\\n",
       "\t 1-00002                         & HYPOPLASTIC AORTIC ANNULUS      & Semilunar valvular             \\\\\n",
       "\t 1-00002                         & HYPOPLASTIC LEFT HEART SYNDROME & Single Ventricle Defect        \\\\\n",
       "\t 1-00002                         & HYPOPLASTIC MITRAL VALVE        & AV valvular                    \\\\\n",
       "\\end{tabular}\n"
      ],
      "text/markdown": [
       "\n",
       "| Blinded.ID | DIAGNOSES | Category |\n",
       "|---|---|---|\n",
       "| 950400255                       | HLHS                            | Single Ventricle Defect         |\n",
       "| 950400255                       | VENTRICULAR SEPTAL DEFECT       | Septation                       |\n",
       "| 1-00002                         | AORTIC STENOSIS                 | Semilunar valvular              |\n",
       "| 1-00002                         | HYPOPLASTIC AORTIC ANNULUS      | Semilunar valvular              |\n",
       "| 1-00002                         | HYPOPLASTIC LEFT HEART SYNDROME | Single Ventricle Defect         |\n",
       "| 1-00002                         | HYPOPLASTIC MITRAL VALVE        | AV valvular                     |\n",
       "\n"
      ],
      "text/plain": [
       "  Blinded.ID DIAGNOSES                       Category               \n",
       "1 950400255  HLHS                            Single Ventricle Defect\n",
       "2 950400255  VENTRICULAR SEPTAL DEFECT       Septation              \n",
       "3 1-00002    AORTIC STENOSIS                 Semilunar valvular     \n",
       "4 1-00002    HYPOPLASTIC AORTIC ANNULUS      Semilunar valvular     \n",
       "5 1-00002    HYPOPLASTIC LEFT HEART SYNDROME Single Ventricle Defect\n",
       "6 1-00002    HYPOPLASTIC MITRAL VALVE        AV valvular            "
      ]
     },
     "metadata": {},
     "output_type": "display_data"
    }
   ],
   "source": [
    "# Merge with refined categories\n",
    "diag_df$Category = categories$CATEGORY[match(diag_df$DIAGNOSES, categories$DIAGNOSES)]\n",
    "diag_df = diag_df[complete.cases(diag_df), ]\n",
    "head(diag_df)"
   ]
  },
  {
   "cell_type": "code",
   "execution_count": 6,
   "metadata": {},
   "outputs": [
    {
     "data": {
      "text/html": [
       "<table>\n",
       "<thead><tr><th scope=col>Blinded.ID</th><th scope=col>interactome_dnv_count</th></tr></thead>\n",
       "<tbody>\n",
       "\t<tr><td>1-00009</td><td>0      </td></tr>\n",
       "\t<tr><td>1-00018</td><td>0      </td></tr>\n",
       "\t<tr><td>1-00030</td><td>0      </td></tr>\n",
       "\t<tr><td>1-00045</td><td>0      </td></tr>\n",
       "\t<tr><td>1-00057</td><td>0      </td></tr>\n",
       "\t<tr><td>1-00058</td><td>0      </td></tr>\n",
       "</tbody>\n",
       "</table>\n"
      ],
      "text/latex": [
       "\\begin{tabular}{r|ll}\n",
       " Blinded.ID & interactome\\_dnv\\_count\\\\\n",
       "\\hline\n",
       "\t 1-00009 & 0      \\\\\n",
       "\t 1-00018 & 0      \\\\\n",
       "\t 1-00030 & 0      \\\\\n",
       "\t 1-00045 & 0      \\\\\n",
       "\t 1-00057 & 0      \\\\\n",
       "\t 1-00058 & 0      \\\\\n",
       "\\end{tabular}\n"
      ],
      "text/markdown": [
       "\n",
       "| Blinded.ID | interactome_dnv_count |\n",
       "|---|---|\n",
       "| 1-00009 | 0       |\n",
       "| 1-00018 | 0       |\n",
       "| 1-00030 | 0       |\n",
       "| 1-00045 | 0       |\n",
       "| 1-00057 | 0       |\n",
       "| 1-00058 | 0       |\n",
       "\n"
      ],
      "text/plain": [
       "  Blinded.ID interactome_dnv_count\n",
       "1 1-00009    0                    \n",
       "2 1-00018    0                    \n",
       "3 1-00030    0                    \n",
       "4 1-00045    0                    \n",
       "5 1-00057    0                    \n",
       "6 1-00058    0                    "
      ]
     },
     "metadata": {},
     "output_type": "display_data"
    }
   ],
   "source": [
    "# Find the number of de novo mutations each proband has in interactome genes\n",
    "gene_table = read.table(\"../intermediate/interactome_lists/GATA4-TBX5_genes.txt\", \n",
    "                        stringsAsFactors = FALSE)\n",
    "interactome = gene_table$V1\n",
    "\n",
    "dnv_cases = read.csv('../data/variants/DNV_cases.csv', stringsAsFactors = FALSE)\n",
    "dnv_ctrls = read.csv('../data/variants/DNV_ctrls.csv', stringsAsFactors = FALSE)\n",
    "\n",
    "dnv_cases = dnv_cases[which(dnv_cases$Variant.Class != 'syn'),]\n",
    "dnv_ctrls = dnv_ctrls[which(dnv_ctrls$Variant.Class != 'syn'),]\n",
    "\n",
    "dnv_cases$interactome <- ifelse(dnv_cases$Gene %in% interactome, 1, 0)\n",
    "dnv_ctrls$interactome <- ifelse(dnv_ctrls$Gene %in% interactome, 1, 0)\n",
    "\n",
    "case_var_count = aggregate(dnv_cases$interactome, by=list(Category=dnv_cases$Blinded.ID), \n",
    "                           FUN=sum)\n",
    "ctrl_var_count = aggregate(dnv_ctrls$interactome, by=list(Category=dnv_ctrls$Blinded.ID), \n",
    "                           FUN=sum)\n",
    "\n",
    "var_count = rbind(case_var_count, ctrl_var_count)\n",
    "names(var_count) = c(\"Blinded.ID\",\"interactome_dnv_count\")\n",
    "head(var_count)"
   ]
  },
  {
   "cell_type": "code",
   "execution_count": 7,
   "metadata": {},
   "outputs": [
    {
     "data": {
      "text/html": [
       "<table>\n",
       "<thead><tr><th scope=col>Blinded.ID</th><th scope=col>interactome_dnv_count</th><th scope=col>Single Ventricle Defect</th><th scope=col>Septation</th><th scope=col>Semilunar valvular</th><th scope=col>AV valvular</th><th scope=col>Arterial vascular anomaly</th><th scope=col>Coronary anomaly</th><th scope=col>Conotruncal (septation and spiraling)</th><th scope=col>Situs (Van Praag/Anderson)</th><th scope=col>Venous vascular anomaly</th><th scope=col>AV Canal</th><th scope=col>L/R Asymmetry</th><th scope=col>Misc</th><th scope=col>Cardiomyopathy</th></tr></thead>\n",
       "<tbody>\n",
       "\t<tr><td>1-00009</td><td>0      </td><td>1      </td><td>0      </td><td>1      </td><td>0      </td><td>0      </td><td>0      </td><td>1      </td><td>1      </td><td>0      </td><td>0      </td><td>0      </td><td>0      </td><td>0      </td></tr>\n",
       "\t<tr><td>1-00018</td><td>0      </td><td>1      </td><td>1      </td><td>1      </td><td>1      </td><td>1      </td><td>0      </td><td>0      </td><td>0      </td><td>1      </td><td>0      </td><td>0      </td><td>0      </td><td>0      </td></tr>\n",
       "\t<tr><td>1-00030</td><td>0      </td><td>1      </td><td>1      </td><td>1      </td><td>1      </td><td>1      </td><td>0      </td><td>0      </td><td>0      </td><td>0      </td><td>0      </td><td>0      </td><td>0      </td><td>0      </td></tr>\n",
       "\t<tr><td>1-00045</td><td>0      </td><td>0      </td><td>0      </td><td>1      </td><td>0      </td><td>0      </td><td>0      </td><td>1      </td><td>0      </td><td>0      </td><td>0      </td><td>0      </td><td>0      </td><td>0      </td></tr>\n",
       "\t<tr><td>1-00057</td><td>0      </td><td>0      </td><td>1      </td><td>0      </td><td>0      </td><td>0      </td><td>0      </td><td>1      </td><td>0      </td><td>0      </td><td>0      </td><td>0      </td><td>0      </td><td>0      </td></tr>\n",
       "\t<tr><td>1-00058</td><td>0      </td><td>0      </td><td>1      </td><td>0      </td><td>0      </td><td>0      </td><td>0      </td><td>1      </td><td>0      </td><td>0      </td><td>0      </td><td>0      </td><td>0      </td><td>0      </td></tr>\n",
       "</tbody>\n",
       "</table>\n"
      ],
      "text/latex": [
       "\\begin{tabular}{r|lllllllllllllll}\n",
       " Blinded.ID & interactome\\_dnv\\_count & Single Ventricle Defect & Septation & Semilunar valvular & AV valvular & Arterial vascular anomaly & Coronary anomaly & Conotruncal (septation and spiraling) & Situs (Van Praag/Anderson) & Venous vascular anomaly & AV Canal & L/R Asymmetry & Misc & Cardiomyopathy\\\\\n",
       "\\hline\n",
       "\t 1-00009 & 0       & 1       & 0       & 1       & 0       & 0       & 0       & 1       & 1       & 0       & 0       & 0       & 0       & 0      \\\\\n",
       "\t 1-00018 & 0       & 1       & 1       & 1       & 1       & 1       & 0       & 0       & 0       & 1       & 0       & 0       & 0       & 0      \\\\\n",
       "\t 1-00030 & 0       & 1       & 1       & 1       & 1       & 1       & 0       & 0       & 0       & 0       & 0       & 0       & 0       & 0      \\\\\n",
       "\t 1-00045 & 0       & 0       & 0       & 1       & 0       & 0       & 0       & 1       & 0       & 0       & 0       & 0       & 0       & 0      \\\\\n",
       "\t 1-00057 & 0       & 0       & 1       & 0       & 0       & 0       & 0       & 1       & 0       & 0       & 0       & 0       & 0       & 0      \\\\\n",
       "\t 1-00058 & 0       & 0       & 1       & 0       & 0       & 0       & 0       & 1       & 0       & 0       & 0       & 0       & 0       & 0      \\\\\n",
       "\\end{tabular}\n"
      ],
      "text/markdown": [
       "\n",
       "| Blinded.ID | interactome_dnv_count | Single Ventricle Defect | Septation | Semilunar valvular | AV valvular | Arterial vascular anomaly | Coronary anomaly | Conotruncal (septation and spiraling) | Situs (Van Praag/Anderson) | Venous vascular anomaly | AV Canal | L/R Asymmetry | Misc | Cardiomyopathy |\n",
       "|---|---|---|---|---|---|---|---|---|---|---|---|---|---|---|\n",
       "| 1-00009 | 0       | 1       | 0       | 1       | 0       | 0       | 0       | 1       | 1       | 0       | 0       | 0       | 0       | 0       |\n",
       "| 1-00018 | 0       | 1       | 1       | 1       | 1       | 1       | 0       | 0       | 0       | 1       | 0       | 0       | 0       | 0       |\n",
       "| 1-00030 | 0       | 1       | 1       | 1       | 1       | 1       | 0       | 0       | 0       | 0       | 0       | 0       | 0       | 0       |\n",
       "| 1-00045 | 0       | 0       | 0       | 1       | 0       | 0       | 0       | 1       | 0       | 0       | 0       | 0       | 0       | 0       |\n",
       "| 1-00057 | 0       | 0       | 1       | 0       | 0       | 0       | 0       | 1       | 0       | 0       | 0       | 0       | 0       | 0       |\n",
       "| 1-00058 | 0       | 0       | 1       | 0       | 0       | 0       | 0       | 1       | 0       | 0       | 0       | 0       | 0       | 0       |\n",
       "\n"
      ],
      "text/plain": [
       "  Blinded.ID interactome_dnv_count Single Ventricle Defect Septation\n",
       "1 1-00009    0                     1                       0        \n",
       "2 1-00018    0                     1                       1        \n",
       "3 1-00030    0                     1                       1        \n",
       "4 1-00045    0                     0                       0        \n",
       "5 1-00057    0                     0                       1        \n",
       "6 1-00058    0                     0                       1        \n",
       "  Semilunar valvular AV valvular Arterial vascular anomaly Coronary anomaly\n",
       "1 1                  0           0                         0               \n",
       "2 1                  1           1                         0               \n",
       "3 1                  1           1                         0               \n",
       "4 1                  0           0                         0               \n",
       "5 0                  0           0                         0               \n",
       "6 0                  0           0                         0               \n",
       "  Conotruncal (septation and spiraling) Situs (Van Praag/Anderson)\n",
       "1 1                                     1                         \n",
       "2 0                                     0                         \n",
       "3 0                                     0                         \n",
       "4 1                                     0                         \n",
       "5 1                                     0                         \n",
       "6 1                                     0                         \n",
       "  Venous vascular anomaly AV Canal L/R Asymmetry Misc Cardiomyopathy\n",
       "1 0                       0        0             0    0             \n",
       "2 1                       0        0             0    0             \n",
       "3 0                       0        0             0    0             \n",
       "4 0                       0        0             0    0             \n",
       "5 0                       0        0             0    0             \n",
       "6 0                       0        0             0    0             "
      ]
     },
     "metadata": {},
     "output_type": "display_data"
    }
   ],
   "source": [
    "# Append dummy variable columns based on diagnoses of each blinded ID\n",
    "variable_list = unique(diag_df$Category)\n",
    "\n",
    "variable_test = head(variable_list)\n",
    "for(diagnosis in variable_list){\n",
    "  var_count[,diagnosis] = 0\n",
    "  \n",
    "  focal_df = diag_df[which(diag_df$Category == diagnosis),]\n",
    "  var_count[which(var_count$Blinded.ID %in% focal_df$Blinded.ID), diagnosis] <- 1\n",
    "  \n",
    "}\n",
    "\n",
    "# Remove Syndromic and Arrythmia categories\n",
    "var_count$`Arrhythmia/conduction defects` <- NULL\n",
    "var_count$Syndromic <- NULL\n",
    "\n",
    "head(var_count)"
   ]
  },
  {
   "cell_type": "code",
   "execution_count": 8,
   "metadata": {},
   "outputs": [
    {
     "data": {
      "text/plain": [
       "\n",
       "Call:\n",
       "glm(formula = interactome_dnv_count ~ ., family = poisson(link = \"log\"), \n",
       "    data = X)\n",
       "\n",
       "Deviance Residuals: \n",
       "    Min       1Q   Median       3Q      Max  \n",
       "-0.6246  -0.2864  -0.2249  -0.2161   3.6786  \n",
       "\n",
       "Coefficients:\n",
       "                                        Estimate Std. Error z value Pr(>|z|)\n",
       "(Intercept)                             -3.75692    0.17412 -21.577  < 2e-16\n",
       "`Arterial vascular anomaly`              0.66109    0.23919   2.764  0.00571\n",
       "Septation                                0.44300    0.23312   1.900  0.05740\n",
       "Cardiomyopathy                           0.68817    0.46879   1.468  0.14211\n",
       "`AV Canal`                               0.51937    0.42925   1.210  0.22629\n",
       "`Coronary anomaly`                       0.39837    0.43609   0.913  0.36098\n",
       "`Conotruncal (septation and spiraling)`  0.12013    0.23713   0.507  0.61243\n",
       "`L/R Asymmetry`                         -0.24270    0.62743  -0.387  0.69889\n",
       "`Venous vascular anomaly`               -0.12823    0.36584  -0.351  0.72596\n",
       "`Semilunar valvular`                     0.07969    0.25115   0.317  0.75101\n",
       "`AV valvular`                           -0.05189    0.32599  -0.159  0.87353\n",
       "`Single Ventricle Defect`               -0.08435    0.35181  -0.240  0.81052\n",
       "Misc                                    -0.08910    0.61140  -0.146  0.88414\n",
       "`Situs (Van Praag/Anderson)`            -0.01819    0.51653  -0.035  0.97191\n",
       "                                           \n",
       "(Intercept)                             ***\n",
       "`Arterial vascular anomaly`             ** \n",
       "Septation                               .  \n",
       "Cardiomyopathy                             \n",
       "`AV Canal`                                 \n",
       "`Coronary anomaly`                         \n",
       "`Conotruncal (septation and spiraling)`    \n",
       "`L/R Asymmetry`                            \n",
       "`Venous vascular anomaly`                  \n",
       "`Semilunar valvular`                       \n",
       "`AV valvular`                              \n",
       "`Single Ventricle Defect`                  \n",
       "Misc                                       \n",
       "`Situs (Van Praag/Anderson)`               \n",
       "---\n",
       "Signif. codes:  0 ‘***’ 0.001 ‘**’ 0.01 ‘*’ 0.05 ‘.’ 0.1 ‘ ’ 1\n",
       "\n",
       "(Dispersion parameter for poisson family taken to be 1)\n",
       "\n",
       "    Null deviance: 605.54  on 2458  degrees of freedom\n",
       "Residual deviance: 582.55  on 2445  degrees of freedom\n",
       "AIC: 789.78\n",
       "\n",
       "Number of Fisher Scoring iterations: 6\n"
      ]
     },
     "metadata": {},
     "output_type": "display_data"
    },
    {
     "data": {
      "text/html": [
       "<table>\n",
       "<thead><tr><th></th><th scope=col>Estimate</th><th scope=col>Std..Error</th><th scope=col>z.value</th><th scope=col>Pr...z..</th></tr></thead>\n",
       "<tbody>\n",
       "\t<tr><th scope=row>(Intercept)</th><td>-3.7569184   </td><td>0.1741151    </td><td>-21.577215   </td><td>2.940561e-103</td></tr>\n",
       "\t<tr><th scope=row>`Arterial vascular anomaly`</th><td> 0.6610940   </td><td>0.2391856    </td><td>  2.763937   </td><td> 5.710859e-03</td></tr>\n",
       "\t<tr><th scope=row>Septation</th><td> 0.4429954   </td><td>0.2331235    </td><td>  1.900261   </td><td> 5.739891e-02</td></tr>\n",
       "</tbody>\n",
       "</table>\n"
      ],
      "text/latex": [
       "\\begin{tabular}{r|llll}\n",
       "  & Estimate & Std..Error & z.value & Pr...z..\\\\\n",
       "\\hline\n",
       "\t(Intercept) & -3.7569184    & 0.1741151     & -21.577215    & 2.940561e-103\\\\\n",
       "\t`Arterial vascular anomaly` &  0.6610940    & 0.2391856     &   2.763937    &  5.710859e-03\\\\\n",
       "\tSeptation &  0.4429954    & 0.2331235     &   1.900261    &  5.739891e-02\\\\\n",
       "\\end{tabular}\n"
      ],
      "text/markdown": [
       "\n",
       "| <!--/--> | Estimate | Std..Error | z.value | Pr...z.. |\n",
       "|---|---|---|---|---|\n",
       "| (Intercept) | -3.7569184    | 0.1741151     | -21.577215    | 2.940561e-103 |\n",
       "| `Arterial vascular anomaly` |  0.6610940    | 0.2391856     |   2.763937    |  5.710859e-03 |\n",
       "| Septation |  0.4429954    | 0.2331235     |   1.900261    |  5.739891e-02 |\n",
       "\n"
      ],
      "text/plain": [
       "                            Estimate   Std..Error z.value    Pr...z..     \n",
       "(Intercept)                 -3.7569184 0.1741151  -21.577215 2.940561e-103\n",
       "`Arterial vascular anomaly`  0.6610940 0.2391856    2.763937  5.710859e-03\n",
       "Septation                    0.4429954 0.2331235    1.900261  5.739891e-02"
      ]
     },
     "metadata": {},
     "output_type": "display_data"
    }
   ],
   "source": [
    "# Order as desired and fit to a poisson model\n",
    "\n",
    "df = var_count[,c('Blinded.ID','interactome_dnv_count','Arterial vascular anomaly',\n",
    "                  'Septation','Cardiomyopathy','AV Canal', 'Coronary anomaly',\n",
    "                  'Conotruncal (septation and spiraling)','L/R Asymmetry',\n",
    "                  'Venous vascular anomaly','Semilunar valvular','AV valvular',\n",
    "                  'Single Ventricle Defect','Misc', 'Situs (Van Praag/Anderson)')]\n",
    "X = df[2:ncol(df)]\n",
    "row.names(X) = df$Blinded.ID\n",
    "poisson.model <- glm(interactome_dnv_count~., data=X, family=poisson(link=\"log\"))\n",
    "summary(poisson.model)\n",
    "\n",
    "result_df <- data.frame(summary(poisson.model)$coefficients)\n",
    "result_df[which(result_df$Pr...z.. < 0.1),]"
   ]
  },
  {
   "cell_type": "code",
   "execution_count": 9,
   "metadata": {},
   "outputs": [],
   "source": [
    "# Install packages that give conda environments grief\n",
    "\n",
    "if (! 'jtools' %in% installed.packages()[,'Package']){\n",
    "    install.packages('jtools')\n",
    "}\n",
    "\n",
    "if (! 'ggstance' %in% installed.packages()[,'Package']){\n",
    "    install.packages('ggstance')\n",
    "}"
   ]
  },
  {
   "cell_type": "code",
   "execution_count": 10,
   "metadata": {},
   "outputs": [
    {
     "name": "stderr",
     "output_type": "stream",
     "text": [
      "Registered S3 methods overwritten by 'broom':\n",
      "  method            from  \n",
      "  tidy.glht         jtools\n",
      "  tidy.summary.glht jtools\n",
      "Loading required namespace: broom.mixed\n"
     ]
    },
    {
     "data": {
      "text/html": [
       "<strong>png:</strong> 2"
      ],
      "text/latex": [
       "\\textbf{png:} 2"
      ],
      "text/markdown": [
       "**png:** 2"
      ],
      "text/plain": [
       "png \n",
       "  2 "
      ]
     },
     "metadata": {},
     "output_type": "display_data"
    }
   ],
   "source": [
    "# Visualization\n",
    "library(jtools)\n",
    "library(ggplot2)\n",
    "pdf(\"../manuscript/figures/diagnostic_category_regression_lenient-septation.pdf\")\n",
    "p <- plot_summs(poisson.model, scale = TRUE, exp=TRUE)\n",
    "p + labs(x=\"Relative Risk (95% Confidence)\")\n",
    "\n",
    "dev.off()"
   ]
  },
  {
   "cell_type": "code",
   "execution_count": 11,
   "metadata": {},
   "outputs": [
    {
     "name": "stderr",
     "output_type": "stream",
     "text": [
      "Loading required namespace: broom.mixed\n"
     ]
    },
    {
     "data": {
      "image/png": "[encoded data removed]",
      "text/plain": [
       "plot without title"
      ]
     },
     "metadata": {},
     "output_type": "display_data"
    }
   ],
   "source": [
    "p <- plot_summs(poisson.model, scale = TRUE, exp=TRUE)\n",
    "p + labs(x=\"Relative Risk (95% Confidence)\")"
   ]
  },
  {
   "cell_type": "markdown",
   "metadata": {},
   "source": [
    "### Save out data: how many probands per diagnosis? How many interactome mutations?"
   ]
  },
  {
   "cell_type": "code",
   "execution_count": 12,
   "metadata": {},
   "outputs": [
    {
     "data": {
      "text/html": [
       "<dl class=dl-horizontal>\n",
       "\t<dt>Single Ventricle Defect</dt>\n",
       "\t\t<dd>358</dd>\n",
       "\t<dt>Septation</dt>\n",
       "\t\t<dd>826</dd>\n",
       "\t<dt>Semilunar valvular</dt>\n",
       "\t\t<dd>720</dd>\n",
       "\t<dt>AV valvular</dt>\n",
       "\t\t<dd>416</dd>\n",
       "\t<dt>Arterial vascular anomaly</dt>\n",
       "\t\t<dd>488</dd>\n",
       "\t<dt>Coronary anomaly</dt>\n",
       "\t\t<dd>98</dd>\n",
       "\t<dt>Conotruncal (septation and spiraling)</dt>\n",
       "\t\t<dd>788</dd>\n",
       "\t<dt>Situs (Van Praag/Anderson)</dt>\n",
       "\t\t<dd>109</dd>\n",
       "\t<dt>Venous vascular anomaly</dt>\n",
       "\t\t<dd>254</dd>\n",
       "\t<dt>AV Canal</dt>\n",
       "\t\t<dd>110</dd>\n",
       "\t<dt>L/R Asymmetry</dt>\n",
       "\t\t<dd>94</dd>\n",
       "\t<dt>Misc</dt>\n",
       "\t\t<dd>71</dd>\n",
       "\t<dt>Cardiomyopathy</dt>\n",
       "\t\t<dd>54</dd>\n",
       "</dl>\n"
      ],
      "text/latex": [
       "\\begin{description*}\n",
       "\\item[Single Ventricle Defect] 358\n",
       "\\item[Septation] 826\n",
       "\\item[Semilunar valvular] 720\n",
       "\\item[AV valvular] 416\n",
       "\\item[Arterial vascular anomaly] 488\n",
       "\\item[Coronary anomaly] 98\n",
       "\\item[Conotruncal (septation and spiraling)] 788\n",
       "\\item[Situs (Van Praag/Anderson)] 109\n",
       "\\item[Venous vascular anomaly] 254\n",
       "\\item[AV Canal] 110\n",
       "\\item[L/R Asymmetry] 94\n",
       "\\item[Misc] 71\n",
       "\\item[Cardiomyopathy] 54\n",
       "\\end{description*}\n"
      ],
      "text/markdown": [
       "Single Ventricle Defect\n",
       ":   358Septation\n",
       ":   826Semilunar valvular\n",
       ":   720AV valvular\n",
       ":   416Arterial vascular anomaly\n",
       ":   488Coronary anomaly\n",
       ":   98Conotruncal (septation and spiraling)\n",
       ":   788Situs (Van Praag/Anderson)\n",
       ":   109Venous vascular anomaly\n",
       ":   254AV Canal\n",
       ":   110L/R Asymmetry\n",
       ":   94Misc\n",
       ":   71Cardiomyopathy\n",
       ":   54\n",
       "\n"
      ],
      "text/plain": [
       "              Single Ventricle Defect                             Septation \n",
       "                                  358                                   826 \n",
       "                   Semilunar valvular                           AV valvular \n",
       "                                  720                                   416 \n",
       "            Arterial vascular anomaly                      Coronary anomaly \n",
       "                                  488                                    98 \n",
       "Conotruncal (septation and spiraling)            Situs (Van Praag/Anderson) \n",
       "                                  788                                   109 \n",
       "              Venous vascular anomaly                              AV Canal \n",
       "                                  254                                   110 \n",
       "                        L/R Asymmetry                                  Misc \n",
       "                                   94                                    71 \n",
       "                       Cardiomyopathy \n",
       "                                   54 "
      ]
     },
     "metadata": {},
     "output_type": "display_data"
    }
   ],
   "source": [
    "n_probands = colSums(var_count[,c(3:ncol(var_count))])\n",
    "n_probands"
   ]
  },
  {
   "cell_type": "code",
   "execution_count": 13,
   "metadata": {},
   "outputs": [],
   "source": [
    "get_n_mutations <- function(diagnosis, vdf){\n",
    "    \n",
    "    dat = vdf[which(vdf[,diagnosis]==1),]\n",
    "    count = sum(dat$interactome_dnv_count)\n",
    "    \n",
    "    return(count)\n",
    "}"
   ]
  },
  {
   "cell_type": "code",
   "execution_count": 14,
   "metadata": {},
   "outputs": [
    {
     "data": {
      "text/html": [
       "<table>\n",
       "<thead><tr><th></th><th scope=col>Estimate</th><th scope=col>Std..Error</th><th scope=col>z.value</th><th scope=col>Pr...z..</th><th scope=col>Number.of.Probands</th><th scope=col>Total.Interactome.Mutations</th></tr></thead>\n",
       "<tbody>\n",
       "\t<tr><th scope=row>(Intercept)</th><td>-3.75691843  </td><td>0.1741151    </td><td>-21.5772148  </td><td>2.940561e-103</td><td>NA           </td><td>NA           </td></tr>\n",
       "\t<tr><th scope=row>`Arterial vascular anomaly`</th><td> 0.66109398  </td><td>0.2391856    </td><td>  2.7639369  </td><td> 5.710859e-03</td><td>488          </td><td>33           </td></tr>\n",
       "\t<tr><th scope=row>Septation</th><td> 0.44299543  </td><td>0.2331235    </td><td>  1.9002607  </td><td> 5.739891e-02</td><td>826          </td><td>45           </td></tr>\n",
       "\t<tr><th scope=row>Cardiomyopathy</th><td> 0.68816932  </td><td>0.4687896    </td><td>  1.4679705  </td><td> 1.421122e-01</td><td>54           </td><td>5            </td></tr>\n",
       "\t<tr><th scope=row>`AV Canal`</th><td> 0.51937301  </td><td>0.4292456    </td><td>  1.2099670  </td><td> 2.262916e-01</td><td>110          </td><td>7            </td></tr>\n",
       "\t<tr><th scope=row>`Coronary anomaly`</th><td> 0.39836789  </td><td>0.4360905    </td><td>  0.9134981  </td><td> 3.609806e-01</td><td>98           </td><td>6            </td></tr>\n",
       "\t<tr><th scope=row>`Conotruncal (septation and spiraling)`</th><td> 0.12013231  </td><td>0.2371294    </td><td>  0.5066107  </td><td> 6.124280e-01</td><td>788          </td><td>37           </td></tr>\n",
       "\t<tr><th scope=row>`L/R Asymmetry`</th><td>-0.24270215  </td><td>0.6274317    </td><td> -0.3868184  </td><td> 6.988906e-01</td><td>94           </td><td>4            </td></tr>\n",
       "\t<tr><th scope=row>`Venous vascular anomaly`</th><td>-0.12822982  </td><td>0.3658403    </td><td> -0.3505077  </td><td> 7.259577e-01</td><td>254          </td><td>11           </td></tr>\n",
       "\t<tr><th scope=row>`Semilunar valvular`</th><td> 0.07969122  </td><td>0.2511525    </td><td>  0.3173021  </td><td> 7.510143e-01</td><td>720          </td><td>35           </td></tr>\n",
       "\t<tr><th scope=row>`AV valvular`</th><td>-0.05189031  </td><td>0.3259918    </td><td> -0.1591767  </td><td> 8.735296e-01</td><td>416          </td><td>19           </td></tr>\n",
       "\t<tr><th scope=row>`Single Ventricle Defect`</th><td>-0.08434689  </td><td>0.3518068    </td><td> -0.2397534  </td><td> 8.105214e-01</td><td>358          </td><td>16           </td></tr>\n",
       "\t<tr><th scope=row>Misc</th><td>-0.08909948  </td><td>0.6114049    </td><td> -0.1457291  </td><td> 8.841353e-01</td><td>71           </td><td>3            </td></tr>\n",
       "\t<tr><th scope=row>`Situs (Van Praag/Anderson)`</th><td>-0.01818898  </td><td>0.5165255    </td><td> -0.0352141  </td><td> 9.719090e-01</td><td>109          </td><td>5            </td></tr>\n",
       "</tbody>\n",
       "</table>\n"
      ],
      "text/latex": [
       "\\begin{tabular}{r|llllll}\n",
       "  & Estimate & Std..Error & z.value & Pr...z.. & Number.of.Probands & Total.Interactome.Mutations\\\\\n",
       "\\hline\n",
       "\t(Intercept) & -3.75691843   & 0.1741151     & -21.5772148   & 2.940561e-103 & NA            & NA           \\\\\n",
       "\t`Arterial vascular anomaly` &  0.66109398   & 0.2391856     &   2.7639369   &  5.710859e-03 & 488           & 33           \\\\\n",
       "\tSeptation &  0.44299543   & 0.2331235     &   1.9002607   &  5.739891e-02 & 826           & 45           \\\\\n",
       "\tCardiomyopathy &  0.68816932   & 0.4687896     &   1.4679705   &  1.421122e-01 & 54            & 5            \\\\\n",
       "\t`AV Canal` &  0.51937301   & 0.4292456     &   1.2099670   &  2.262916e-01 & 110           & 7            \\\\\n",
       "\t`Coronary anomaly` &  0.39836789   & 0.4360905     &   0.9134981   &  3.609806e-01 & 98            & 6            \\\\\n",
       "\t`Conotruncal (septation and spiraling)` &  0.12013231   & 0.2371294     &   0.5066107   &  6.124280e-01 & 788           & 37           \\\\\n",
       "\t`L/R Asymmetry` & -0.24270215   & 0.6274317     &  -0.3868184   &  6.988906e-01 & 94            & 4            \\\\\n",
       "\t`Venous vascular anomaly` & -0.12822982   & 0.3658403     &  -0.3505077   &  7.259577e-01 & 254           & 11           \\\\\n",
       "\t`Semilunar valvular` &  0.07969122   & 0.2511525     &   0.3173021   &  7.510143e-01 & 720           & 35           \\\\\n",
       "\t`AV valvular` & -0.05189031   & 0.3259918     &  -0.1591767   &  8.735296e-01 & 416           & 19           \\\\\n",
       "\t`Single Ventricle Defect` & -0.08434689   & 0.3518068     &  -0.2397534   &  8.105214e-01 & 358           & 16           \\\\\n",
       "\tMisc & -0.08909948   & 0.6114049     &  -0.1457291   &  8.841353e-01 & 71            & 3            \\\\\n",
       "\t`Situs (Van Praag/Anderson)` & -0.01818898   & 0.5165255     &  -0.0352141   &  9.719090e-01 & 109           & 5            \\\\\n",
       "\\end{tabular}\n"
      ],
      "text/markdown": [
       "\n",
       "| <!--/--> | Estimate | Std..Error | z.value | Pr...z.. | Number.of.Probands | Total.Interactome.Mutations |\n",
       "|---|---|---|---|---|---|---|\n",
       "| (Intercept) | -3.75691843   | 0.1741151     | -21.5772148   | 2.940561e-103 | NA            | NA            |\n",
       "| `Arterial vascular anomaly` |  0.66109398   | 0.2391856     |   2.7639369   |  5.710859e-03 | 488           | 33            |\n",
       "| Septation |  0.44299543   | 0.2331235     |   1.9002607   |  5.739891e-02 | 826           | 45            |\n",
       "| Cardiomyopathy |  0.68816932   | 0.4687896     |   1.4679705   |  1.421122e-01 | 54            | 5             |\n",
       "| `AV Canal` |  0.51937301   | 0.4292456     |   1.2099670   |  2.262916e-01 | 110           | 7             |\n",
       "| `Coronary anomaly` |  0.39836789   | 0.4360905     |   0.9134981   |  3.609806e-01 | 98            | 6             |\n",
       "| `Conotruncal (septation and spiraling)` |  0.12013231   | 0.2371294     |   0.5066107   |  6.124280e-01 | 788           | 37            |\n",
       "| `L/R Asymmetry` | -0.24270215   | 0.6274317     |  -0.3868184   |  6.988906e-01 | 94            | 4             |\n",
       "| `Venous vascular anomaly` | -0.12822982   | 0.3658403     |  -0.3505077   |  7.259577e-01 | 254           | 11            |\n",
       "| `Semilunar valvular` |  0.07969122   | 0.2511525     |   0.3173021   |  7.510143e-01 | 720           | 35            |\n",
       "| `AV valvular` | -0.05189031   | 0.3259918     |  -0.1591767   |  8.735296e-01 | 416           | 19            |\n",
       "| `Single Ventricle Defect` | -0.08434689   | 0.3518068     |  -0.2397534   |  8.105214e-01 | 358           | 16            |\n",
       "| Misc | -0.08909948   | 0.6114049     |  -0.1457291   |  8.841353e-01 | 71            | 3             |\n",
       "| `Situs (Van Praag/Anderson)` | -0.01818898   | 0.5165255     |  -0.0352141   |  9.719090e-01 | 109           | 5             |\n",
       "\n"
      ],
      "text/plain": [
       "                                        Estimate    Std..Error z.value    \n",
       "(Intercept)                             -3.75691843 0.1741151  -21.5772148\n",
       "`Arterial vascular anomaly`              0.66109398 0.2391856    2.7639369\n",
       "Septation                                0.44299543 0.2331235    1.9002607\n",
       "Cardiomyopathy                           0.68816932 0.4687896    1.4679705\n",
       "`AV Canal`                               0.51937301 0.4292456    1.2099670\n",
       "`Coronary anomaly`                       0.39836789 0.4360905    0.9134981\n",
       "`Conotruncal (septation and spiraling)`  0.12013231 0.2371294    0.5066107\n",
       "`L/R Asymmetry`                         -0.24270215 0.6274317   -0.3868184\n",
       "`Venous vascular anomaly`               -0.12822982 0.3658403   -0.3505077\n",
       "`Semilunar valvular`                     0.07969122 0.2511525    0.3173021\n",
       "`AV valvular`                           -0.05189031 0.3259918   -0.1591767\n",
       "`Single Ventricle Defect`               -0.08434689 0.3518068   -0.2397534\n",
       "Misc                                    -0.08909948 0.6114049   -0.1457291\n",
       "`Situs (Van Praag/Anderson)`            -0.01818898 0.5165255   -0.0352141\n",
       "                                        Pr...z..      Number.of.Probands\n",
       "(Intercept)                             2.940561e-103 NA                \n",
       "`Arterial vascular anomaly`              5.710859e-03 488               \n",
       "Septation                                5.739891e-02 826               \n",
       "Cardiomyopathy                           1.421122e-01 54                \n",
       "`AV Canal`                               2.262916e-01 110               \n",
       "`Coronary anomaly`                       3.609806e-01 98                \n",
       "`Conotruncal (septation and spiraling)`  6.124280e-01 788               \n",
       "`L/R Asymmetry`                          6.988906e-01 94                \n",
       "`Venous vascular anomaly`                7.259577e-01 254               \n",
       "`Semilunar valvular`                     7.510143e-01 720               \n",
       "`AV valvular`                            8.735296e-01 416               \n",
       "`Single Ventricle Defect`                8.105214e-01 358               \n",
       "Misc                                     8.841353e-01 71                \n",
       "`Situs (Van Praag/Anderson)`             9.719090e-01 109               \n",
       "                                        Total.Interactome.Mutations\n",
       "(Intercept)                             NA                         \n",
       "`Arterial vascular anomaly`             33                         \n",
       "Septation                               45                         \n",
       "Cardiomyopathy                          5                          \n",
       "`AV Canal`                              7                          \n",
       "`Coronary anomaly`                      6                          \n",
       "`Conotruncal (septation and spiraling)` 37                         \n",
       "`L/R Asymmetry`                         4                          \n",
       "`Venous vascular anomaly`               11                         \n",
       "`Semilunar valvular`                    35                         \n",
       "`AV valvular`                           19                         \n",
       "`Single Ventricle Defect`               16                         \n",
       "Misc                                    3                          \n",
       "`Situs (Van Praag/Anderson)`            5                          "
      ]
     },
     "metadata": {},
     "output_type": "display_data"
    }
   ],
   "source": [
    "result_df$Number.of.Probands = 'NA'\n",
    "result_df$Total.Interactome.Mutations = 'NA'\n",
    "\n",
    "for (i in c(2:nrow(result_df))){\n",
    "    diagnosis = gsub('`','',row.names(result_df)[i])\n",
    "    result_df[i,'Number.of.Probands'] = n_probands[diagnosis]\n",
    "    result_df[i,'Total.Interactome.Mutations'] = get_n_mutations(diagnosis,var_count)\n",
    "}\n",
    "result_df"
   ]
  },
  {
   "cell_type": "code",
   "execution_count": 15,
   "metadata": {},
   "outputs": [
    {
     "data": {
      "text/html": [
       "<table>\n",
       "<thead><tr><th></th><th scope=col>Estimate</th><th scope=col>Std..Error</th><th scope=col>z.value</th><th scope=col>Pr...z..</th><th scope=col>Number.of.Probands</th><th scope=col>Total.Interactome.Mutations</th><th scope=col>Relative.Risk</th></tr></thead>\n",
       "<tbody>\n",
       "\t<tr><th scope=row>(Intercept)</th><td>-3.75691843  </td><td>0.1741151    </td><td>-21.5772148  </td><td>2.940561e-103</td><td>NA           </td><td>NA           </td><td>0.0233556    </td></tr>\n",
       "\t<tr><th scope=row>`Arterial vascular anomaly`</th><td> 0.66109398  </td><td>0.2391856    </td><td>  2.7639369  </td><td> 5.710859e-03</td><td>488          </td><td>33           </td><td>1.9369101    </td></tr>\n",
       "\t<tr><th scope=row>Septation</th><td> 0.44299543  </td><td>0.2331235    </td><td>  1.9002607  </td><td> 5.739891e-02</td><td>826          </td><td>45           </td><td>1.5573652    </td></tr>\n",
       "\t<tr><th scope=row>Cardiomyopathy</th><td> 0.68816932  </td><td>0.4687896    </td><td>  1.4679705  </td><td> 1.421122e-01</td><td>54           </td><td>5            </td><td>1.9900690    </td></tr>\n",
       "\t<tr><th scope=row>`AV Canal`</th><td> 0.51937301  </td><td>0.4292456    </td><td>  1.2099670  </td><td> 2.262916e-01</td><td>110          </td><td>7            </td><td>1.6809734    </td></tr>\n",
       "\t<tr><th scope=row>`Coronary anomaly`</th><td> 0.39836789  </td><td>0.4360905    </td><td>  0.9134981  </td><td> 3.609806e-01</td><td>98           </td><td>6            </td><td>1.4893919    </td></tr>\n",
       "\t<tr><th scope=row>`Conotruncal (septation and spiraling)`</th><td> 0.12013231  </td><td>0.2371294    </td><td>  0.5066107  </td><td> 6.124280e-01</td><td>788          </td><td>37           </td><td>1.1276460    </td></tr>\n",
       "\t<tr><th scope=row>`L/R Asymmetry`</th><td>-0.24270215  </td><td>0.6274317    </td><td> -0.3868184  </td><td> 6.988906e-01</td><td>94           </td><td>4            </td><td>0.7845051    </td></tr>\n",
       "\t<tr><th scope=row>`Venous vascular anomaly`</th><td>-0.12822982  </td><td>0.3658403    </td><td> -0.3505077  </td><td> 7.259577e-01</td><td>254          </td><td>11           </td><td>0.8796512    </td></tr>\n",
       "\t<tr><th scope=row>`Semilunar valvular`</th><td> 0.07969122  </td><td>0.2511525    </td><td>  0.3173021  </td><td> 7.510143e-01</td><td>720          </td><td>35           </td><td>1.0829526    </td></tr>\n",
       "\t<tr><th scope=row>`AV valvular`</th><td>-0.05189031  </td><td>0.3259918    </td><td> -0.1591767  </td><td> 8.735296e-01</td><td>416          </td><td>19           </td><td>0.9494330    </td></tr>\n",
       "\t<tr><th scope=row>`Single Ventricle Defect`</th><td>-0.08434689  </td><td>0.3518068    </td><td> -0.2397534  </td><td> 8.105214e-01</td><td>358          </td><td>16           </td><td>0.9191124    </td></tr>\n",
       "\t<tr><th scope=row>Misc</th><td>-0.08909948  </td><td>0.6114049    </td><td> -0.1457291  </td><td> 8.841353e-01</td><td>71           </td><td>3            </td><td>0.9147546    </td></tr>\n",
       "\t<tr><th scope=row>`Situs (Van Praag/Anderson)`</th><td>-0.01818898  </td><td>0.5165255    </td><td> -0.0352141  </td><td> 9.719090e-01</td><td>109          </td><td>5            </td><td>0.9819754    </td></tr>\n",
       "</tbody>\n",
       "</table>\n"
      ],
      "text/latex": [
       "\\begin{tabular}{r|lllllll}\n",
       "  & Estimate & Std..Error & z.value & Pr...z.. & Number.of.Probands & Total.Interactome.Mutations & Relative.Risk\\\\\n",
       "\\hline\n",
       "\t(Intercept) & -3.75691843   & 0.1741151     & -21.5772148   & 2.940561e-103 & NA            & NA            & 0.0233556    \\\\\n",
       "\t`Arterial vascular anomaly` &  0.66109398   & 0.2391856     &   2.7639369   &  5.710859e-03 & 488           & 33            & 1.9369101    \\\\\n",
       "\tSeptation &  0.44299543   & 0.2331235     &   1.9002607   &  5.739891e-02 & 826           & 45            & 1.5573652    \\\\\n",
       "\tCardiomyopathy &  0.68816932   & 0.4687896     &   1.4679705   &  1.421122e-01 & 54            & 5             & 1.9900690    \\\\\n",
       "\t`AV Canal` &  0.51937301   & 0.4292456     &   1.2099670   &  2.262916e-01 & 110           & 7             & 1.6809734    \\\\\n",
       "\t`Coronary anomaly` &  0.39836789   & 0.4360905     &   0.9134981   &  3.609806e-01 & 98            & 6             & 1.4893919    \\\\\n",
       "\t`Conotruncal (septation and spiraling)` &  0.12013231   & 0.2371294     &   0.5066107   &  6.124280e-01 & 788           & 37            & 1.1276460    \\\\\n",
       "\t`L/R Asymmetry` & -0.24270215   & 0.6274317     &  -0.3868184   &  6.988906e-01 & 94            & 4             & 0.7845051    \\\\\n",
       "\t`Venous vascular anomaly` & -0.12822982   & 0.3658403     &  -0.3505077   &  7.259577e-01 & 254           & 11            & 0.8796512    \\\\\n",
       "\t`Semilunar valvular` &  0.07969122   & 0.2511525     &   0.3173021   &  7.510143e-01 & 720           & 35            & 1.0829526    \\\\\n",
       "\t`AV valvular` & -0.05189031   & 0.3259918     &  -0.1591767   &  8.735296e-01 & 416           & 19            & 0.9494330    \\\\\n",
       "\t`Single Ventricle Defect` & -0.08434689   & 0.3518068     &  -0.2397534   &  8.105214e-01 & 358           & 16            & 0.9191124    \\\\\n",
       "\tMisc & -0.08909948   & 0.6114049     &  -0.1457291   &  8.841353e-01 & 71            & 3             & 0.9147546    \\\\\n",
       "\t`Situs (Van Praag/Anderson)` & -0.01818898   & 0.5165255     &  -0.0352141   &  9.719090e-01 & 109           & 5             & 0.9819754    \\\\\n",
       "\\end{tabular}\n"
      ],
      "text/markdown": [
       "\n",
       "| <!--/--> | Estimate | Std..Error | z.value | Pr...z.. | Number.of.Probands | Total.Interactome.Mutations | Relative.Risk |\n",
       "|---|---|---|---|---|---|---|---|\n",
       "| (Intercept) | -3.75691843   | 0.1741151     | -21.5772148   | 2.940561e-103 | NA            | NA            | 0.0233556     |\n",
       "| `Arterial vascular anomaly` |  0.66109398   | 0.2391856     |   2.7639369   |  5.710859e-03 | 488           | 33            | 1.9369101     |\n",
       "| Septation |  0.44299543   | 0.2331235     |   1.9002607   |  5.739891e-02 | 826           | 45            | 1.5573652     |\n",
       "| Cardiomyopathy |  0.68816932   | 0.4687896     |   1.4679705   |  1.421122e-01 | 54            | 5             | 1.9900690     |\n",
       "| `AV Canal` |  0.51937301   | 0.4292456     |   1.2099670   |  2.262916e-01 | 110           | 7             | 1.6809734     |\n",
       "| `Coronary anomaly` |  0.39836789   | 0.4360905     |   0.9134981   |  3.609806e-01 | 98            | 6             | 1.4893919     |\n",
       "| `Conotruncal (septation and spiraling)` |  0.12013231   | 0.2371294     |   0.5066107   |  6.124280e-01 | 788           | 37            | 1.1276460     |\n",
       "| `L/R Asymmetry` | -0.24270215   | 0.6274317     |  -0.3868184   |  6.988906e-01 | 94            | 4             | 0.7845051     |\n",
       "| `Venous vascular anomaly` | -0.12822982   | 0.3658403     |  -0.3505077   |  7.259577e-01 | 254           | 11            | 0.8796512     |\n",
       "| `Semilunar valvular` |  0.07969122   | 0.2511525     |   0.3173021   |  7.510143e-01 | 720           | 35            | 1.0829526     |\n",
       "| `AV valvular` | -0.05189031   | 0.3259918     |  -0.1591767   |  8.735296e-01 | 416           | 19            | 0.9494330     |\n",
       "| `Single Ventricle Defect` | -0.08434689   | 0.3518068     |  -0.2397534   |  8.105214e-01 | 358           | 16            | 0.9191124     |\n",
       "| Misc | -0.08909948   | 0.6114049     |  -0.1457291   |  8.841353e-01 | 71            | 3             | 0.9147546     |\n",
       "| `Situs (Van Praag/Anderson)` | -0.01818898   | 0.5165255     |  -0.0352141   |  9.719090e-01 | 109           | 5             | 0.9819754     |\n",
       "\n"
      ],
      "text/plain": [
       "                                        Estimate    Std..Error z.value    \n",
       "(Intercept)                             -3.75691843 0.1741151  -21.5772148\n",
       "`Arterial vascular anomaly`              0.66109398 0.2391856    2.7639369\n",
       "Septation                                0.44299543 0.2331235    1.9002607\n",
       "Cardiomyopathy                           0.68816932 0.4687896    1.4679705\n",
       "`AV Canal`                               0.51937301 0.4292456    1.2099670\n",
       "`Coronary anomaly`                       0.39836789 0.4360905    0.9134981\n",
       "`Conotruncal (septation and spiraling)`  0.12013231 0.2371294    0.5066107\n",
       "`L/R Asymmetry`                         -0.24270215 0.6274317   -0.3868184\n",
       "`Venous vascular anomaly`               -0.12822982 0.3658403   -0.3505077\n",
       "`Semilunar valvular`                     0.07969122 0.2511525    0.3173021\n",
       "`AV valvular`                           -0.05189031 0.3259918   -0.1591767\n",
       "`Single Ventricle Defect`               -0.08434689 0.3518068   -0.2397534\n",
       "Misc                                    -0.08909948 0.6114049   -0.1457291\n",
       "`Situs (Van Praag/Anderson)`            -0.01818898 0.5165255   -0.0352141\n",
       "                                        Pr...z..      Number.of.Probands\n",
       "(Intercept)                             2.940561e-103 NA                \n",
       "`Arterial vascular anomaly`              5.710859e-03 488               \n",
       "Septation                                5.739891e-02 826               \n",
       "Cardiomyopathy                           1.421122e-01 54                \n",
       "`AV Canal`                               2.262916e-01 110               \n",
       "`Coronary anomaly`                       3.609806e-01 98                \n",
       "`Conotruncal (septation and spiraling)`  6.124280e-01 788               \n",
       "`L/R Asymmetry`                          6.988906e-01 94                \n",
       "`Venous vascular anomaly`                7.259577e-01 254               \n",
       "`Semilunar valvular`                     7.510143e-01 720               \n",
       "`AV valvular`                            8.735296e-01 416               \n",
       "`Single Ventricle Defect`                8.105214e-01 358               \n",
       "Misc                                     8.841353e-01 71                \n",
       "`Situs (Van Praag/Anderson)`             9.719090e-01 109               \n",
       "                                        Total.Interactome.Mutations\n",
       "(Intercept)                             NA                         \n",
       "`Arterial vascular anomaly`             33                         \n",
       "Septation                               45                         \n",
       "Cardiomyopathy                          5                          \n",
       "`AV Canal`                              7                          \n",
       "`Coronary anomaly`                      6                          \n",
       "`Conotruncal (septation and spiraling)` 37                         \n",
       "`L/R Asymmetry`                         4                          \n",
       "`Venous vascular anomaly`               11                         \n",
       "`Semilunar valvular`                    35                         \n",
       "`AV valvular`                           19                         \n",
       "`Single Ventricle Defect`               16                         \n",
       "Misc                                    3                          \n",
       "`Situs (Van Praag/Anderson)`            5                          \n",
       "                                        Relative.Risk\n",
       "(Intercept)                             0.0233556    \n",
       "`Arterial vascular anomaly`             1.9369101    \n",
       "Septation                               1.5573652    \n",
       "Cardiomyopathy                          1.9900690    \n",
       "`AV Canal`                              1.6809734    \n",
       "`Coronary anomaly`                      1.4893919    \n",
       "`Conotruncal (septation and spiraling)` 1.1276460    \n",
       "`L/R Asymmetry`                         0.7845051    \n",
       "`Venous vascular anomaly`               0.8796512    \n",
       "`Semilunar valvular`                    1.0829526    \n",
       "`AV valvular`                           0.9494330    \n",
       "`Single Ventricle Defect`               0.9191124    \n",
       "Misc                                    0.9147546    \n",
       "`Situs (Van Praag/Anderson)`            0.9819754    "
      ]
     },
     "metadata": {},
     "output_type": "display_data"
    }
   ],
   "source": [
    "result_df$Relative.Risk = exp(result_df$Estimate)\n",
    "result_df"
   ]
  },
  {
   "cell_type": "code",
   "execution_count": 16,
   "metadata": {},
   "outputs": [],
   "source": [
    "names(result_df) <- c('Regression.Coefficient', 'Std.Error','z.score','p.value',\n",
    "                      'N.probands.with.diagnosis','N.interactome.mutations.in.probands',\n",
    "                      'Relative.Risk')\n",
    "row.names(result_df) <- gsub('`','',row.names(result_df))"
   ]
  },
  {
   "cell_type": "code",
   "execution_count": 17,
   "metadata": {},
   "outputs": [],
   "source": [
    "result_df = result_df[,c('Regression.Coefficient','Relative.Risk','Std.Error','z.score',\n",
    "                         'p.value','N.probands.with.diagnosis',\n",
    "                         'N.interactome.mutations.in.probands')]\n",
    "\n",
    "write.csv(result_df, '../manuscript/tables/diagnostic_regression.csv', \n",
    "          quote=FALSE)"
   ]
  }
 ],
 "metadata": {
  "kernelspec": {
   "display_name": "R",
   "language": "R",
   "name": "ir"
  },
  "language_info": {
   "codemirror_mode": "r",
   "file_extension": ".r",
   "mimetype": "text/x-r-source",
   "name": "R",
   "pygments_lexer": "r",
   "version": "3.6.1"
  }
 },
 "nbformat": 4,
 "nbformat_minor": 4
}
