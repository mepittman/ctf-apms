{
 "cells": [
  {
   "cell_type": "markdown",
   "metadata": {},
   "source": [
    "This notebook annotates each de novo variant in cases and controls with relevant characteristics for downstream analysis: \n",
    "- CADD score\n",
    "- gnomAD pLI and observed/expected scores\n",
    "- expression percentile rank in the developing heart\n",
    "- enrichment of expression in heart tissue relative to other tissues\n",
    "- number of connections to other (CHD/variant) genes in iRefDB\n",
    "- haploinsufficiency\n",
    "- mutations in the PCGC cohort per kilobase of DNA. "
   ]
  },
  {
   "cell_type": "code",
   "execution_count": 1,
   "metadata": {
    "scrolled": true
   },
   "outputs": [
    {
     "name": "stderr",
     "output_type": "stream",
     "text": [
      "Loading required package: bitops\n",
      "Registered S3 method overwritten by 'openssl':\n",
      "  method      from\n",
      "  print.bytes Rcpp\n"
     ]
    }
   ],
   "source": [
    "library(RCurl)\n",
    "library(XML)\n",
    "library(biomaRt)\n",
    "library(data.table)"
   ]
  },
  {
   "cell_type": "code",
   "execution_count": 2,
   "metadata": {},
   "outputs": [
    {
     "data": {
      "text/html": [
       "<ol class=list-inline>\n",
       "\t<li>'misD'</li>\n",
       "\t<li>'mis'</li>\n",
       "\t<li>'loss of function'</li>\n",
       "\t<li>'syn'</li>\n",
       "\t<li>'non'</li>\n",
       "\t<li>'frameshift'</li>\n",
       "\t<li>'startloss'</li>\n",
       "\t<li>'splice'</li>\n",
       "\t<li>'stoploss'</li>\n",
       "</ol>\n"
      ],
      "text/latex": [
       "\\begin{enumerate*}\n",
       "\\item 'misD'\n",
       "\\item 'mis'\n",
       "\\item 'loss of function'\n",
       "\\item 'syn'\n",
       "\\item 'non'\n",
       "\\item 'frameshift'\n",
       "\\item 'startloss'\n",
       "\\item 'splice'\n",
       "\\item 'stoploss'\n",
       "\\end{enumerate*}\n"
      ],
      "text/markdown": [
       "1. 'misD'\n",
       "2. 'mis'\n",
       "3. 'loss of function'\n",
       "4. 'syn'\n",
       "5. 'non'\n",
       "6. 'frameshift'\n",
       "7. 'startloss'\n",
       "8. 'splice'\n",
       "9. 'stoploss'\n",
       "\n",
       "\n"
      ],
      "text/plain": [
       "[1] \"misD\"             \"mis\"              \"loss of function\" \"syn\"             \n",
       "[5] \"non\"              \"frameshift\"       \"startloss\"        \"splice\"          \n",
       "[9] \"stoploss\"        "
      ]
     },
     "metadata": {},
     "output_type": "display_data"
    }
   ],
   "source": [
    "DNV_cases = read.csv('../data/variants/DNV_cases_v10v11.csv', stringsAsFactors = FALSE)\n",
    "DNV_ctrls = read.csv('../data/variants/DNV_ctrls.csv', stringsAsFactors = FALSE)\n",
    "DNV_cases$variant_type = ifelse(DNV_cases$Variant.Class == \"syn\", \"Case Synonymous\", \"Case Non-synonymous\")\n",
    "DNV_ctrls$variant_type = ifelse(DNV_ctrls$Variant.Class == \"syn\", \"Control Synonymous\", \"Control Non-synonymous\")\n",
    "\n",
    "unique(DNV_cases$Variant.Class)"
   ]
  },
  {
   "cell_type": "code",
   "execution_count": 3,
   "metadata": {},
   "outputs": [
    {
     "data": {
      "text/html": [
       "<table>\n",
       "<thead><tr><th scope=col>Blinded.ID</th><th scope=col>CHROM</th><th scope=col>POS</th><th scope=col>REF</th><th scope=col>ALT</th><th scope=col>Variant.Class</th><th scope=col>variant_type</th><th scope=col>Gene</th></tr></thead>\n",
       "<tbody>\n",
       "\t<tr><td>1-05022            </td><td>12                 </td><td>112915523          </td><td>A                  </td><td>G                  </td><td>misD               </td><td>Case Non-synonymous</td><td>PTPN11             </td></tr>\n",
       "\t<tr><td>1-04539            </td><td>10                 </td><td>120789851          </td><td>A                  </td><td>G                  </td><td>mis                </td><td>Case Non-synonymous</td><td>NANOS1             </td></tr>\n",
       "\t<tr><td>1-04539            </td><td>1                  </td><td> 32256494          </td><td>G                  </td><td>A                  </td><td>loss of function   </td><td>Case Non-synonymous</td><td>SPOCD1             </td></tr>\n",
       "\t<tr><td>1-04957            </td><td>1                  </td><td>186301443          </td><td>G                  </td><td>A                  </td><td>mis                </td><td>Case Non-synonymous</td><td>TPR                </td></tr>\n",
       "\t<tr><td>1-11668            </td><td>5                  </td><td>180056757          </td><td>C                  </td><td>G                  </td><td>misD               </td><td>Case Non-synonymous</td><td>FLT4               </td></tr>\n",
       "\t<tr><td>1-12471            </td><td>16                 </td><td> 57760088          </td><td>C                  </td><td>T                  </td><td>mis                </td><td>Case Non-synonymous</td><td>DRC7               </td></tr>\n",
       "</tbody>\n",
       "</table>\n"
      ],
      "text/latex": [
       "\\begin{tabular}{r|llllllll}\n",
       " Blinded.ID & CHROM & POS & REF & ALT & Variant.Class & variant\\_type & Gene\\\\\n",
       "\\hline\n",
       "\t 1-05022             & 12                  & 112915523           & A                   & G                   & misD                & Case Non-synonymous & PTPN11             \\\\\n",
       "\t 1-04539             & 10                  & 120789851           & A                   & G                   & mis                 & Case Non-synonymous & NANOS1             \\\\\n",
       "\t 1-04539             & 1                   &  32256494           & G                   & A                   & loss of function    & Case Non-synonymous & SPOCD1             \\\\\n",
       "\t 1-04957             & 1                   & 186301443           & G                   & A                   & mis                 & Case Non-synonymous & TPR                \\\\\n",
       "\t 1-11668             & 5                   & 180056757           & C                   & G                   & misD                & Case Non-synonymous & FLT4               \\\\\n",
       "\t 1-12471             & 16                  &  57760088           & C                   & T                   & mis                 & Case Non-synonymous & DRC7               \\\\\n",
       "\\end{tabular}\n"
      ],
      "text/markdown": [
       "\n",
       "| Blinded.ID | CHROM | POS | REF | ALT | Variant.Class | variant_type | Gene |\n",
       "|---|---|---|---|---|---|---|---|\n",
       "| 1-05022             | 12                  | 112915523           | A                   | G                   | misD                | Case Non-synonymous | PTPN11              |\n",
       "| 1-04539             | 10                  | 120789851           | A                   | G                   | mis                 | Case Non-synonymous | NANOS1              |\n",
       "| 1-04539             | 1                   |  32256494           | G                   | A                   | loss of function    | Case Non-synonymous | SPOCD1              |\n",
       "| 1-04957             | 1                   | 186301443           | G                   | A                   | mis                 | Case Non-synonymous | TPR                 |\n",
       "| 1-11668             | 5                   | 180056757           | C                   | G                   | misD                | Case Non-synonymous | FLT4                |\n",
       "| 1-12471             | 16                  |  57760088           | C                   | T                   | mis                 | Case Non-synonymous | DRC7                |\n",
       "\n"
      ],
      "text/plain": [
       "  Blinded.ID CHROM POS       REF ALT Variant.Class    variant_type       \n",
       "1 1-05022    12    112915523 A   G   misD             Case Non-synonymous\n",
       "2 1-04539    10    120789851 A   G   mis              Case Non-synonymous\n",
       "3 1-04539    1      32256494 G   A   loss of function Case Non-synonymous\n",
       "4 1-04957    1     186301443 G   A   mis              Case Non-synonymous\n",
       "5 1-11668    5     180056757 C   G   misD             Case Non-synonymous\n",
       "6 1-12471    16     57760088 C   T   mis              Case Non-synonymous\n",
       "  Gene  \n",
       "1 PTPN11\n",
       "2 NANOS1\n",
       "3 SPOCD1\n",
       "4 TPR   \n",
       "5 FLT4  \n",
       "6 DRC7  "
      ]
     },
     "metadata": {},
     "output_type": "display_data"
    },
    {
     "data": {
      "text/html": [
       "5200"
      ],
      "text/latex": [
       "5200"
      ],
      "text/markdown": [
       "5200"
      ],
      "text/plain": [
       "[1] 5200"
      ]
     },
     "metadata": {},
     "output_type": "display_data"
    }
   ],
   "source": [
    "names(DNV_cases)[which(names(DNV_cases) == \"CHR\")] <- \"CHROM\"\n",
    "cols  = c(\"Blinded.ID\",\"CHROM\",\"POS\",'REF','ALT','Variant.Class','variant_type','Gene')\n",
    "combined = rbind(DNV_cases[,cols], DNV_ctrls[,cols])\n",
    "head(combined)\n",
    "nrow(combined)"
   ]
  },
  {
   "cell_type": "code",
   "execution_count": 4,
   "metadata": {},
   "outputs": [
    {
     "data": {
      "text/html": [
       "<table>\n",
       "<thead><tr><th scope=col>Blinded.ID</th><th scope=col>CHROM</th><th scope=col>POS</th><th scope=col>REF</th><th scope=col>ALT</th><th scope=col>Variant.Class</th><th scope=col>variant_type</th><th scope=col>Gene</th><th scope=col>Interactome</th><th scope=col>variant_type_2</th></tr></thead>\n",
       "<tbody>\n",
       "\t<tr><td>1-05022                            </td><td>12                                 </td><td>112915523                          </td><td>A                                  </td><td>G                                  </td><td>misD                               </td><td>Case Non-synonymous                </td><td>PTPN11                             </td><td>Non-interactome                    </td><td>Case Non-synonymous_Non-interactome</td></tr>\n",
       "\t<tr><td>1-04539                            </td><td>10                                 </td><td>120789851                          </td><td>A                                  </td><td>G                                  </td><td>mis                                </td><td>Case Non-synonymous                </td><td>NANOS1                             </td><td>Non-interactome                    </td><td>Case Non-synonymous_Non-interactome</td></tr>\n",
       "\t<tr><td>1-04539                            </td><td>1                                  </td><td> 32256494                          </td><td>G                                  </td><td>A                                  </td><td>loss of function                   </td><td>Case Non-synonymous                </td><td>SPOCD1                             </td><td>Non-interactome                    </td><td>Case Non-synonymous_Non-interactome</td></tr>\n",
       "\t<tr><td>1-04957                            </td><td>1                                  </td><td>186301443                          </td><td>G                                  </td><td>A                                  </td><td>mis                                </td><td>Case Non-synonymous                </td><td>TPR                                </td><td>Non-interactome                    </td><td>Case Non-synonymous_Non-interactome</td></tr>\n",
       "\t<tr><td>1-11668                            </td><td>5                                  </td><td>180056757                          </td><td>C                                  </td><td>G                                  </td><td>misD                               </td><td>Case Non-synonymous                </td><td>FLT4                               </td><td>Non-interactome                    </td><td>Case Non-synonymous_Non-interactome</td></tr>\n",
       "\t<tr><td>1-12471                            </td><td>16                                 </td><td> 57760088                          </td><td>C                                  </td><td>T                                  </td><td>mis                                </td><td>Case Non-synonymous                </td><td>DRC7                               </td><td>Non-interactome                    </td><td>Case Non-synonymous_Non-interactome</td></tr>\n",
       "</tbody>\n",
       "</table>\n"
      ],
      "text/latex": [
       "\\begin{tabular}{r|llllllllll}\n",
       " Blinded.ID & CHROM & POS & REF & ALT & Variant.Class & variant\\_type & Gene & Interactome & variant\\_type\\_2\\\\\n",
       "\\hline\n",
       "\t 1-05022                               & 12                                    & 112915523                             & A                                     & G                                     & misD                                  & Case Non-synonymous                   & PTPN11                                & Non-interactome                       & Case Non-synonymous\\_Non-interactome\\\\\n",
       "\t 1-04539                               & 10                                    & 120789851                             & A                                     & G                                     & mis                                   & Case Non-synonymous                   & NANOS1                                & Non-interactome                       & Case Non-synonymous\\_Non-interactome\\\\\n",
       "\t 1-04539                               & 1                                     &  32256494                             & G                                     & A                                     & loss of function                      & Case Non-synonymous                   & SPOCD1                                & Non-interactome                       & Case Non-synonymous\\_Non-interactome\\\\\n",
       "\t 1-04957                               & 1                                     & 186301443                             & G                                     & A                                     & mis                                   & Case Non-synonymous                   & TPR                                   & Non-interactome                       & Case Non-synonymous\\_Non-interactome\\\\\n",
       "\t 1-11668                               & 5                                     & 180056757                             & C                                     & G                                     & misD                                  & Case Non-synonymous                   & FLT4                                  & Non-interactome                       & Case Non-synonymous\\_Non-interactome\\\\\n",
       "\t 1-12471                               & 16                                    &  57760088                             & C                                     & T                                     & mis                                   & Case Non-synonymous                   & DRC7                                  & Non-interactome                       & Case Non-synonymous\\_Non-interactome\\\\\n",
       "\\end{tabular}\n"
      ],
      "text/markdown": [
       "\n",
       "| Blinded.ID | CHROM | POS | REF | ALT | Variant.Class | variant_type | Gene | Interactome | variant_type_2 |\n",
       "|---|---|---|---|---|---|---|---|---|---|\n",
       "| 1-05022                             | 12                                  | 112915523                           | A                                   | G                                   | misD                                | Case Non-synonymous                 | PTPN11                              | Non-interactome                     | Case Non-synonymous_Non-interactome |\n",
       "| 1-04539                             | 10                                  | 120789851                           | A                                   | G                                   | mis                                 | Case Non-synonymous                 | NANOS1                              | Non-interactome                     | Case Non-synonymous_Non-interactome |\n",
       "| 1-04539                             | 1                                   |  32256494                           | G                                   | A                                   | loss of function                    | Case Non-synonymous                 | SPOCD1                              | Non-interactome                     | Case Non-synonymous_Non-interactome |\n",
       "| 1-04957                             | 1                                   | 186301443                           | G                                   | A                                   | mis                                 | Case Non-synonymous                 | TPR                                 | Non-interactome                     | Case Non-synonymous_Non-interactome |\n",
       "| 1-11668                             | 5                                   | 180056757                           | C                                   | G                                   | misD                                | Case Non-synonymous                 | FLT4                                | Non-interactome                     | Case Non-synonymous_Non-interactome |\n",
       "| 1-12471                             | 16                                  |  57760088                           | C                                   | T                                   | mis                                 | Case Non-synonymous                 | DRC7                                | Non-interactome                     | Case Non-synonymous_Non-interactome |\n",
       "\n"
      ],
      "text/plain": [
       "  Blinded.ID CHROM POS       REF ALT Variant.Class    variant_type       \n",
       "1 1-05022    12    112915523 A   G   misD             Case Non-synonymous\n",
       "2 1-04539    10    120789851 A   G   mis              Case Non-synonymous\n",
       "3 1-04539    1      32256494 G   A   loss of function Case Non-synonymous\n",
       "4 1-04957    1     186301443 G   A   mis              Case Non-synonymous\n",
       "5 1-11668    5     180056757 C   G   misD             Case Non-synonymous\n",
       "6 1-12471    16     57760088 C   T   mis              Case Non-synonymous\n",
       "  Gene   Interactome     variant_type_2                     \n",
       "1 PTPN11 Non-interactome Case Non-synonymous_Non-interactome\n",
       "2 NANOS1 Non-interactome Case Non-synonymous_Non-interactome\n",
       "3 SPOCD1 Non-interactome Case Non-synonymous_Non-interactome\n",
       "4 TPR    Non-interactome Case Non-synonymous_Non-interactome\n",
       "5 FLT4   Non-interactome Case Non-synonymous_Non-interactome\n",
       "6 DRC7   Non-interactome Case Non-synonymous_Non-interactome"
      ]
     },
     "metadata": {},
     "output_type": "display_data"
    },
    {
     "data": {
      "text/html": [
       "5200"
      ],
      "text/latex": [
       "5200"
      ],
      "text/markdown": [
       "5200"
      ],
      "text/plain": [
       "[1] 5200"
      ]
     },
     "metadata": {},
     "output_type": "display_data"
    }
   ],
   "source": [
    "gt_df = read.table('../intermediate/interactome_lists/GATA4-TBX5_genes.txt', stringsAsFactors=FALSE)\n",
    "gt_interactome = gt_df$V1\n",
    "\n",
    "combined$Interactome = ifelse(combined$Gene %in% gt_interactome, \"Interactome\", \"Non-interactome\")\n",
    "combined$variant_type_2 = paste0(combined$variant_type, '_', combined$Interactome)\n",
    "head(combined)\n",
    "nrow(combined)"
   ]
  },
  {
   "cell_type": "markdown",
   "metadata": {},
   "source": [
    "## CADD score"
   ]
  },
  {
   "cell_type": "code",
   "execution_count": 5,
   "metadata": {},
   "outputs": [
    {
     "data": {
      "text/html": [
       "5200"
      ],
      "text/latex": [
       "5200"
      ],
      "text/markdown": [
       "5200"
      ],
      "text/plain": [
       "[1] 5200"
      ]
     },
     "metadata": {},
     "output_type": "display_data"
    }
   ],
   "source": [
    "cadd_df = read.table('../data/cadd/cadd_scores.tsv', stringsAsFactors = FALSE, sep=\"\\t\", \n",
    "                     col.names = c('CHROM','POS','REF','ALT','CADD.score','PHRED.score'))\n",
    "\n",
    "df = merge(combined, cadd_df, all.x = TRUE)\n",
    "nrow(df)"
   ]
  },
  {
   "cell_type": "markdown",
   "metadata": {},
   "source": [
    "## gnomAD pLI and observed/expected score "
   ]
  },
  {
   "cell_type": "code",
   "execution_count": 6,
   "metadata": {},
   "outputs": [
    {
     "data": {
      "text/html": [
       "<ol class=list-inline>\n",
       "\t<li>'CFAP46'</li>\n",
       "\t<li>'SRPRA'</li>\n",
       "\t<li>'INAFM2'</li>\n",
       "\t<li>'JMJD7-PLA2G4B\\\\x3bPLA2G4B'</li>\n",
       "\t<li>'INTS14'</li>\n",
       "\t<li>'CRAMP1'</li>\n",
       "\t<li>'DRC7'</li>\n",
       "\t<li>'DRC7'</li>\n",
       "\t<li>'9-Sep'</li>\n",
       "\t<li>'HSH2D'</li>\n",
       "\t<li>'C2CD6'</li>\n",
       "\t<li>'ASB3\\\\x3bGPR75-ASB3'</li>\n",
       "\t<li>'ADIG'</li>\n",
       "\t<li>'USF3'</li>\n",
       "\t<li>'PXYLP1'</li>\n",
       "\t<li>'SMIM29'</li>\n",
       "\t<li>'C7orf55-LUC7L2\\\\x3bLUC7L2'</li>\n",
       "</ol>\n"
      ],
      "text/latex": [
       "\\begin{enumerate*}\n",
       "\\item 'CFAP46'\n",
       "\\item 'SRPRA'\n",
       "\\item 'INAFM2'\n",
       "\\item 'JMJD7-PLA2G4B\\textbackslash{}\\textbackslash{}x3bPLA2G4B'\n",
       "\\item 'INTS14'\n",
       "\\item 'CRAMP1'\n",
       "\\item 'DRC7'\n",
       "\\item 'DRC7'\n",
       "\\item '9-Sep'\n",
       "\\item 'HSH2D'\n",
       "\\item 'C2CD6'\n",
       "\\item 'ASB3\\textbackslash{}\\textbackslash{}x3bGPR75-ASB3'\n",
       "\\item 'ADIG'\n",
       "\\item 'USF3'\n",
       "\\item 'PXYLP1'\n",
       "\\item 'SMIM29'\n",
       "\\item 'C7orf55-LUC7L2\\textbackslash{}\\textbackslash{}x3bLUC7L2'\n",
       "\\end{enumerate*}\n"
      ],
      "text/markdown": [
       "1. 'CFAP46'\n",
       "2. 'SRPRA'\n",
       "3. 'INAFM2'\n",
       "4. 'JMJD7-PLA2G4B\\\\x3bPLA2G4B'\n",
       "5. 'INTS14'\n",
       "6. 'CRAMP1'\n",
       "7. 'DRC7'\n",
       "8. 'DRC7'\n",
       "9. '9-Sep'\n",
       "10. 'HSH2D'\n",
       "11. 'C2CD6'\n",
       "12. 'ASB3\\\\x3bGPR75-ASB3'\n",
       "13. 'ADIG'\n",
       "14. 'USF3'\n",
       "15. 'PXYLP1'\n",
       "16. 'SMIM29'\n",
       "17. 'C7orf55-LUC7L2\\\\x3bLUC7L2'\n",
       "\n",
       "\n"
      ],
      "text/plain": [
       " [1] \"CFAP46\"                    \"SRPRA\"                    \n",
       " [3] \"INAFM2\"                    \"JMJD7-PLA2G4B\\\\x3bPLA2G4B\"\n",
       " [5] \"INTS14\"                    \"CRAMP1\"                   \n",
       " [7] \"DRC7\"                      \"DRC7\"                     \n",
       " [9] \"9-Sep\"                     \"HSH2D\"                    \n",
       "[11] \"C2CD6\"                     \"ASB3\\\\x3bGPR75-ASB3\"      \n",
       "[13] \"ADIG\"                      \"USF3\"                     \n",
       "[15] \"PXYLP1\"                    \"SMIM29\"                   \n",
       "[17] \"C7orf55-LUC7L2\\\\x3bLUC7L2\""
      ]
     },
     "metadata": {},
     "output_type": "display_data"
    }
   ],
   "source": [
    "gnomad = read.table('../data/databases/gnomad_constraint.txt', sep = \"\\t\", stringsAsFactors=FALSE, header=TRUE)\n",
    "gnomad = unique(gnomad[!duplicated(gnomad$gene),])\n",
    "df$Gene[which(!df$Gene %in% gnomad$gene)]"
   ]
  },
  {
   "cell_type": "code",
   "execution_count": 7,
   "metadata": {},
   "outputs": [
    {
     "data": {
      "text/html": [
       "<ol class=list-inline>\n",
       "\t<li>'INAFM2'</li>\n",
       "\t<li>'HSH2D'</li>\n",
       "\t<li>'ADIG'</li>\n",
       "</ol>\n"
      ],
      "text/latex": [
       "\\begin{enumerate*}\n",
       "\\item 'INAFM2'\n",
       "\\item 'HSH2D'\n",
       "\\item 'ADIG'\n",
       "\\end{enumerate*}\n"
      ],
      "text/markdown": [
       "1. 'INAFM2'\n",
       "2. 'HSH2D'\n",
       "3. 'ADIG'\n",
       "\n",
       "\n"
      ],
      "text/plain": [
       "[1] \"INAFM2\" \"HSH2D\"  \"ADIG\"  "
      ]
     },
     "metadata": {},
     "output_type": "display_data"
    }
   ],
   "source": [
    "df$alias = df$Gene\n",
    "\n",
    "df$alias[which(df$Gene == \"9-Sep\")] <- 'SEPT9'\n",
    "df$alias[which(df$Gene == \"CFAP46\")] <- 'TTC40'\n",
    "df$alias[which(df$Gene == \"SRPRA\")] <- 'SRPR'\n",
    "df$alias[which(df$Gene ==\"JMJD7-PLA2G4B\\\\x3bPLA2G4B\")] <- 'PLA2G4B'\n",
    "df$alias[which(df$Gene ==\"INTS14\")] <- \"VWA9\"\n",
    "df$alias[which(df$Gene ==\"CRAMP1\")] <- \"CRAMP1L\"\n",
    "df$alias[which(df$Gene ==\"DRC7\")] <- \"CCDC135\"\n",
    "df$alias[which(df$Gene == \"C2CD6\")] <- 'ALS2CR11'\n",
    "df$alias[which(df$Gene == \"ASB3\\\\x3bGPR75-ASB3\")] <- 'GPR75-ASB3'\n",
    "df$alias[which(df$Gene == \"USF3\")] <- 'KIAA2018'\n",
    "df$alias[which(df$Gene == \"PXYLP1\")] <- 'ACPL2'\n",
    "df$alias[which(df$Gene == \"SMIM29\")] <- 'C6orf1'\n",
    "df$alias[which(df$Gene == \"C7orf55-LUC7L2\\\\x3bLUC7L2\")] <- 'LUC7L2'\n",
    "\n",
    "df$Gene[which(!df$alias %in% gnomad$gene)] # These three genes do not appear to have aliases in the gnomad DB\n",
    "\n"
   ]
  },
  {
   "cell_type": "code",
   "execution_count": 8,
   "metadata": {},
   "outputs": [
    {
     "data": {
      "text/html": [
       "5200"
      ],
      "text/latex": [
       "5200"
      ],
      "text/markdown": [
       "5200"
      ],
      "text/plain": [
       "[1] 5200"
      ]
     },
     "metadata": {},
     "output_type": "display_data"
    }
   ],
   "source": [
    "df = unique(merge(df, gnomad[,c('gene','oe_mis','oe_lof','oe_syn','pLI','cds_length')], \n",
    "           by.x='alias', by.y='gene', all.x = TRUE))\n",
    "nrow(df)"
   ]
  },
  {
   "cell_type": "code",
   "execution_count": 9,
   "metadata": {},
   "outputs": [
    {
     "data": {
      "text/html": [
       "5200"
      ],
      "text/latex": [
       "5200"
      ],
      "text/markdown": [
       "5200"
      ],
      "text/plain": [
       "[1] 5200"
      ]
     },
     "metadata": {},
     "output_type": "display_data"
    }
   ],
   "source": [
    "# Create column with relevant oe score (oe_mis for missense variants, oe_lof for loss-of-function variants)\n",
    "df$oe = NA\n",
    "\n",
    "for(i in c(1:nrow(df))){\n",
    "    if (df$Variant.Class[i] %in% c(\"mis\",\"misD\")){\n",
    "        df$oe[i] = df$oe_mis[i]\n",
    "    } else if(df$Variant.Class[i] %in% c(\"non\",\"frameshift\",\"startloss\",\"splice\",\"stoploss\")){\n",
    "        df$oe[i] = df$oe_lof[i]\n",
    "    } else if(df$Variant.Class[i] == 'syn'){\n",
    "        df$oe[i] = df$oe_syn[i]\n",
    "    }\n",
    "}\n",
    "    \n",
    "nrow(df)"
   ]
  },
  {
   "cell_type": "markdown",
   "metadata": {},
   "source": [
    "## Heart expression percentile rank"
   ]
  },
  {
   "cell_type": "code",
   "execution_count": 10,
   "metadata": {},
   "outputs": [
    {
     "data": {
      "text/html": [
       "5200"
      ],
      "text/latex": [
       "5200"
      ],
      "text/markdown": [
       "5200"
      ],
      "text/plain": [
       "[1] 5200"
      ]
     },
     "metadata": {},
     "output_type": "display_data"
    }
   ],
   "source": [
    "hhe_df = read.table('../data/databases/hhe_genes_rank.txt', sep=\"\\t\", stringsAsFactors = FALSE, header=TRUE)\n",
    "names(hhe_df) <- c(\"Gene\", \"Heart.Expression.Percentile.Rank\")\n",
    "df = merge(df, hhe_df, by.x='alias', by.y='Gene', all.x = TRUE)\n",
    "nrow(df)"
   ]
  },
  {
   "cell_type": "markdown",
   "metadata": {},
   "source": [
    "## Node degree: other DNV genes, known CHD genes"
   ]
  },
  {
   "cell_type": "code",
   "execution_count": 11,
   "metadata": {},
   "outputs": [],
   "source": [
    "iref = read.table('../data/databases/mammalian_iRefIndex.txt', sep='\\t', stringsAsFactors=F, header=T)"
   ]
  },
  {
   "cell_type": "code",
   "execution_count": 12,
   "metadata": {},
   "outputs": [],
   "source": [
    "nonsyn_dnvs = unique(DNV_cases[which(DNV_cases$Variant.Class != \"syn\"), 'Gene'])\n",
    "\n",
    "known = read.table('../data/databases/known_CHD_genes.txt', stringsAsFactors = FALSE)\n",
    "known_genes = known$V1"
   ]
  },
  {
   "cell_type": "code",
   "execution_count": 13,
   "metadata": {},
   "outputs": [],
   "source": [
    "# We're interested in any genes with a DNV, all interactome genes, and reference variant genes\n",
    "genes_of_interest = unique(c(DNV_cases$Gene, DNV_ctrls$Gene, gt_interactome, df$alias,\n",
    "                             c(\"NKX2-5\",\"TBX5\",\"MKL2\",\"MYH7\")))"
   ]
  },
  {
   "cell_type": "code",
   "execution_count": 14,
   "metadata": {},
   "outputs": [],
   "source": [
    "get_degree <- function(gene, subnetwork){\n",
    "    \n",
    "    lines = subnetwork[which(subnetwork$aliasA == gene | subnetwork$aliasB == gene),]\n",
    "    lines = lines[which(lines$aliasA != lines$aliasB),c('aliasA','aliasB')]\n",
    "    swap_lines = lines[,c('aliasB','aliasA')]\n",
    "    names(swap_lines) = c('aliasA','aliasB')\n",
    "    both = rbind(lines, swap_lines)\n",
    "    both = unique(both)\n",
    "    degree = nrow(both)/2\n",
    "    \n",
    "    return(degree)\n",
    "}"
   ]
  },
  {
   "cell_type": "code",
   "execution_count": 15,
   "metadata": {},
   "outputs": [],
   "source": [
    "gene_conn = data.frame(genes_of_interest)\n",
    "names(gene_conn) <- 'Gene'\n",
    "gene_conn$total_connections = 0\n",
    "gene_conn$dnv_node_degree = 0\n",
    "gene_conn$corrected_dnv_node_degree = 0\n",
    "gene_conn$chd_node_degree = 0\n",
    "gene_conn$corrected_chd_node_degree = 0\n",
    "\n",
    "\n",
    "for (i in c(1:nrow(gene_conn))){\n",
    "    \n",
    "    gene = gene_conn$Gene[i]\n",
    "    \n",
    "    # Total number of connections in iref network\n",
    "    degree = get_degree(gene, iref)\n",
    "    gene_conn$total_connections[i] = degree\n",
    "    \n",
    "    # Number of connections the gene has to genes with a nonsynonymous DNV\n",
    "    dnv_iref = iref[which(iref$aliasA %in% nonsyn_dnvs | iref$aliasB %in% nonsyn_dnvs),]\n",
    "    dnv_degree = get_degree(gene, dnv_iref)\n",
    "    gene_conn$dnv_node_degree[i] = dnv_degree\n",
    "    gene_conn$corrected_dnv_node_degree[i] = dnv_degree/degree\n",
    "    \n",
    "    # Number of connections the gene has to known CHD genes\n",
    "    chd_iref = iref[which(iref$aliasA %in% known_genes | iref$aliasB %in% known_genes),]\n",
    "    chd_degree = get_degree(gene, chd_iref)\n",
    "    gene_conn$chd_node_degree[i] = chd_degree\n",
    "    gene_conn$corrected_chd_node_degree[i] = chd_degree/degree\n",
    "}"
   ]
  },
  {
   "cell_type": "code",
   "execution_count": 16,
   "metadata": {},
   "outputs": [],
   "source": [
    "write.csv(gene_conn, \"../intermediate/iref_gene_connections.csv\", row.names=FALSE)"
   ]
  },
  {
   "cell_type": "code",
   "execution_count": 17,
   "metadata": {},
   "outputs": [
    {
     "data": {
      "text/html": [
       "5200"
      ],
      "text/latex": [
       "5200"
      ],
      "text/markdown": [
       "5200"
      ],
      "text/plain": [
       "[1] 5200"
      ]
     },
     "metadata": {},
     "output_type": "display_data"
    }
   ],
   "source": [
    "df = merge(df, gene_conn, by.x='alias', by.y='Gene', all.x = TRUE)\n",
    "nrow(df)"
   ]
  },
  {
   "cell_type": "markdown",
   "metadata": {},
   "source": [
    "## Haploinsufficiency"
   ]
  },
  {
   "cell_type": "code",
   "execution_count": 18,
   "metadata": {},
   "outputs": [
    {
     "data": {
      "text/html": [
       "<table>\n",
       "<thead><tr><th scope=col>CHR</th><th scope=col>START</th><th scope=col>STOP</th><th scope=col>Gene||</th><th scope=col>p_haploinsufficient</th><th scope=col></th><th scope=col></th><th scope=col>NA</th><th scope=col>NA</th></tr></thead>\n",
       "<tbody>\n",
       "\t<tr><td>chr1                </td><td>850392              </td><td>869824              </td><td>SAMD11|0.085|79.5%  </td><td>0.085               </td><td>.                   </td><td>850393              </td><td>869824              </td><td>50,205,0            </td></tr>\n",
       "\t<tr><td>chr1                </td><td>869458              </td><td>884494              </td><td>NOC2L|0.230|38.2%   </td><td>0.230               </td><td>.                   </td><td>869459              </td><td>884494              </td><td>150,105,0           </td></tr>\n",
       "\t<tr><td>chr1                </td><td>885829              </td><td>890958              </td><td>KLHL17|0.084|80.2%  </td><td>0.084               </td><td>.                   </td><td>885830              </td><td>890958              </td><td>25,230,0            </td></tr>\n",
       "\t<tr><td>chr1                </td><td>891739              </td><td>900339              </td><td>PLEKHN1|0.170|49.2% </td><td>0.170               </td><td>.                   </td><td>891740              </td><td>900339              </td><td>125,130,0           </td></tr>\n",
       "\t<tr><td>chr1                </td><td>900446              </td><td>907336              </td><td>C1orf170|0.061|90.0%</td><td>0.061               </td><td>.                   </td><td>900447              </td><td>907336              </td><td>25,230,0            </td></tr>\n",
       "\t<tr><td>chr1                </td><td>924207              </td><td>925333              </td><td>HES4|0.177|47.7%    </td><td>0.177               </td><td>.                   </td><td>924208              </td><td>925333              </td><td>125,130,0           </td></tr>\n",
       "</tbody>\n",
       "</table>\n"
      ],
      "text/latex": [
       "\\begin{tabular}{r|lllllllll}\n",
       " CHR & START & STOP & Gene\\textbar{}\\textbar{} & p\\_haploinsufficient &  &  & NA & NA\\\\\n",
       "\\hline\n",
       "\t chr1                                       & 850392                                     & 869824                                     & SAMD11\\textbar{}0.085\\textbar{}79.5\\%   & 0.085                                      & .                                          & 850393                                     & 869824                                     & 50,205,0                                  \\\\\n",
       "\t chr1                                       & 869458                                     & 884494                                     & NOC2L\\textbar{}0.230\\textbar{}38.2\\%    & 0.230                                      & .                                          & 869459                                     & 884494                                     & 150,105,0                                 \\\\\n",
       "\t chr1                                       & 885829                                     & 890958                                     & KLHL17\\textbar{}0.084\\textbar{}80.2\\%   & 0.084                                      & .                                          & 885830                                     & 890958                                     & 25,230,0                                  \\\\\n",
       "\t chr1                                       & 891739                                     & 900339                                     & PLEKHN1\\textbar{}0.170\\textbar{}49.2\\%  & 0.170                                      & .                                          & 891740                                     & 900339                                     & 125,130,0                                 \\\\\n",
       "\t chr1                                       & 900446                                     & 907336                                     & C1orf170\\textbar{}0.061\\textbar{}90.0\\% & 0.061                                      & .                                          & 900447                                     & 907336                                     & 25,230,0                                  \\\\\n",
       "\t chr1                                       & 924207                                     & 925333                                     & HES4\\textbar{}0.177\\textbar{}47.7\\%     & 0.177                                      & .                                          & 924208                                     & 925333                                     & 125,130,0                                 \\\\\n",
       "\\end{tabular}\n"
      ],
      "text/markdown": [
       "\n",
       "| CHR | START | STOP | Gene|| | p_haploinsufficient |  |  | NA | NA |\n",
       "|---|---|---|---|---|---|---|---|---|\n",
       "| chr1                 | 850392               | 869824               | SAMD11|0.085|79.5%   | 0.085                | .                    | 850393               | 869824               | 50,205,0             |\n",
       "| chr1                 | 869458               | 884494               | NOC2L|0.230|38.2%    | 0.230                | .                    | 869459               | 884494               | 150,105,0            |\n",
       "| chr1                 | 885829               | 890958               | KLHL17|0.084|80.2%   | 0.084                | .                    | 885830               | 890958               | 25,230,0             |\n",
       "| chr1                 | 891739               | 900339               | PLEKHN1|0.170|49.2%  | 0.170                | .                    | 891740               | 900339               | 125,130,0            |\n",
       "| chr1                 | 900446               | 907336               | C1orf170|0.061|90.0% | 0.061                | .                    | 900447               | 907336               | 25,230,0             |\n",
       "| chr1                 | 924207               | 925333               | HES4|0.177|47.7%     | 0.177                | .                    | 924208               | 925333               | 125,130,0            |\n",
       "\n"
      ],
      "text/plain": [
       "  CHR  START  STOP   Gene||               p_haploinsufficient          <NA>  \n",
       "1 chr1 850392 869824 SAMD11|0.085|79.5%   0.085               . 850393 869824\n",
       "2 chr1 869458 884494 NOC2L|0.230|38.2%    0.230               . 869459 884494\n",
       "3 chr1 885829 890958 KLHL17|0.084|80.2%   0.084               . 885830 890958\n",
       "4 chr1 891739 900339 PLEKHN1|0.170|49.2%  0.170               . 891740 900339\n",
       "5 chr1 900446 907336 C1orf170|0.061|90.0% 0.061               . 900447 907336\n",
       "6 chr1 924207 925333 HES4|0.177|47.7%     0.177               . 924208 925333\n",
       "  <NA>     \n",
       "1 50,205,0 \n",
       "2 150,105,0\n",
       "3 25,230,0 \n",
       "4 125,130,0\n",
       "5 25,230,0 \n",
       "6 125,130,0"
      ]
     },
     "metadata": {},
     "output_type": "display_data"
    }
   ],
   "source": [
    "haploinsufficiency = read.table(\"../data/databases/huang-et-al_haploinsufficiency.txt\", sep = \"\\t\",\n",
    "                               stringsAsFactors=FALSE)\n",
    "names(haploinsufficiency) <- c(\"CHR\",\"START\",\"STOP\",\"Gene||\",\"p_haploinsufficient\",\"\",\"\")\n",
    "head(haploinsufficiency)"
   ]
  },
  {
   "cell_type": "code",
   "execution_count": 19,
   "metadata": {},
   "outputs": [
    {
     "data": {
      "text/html": [
       "5200"
      ],
      "text/latex": [
       "5200"
      ],
      "text/markdown": [
       "5200"
      ],
      "text/plain": [
       "[1] 5200"
      ]
     },
     "metadata": {},
     "output_type": "display_data"
    }
   ],
   "source": [
    "haploinsufficiency$Gene <- sub('\\\\|.*', \"\",haploinsufficiency$`Gene||`)\n",
    "df = merge(df, haploinsufficiency[,c('Gene','p_haploinsufficient')], all.x=TRUE)\n",
    "nrow(df)"
   ]
  },
  {
   "cell_type": "markdown",
   "metadata": {},
   "source": [
    "## Mutations per kilobase"
   ]
  },
  {
   "cell_type": "code",
   "execution_count": 20,
   "metadata": {},
   "outputs": [],
   "source": [
    "case_lof = read.csv('../data/variants/LoF_cases_v10v11.csv', stringsAsFactors=F)\n",
    "case_lof$Gene[which(case_lof$Gene == \"1-Sep\")] <- 'SEPT1'\n",
    "case_lof$Gene[which(case_lof$Gene == \"9-Sep\")] <- 'SEPT9'\n",
    "case_lof$Gene[which(case_lof$Gene == \"14-Sep\")] <- 'SEPT14'\n",
    "\n",
    "case_lof$Gene[which(case_lof$Gene == \"10-Mar\")] <- 'MARCH10'\n",
    "case_lof$Gene[which(case_lof$Gene == \"11-Mar\")] <- 'MARCH11'\n",
    "case_lof$Gene[which(case_lof$Gene == \"9-Mar\")] <- 'MARCH9'\n",
    "\n",
    "dnvs = DNV_cases[which(DNV_cases$variant_type=='Case Non-synonymous'),]\n",
    "cols = c('Blinded.ID','Gene','AA.change')\n",
    "vars = rbind(DNV_cases[,cols], case_lof[,cols])\n",
    "gene_counts = as.data.frame(table(vars$Gene))\n",
    "names(gene_counts) = c('Gene','n_mutations')"
   ]
  },
  {
   "cell_type": "code",
   "execution_count": 21,
   "metadata": {},
   "outputs": [
    {
     "data": {
      "text/html": [
       "5200"
      ],
      "text/latex": [
       "5200"
      ],
      "text/markdown": [
       "5200"
      ],
      "text/plain": [
       "[1] 5200"
      ]
     },
     "metadata": {},
     "output_type": "display_data"
    }
   ],
   "source": [
    "df = merge(df, gene_counts, all.x=TRUE)\n",
    "df$mutperkb = (df$n_mutations / df$cds_length) * 1000\n",
    "nrow(df)"
   ]
  },
  {
   "cell_type": "markdown",
   "metadata": {},
   "source": [
    "## Heart expression specificity"
   ]
  },
  {
   "cell_type": "code",
   "execution_count": 22,
   "metadata": {},
   "outputs": [
    {
     "data": {
      "text/html": [
       "<table>\n",
       "<thead><tr><th scope=col>Description</th><th scope=col>Adipose...Subcutaneous</th><th scope=col>Adipose...Visceral..Omentum.</th><th scope=col>Adrenal.Gland</th><th scope=col>Artery...Aorta</th><th scope=col>Artery...Coronary</th><th scope=col>Artery...Tibial</th><th scope=col>Bladder</th><th scope=col>Brain...Amygdala</th><th scope=col>Brain...Anterior.cingulate.cortex..BA24.</th><th scope=col>...</th><th scope=col>Skin...Not.Sun.Exposed..Suprapubic.</th><th scope=col>Skin...Sun.Exposed..Lower.leg.</th><th scope=col>Small.Intestine...Terminal.Ileum</th><th scope=col>Spleen</th><th scope=col>Stomach</th><th scope=col>Testis</th><th scope=col>Thyroid</th><th scope=col>Uterus</th><th scope=col>Vagina</th><th scope=col>Whole.Blood</th></tr></thead>\n",
       "<tbody>\n",
       "\t<tr><td>5_8S_rRNA </td><td>0.00000000</td><td>0.00000000</td><td>0.0000000 </td><td>0.0000000 </td><td>0.0000000 </td><td>0.0000000 </td><td>0.00000000</td><td>0.00000   </td><td>0.00000000</td><td>...       </td><td>0.00000000</td><td>0.00000000</td><td>0.00000000</td><td>0.00000000</td><td>0.000000  </td><td>0.00000000</td><td>0.00000000</td><td>0.00000000</td><td>0.00000000</td><td>0.00000000</td></tr>\n",
       "\t<tr><td>5S_rRNA   </td><td>0.03274744</td><td>0.00000000</td><td>0.0000000 </td><td>0.0000000 </td><td>0.0000000 </td><td>0.0000000 </td><td>0.00000000</td><td>0.00000   </td><td>0.00000000</td><td>...       </td><td>0.01952531</td><td>0.02435181</td><td>0.02203625</td><td>0.06317431</td><td>0.012659  </td><td>0.03525225</td><td>0.02120125</td><td>0.03329181</td><td>0.02251006</td><td>0.01484906</td></tr>\n",
       "\t<tr><td>7SK       </td><td>0.00000000</td><td>0.00000000</td><td>0.0000000 </td><td>0.0000000 </td><td>0.0000000 </td><td>0.0000000 </td><td>0.00000000</td><td>0.00000   </td><td>0.00000000</td><td>...       </td><td>0.01897867</td><td>0.00000000</td><td>0.00000000</td><td>0.00000000</td><td>0.000000  </td><td>0.39720833</td><td>0.00000000</td><td>0.00000000</td><td>0.00000000</td><td>0.00000000</td></tr>\n",
       "\t<tr><td>A1BG      </td><td>3.10956000</td><td>3.27881000</td><td>1.4056600 </td><td>3.3715600 </td><td>7.4051300 </td><td>6.4385600 </td><td>2.17151000</td><td>4.02207   </td><td>3.55573000</td><td>...       </td><td>2.34010000</td><td>2.19279000</td><td>2.80474000</td><td>6.32484000</td><td>1.350860  </td><td>1.54219000</td><td>4.53652000</td><td>7.84693000</td><td>5.49158000</td><td>1.69172000</td></tr>\n",
       "\t<tr><td>A1BG-AS1  </td><td>1.61339000</td><td>1.95934000</td><td>1.0248200 </td><td>2.1095300 </td><td>5.0850900 </td><td>3.5362300 </td><td>1.25874000</td><td>1.00217   </td><td>1.86325000</td><td>...       </td><td>1.50524000</td><td>1.25731000</td><td>2.50539000</td><td>5.42682000</td><td>1.006890  </td><td>0.64078600</td><td>3.71696000</td><td>6.28329000</td><td>3.27360000</td><td>1.28071000</td></tr>\n",
       "\t<tr><td>A1CF      </td><td>0.00738411</td><td>0.00561853</td><td>0.0187032 </td><td>0.0163877 </td><td>0.0122843 </td><td>0.0158928 </td><td>0.00884071</td><td>0.00000   </td><td>0.00468671</td><td>...       </td><td>0.01123390</td><td>0.01439770</td><td>6.02867000</td><td>0.00963833</td><td>0.239152  </td><td>0.04755730</td><td>0.01639170</td><td>0.00701341</td><td>0.01087620</td><td>0.00572623</td></tr>\n",
       "</tbody>\n",
       "</table>\n"
      ],
      "text/latex": [
       "\\begin{tabular}{r|lllllllllllllllllllllllllllllllllllllllllllllllllllllll}\n",
       " Description & Adipose...Subcutaneous & Adipose...Visceral..Omentum. & Adrenal.Gland & Artery...Aorta & Artery...Coronary & Artery...Tibial & Bladder & Brain...Amygdala & Brain...Anterior.cingulate.cortex..BA24. & ... & Skin...Not.Sun.Exposed..Suprapubic. & Skin...Sun.Exposed..Lower.leg. & Small.Intestine...Terminal.Ileum & Spleen & Stomach & Testis & Thyroid & Uterus & Vagina & Whole.Blood\\\\\n",
       "\\hline\n",
       "\t 5\\_8S\\_rRNA & 0.00000000    & 0.00000000    & 0.0000000     & 0.0000000     & 0.0000000     & 0.0000000     & 0.00000000    & 0.00000       & 0.00000000    & ...           & 0.00000000    & 0.00000000    & 0.00000000    & 0.00000000    & 0.000000      & 0.00000000    & 0.00000000    & 0.00000000    & 0.00000000    & 0.00000000   \\\\\n",
       "\t 5S\\_rRNA   & 0.03274744  & 0.00000000  & 0.0000000   & 0.0000000   & 0.0000000   & 0.0000000   & 0.00000000  & 0.00000     & 0.00000000  & ...         & 0.01952531  & 0.02435181  & 0.02203625  & 0.06317431  & 0.012659    & 0.03525225  & 0.02120125  & 0.03329181  & 0.02251006  & 0.01484906 \\\\\n",
       "\t 7SK        & 0.00000000 & 0.00000000 & 0.0000000  & 0.0000000  & 0.0000000  & 0.0000000  & 0.00000000 & 0.00000    & 0.00000000 & ...        & 0.01897867 & 0.00000000 & 0.00000000 & 0.00000000 & 0.000000   & 0.39720833 & 0.00000000 & 0.00000000 & 0.00000000 & 0.00000000\\\\\n",
       "\t A1BG       & 3.10956000 & 3.27881000 & 1.4056600  & 3.3715600  & 7.4051300  & 6.4385600  & 2.17151000 & 4.02207    & 3.55573000 & ...        & 2.34010000 & 2.19279000 & 2.80474000 & 6.32484000 & 1.350860   & 1.54219000 & 4.53652000 & 7.84693000 & 5.49158000 & 1.69172000\\\\\n",
       "\t A1BG-AS1   & 1.61339000 & 1.95934000 & 1.0248200  & 2.1095300  & 5.0850900  & 3.5362300  & 1.25874000 & 1.00217    & 1.86325000 & ...        & 1.50524000 & 1.25731000 & 2.50539000 & 5.42682000 & 1.006890   & 0.64078600 & 3.71696000 & 6.28329000 & 3.27360000 & 1.28071000\\\\\n",
       "\t A1CF       & 0.00738411 & 0.00561853 & 0.0187032  & 0.0163877  & 0.0122843  & 0.0158928  & 0.00884071 & 0.00000    & 0.00468671 & ...        & 0.01123390 & 0.01439770 & 6.02867000 & 0.00963833 & 0.239152   & 0.04755730 & 0.01639170 & 0.00701341 & 0.01087620 & 0.00572623\\\\\n",
       "\\end{tabular}\n"
      ],
      "text/markdown": [
       "\n",
       "| Description | Adipose...Subcutaneous | Adipose...Visceral..Omentum. | Adrenal.Gland | Artery...Aorta | Artery...Coronary | Artery...Tibial | Bladder | Brain...Amygdala | Brain...Anterior.cingulate.cortex..BA24. | ... | Skin...Not.Sun.Exposed..Suprapubic. | Skin...Sun.Exposed..Lower.leg. | Small.Intestine...Terminal.Ileum | Spleen | Stomach | Testis | Thyroid | Uterus | Vagina | Whole.Blood |\n",
       "|---|---|---|---|---|---|---|---|---|---|---|---|---|---|---|---|---|---|---|---|---|\n",
       "| 5_8S_rRNA  | 0.00000000 | 0.00000000 | 0.0000000  | 0.0000000  | 0.0000000  | 0.0000000  | 0.00000000 | 0.00000    | 0.00000000 | ...        | 0.00000000 | 0.00000000 | 0.00000000 | 0.00000000 | 0.000000   | 0.00000000 | 0.00000000 | 0.00000000 | 0.00000000 | 0.00000000 |\n",
       "| 5S_rRNA    | 0.03274744 | 0.00000000 | 0.0000000  | 0.0000000  | 0.0000000  | 0.0000000  | 0.00000000 | 0.00000    | 0.00000000 | ...        | 0.01952531 | 0.02435181 | 0.02203625 | 0.06317431 | 0.012659   | 0.03525225 | 0.02120125 | 0.03329181 | 0.02251006 | 0.01484906 |\n",
       "| 7SK        | 0.00000000 | 0.00000000 | 0.0000000  | 0.0000000  | 0.0000000  | 0.0000000  | 0.00000000 | 0.00000    | 0.00000000 | ...        | 0.01897867 | 0.00000000 | 0.00000000 | 0.00000000 | 0.000000   | 0.39720833 | 0.00000000 | 0.00000000 | 0.00000000 | 0.00000000 |\n",
       "| A1BG       | 3.10956000 | 3.27881000 | 1.4056600  | 3.3715600  | 7.4051300  | 6.4385600  | 2.17151000 | 4.02207    | 3.55573000 | ...        | 2.34010000 | 2.19279000 | 2.80474000 | 6.32484000 | 1.350860   | 1.54219000 | 4.53652000 | 7.84693000 | 5.49158000 | 1.69172000 |\n",
       "| A1BG-AS1   | 1.61339000 | 1.95934000 | 1.0248200  | 2.1095300  | 5.0850900  | 3.5362300  | 1.25874000 | 1.00217    | 1.86325000 | ...        | 1.50524000 | 1.25731000 | 2.50539000 | 5.42682000 | 1.006890   | 0.64078600 | 3.71696000 | 6.28329000 | 3.27360000 | 1.28071000 |\n",
       "| A1CF       | 0.00738411 | 0.00561853 | 0.0187032  | 0.0163877  | 0.0122843  | 0.0158928  | 0.00884071 | 0.00000    | 0.00468671 | ...        | 0.01123390 | 0.01439770 | 6.02867000 | 0.00963833 | 0.239152   | 0.04755730 | 0.01639170 | 0.00701341 | 0.01087620 | 0.00572623 |\n",
       "\n"
      ],
      "text/plain": [
       "  Description Adipose...Subcutaneous Adipose...Visceral..Omentum. Adrenal.Gland\n",
       "1 5_8S_rRNA   0.00000000             0.00000000                   0.0000000    \n",
       "2 5S_rRNA     0.03274744             0.00000000                   0.0000000    \n",
       "3 7SK         0.00000000             0.00000000                   0.0000000    \n",
       "4 A1BG        3.10956000             3.27881000                   1.4056600    \n",
       "5 A1BG-AS1    1.61339000             1.95934000                   1.0248200    \n",
       "6 A1CF        0.00738411             0.00561853                   0.0187032    \n",
       "  Artery...Aorta Artery...Coronary Artery...Tibial Bladder    Brain...Amygdala\n",
       "1 0.0000000      0.0000000         0.0000000       0.00000000 0.00000         \n",
       "2 0.0000000      0.0000000         0.0000000       0.00000000 0.00000         \n",
       "3 0.0000000      0.0000000         0.0000000       0.00000000 0.00000         \n",
       "4 3.3715600      7.4051300         6.4385600       2.17151000 4.02207         \n",
       "5 2.1095300      5.0850900         3.5362300       1.25874000 1.00217         \n",
       "6 0.0163877      0.0122843         0.0158928       0.00884071 0.00000         \n",
       "  Brain...Anterior.cingulate.cortex..BA24. ...\n",
       "1 0.00000000                               ...\n",
       "2 0.00000000                               ...\n",
       "3 0.00000000                               ...\n",
       "4 3.55573000                               ...\n",
       "5 1.86325000                               ...\n",
       "6 0.00468671                               ...\n",
       "  Skin...Not.Sun.Exposed..Suprapubic. Skin...Sun.Exposed..Lower.leg.\n",
       "1 0.00000000                          0.00000000                    \n",
       "2 0.01952531                          0.02435181                    \n",
       "3 0.01897867                          0.00000000                    \n",
       "4 2.34010000                          2.19279000                    \n",
       "5 1.50524000                          1.25731000                    \n",
       "6 0.01123390                          0.01439770                    \n",
       "  Small.Intestine...Terminal.Ileum Spleen     Stomach  Testis     Thyroid   \n",
       "1 0.00000000                       0.00000000 0.000000 0.00000000 0.00000000\n",
       "2 0.02203625                       0.06317431 0.012659 0.03525225 0.02120125\n",
       "3 0.00000000                       0.00000000 0.000000 0.39720833 0.00000000\n",
       "4 2.80474000                       6.32484000 1.350860 1.54219000 4.53652000\n",
       "5 2.50539000                       5.42682000 1.006890 0.64078600 3.71696000\n",
       "6 6.02867000                       0.00963833 0.239152 0.04755730 0.01639170\n",
       "  Uterus     Vagina     Whole.Blood\n",
       "1 0.00000000 0.00000000 0.00000000 \n",
       "2 0.03329181 0.02251006 0.01484906 \n",
       "3 0.00000000 0.00000000 0.00000000 \n",
       "4 7.84693000 5.49158000 1.69172000 \n",
       "5 6.28329000 3.27360000 1.28071000 \n",
       "6 0.00701341 0.01087620 0.00572623 "
      ]
     },
     "metadata": {},
     "output_type": "display_data"
    }
   ],
   "source": [
    "gtex = read.table(\"../data/databases/GTEx_Analysis_2017-06-05_v8_RNASeQCv1.1.9_gene_median_tpm.gct.gz\",\n",
    "                  sep = \"\\t\", stringsAsFactors=F, header=T, skip=2, fill=T)\n",
    "# Some genes have multiple transcripts\n",
    "gtex = aggregate(.~Description, data=gtex[,c(-1)], mean)\n",
    "head(gtex)"
   ]
  },
  {
   "cell_type": "code",
   "execution_count": 23,
   "metadata": {},
   "outputs": [
    {
     "data": {
      "text/html": [
       "5200"
      ],
      "text/latex": [
       "5200"
      ],
      "text/markdown": [
       "5200"
      ],
      "text/plain": [
       "[1] 5200"
      ]
     },
     "metadata": {},
     "output_type": "display_data"
    }
   ],
   "source": [
    "g <- gtex[which(gtex$Description%in% df$Gene),c('Description','Heart...Atrial.Appendage',\n",
    "                                                               'Heart...Left.Ventricle','Artery...Aorta',\n",
    "                                                               'Artery...Coronary',\n",
    "                                                               'Brain...Amygdala','Brain...Cortex','Brain...Cerebellum','Brain...Hypothalamus','Bladder',\n",
    "                                                               'Breast...Mammary.Tissue','Colon...Sigmoid','Esophagus...Muscularis','Fallopian.Tube',\n",
    "                                                               'Adrenal.Gland','Kidney...Cortex','Liver','Lung','Pancreas','Prostate','Spleen',\n",
    "                                                               'Thyroid','Whole.Blood')]\n",
    "names(g) = c(\"Gene\",\"Adult Atrium\",\"Adult Left Ventricle\",\"Aortic Artery\",\"Coronary Artery\",\"Amygdala\",\n",
    "                  \"Cortex\",\"Cerebellum\",\n",
    "                  \"Hypothalamus\",\"Bladder\",\"Mammary Tissue\",\"Sigmoid Colon\",\"Espohagus Muscularis\",\"Fallopian Tube\",\n",
    "                  \"Adrenal Gland\",\"Kidney\",\"Liver\",\"Lung\",\"Pancreas\",\"Prostate\",\"Spleen\",\"Thyroid\",\"Whole Blood\")\n",
    "  \n",
    "row.names(g) <- g$Gene\n",
    "g <- g[,c(-1)]\n",
    "  \n",
    "g$heart_avg = rowMeans(g[,c(\"Adult Atrium\",\"Adult Left Ventricle\")])\n",
    "g$other_avg = rowMeans(g[,c(-1,-2,-23)])\n",
    "g$heart_specificity = g$heart_avg / rowSums(g[,c(-1,-2,-23)])\n",
    "df$specificity_score = g$heart_specificity[match(df$Gene, row.names(g))]\n",
    "nrow(df)"
   ]
  },
  {
   "cell_type": "markdown",
   "metadata": {},
   "source": [
    "## Save out table of characteristics for manuscript"
   ]
  },
  {
   "cell_type": "code",
   "execution_count": 24,
   "metadata": {},
   "outputs": [
    {
     "data": {
      "text/html": [
       "<ol class=list-inline>\n",
       "\t<li>'Gene'</li>\n",
       "\t<li>'alias'</li>\n",
       "\t<li>'CHROM'</li>\n",
       "\t<li>'POS'</li>\n",
       "\t<li>'REF'</li>\n",
       "\t<li>'ALT'</li>\n",
       "\t<li>'Blinded.ID'</li>\n",
       "\t<li>'Variant.Class'</li>\n",
       "\t<li>'variant_type'</li>\n",
       "\t<li>'Interactome'</li>\n",
       "\t<li>'variant_type_2'</li>\n",
       "\t<li>'CADD.score'</li>\n",
       "\t<li>'PHRED.score'</li>\n",
       "\t<li>'oe_mis'</li>\n",
       "\t<li>'oe_lof'</li>\n",
       "\t<li>'oe_syn'</li>\n",
       "\t<li>'pLI'</li>\n",
       "\t<li>'cds_length'</li>\n",
       "\t<li>'oe'</li>\n",
       "\t<li>'Heart.Expression.Percentile.Rank'</li>\n",
       "\t<li>'total_connections'</li>\n",
       "\t<li>'dnv_node_degree'</li>\n",
       "\t<li>'corrected_dnv_node_degree'</li>\n",
       "\t<li>'chd_node_degree'</li>\n",
       "\t<li>'corrected_chd_node_degree'</li>\n",
       "\t<li>'p_haploinsufficient'</li>\n",
       "\t<li>'n_mutations'</li>\n",
       "\t<li>'mutperkb'</li>\n",
       "\t<li>'specificity_score'</li>\n",
       "</ol>\n"
      ],
      "text/latex": [
       "\\begin{enumerate*}\n",
       "\\item 'Gene'\n",
       "\\item 'alias'\n",
       "\\item 'CHROM'\n",
       "\\item 'POS'\n",
       "\\item 'REF'\n",
       "\\item 'ALT'\n",
       "\\item 'Blinded.ID'\n",
       "\\item 'Variant.Class'\n",
       "\\item 'variant\\_type'\n",
       "\\item 'Interactome'\n",
       "\\item 'variant\\_type\\_2'\n",
       "\\item 'CADD.score'\n",
       "\\item 'PHRED.score'\n",
       "\\item 'oe\\_mis'\n",
       "\\item 'oe\\_lof'\n",
       "\\item 'oe\\_syn'\n",
       "\\item 'pLI'\n",
       "\\item 'cds\\_length'\n",
       "\\item 'oe'\n",
       "\\item 'Heart.Expression.Percentile.Rank'\n",
       "\\item 'total\\_connections'\n",
       "\\item 'dnv\\_node\\_degree'\n",
       "\\item 'corrected\\_dnv\\_node\\_degree'\n",
       "\\item 'chd\\_node\\_degree'\n",
       "\\item 'corrected\\_chd\\_node\\_degree'\n",
       "\\item 'p\\_haploinsufficient'\n",
       "\\item 'n\\_mutations'\n",
       "\\item 'mutperkb'\n",
       "\\item 'specificity\\_score'\n",
       "\\end{enumerate*}\n"
      ],
      "text/markdown": [
       "1. 'Gene'\n",
       "2. 'alias'\n",
       "3. 'CHROM'\n",
       "4. 'POS'\n",
       "5. 'REF'\n",
       "6. 'ALT'\n",
       "7. 'Blinded.ID'\n",
       "8. 'Variant.Class'\n",
       "9. 'variant_type'\n",
       "10. 'Interactome'\n",
       "11. 'variant_type_2'\n",
       "12. 'CADD.score'\n",
       "13. 'PHRED.score'\n",
       "14. 'oe_mis'\n",
       "15. 'oe_lof'\n",
       "16. 'oe_syn'\n",
       "17. 'pLI'\n",
       "18. 'cds_length'\n",
       "19. 'oe'\n",
       "20. 'Heart.Expression.Percentile.Rank'\n",
       "21. 'total_connections'\n",
       "22. 'dnv_node_degree'\n",
       "23. 'corrected_dnv_node_degree'\n",
       "24. 'chd_node_degree'\n",
       "25. 'corrected_chd_node_degree'\n",
       "26. 'p_haploinsufficient'\n",
       "27. 'n_mutations'\n",
       "28. 'mutperkb'\n",
       "29. 'specificity_score'\n",
       "\n",
       "\n"
      ],
      "text/plain": [
       " [1] \"Gene\"                             \"alias\"                           \n",
       " [3] \"CHROM\"                            \"POS\"                             \n",
       " [5] \"REF\"                              \"ALT\"                             \n",
       " [7] \"Blinded.ID\"                       \"Variant.Class\"                   \n",
       " [9] \"variant_type\"                     \"Interactome\"                     \n",
       "[11] \"variant_type_2\"                   \"CADD.score\"                      \n",
       "[13] \"PHRED.score\"                      \"oe_mis\"                          \n",
       "[15] \"oe_lof\"                           \"oe_syn\"                          \n",
       "[17] \"pLI\"                              \"cds_length\"                      \n",
       "[19] \"oe\"                               \"Heart.Expression.Percentile.Rank\"\n",
       "[21] \"total_connections\"                \"dnv_node_degree\"                 \n",
       "[23] \"corrected_dnv_node_degree\"        \"chd_node_degree\"                 \n",
       "[25] \"corrected_chd_node_degree\"        \"p_haploinsufficient\"             \n",
       "[27] \"n_mutations\"                      \"mutperkb\"                        \n",
       "[29] \"specificity_score\"               "
      ]
     },
     "metadata": {},
     "output_type": "display_data"
    }
   ],
   "source": [
    "names(df)\n",
    "df <- df[,c('Gene','CHROM','POS','REF','ALT','Blinded.ID','Variant.Class','variant_type',\n",
    "            'Interactome','variant_type_2','CADD.score','PHRED.score','oe','pLI','cds_length',\n",
    "            'Heart.Expression.Percentile.Rank', 'total_connections','dnv_node_degree','corrected_dnv_node_degree',\n",
    "            'chd_node_degree','corrected_chd_node_degree','p_haploinsufficient','mutperkb','specificity_score')]"
   ]
  },
  {
   "cell_type": "code",
   "execution_count": 25,
   "metadata": {},
   "outputs": [],
   "source": [
    "write.table(df, file = \"../manuscript/tables/variant_characteristics.tsv\", sep=\"\\t\",\n",
    "           quote=FALSE, row.names = FALSE)"
   ]
  },
  {
   "cell_type": "markdown",
   "metadata": {},
   "source": [
    "## Properties of reference variants"
   ]
  },
  {
   "cell_type": "code",
   "execution_count": 26,
   "metadata": {},
   "outputs": [],
   "source": [
    "ref = read.csv('../data/variants/reference_variants.csv', stringsAsFactors = FALSE)"
   ]
  },
  {
   "cell_type": "code",
   "execution_count": 27,
   "metadata": {},
   "outputs": [],
   "source": [
    "ref = ref[,c('Gene','CHR','POS','REF','ALT','Blinded.ID','ExonicFunc.refGene','CADD.score','PHRED.score')]\n",
    "names(ref)[which(names(ref)==\"CHR\")] <- \"CHROM\"\n",
    "names(ref)[which(names(ref)=='ExonicFunc.refGene')] <- \"Variant.Class\""
   ]
  },
  {
   "cell_type": "code",
   "execution_count": 28,
   "metadata": {},
   "outputs": [
    {
     "data": {
      "text/html": [
       "<table>\n",
       "<thead><tr><th scope=col>Gene</th><th scope=col>CHROM</th><th scope=col>POS</th><th scope=col>REF</th><th scope=col>ALT</th><th scope=col>Blinded.ID</th><th scope=col>Variant.Class</th><th scope=col>CADD.score</th><th scope=col>PHRED.score</th></tr></thead>\n",
       "<tbody>\n",
       "\t<tr><td>GATA4    </td><td> 8       </td><td> 11607722</td><td>G        </td><td>A        </td><td>GATA4    </td><td>misD     </td><td>4.027798 </td><td>28.300   </td></tr>\n",
       "\t<tr><td>NKX2-5   </td><td> 5       </td><td>172660192</td><td>C        </td><td>A        </td><td>OLIGO    </td><td>misD     </td><td>1.651977 </td><td>16.520   </td></tr>\n",
       "\t<tr><td>MKL2     </td><td>16       </td><td> 14341127</td><td>G        </td><td>T        </td><td>OLIGO    </td><td>misD     </td><td>3.082313 </td><td>23.800   </td></tr>\n",
       "\t<tr><td>MYH7     </td><td>20       </td><td> 23898536</td><td>G        </td><td>A        </td><td>OLIGO    </td><td>misD     </td><td>0.023524 </td><td> 2.992   </td></tr>\n",
       "\t<tr><td>NKX2-5   </td><td> 5       </td><td>172660387</td><td>T        </td><td>G        </td><td>NKX25    </td><td>misD     </td><td>0.476938 </td><td> 9.166   </td></tr>\n",
       "\t<tr><td>TBX5     </td><td>12       </td><td>114839635</td><td>C        </td><td>T        </td><td>TBX5     </td><td>misD     </td><td>4.471066 </td><td>32.000   </td></tr>\n",
       "</tbody>\n",
       "</table>\n"
      ],
      "text/latex": [
       "\\begin{tabular}{r|lllllllll}\n",
       " Gene & CHROM & POS & REF & ALT & Blinded.ID & Variant.Class & CADD.score & PHRED.score\\\\\n",
       "\\hline\n",
       "\t GATA4     &  8        &  11607722 & G         & A         & GATA4     & misD      & 4.027798  & 28.300   \\\\\n",
       "\t NKX2-5    &  5        & 172660192 & C         & A         & OLIGO     & misD      & 1.651977  & 16.520   \\\\\n",
       "\t MKL2      & 16        &  14341127 & G         & T         & OLIGO     & misD      & 3.082313  & 23.800   \\\\\n",
       "\t MYH7      & 20        &  23898536 & G         & A         & OLIGO     & misD      & 0.023524  &  2.992   \\\\\n",
       "\t NKX2-5    &  5        & 172660387 & T         & G         & NKX25     & misD      & 0.476938  &  9.166   \\\\\n",
       "\t TBX5      & 12        & 114839635 & C         & T         & TBX5      & misD      & 4.471066  & 32.000   \\\\\n",
       "\\end{tabular}\n"
      ],
      "text/markdown": [
       "\n",
       "| Gene | CHROM | POS | REF | ALT | Blinded.ID | Variant.Class | CADD.score | PHRED.score |\n",
       "|---|---|---|---|---|---|---|---|---|\n",
       "| GATA4     |  8        |  11607722 | G         | A         | GATA4     | misD      | 4.027798  | 28.300    |\n",
       "| NKX2-5    |  5        | 172660192 | C         | A         | OLIGO     | misD      | 1.651977  | 16.520    |\n",
       "| MKL2      | 16        |  14341127 | G         | T         | OLIGO     | misD      | 3.082313  | 23.800    |\n",
       "| MYH7      | 20        |  23898536 | G         | A         | OLIGO     | misD      | 0.023524  |  2.992    |\n",
       "| NKX2-5    |  5        | 172660387 | T         | G         | NKX25     | misD      | 0.476938  |  9.166    |\n",
       "| TBX5      | 12        | 114839635 | C         | T         | TBX5      | misD      | 4.471066  | 32.000    |\n",
       "\n"
      ],
      "text/plain": [
       "  Gene   CHROM POS       REF ALT Blinded.ID Variant.Class CADD.score\n",
       "1 GATA4   8     11607722 G   A   GATA4      misD          4.027798  \n",
       "2 NKX2-5  5    172660192 C   A   OLIGO      misD          1.651977  \n",
       "3 MKL2   16     14341127 G   T   OLIGO      misD          3.082313  \n",
       "4 MYH7   20     23898536 G   A   OLIGO      misD          0.023524  \n",
       "5 NKX2-5  5    172660387 T   G   NKX25      misD          0.476938  \n",
       "6 TBX5   12    114839635 C   T   TBX5       misD          4.471066  \n",
       "  PHRED.score\n",
       "1 28.300     \n",
       "2 16.520     \n",
       "3 23.800     \n",
       "4  2.992     \n",
       "5  9.166     \n",
       "6 32.000     "
      ]
     },
     "metadata": {},
     "output_type": "display_data"
    }
   ],
   "source": [
    "ref"
   ]
  },
  {
   "cell_type": "code",
   "execution_count": 29,
   "metadata": {},
   "outputs": [],
   "source": [
    "ref$Interactome = ifelse(ref$Gene %in% gt_interactome, \"Interactome\", \"Non-interactome\")\n",
    "ref = merge(ref, gnomad[,c('gene','oe_mis','oe_lof','oe_syn','pLI','cds_length')], \n",
    "            by.x='Gene', by.y='gene', all.x = TRUE)\n",
    "ref = merge(ref, hhe_df, by.x='Gene', by.y='Gene', all.x = TRUE)\n",
    "ref = merge(ref, gene_conn, by.x='Gene', by.y='Gene', all.x = TRUE)"
   ]
  },
  {
   "cell_type": "code",
   "execution_count": 30,
   "metadata": {},
   "outputs": [],
   "source": [
    "# Create column with relevant oe score (oe_mis for missense variants, oe_lof for loss-of-function variants)\n",
    "ref$oe = NA\n",
    "\n",
    "for(i in c(1:nrow(ref))){\n",
    "    if (ref$Variant.Class[i] %in% c(\"mis\",\"misD\")){\n",
    "        ref$oe[i] = ref$oe_mis[i]\n",
    "    } else if(ref$Variant.Class[i] %in% c(\"non\",\"frameshift\",\"startloss\",\"splice\",\"stoploss\")){\n",
    "        ref$oe[i] = ref$oe_lof[i]\n",
    "    } else if(ref$Variant.Class[i] == 'syn'){\n",
    "        ref$oe[i] = ref$oe_syn[i]\n",
    "    }\n",
    "}"
   ]
  },
  {
   "cell_type": "code",
   "execution_count": 31,
   "metadata": {},
   "outputs": [],
   "source": [
    "ref = merge(ref, haploinsufficiency[,c('Gene','p_haploinsufficient')])\n",
    "ref = merge(ref, gene_counts, all.x=TRUE)\n",
    "ref$mutperkb = (ref$n_mutations / ref$cds_length) * 1000\n",
    "ref$specificity_score = g$heart_specificity[match(ref$Gene, row.names(g))]"
   ]
  },
  {
   "cell_type": "code",
   "execution_count": 32,
   "metadata": {},
   "outputs": [],
   "source": [
    "ref <- ref[,c('Gene','CHROM','POS','REF','ALT','Blinded.ID','Variant.Class',\n",
    "            'Interactome','CADD.score','PHRED.score','oe','pLI','cds_length',\n",
    "            'Heart.Expression.Percentile.Rank', 'total_connections','dnv_node_degree','corrected_dnv_node_degree',\n",
    "            'chd_node_degree','corrected_chd_node_degree','p_haploinsufficient','mutperkb','specificity_score')]\n",
    "\n",
    "write.table(ref, file = \"../intermediate/reference_variant_characteristics.tsv\", sep=\"\\t\",\n",
    "           quote=FALSE, row.names = FALSE)"
   ]
  },
  {
   "cell_type": "code",
   "execution_count": null,
   "metadata": {},
   "outputs": [],
   "source": []
  }
 ],
 "metadata": {
  "kernelspec": {
   "display_name": "R",
   "language": "R",
   "name": "ir"
  },
  "language_info": {
   "codemirror_mode": "r",
   "file_extension": ".r",
   "mimetype": "text/x-r-source",
   "name": "R",
   "pygments_lexer": "r",
   "version": "3.6.1"
  }
 },
 "nbformat": 4,
 "nbformat_minor": 4
}
