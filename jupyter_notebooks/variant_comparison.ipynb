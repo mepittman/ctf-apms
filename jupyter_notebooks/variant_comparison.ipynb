{
 "cells": [
  {
   "cell_type": "code",
   "execution_count": 1,
   "metadata": {
    "scrolled": true
   },
   "outputs": [
    {
     "name": "stderr",
     "output_type": "stream",
     "text": [
      "Loading required package: bitops\n",
      "Registered S3 method overwritten by 'openssl':\n",
      "  method      from\n",
      "  print.bytes Rcpp\n"
     ]
    }
   ],
   "source": [
    "library(RCurl)\n",
    "library(XML)\n",
    "library(biomaRt)\n",
    "library(data.table)"
   ]
  },
  {
   "cell_type": "code",
   "execution_count": 2,
   "metadata": {},
   "outputs": [
    {
     "data": {
      "text/html": [
       "<ol class=list-inline>\n",
       "\t<li>'misD'</li>\n",
       "\t<li>'mis'</li>\n",
       "\t<li>'loss of function'</li>\n",
       "\t<li>'syn'</li>\n",
       "\t<li>'non'</li>\n",
       "\t<li>'frameshift'</li>\n",
       "\t<li>'startloss'</li>\n",
       "\t<li>'splice'</li>\n",
       "\t<li>'stoploss'</li>\n",
       "</ol>\n"
      ],
      "text/latex": [
       "\\begin{enumerate*}\n",
       "\\item 'misD'\n",
       "\\item 'mis'\n",
       "\\item 'loss of function'\n",
       "\\item 'syn'\n",
       "\\item 'non'\n",
       "\\item 'frameshift'\n",
       "\\item 'startloss'\n",
       "\\item 'splice'\n",
       "\\item 'stoploss'\n",
       "\\end{enumerate*}\n"
      ],
      "text/markdown": [
       "1. 'misD'\n",
       "2. 'mis'\n",
       "3. 'loss of function'\n",
       "4. 'syn'\n",
       "5. 'non'\n",
       "6. 'frameshift'\n",
       "7. 'startloss'\n",
       "8. 'splice'\n",
       "9. 'stoploss'\n",
       "\n",
       "\n"
      ],
      "text/plain": [
       "[1] \"misD\"             \"mis\"              \"loss of function\" \"syn\"             \n",
       "[5] \"non\"              \"frameshift\"       \"startloss\"        \"splice\"          \n",
       "[9] \"stoploss\"        "
      ]
     },
     "metadata": {},
     "output_type": "display_data"
    }
   ],
   "source": [
    "DNV_cases = read.csv('../data/variants/DNV_cases_v10v11.csv', stringsAsFactors = FALSE)\n",
    "DNV_ctrls = read.csv('../data/variants/DNV_ctrls.csv', stringsAsFactors = FALSE)\n",
    "DNV_cases$variant_type = ifelse(DNV_cases$Variant.Class == \"syn\", \"Case Synonymous\", \"Case Non-synonymous\")\n",
    "DNV_ctrls$variant_type = ifelse(DNV_ctrls$Variant.Class == \"syn\", \"Control Synonymous\", \"Control Non-synonymous\")\n",
    "\n",
    "unique(DNV_cases$Variant.Class)"
   ]
  },
  {
   "cell_type": "code",
   "execution_count": 3,
   "metadata": {},
   "outputs": [
    {
     "data": {
      "text/html": [
       "<table>\n",
       "<thead><tr><th scope=col>Blinded.ID</th><th scope=col>CHROM</th><th scope=col>POS</th><th scope=col>REF</th><th scope=col>ALT</th><th scope=col>Variant.Class</th><th scope=col>variant_type</th><th scope=col>Gene</th></tr></thead>\n",
       "<tbody>\n",
       "\t<tr><td>1-05022            </td><td>12                 </td><td>112915523          </td><td>A                  </td><td>G                  </td><td>misD               </td><td>Case Non-synonymous</td><td>PTPN11             </td></tr>\n",
       "\t<tr><td>1-04539            </td><td>10                 </td><td>120789851          </td><td>A                  </td><td>G                  </td><td>mis                </td><td>Case Non-synonymous</td><td>NANOS1             </td></tr>\n",
       "\t<tr><td>1-04539            </td><td>1                  </td><td> 32256494          </td><td>G                  </td><td>A                  </td><td>loss of function   </td><td>Case Non-synonymous</td><td>SPOCD1             </td></tr>\n",
       "\t<tr><td>1-04957            </td><td>1                  </td><td>186301443          </td><td>G                  </td><td>A                  </td><td>mis                </td><td>Case Non-synonymous</td><td>TPR                </td></tr>\n",
       "\t<tr><td>1-11668            </td><td>5                  </td><td>180056757          </td><td>C                  </td><td>G                  </td><td>misD               </td><td>Case Non-synonymous</td><td>FLT4               </td></tr>\n",
       "\t<tr><td>1-12471            </td><td>16                 </td><td> 57760088          </td><td>C                  </td><td>T                  </td><td>mis                </td><td>Case Non-synonymous</td><td>DRC7               </td></tr>\n",
       "</tbody>\n",
       "</table>\n"
      ],
      "text/latex": [
       "\\begin{tabular}{r|llllllll}\n",
       " Blinded.ID & CHROM & POS & REF & ALT & Variant.Class & variant\\_type & Gene\\\\\n",
       "\\hline\n",
       "\t 1-05022             & 12                  & 112915523           & A                   & G                   & misD                & Case Non-synonymous & PTPN11             \\\\\n",
       "\t 1-04539             & 10                  & 120789851           & A                   & G                   & mis                 & Case Non-synonymous & NANOS1             \\\\\n",
       "\t 1-04539             & 1                   &  32256494           & G                   & A                   & loss of function    & Case Non-synonymous & SPOCD1             \\\\\n",
       "\t 1-04957             & 1                   & 186301443           & G                   & A                   & mis                 & Case Non-synonymous & TPR                \\\\\n",
       "\t 1-11668             & 5                   & 180056757           & C                   & G                   & misD                & Case Non-synonymous & FLT4               \\\\\n",
       "\t 1-12471             & 16                  &  57760088           & C                   & T                   & mis                 & Case Non-synonymous & DRC7               \\\\\n",
       "\\end{tabular}\n"
      ],
      "text/markdown": [
       "\n",
       "| Blinded.ID | CHROM | POS | REF | ALT | Variant.Class | variant_type | Gene |\n",
       "|---|---|---|---|---|---|---|---|\n",
       "| 1-05022             | 12                  | 112915523           | A                   | G                   | misD                | Case Non-synonymous | PTPN11              |\n",
       "| 1-04539             | 10                  | 120789851           | A                   | G                   | mis                 | Case Non-synonymous | NANOS1              |\n",
       "| 1-04539             | 1                   |  32256494           | G                   | A                   | loss of function    | Case Non-synonymous | SPOCD1              |\n",
       "| 1-04957             | 1                   | 186301443           | G                   | A                   | mis                 | Case Non-synonymous | TPR                 |\n",
       "| 1-11668             | 5                   | 180056757           | C                   | G                   | misD                | Case Non-synonymous | FLT4                |\n",
       "| 1-12471             | 16                  |  57760088           | C                   | T                   | mis                 | Case Non-synonymous | DRC7                |\n",
       "\n"
      ],
      "text/plain": [
       "  Blinded.ID CHROM POS       REF ALT Variant.Class    variant_type       \n",
       "1 1-05022    12    112915523 A   G   misD             Case Non-synonymous\n",
       "2 1-04539    10    120789851 A   G   mis              Case Non-synonymous\n",
       "3 1-04539    1      32256494 G   A   loss of function Case Non-synonymous\n",
       "4 1-04957    1     186301443 G   A   mis              Case Non-synonymous\n",
       "5 1-11668    5     180056757 C   G   misD             Case Non-synonymous\n",
       "6 1-12471    16     57760088 C   T   mis              Case Non-synonymous\n",
       "  Gene  \n",
       "1 PTPN11\n",
       "2 NANOS1\n",
       "3 SPOCD1\n",
       "4 TPR   \n",
       "5 FLT4  \n",
       "6 DRC7  "
      ]
     },
     "metadata": {},
     "output_type": "display_data"
    },
    {
     "data": {
      "text/html": [
       "5200"
      ],
      "text/latex": [
       "5200"
      ],
      "text/markdown": [
       "5200"
      ],
      "text/plain": [
       "[1] 5200"
      ]
     },
     "metadata": {},
     "output_type": "display_data"
    }
   ],
   "source": [
    "names(DNV_cases)[which(names(DNV_cases) == \"CHR\")] <- \"CHROM\"\n",
    "cols  = c(\"Blinded.ID\",\"CHROM\",\"POS\",'REF','ALT','Variant.Class','variant_type','Gene')\n",
    "combined = rbind(DNV_cases[,cols], DNV_ctrls[,cols])\n",
    "head(combined)\n",
    "nrow(combined)"
   ]
  },
  {
   "cell_type": "code",
   "execution_count": 4,
   "metadata": {},
   "outputs": [
    {
     "data": {
      "text/html": [
       "<table>\n",
       "<thead><tr><th scope=col>Blinded.ID</th><th scope=col>CHROM</th><th scope=col>POS</th><th scope=col>REF</th><th scope=col>ALT</th><th scope=col>Variant.Class</th><th scope=col>variant_type</th><th scope=col>Gene</th><th scope=col>Interactome</th><th scope=col>variant_type_2</th></tr></thead>\n",
       "<tbody>\n",
       "\t<tr><td>1-05022                            </td><td>12                                 </td><td>112915523                          </td><td>A                                  </td><td>G                                  </td><td>misD                               </td><td>Case Non-synonymous                </td><td>PTPN11                             </td><td>Non-interactome                    </td><td>Case Non-synonymous_Non-interactome</td></tr>\n",
       "\t<tr><td>1-04539                            </td><td>10                                 </td><td>120789851                          </td><td>A                                  </td><td>G                                  </td><td>mis                                </td><td>Case Non-synonymous                </td><td>NANOS1                             </td><td>Non-interactome                    </td><td>Case Non-synonymous_Non-interactome</td></tr>\n",
       "\t<tr><td>1-04539                            </td><td>1                                  </td><td> 32256494                          </td><td>G                                  </td><td>A                                  </td><td>loss of function                   </td><td>Case Non-synonymous                </td><td>SPOCD1                             </td><td>Non-interactome                    </td><td>Case Non-synonymous_Non-interactome</td></tr>\n",
       "\t<tr><td>1-04957                            </td><td>1                                  </td><td>186301443                          </td><td>G                                  </td><td>A                                  </td><td>mis                                </td><td>Case Non-synonymous                </td><td>TPR                                </td><td>Non-interactome                    </td><td>Case Non-synonymous_Non-interactome</td></tr>\n",
       "\t<tr><td>1-11668                            </td><td>5                                  </td><td>180056757                          </td><td>C                                  </td><td>G                                  </td><td>misD                               </td><td>Case Non-synonymous                </td><td>FLT4                               </td><td>Non-interactome                    </td><td>Case Non-synonymous_Non-interactome</td></tr>\n",
       "\t<tr><td>1-12471                            </td><td>16                                 </td><td> 57760088                          </td><td>C                                  </td><td>T                                  </td><td>mis                                </td><td>Case Non-synonymous                </td><td>DRC7                               </td><td>Non-interactome                    </td><td>Case Non-synonymous_Non-interactome</td></tr>\n",
       "</tbody>\n",
       "</table>\n"
      ],
      "text/latex": [
       "\\begin{tabular}{r|llllllllll}\n",
       " Blinded.ID & CHROM & POS & REF & ALT & Variant.Class & variant\\_type & Gene & Interactome & variant\\_type\\_2\\\\\n",
       "\\hline\n",
       "\t 1-05022                               & 12                                    & 112915523                             & A                                     & G                                     & misD                                  & Case Non-synonymous                   & PTPN11                                & Non-interactome                       & Case Non-synonymous\\_Non-interactome\\\\\n",
       "\t 1-04539                               & 10                                    & 120789851                             & A                                     & G                                     & mis                                   & Case Non-synonymous                   & NANOS1                                & Non-interactome                       & Case Non-synonymous\\_Non-interactome\\\\\n",
       "\t 1-04539                               & 1                                     &  32256494                             & G                                     & A                                     & loss of function                      & Case Non-synonymous                   & SPOCD1                                & Non-interactome                       & Case Non-synonymous\\_Non-interactome\\\\\n",
       "\t 1-04957                               & 1                                     & 186301443                             & G                                     & A                                     & mis                                   & Case Non-synonymous                   & TPR                                   & Non-interactome                       & Case Non-synonymous\\_Non-interactome\\\\\n",
       "\t 1-11668                               & 5                                     & 180056757                             & C                                     & G                                     & misD                                  & Case Non-synonymous                   & FLT4                                  & Non-interactome                       & Case Non-synonymous\\_Non-interactome\\\\\n",
       "\t 1-12471                               & 16                                    &  57760088                             & C                                     & T                                     & mis                                   & Case Non-synonymous                   & DRC7                                  & Non-interactome                       & Case Non-synonymous\\_Non-interactome\\\\\n",
       "\\end{tabular}\n"
      ],
      "text/markdown": [
       "\n",
       "| Blinded.ID | CHROM | POS | REF | ALT | Variant.Class | variant_type | Gene | Interactome | variant_type_2 |\n",
       "|---|---|---|---|---|---|---|---|---|---|\n",
       "| 1-05022                             | 12                                  | 112915523                           | A                                   | G                                   | misD                                | Case Non-synonymous                 | PTPN11                              | Non-interactome                     | Case Non-synonymous_Non-interactome |\n",
       "| 1-04539                             | 10                                  | 120789851                           | A                                   | G                                   | mis                                 | Case Non-synonymous                 | NANOS1                              | Non-interactome                     | Case Non-synonymous_Non-interactome |\n",
       "| 1-04539                             | 1                                   |  32256494                           | G                                   | A                                   | loss of function                    | Case Non-synonymous                 | SPOCD1                              | Non-interactome                     | Case Non-synonymous_Non-interactome |\n",
       "| 1-04957                             | 1                                   | 186301443                           | G                                   | A                                   | mis                                 | Case Non-synonymous                 | TPR                                 | Non-interactome                     | Case Non-synonymous_Non-interactome |\n",
       "| 1-11668                             | 5                                   | 180056757                           | C                                   | G                                   | misD                                | Case Non-synonymous                 | FLT4                                | Non-interactome                     | Case Non-synonymous_Non-interactome |\n",
       "| 1-12471                             | 16                                  |  57760088                           | C                                   | T                                   | mis                                 | Case Non-synonymous                 | DRC7                                | Non-interactome                     | Case Non-synonymous_Non-interactome |\n",
       "\n"
      ],
      "text/plain": [
       "  Blinded.ID CHROM POS       REF ALT Variant.Class    variant_type       \n",
       "1 1-05022    12    112915523 A   G   misD             Case Non-synonymous\n",
       "2 1-04539    10    120789851 A   G   mis              Case Non-synonymous\n",
       "3 1-04539    1      32256494 G   A   loss of function Case Non-synonymous\n",
       "4 1-04957    1     186301443 G   A   mis              Case Non-synonymous\n",
       "5 1-11668    5     180056757 C   G   misD             Case Non-synonymous\n",
       "6 1-12471    16     57760088 C   T   mis              Case Non-synonymous\n",
       "  Gene   Interactome     variant_type_2                     \n",
       "1 PTPN11 Non-interactome Case Non-synonymous_Non-interactome\n",
       "2 NANOS1 Non-interactome Case Non-synonymous_Non-interactome\n",
       "3 SPOCD1 Non-interactome Case Non-synonymous_Non-interactome\n",
       "4 TPR    Non-interactome Case Non-synonymous_Non-interactome\n",
       "5 FLT4   Non-interactome Case Non-synonymous_Non-interactome\n",
       "6 DRC7   Non-interactome Case Non-synonymous_Non-interactome"
      ]
     },
     "metadata": {},
     "output_type": "display_data"
    },
    {
     "data": {
      "text/html": [
       "5200"
      ],
      "text/latex": [
       "5200"
      ],
      "text/markdown": [
       "5200"
      ],
      "text/plain": [
       "[1] 5200"
      ]
     },
     "metadata": {},
     "output_type": "display_data"
    }
   ],
   "source": [
    "gt_df = read.table('../intermediate/interactome_lists/GATA4-TBX5_genes.txt', stringsAsFactors=FALSE)\n",
    "gt_interactome = gt_df$V1\n",
    "\n",
    "combined$Interactome = ifelse(combined$Gene %in% gt_interactome, \"Interactome\", \"Non-interactome\")\n",
    "combined$variant_type_2 = paste0(combined$variant_type, '_', combined$Interactome)\n",
    "head(combined)\n",
    "nrow(combined)"
   ]
  },
  {
   "cell_type": "markdown",
   "metadata": {},
   "source": [
    "## CADD score"
   ]
  },
  {
   "cell_type": "code",
   "execution_count": 5,
   "metadata": {},
   "outputs": [
    {
     "data": {
      "text/html": [
       "5200"
      ],
      "text/latex": [
       "5200"
      ],
      "text/markdown": [
       "5200"
      ],
      "text/plain": [
       "[1] 5200"
      ]
     },
     "metadata": {},
     "output_type": "display_data"
    }
   ],
   "source": [
    "cadd_df = read.table('../data/cadd/cadd_scores.tsv', stringsAsFactors = FALSE, sep=\"\\t\", \n",
    "                     col.names = c('CHROM','POS','REF','ALT','CADD.score','PHRED.score'))\n",
    "\n",
    "df = merge(combined, cadd_df, all.x = TRUE)\n",
    "nrow(df)"
   ]
  },
  {
   "cell_type": "markdown",
   "metadata": {},
   "source": [
    "## gnomAD pLI and observed/expected score "
   ]
  },
  {
   "cell_type": "code",
   "execution_count": 6,
   "metadata": {},
   "outputs": [
    {
     "data": {
      "text/html": [
       "<ol class=list-inline>\n",
       "\t<li>'CFAP46'</li>\n",
       "\t<li>'SRPRA'</li>\n",
       "\t<li>'INAFM2'</li>\n",
       "\t<li>'JMJD7-PLA2G4B\\\\x3bPLA2G4B'</li>\n",
       "\t<li>'INTS14'</li>\n",
       "\t<li>'CRAMP1'</li>\n",
       "\t<li>'DRC7'</li>\n",
       "\t<li>'DRC7'</li>\n",
       "\t<li>'9-Sep'</li>\n",
       "\t<li>'HSH2D'</li>\n",
       "\t<li>'C2CD6'</li>\n",
       "\t<li>'ASB3\\\\x3bGPR75-ASB3'</li>\n",
       "\t<li>'ADIG'</li>\n",
       "\t<li>'USF3'</li>\n",
       "\t<li>'PXYLP1'</li>\n",
       "\t<li>'SMIM29'</li>\n",
       "\t<li>'C7orf55-LUC7L2\\\\x3bLUC7L2'</li>\n",
       "</ol>\n"
      ],
      "text/latex": [
       "\\begin{enumerate*}\n",
       "\\item 'CFAP46'\n",
       "\\item 'SRPRA'\n",
       "\\item 'INAFM2'\n",
       "\\item 'JMJD7-PLA2G4B\\textbackslash{}\\textbackslash{}x3bPLA2G4B'\n",
       "\\item 'INTS14'\n",
       "\\item 'CRAMP1'\n",
       "\\item 'DRC7'\n",
       "\\item 'DRC7'\n",
       "\\item '9-Sep'\n",
       "\\item 'HSH2D'\n",
       "\\item 'C2CD6'\n",
       "\\item 'ASB3\\textbackslash{}\\textbackslash{}x3bGPR75-ASB3'\n",
       "\\item 'ADIG'\n",
       "\\item 'USF3'\n",
       "\\item 'PXYLP1'\n",
       "\\item 'SMIM29'\n",
       "\\item 'C7orf55-LUC7L2\\textbackslash{}\\textbackslash{}x3bLUC7L2'\n",
       "\\end{enumerate*}\n"
      ],
      "text/markdown": [
       "1. 'CFAP46'\n",
       "2. 'SRPRA'\n",
       "3. 'INAFM2'\n",
       "4. 'JMJD7-PLA2G4B\\\\x3bPLA2G4B'\n",
       "5. 'INTS14'\n",
       "6. 'CRAMP1'\n",
       "7. 'DRC7'\n",
       "8. 'DRC7'\n",
       "9. '9-Sep'\n",
       "10. 'HSH2D'\n",
       "11. 'C2CD6'\n",
       "12. 'ASB3\\\\x3bGPR75-ASB3'\n",
       "13. 'ADIG'\n",
       "14. 'USF3'\n",
       "15. 'PXYLP1'\n",
       "16. 'SMIM29'\n",
       "17. 'C7orf55-LUC7L2\\\\x3bLUC7L2'\n",
       "\n",
       "\n"
      ],
      "text/plain": [
       " [1] \"CFAP46\"                    \"SRPRA\"                    \n",
       " [3] \"INAFM2\"                    \"JMJD7-PLA2G4B\\\\x3bPLA2G4B\"\n",
       " [5] \"INTS14\"                    \"CRAMP1\"                   \n",
       " [7] \"DRC7\"                      \"DRC7\"                     \n",
       " [9] \"9-Sep\"                     \"HSH2D\"                    \n",
       "[11] \"C2CD6\"                     \"ASB3\\\\x3bGPR75-ASB3\"      \n",
       "[13] \"ADIG\"                      \"USF3\"                     \n",
       "[15] \"PXYLP1\"                    \"SMIM29\"                   \n",
       "[17] \"C7orf55-LUC7L2\\\\x3bLUC7L2\""
      ]
     },
     "metadata": {},
     "output_type": "display_data"
    }
   ],
   "source": [
    "gnomad = read.table('../data/databases/gnomad_constraint.txt', sep = \"\\t\", stringsAsFactors=FALSE, header=TRUE)\n",
    "gnomad = unique(gnomad[!duplicated(gnomad$gene),])\n",
    "df$Gene[which(!df$Gene %in% gnomad$gene)]"
   ]
  },
  {
   "cell_type": "code",
   "execution_count": 7,
   "metadata": {},
   "outputs": [
    {
     "data": {
      "text/html": [
       "<ol class=list-inline>\n",
       "\t<li>'INAFM2'</li>\n",
       "\t<li>'HSH2D'</li>\n",
       "\t<li>'ADIG'</li>\n",
       "</ol>\n"
      ],
      "text/latex": [
       "\\begin{enumerate*}\n",
       "\\item 'INAFM2'\n",
       "\\item 'HSH2D'\n",
       "\\item 'ADIG'\n",
       "\\end{enumerate*}\n"
      ],
      "text/markdown": [
       "1. 'INAFM2'\n",
       "2. 'HSH2D'\n",
       "3. 'ADIG'\n",
       "\n",
       "\n"
      ],
      "text/plain": [
       "[1] \"INAFM2\" \"HSH2D\"  \"ADIG\"  "
      ]
     },
     "metadata": {},
     "output_type": "display_data"
    }
   ],
   "source": [
    "df$alias = df$Gene\n",
    "\n",
    "df$alias[which(df$Gene == \"9-Sep\")] <- 'SEPT9'\n",
    "df$alias[which(df$Gene == \"CFAP46\")] <- 'TTC40'\n",
    "df$alias[which(df$Gene == \"SRPRA\")] <- 'SRPR'\n",
    "df$alias[which(df$Gene ==\"JMJD7-PLA2G4B\\\\x3bPLA2G4B\")] <- 'PLA2G4B'\n",
    "df$alias[which(df$Gene ==\"INTS14\")] <- \"VWA9\"\n",
    "df$alias[which(df$Gene ==\"CRAMP1\")] <- \"CRAMP1L\"\n",
    "df$alias[which(df$Gene ==\"DRC7\")] <- \"CCDC135\"\n",
    "df$alias[which(df$Gene == \"C2CD6\")] <- 'ALS2CR11'\n",
    "df$alias[which(df$Gene == \"ASB3\\\\x3bGPR75-ASB3\")] <- 'GPR75-ASB3'\n",
    "df$alias[which(df$Gene == \"USF3\")] <- 'KIAA2018'\n",
    "df$alias[which(df$Gene == \"PXYLP1\")] <- 'ACPL2'\n",
    "df$alias[which(df$Gene == \"SMIM29\")] <- 'C6orf1'\n",
    "df$alias[which(df$Gene == \"C7orf55-LUC7L2\\\\x3bLUC7L2\")] <- 'LUC7L2'\n",
    "\n",
    "df$Gene[which(!df$alias %in% gnomad$gene)] # These three genes do not appear to have aliases in the gnomad DB\n",
    "\n"
   ]
  },
  {
   "cell_type": "code",
   "execution_count": 8,
   "metadata": {},
   "outputs": [
    {
     "data": {
      "text/html": [
       "5200"
      ],
      "text/latex": [
       "5200"
      ],
      "text/markdown": [
       "5200"
      ],
      "text/plain": [
       "[1] 5200"
      ]
     },
     "metadata": {},
     "output_type": "display_data"
    }
   ],
   "source": [
    "df = unique(merge(df, gnomad[,c('gene','oe_mis','oe_lof','oe_syn','pLI','cds_length')], \n",
    "           by.x='alias', by.y='gene', all.x = TRUE))\n",
    "nrow(df)"
   ]
  },
  {
   "cell_type": "code",
   "execution_count": 9,
   "metadata": {},
   "outputs": [
    {
     "data": {
      "text/html": [
       "5200"
      ],
      "text/latex": [
       "5200"
      ],
      "text/markdown": [
       "5200"
      ],
      "text/plain": [
       "[1] 5200"
      ]
     },
     "metadata": {},
     "output_type": "display_data"
    }
   ],
   "source": [
    "# Create column with relevant oe score (oe_mis for missense variants, oe_lof for loss-of-function variants)\n",
    "df$oe = NA\n",
    "\n",
    "for(i in c(1:nrow(df))){\n",
    "    if (df$Variant.Class[i] %in% c(\"mis\",\"misD\")){\n",
    "        df$oe[i] = df$oe_mis[i]\n",
    "    } else if(df$Variant.Class[i] %in% c(\"non\",\"frameshift\",\"startloss\",\"splice\",\"stoploss\")){\n",
    "        df$oe[i] = df$oe_lof[i]\n",
    "    } else if(df$Variant.Class[i] == 'syn'){\n",
    "        df$oe[i] = df$oe_syn[i]\n",
    "    }\n",
    "}\n",
    "    \n",
    "nrow(df)"
   ]
  },
  {
   "cell_type": "markdown",
   "metadata": {},
   "source": [
    "## Heart expression percentile rank"
   ]
  },
  {
   "cell_type": "code",
   "execution_count": 10,
   "metadata": {},
   "outputs": [
    {
     "data": {
      "text/html": [
       "5200"
      ],
      "text/latex": [
       "5200"
      ],
      "text/markdown": [
       "5200"
      ],
      "text/plain": [
       "[1] 5200"
      ]
     },
     "metadata": {},
     "output_type": "display_data"
    }
   ],
   "source": [
    "hhe_df = read.table('../data/databases/hhe_genes_rank.txt', sep=\"\\t\", stringsAsFactors = FALSE, header=TRUE)\n",
    "names(hhe_df) <- c(\"Gene\", \"Heart.Expression.Percentile.Rank\")\n",
    "df = merge(df, hhe_df, by.x='alias', by.y='Gene', all.x = TRUE)\n",
    "nrow(df)"
   ]
  },
  {
   "cell_type": "markdown",
   "metadata": {},
   "source": [
    "## Node degree: other DNV genes, known CHD genes"
   ]
  },
  {
   "cell_type": "code",
   "execution_count": 11,
   "metadata": {},
   "outputs": [],
   "source": [
    "iref = read.table('../data/databases/mammalian_iRefIndex.txt', sep='\\t', stringsAsFactors=F, header=T)"
   ]
  },
  {
   "cell_type": "code",
   "execution_count": 12,
   "metadata": {},
   "outputs": [],
   "source": [
    "nonsyn_dnvs = unique(DNV_cases[which(DNV_cases$Variant.Class != \"syn\"), 'Gene'])\n",
    "\n",
    "known = read.table('../data/databases/known_CHD_genes.txt', stringsAsFactors = FALSE)\n",
    "known_genes = known$V1"
   ]
  },
  {
   "cell_type": "code",
   "execution_count": 13,
   "metadata": {},
   "outputs": [],
   "source": [
    "# We're interested in any genes with a DNV, all interactome genes, and reference variant genes\n",
    "genes_of_interest = unique(c(DNV_cases$Gene, DNV_ctrls$Gene, gt_interactome, df$alias,\n",
    "                             c(\"NKX2-5\",\"TBX5\",\"MKL2\",\"MYH7\")))"
   ]
  },
  {
   "cell_type": "code",
   "execution_count": 14,
   "metadata": {},
   "outputs": [],
   "source": [
    "get_degree <- function(gene, subnetwork){\n",
    "    \n",
    "    lines = subnetwork[which(subnetwork$aliasA == gene | subnetwork$aliasB == gene),]\n",
    "    lines = lines[which(lines$aliasA != lines$aliasB),c('aliasA','aliasB')]\n",
    "    swap_lines = lines[,c('aliasB','aliasA')]\n",
    "    names(swap_lines) = c('aliasA','aliasB')\n",
    "    both = rbind(lines, swap_lines)\n",
    "    both = unique(both)\n",
    "    degree = nrow(both)/2\n",
    "    \n",
    "    return(degree)\n",
    "}"
   ]
  },
  {
   "cell_type": "code",
   "execution_count": 17,
   "metadata": {},
   "outputs": [],
   "source": [
    "gene_conn = data.frame(genes_of_interest)\n",
    "names(gene_conn) <- 'Gene'\n",
    "gene_conn$total_connections = 0\n",
    "gene_conn$dnv_node_degree = 0\n",
    "gene_conn$corrected_dnv_node_degree = 0\n",
    "gene_conn$chd_node_degree = 0\n",
    "gene_conn$corrected_chd_node_degree = 0\n",
    "\n",
    "\n",
    "for (i in c(1:nrow(gene_conn))){\n",
    "    \n",
    "    gene = gene_conn$Gene[i]\n",
    "    \n",
    "    # Total number of connections in iref network\n",
    "    degree = get_degree(gene, iref)\n",
    "    gene_conn$total_connections[i] = degree\n",
    "    \n",
    "    # Number of connections the gene has to genes with a nonsynonymous DNV\n",
    "    dnv_iref = iref[which(iref$aliasA %in% nonsyn_dnvs | iref$aliasB %in% nonsyn_dnvs),]\n",
    "    dnv_degree = get_degree(gene, dnv_iref)\n",
    "    gene_conn$dnv_node_degree[i] = dnv_degree\n",
    "    gene_conn$corrected_dnv_node_degree[i] = dnv_degree/degree\n",
    "    \n",
    "    # Number of connections the gene has to known CHD genes\n",
    "    chd_iref = iref[which(iref$aliasA %in% known_genes | iref$aliasB %in% known_genes),]\n",
    "    chd_degree = get_degree(gene, chd_iref)\n",
    "    gene_conn$chd_node_degree[i] = chd_degree\n",
    "    gene_conn$corrected_chd_node_degree[i] = chd_degree/degree\n",
    "}"
   ]
  },
  {
   "cell_type": "code",
   "execution_count": 18,
   "metadata": {},
   "outputs": [],
   "source": [
    "write.csv(gene_conn, \"../intermediate/iref_gene_connections.csv\", row.names=FALSE)"
   ]
  },
  {
   "cell_type": "code",
   "execution_count": 19,
   "metadata": {},
   "outputs": [
    {
     "data": {
      "text/html": [
       "5200"
      ],
      "text/latex": [
       "5200"
      ],
      "text/markdown": [
       "5200"
      ],
      "text/plain": [
       "[1] 5200"
      ]
     },
     "metadata": {},
     "output_type": "display_data"
    }
   ],
   "source": [
    "df = merge(df, gene_conn, by.x='alias', by.y='Gene', all.x = TRUE)\n",
    "nrow(df)"
   ]
  },
  {
   "cell_type": "markdown",
   "metadata": {},
   "source": [
    "## Haploinsufficiency"
   ]
  },
  {
   "cell_type": "code",
   "execution_count": 20,
   "metadata": {},
   "outputs": [
    {
     "data": {
      "text/html": [
       "<table>\n",
       "<thead><tr><th scope=col>CHR</th><th scope=col>START</th><th scope=col>STOP</th><th scope=col>Gene||</th><th scope=col>p_haploinsufficient</th><th scope=col></th><th scope=col></th><th scope=col>NA</th><th scope=col>NA</th></tr></thead>\n",
       "<tbody>\n",
       "\t<tr><td>chr1                </td><td>850392              </td><td>869824              </td><td>SAMD11|0.085|79.5%  </td><td>0.085               </td><td>.                   </td><td>850393              </td><td>869824              </td><td>50,205,0            </td></tr>\n",
       "\t<tr><td>chr1                </td><td>869458              </td><td>884494              </td><td>NOC2L|0.230|38.2%   </td><td>0.230               </td><td>.                   </td><td>869459              </td><td>884494              </td><td>150,105,0           </td></tr>\n",
       "\t<tr><td>chr1                </td><td>885829              </td><td>890958              </td><td>KLHL17|0.084|80.2%  </td><td>0.084               </td><td>.                   </td><td>885830              </td><td>890958              </td><td>25,230,0            </td></tr>\n",
       "\t<tr><td>chr1                </td><td>891739              </td><td>900339              </td><td>PLEKHN1|0.170|49.2% </td><td>0.170               </td><td>.                   </td><td>891740              </td><td>900339              </td><td>125,130,0           </td></tr>\n",
       "\t<tr><td>chr1                </td><td>900446              </td><td>907336              </td><td>C1orf170|0.061|90.0%</td><td>0.061               </td><td>.                   </td><td>900447              </td><td>907336              </td><td>25,230,0            </td></tr>\n",
       "\t<tr><td>chr1                </td><td>924207              </td><td>925333              </td><td>HES4|0.177|47.7%    </td><td>0.177               </td><td>.                   </td><td>924208              </td><td>925333              </td><td>125,130,0           </td></tr>\n",
       "</tbody>\n",
       "</table>\n"
      ],
      "text/latex": [
       "\\begin{tabular}{r|lllllllll}\n",
       " CHR & START & STOP & Gene\\textbar{}\\textbar{} & p\\_haploinsufficient &  &  & NA & NA\\\\\n",
       "\\hline\n",
       "\t chr1                                       & 850392                                     & 869824                                     & SAMD11\\textbar{}0.085\\textbar{}79.5\\%   & 0.085                                      & .                                          & 850393                                     & 869824                                     & 50,205,0                                  \\\\\n",
       "\t chr1                                       & 869458                                     & 884494                                     & NOC2L\\textbar{}0.230\\textbar{}38.2\\%    & 0.230                                      & .                                          & 869459                                     & 884494                                     & 150,105,0                                 \\\\\n",
       "\t chr1                                       & 885829                                     & 890958                                     & KLHL17\\textbar{}0.084\\textbar{}80.2\\%   & 0.084                                      & .                                          & 885830                                     & 890958                                     & 25,230,0                                  \\\\\n",
       "\t chr1                                       & 891739                                     & 900339                                     & PLEKHN1\\textbar{}0.170\\textbar{}49.2\\%  & 0.170                                      & .                                          & 891740                                     & 900339                                     & 125,130,0                                 \\\\\n",
       "\t chr1                                       & 900446                                     & 907336                                     & C1orf170\\textbar{}0.061\\textbar{}90.0\\% & 0.061                                      & .                                          & 900447                                     & 907336                                     & 25,230,0                                  \\\\\n",
       "\t chr1                                       & 924207                                     & 925333                                     & HES4\\textbar{}0.177\\textbar{}47.7\\%     & 0.177                                      & .                                          & 924208                                     & 925333                                     & 125,130,0                                 \\\\\n",
       "\\end{tabular}\n"
      ],
      "text/markdown": [
       "\n",
       "| CHR | START | STOP | Gene|| | p_haploinsufficient |  |  | NA | NA |\n",
       "|---|---|---|---|---|---|---|---|---|\n",
       "| chr1                 | 850392               | 869824               | SAMD11|0.085|79.5%   | 0.085                | .                    | 850393               | 869824               | 50,205,0             |\n",
       "| chr1                 | 869458               | 884494               | NOC2L|0.230|38.2%    | 0.230                | .                    | 869459               | 884494               | 150,105,0            |\n",
       "| chr1                 | 885829               | 890958               | KLHL17|0.084|80.2%   | 0.084                | .                    | 885830               | 890958               | 25,230,0             |\n",
       "| chr1                 | 891739               | 900339               | PLEKHN1|0.170|49.2%  | 0.170                | .                    | 891740               | 900339               | 125,130,0            |\n",
       "| chr1                 | 900446               | 907336               | C1orf170|0.061|90.0% | 0.061                | .                    | 900447               | 907336               | 25,230,0             |\n",
       "| chr1                 | 924207               | 925333               | HES4|0.177|47.7%     | 0.177                | .                    | 924208               | 925333               | 125,130,0            |\n",
       "\n"
      ],
      "text/plain": [
       "  CHR  START  STOP   Gene||               p_haploinsufficient          <NA>  \n",
       "1 chr1 850392 869824 SAMD11|0.085|79.5%   0.085               . 850393 869824\n",
       "2 chr1 869458 884494 NOC2L|0.230|38.2%    0.230               . 869459 884494\n",
       "3 chr1 885829 890958 KLHL17|0.084|80.2%   0.084               . 885830 890958\n",
       "4 chr1 891739 900339 PLEKHN1|0.170|49.2%  0.170               . 891740 900339\n",
       "5 chr1 900446 907336 C1orf170|0.061|90.0% 0.061               . 900447 907336\n",
       "6 chr1 924207 925333 HES4|0.177|47.7%     0.177               . 924208 925333\n",
       "  <NA>     \n",
       "1 50,205,0 \n",
       "2 150,105,0\n",
       "3 25,230,0 \n",
       "4 125,130,0\n",
       "5 25,230,0 \n",
       "6 125,130,0"
      ]
     },
     "metadata": {},
     "output_type": "display_data"
    }
   ],
   "source": [
    "haploinsufficiency = read.table(\"../data/databases/huang-et-al_haploinsufficiency.txt\", sep = \"\\t\",\n",
    "                               stringsAsFactors=FALSE)\n",
    "names(haploinsufficiency) <- c(\"CHR\",\"START\",\"STOP\",\"Gene||\",\"p_haploinsufficient\",\"\",\"\")\n",
    "head(haploinsufficiency)"
   ]
  },
  {
   "cell_type": "code",
   "execution_count": 21,
   "metadata": {},
   "outputs": [
    {
     "data": {
      "text/html": [
       "5200"
      ],
      "text/latex": [
       "5200"
      ],
      "text/markdown": [
       "5200"
      ],
      "text/plain": [
       "[1] 5200"
      ]
     },
     "metadata": {},
     "output_type": "display_data"
    }
   ],
   "source": [
    "haploinsufficiency$Gene <- sub('\\\\|.*', \"\",haploinsufficiency$`Gene||`)\n",
    "df = merge(df, haploinsufficiency[,c('Gene','p_haploinsufficient')], all.x=TRUE)\n",
    "nrow(df)"
   ]
  },
  {
   "cell_type": "markdown",
   "metadata": {},
   "source": [
    "## Mutations per kilobase"
   ]
  },
  {
   "cell_type": "code",
   "execution_count": 22,
   "metadata": {},
   "outputs": [],
   "source": [
    "case_lof = read.csv('../data/variants/LoF_cases_v10v11.csv', stringsAsFactors=F)\n",
    "case_lof$Gene[which(case_lof$Gene == \"1-Sep\")] <- 'SEPT1'\n",
    "case_lof$Gene[which(case_lof$Gene == \"9-Sep\")] <- 'SEPT9'\n",
    "case_lof$Gene[which(case_lof$Gene == \"14-Sep\")] <- 'SEPT14'\n",
    "\n",
    "case_lof$Gene[which(case_lof$Gene == \"10-Mar\")] <- 'MARCH10'\n",
    "case_lof$Gene[which(case_lof$Gene == \"11-Mar\")] <- 'MARCH11'\n",
    "case_lof$Gene[which(case_lof$Gene == \"9-Mar\")] <- 'MARCH9'\n",
    "\n",
    "dnvs = DNV_cases[which(DNV_cases$variant_type=='Case Non-synonymous'),]\n",
    "cols = c('Blinded.ID','Gene','AA.change')\n",
    "vars = rbind(DNV_cases[,cols], case_lof[,cols])\n",
    "gene_counts = as.data.frame(table(vars$Gene))\n",
    "names(gene_counts) = c('Gene','n_mutations')"
   ]
  },
  {
   "cell_type": "code",
   "execution_count": 23,
   "metadata": {},
   "outputs": [
    {
     "data": {
      "text/html": [
       "5200"
      ],
      "text/latex": [
       "5200"
      ],
      "text/markdown": [
       "5200"
      ],
      "text/plain": [
       "[1] 5200"
      ]
     },
     "metadata": {},
     "output_type": "display_data"
    }
   ],
   "source": [
    "df = merge(df, gene_counts, all.x=TRUE)\n",
    "df$mutperkb = (df$n_mutations / df$cds_length) * 1000\n",
    "nrow(df)"
   ]
  },
  {
   "cell_type": "markdown",
   "metadata": {},
   "source": [
    "## Heart expression specificity"
   ]
  },
  {
   "cell_type": "code",
   "execution_count": 24,
   "metadata": {},
   "outputs": [
    {
     "data": {
      "text/html": [
       "<table>\n",
       "<thead><tr><th scope=col>Description</th><th scope=col>Adipose...Subcutaneous</th><th scope=col>Adipose...Visceral..Omentum.</th><th scope=col>Adrenal.Gland</th><th scope=col>Artery...Aorta</th><th scope=col>Artery...Coronary</th><th scope=col>Artery...Tibial</th><th scope=col>Bladder</th><th scope=col>Brain...Amygdala</th><th scope=col>Brain...Anterior.cingulate.cortex..BA24.</th><th scope=col>...</th><th scope=col>Skin...Not.Sun.Exposed..Suprapubic.</th><th scope=col>Skin...Sun.Exposed..Lower.leg.</th><th scope=col>Small.Intestine...Terminal.Ileum</th><th scope=col>Spleen</th><th scope=col>Stomach</th><th scope=col>Testis</th><th scope=col>Thyroid</th><th scope=col>Uterus</th><th scope=col>Vagina</th><th scope=col>Whole.Blood</th></tr></thead>\n",
       "<tbody>\n",
       "\t<tr><td>5_8S_rRNA </td><td>0.00000000</td><td>0.00000000</td><td>0.0000000 </td><td>0.0000000 </td><td>0.0000000 </td><td>0.0000000 </td><td>0.00000000</td><td>0.00000   </td><td>0.00000000</td><td>...       </td><td>0.00000000</td><td>0.00000000</td><td>0.00000000</td><td>0.00000000</td><td>0.000000  </td><td>0.00000000</td><td>0.00000000</td><td>0.00000000</td><td>0.00000000</td><td>0.00000000</td></tr>\n",
       "\t<tr><td>5S_rRNA   </td><td>0.03274744</td><td>0.00000000</td><td>0.0000000 </td><td>0.0000000 </td><td>0.0000000 </td><td>0.0000000 </td><td>0.00000000</td><td>0.00000   </td><td>0.00000000</td><td>...       </td><td>0.01952531</td><td>0.02435181</td><td>0.02203625</td><td>0.06317431</td><td>0.012659  </td><td>0.03525225</td><td>0.02120125</td><td>0.03329181</td><td>0.02251006</td><td>0.01484906</td></tr>\n",
       "\t<tr><td>7SK       </td><td>0.00000000</td><td>0.00000000</td><td>0.0000000 </td><td>0.0000000 </td><td>0.0000000 </td><td>0.0000000 </td><td>0.00000000</td><td>0.00000   </td><td>0.00000000</td><td>...       </td><td>0.01897867</td><td>0.00000000</td><td>0.00000000</td><td>0.00000000</td><td>0.000000  </td><td>0.39720833</td><td>0.00000000</td><td>0.00000000</td><td>0.00000000</td><td>0.00000000</td></tr>\n",
       "\t<tr><td>A1BG      </td><td>3.10956000</td><td>3.27881000</td><td>1.4056600 </td><td>3.3715600 </td><td>7.4051300 </td><td>6.4385600 </td><td>2.17151000</td><td>4.02207   </td><td>3.55573000</td><td>...       </td><td>2.34010000</td><td>2.19279000</td><td>2.80474000</td><td>6.32484000</td><td>1.350860  </td><td>1.54219000</td><td>4.53652000</td><td>7.84693000</td><td>5.49158000</td><td>1.69172000</td></tr>\n",
       "\t<tr><td>A1BG-AS1  </td><td>1.61339000</td><td>1.95934000</td><td>1.0248200 </td><td>2.1095300 </td><td>5.0850900 </td><td>3.5362300 </td><td>1.25874000</td><td>1.00217   </td><td>1.86325000</td><td>...       </td><td>1.50524000</td><td>1.25731000</td><td>2.50539000</td><td>5.42682000</td><td>1.006890  </td><td>0.64078600</td><td>3.71696000</td><td>6.28329000</td><td>3.27360000</td><td>1.28071000</td></tr>\n",
       "\t<tr><td>A1CF      </td><td>0.00738411</td><td>0.00561853</td><td>0.0187032 </td><td>0.0163877 </td><td>0.0122843 </td><td>0.0158928 </td><td>0.00884071</td><td>0.00000   </td><td>0.00468671</td><td>...       </td><td>0.01123390</td><td>0.01439770</td><td>6.02867000</td><td>0.00963833</td><td>0.239152  </td><td>0.04755730</td><td>0.01639170</td><td>0.00701341</td><td>0.01087620</td><td>0.00572623</td></tr>\n",
       "</tbody>\n",
       "</table>\n"
      ],
      "text/latex": [
       "\\begin{tabular}{r|lllllllllllllllllllllllllllllllllllllllllllllllllllllll}\n",
       " Description & Adipose...Subcutaneous & Adipose...Visceral..Omentum. & Adrenal.Gland & Artery...Aorta & Artery...Coronary & Artery...Tibial & Bladder & Brain...Amygdala & Brain...Anterior.cingulate.cortex..BA24. & ... & Skin...Not.Sun.Exposed..Suprapubic. & Skin...Sun.Exposed..Lower.leg. & Small.Intestine...Terminal.Ileum & Spleen & Stomach & Testis & Thyroid & Uterus & Vagina & Whole.Blood\\\\\n",
       "\\hline\n",
       "\t 5\\_8S\\_rRNA & 0.00000000    & 0.00000000    & 0.0000000     & 0.0000000     & 0.0000000     & 0.0000000     & 0.00000000    & 0.00000       & 0.00000000    & ...           & 0.00000000    & 0.00000000    & 0.00000000    & 0.00000000    & 0.000000      & 0.00000000    & 0.00000000    & 0.00000000    & 0.00000000    & 0.00000000   \\\\\n",
       "\t 5S\\_rRNA   & 0.03274744  & 0.00000000  & 0.0000000   & 0.0000000   & 0.0000000   & 0.0000000   & 0.00000000  & 0.00000     & 0.00000000  & ...         & 0.01952531  & 0.02435181  & 0.02203625  & 0.06317431  & 0.012659    & 0.03525225  & 0.02120125  & 0.03329181  & 0.02251006  & 0.01484906 \\\\\n",
       "\t 7SK        & 0.00000000 & 0.00000000 & 0.0000000  & 0.0000000  & 0.0000000  & 0.0000000  & 0.00000000 & 0.00000    & 0.00000000 & ...        & 0.01897867 & 0.00000000 & 0.00000000 & 0.00000000 & 0.000000   & 0.39720833 & 0.00000000 & 0.00000000 & 0.00000000 & 0.00000000\\\\\n",
       "\t A1BG       & 3.10956000 & 3.27881000 & 1.4056600  & 3.3715600  & 7.4051300  & 6.4385600  & 2.17151000 & 4.02207    & 3.55573000 & ...        & 2.34010000 & 2.19279000 & 2.80474000 & 6.32484000 & 1.350860   & 1.54219000 & 4.53652000 & 7.84693000 & 5.49158000 & 1.69172000\\\\\n",
       "\t A1BG-AS1   & 1.61339000 & 1.95934000 & 1.0248200  & 2.1095300  & 5.0850900  & 3.5362300  & 1.25874000 & 1.00217    & 1.86325000 & ...        & 1.50524000 & 1.25731000 & 2.50539000 & 5.42682000 & 1.006890   & 0.64078600 & 3.71696000 & 6.28329000 & 3.27360000 & 1.28071000\\\\\n",
       "\t A1CF       & 0.00738411 & 0.00561853 & 0.0187032  & 0.0163877  & 0.0122843  & 0.0158928  & 0.00884071 & 0.00000    & 0.00468671 & ...        & 0.01123390 & 0.01439770 & 6.02867000 & 0.00963833 & 0.239152   & 0.04755730 & 0.01639170 & 0.00701341 & 0.01087620 & 0.00572623\\\\\n",
       "\\end{tabular}\n"
      ],
      "text/markdown": [
       "\n",
       "| Description | Adipose...Subcutaneous | Adipose...Visceral..Omentum. | Adrenal.Gland | Artery...Aorta | Artery...Coronary | Artery...Tibial | Bladder | Brain...Amygdala | Brain...Anterior.cingulate.cortex..BA24. | ... | Skin...Not.Sun.Exposed..Suprapubic. | Skin...Sun.Exposed..Lower.leg. | Small.Intestine...Terminal.Ileum | Spleen | Stomach | Testis | Thyroid | Uterus | Vagina | Whole.Blood |\n",
       "|---|---|---|---|---|---|---|---|---|---|---|---|---|---|---|---|---|---|---|---|---|\n",
       "| 5_8S_rRNA  | 0.00000000 | 0.00000000 | 0.0000000  | 0.0000000  | 0.0000000  | 0.0000000  | 0.00000000 | 0.00000    | 0.00000000 | ...        | 0.00000000 | 0.00000000 | 0.00000000 | 0.00000000 | 0.000000   | 0.00000000 | 0.00000000 | 0.00000000 | 0.00000000 | 0.00000000 |\n",
       "| 5S_rRNA    | 0.03274744 | 0.00000000 | 0.0000000  | 0.0000000  | 0.0000000  | 0.0000000  | 0.00000000 | 0.00000    | 0.00000000 | ...        | 0.01952531 | 0.02435181 | 0.02203625 | 0.06317431 | 0.012659   | 0.03525225 | 0.02120125 | 0.03329181 | 0.02251006 | 0.01484906 |\n",
       "| 7SK        | 0.00000000 | 0.00000000 | 0.0000000  | 0.0000000  | 0.0000000  | 0.0000000  | 0.00000000 | 0.00000    | 0.00000000 | ...        | 0.01897867 | 0.00000000 | 0.00000000 | 0.00000000 | 0.000000   | 0.39720833 | 0.00000000 | 0.00000000 | 0.00000000 | 0.00000000 |\n",
       "| A1BG       | 3.10956000 | 3.27881000 | 1.4056600  | 3.3715600  | 7.4051300  | 6.4385600  | 2.17151000 | 4.02207    | 3.55573000 | ...        | 2.34010000 | 2.19279000 | 2.80474000 | 6.32484000 | 1.350860   | 1.54219000 | 4.53652000 | 7.84693000 | 5.49158000 | 1.69172000 |\n",
       "| A1BG-AS1   | 1.61339000 | 1.95934000 | 1.0248200  | 2.1095300  | 5.0850900  | 3.5362300  | 1.25874000 | 1.00217    | 1.86325000 | ...        | 1.50524000 | 1.25731000 | 2.50539000 | 5.42682000 | 1.006890   | 0.64078600 | 3.71696000 | 6.28329000 | 3.27360000 | 1.28071000 |\n",
       "| A1CF       | 0.00738411 | 0.00561853 | 0.0187032  | 0.0163877  | 0.0122843  | 0.0158928  | 0.00884071 | 0.00000    | 0.00468671 | ...        | 0.01123390 | 0.01439770 | 6.02867000 | 0.00963833 | 0.239152   | 0.04755730 | 0.01639170 | 0.00701341 | 0.01087620 | 0.00572623 |\n",
       "\n"
      ],
      "text/plain": [
       "  Description Adipose...Subcutaneous Adipose...Visceral..Omentum. Adrenal.Gland\n",
       "1 5_8S_rRNA   0.00000000             0.00000000                   0.0000000    \n",
       "2 5S_rRNA     0.03274744             0.00000000                   0.0000000    \n",
       "3 7SK         0.00000000             0.00000000                   0.0000000    \n",
       "4 A1BG        3.10956000             3.27881000                   1.4056600    \n",
       "5 A1BG-AS1    1.61339000             1.95934000                   1.0248200    \n",
       "6 A1CF        0.00738411             0.00561853                   0.0187032    \n",
       "  Artery...Aorta Artery...Coronary Artery...Tibial Bladder    Brain...Amygdala\n",
       "1 0.0000000      0.0000000         0.0000000       0.00000000 0.00000         \n",
       "2 0.0000000      0.0000000         0.0000000       0.00000000 0.00000         \n",
       "3 0.0000000      0.0000000         0.0000000       0.00000000 0.00000         \n",
       "4 3.3715600      7.4051300         6.4385600       2.17151000 4.02207         \n",
       "5 2.1095300      5.0850900         3.5362300       1.25874000 1.00217         \n",
       "6 0.0163877      0.0122843         0.0158928       0.00884071 0.00000         \n",
       "  Brain...Anterior.cingulate.cortex..BA24. ...\n",
       "1 0.00000000                               ...\n",
       "2 0.00000000                               ...\n",
       "3 0.00000000                               ...\n",
       "4 3.55573000                               ...\n",
       "5 1.86325000                               ...\n",
       "6 0.00468671                               ...\n",
       "  Skin...Not.Sun.Exposed..Suprapubic. Skin...Sun.Exposed..Lower.leg.\n",
       "1 0.00000000                          0.00000000                    \n",
       "2 0.01952531                          0.02435181                    \n",
       "3 0.01897867                          0.00000000                    \n",
       "4 2.34010000                          2.19279000                    \n",
       "5 1.50524000                          1.25731000                    \n",
       "6 0.01123390                          0.01439770                    \n",
       "  Small.Intestine...Terminal.Ileum Spleen     Stomach  Testis     Thyroid   \n",
       "1 0.00000000                       0.00000000 0.000000 0.00000000 0.00000000\n",
       "2 0.02203625                       0.06317431 0.012659 0.03525225 0.02120125\n",
       "3 0.00000000                       0.00000000 0.000000 0.39720833 0.00000000\n",
       "4 2.80474000                       6.32484000 1.350860 1.54219000 4.53652000\n",
       "5 2.50539000                       5.42682000 1.006890 0.64078600 3.71696000\n",
       "6 6.02867000                       0.00963833 0.239152 0.04755730 0.01639170\n",
       "  Uterus     Vagina     Whole.Blood\n",
       "1 0.00000000 0.00000000 0.00000000 \n",
       "2 0.03329181 0.02251006 0.01484906 \n",
       "3 0.00000000 0.00000000 0.00000000 \n",
       "4 7.84693000 5.49158000 1.69172000 \n",
       "5 6.28329000 3.27360000 1.28071000 \n",
       "6 0.00701341 0.01087620 0.00572623 "
      ]
     },
     "metadata": {},
     "output_type": "display_data"
    }
   ],
   "source": [
    "gtex = read.table(\"../data/databases/GTEx_Analysis_2017-06-05_v8_RNASeQCv1.1.9_gene_median_tpm.gct.gz\",\n",
    "                  sep = \"\\t\", stringsAsFactors=F, header=T, skip=2, fill=T)\n",
    "# Some genes have multiple transcripts\n",
    "gtex = aggregate(.~Description, data=gtex[,c(-1)], mean)\n",
    "head(gtex)"
   ]
  },
  {
   "cell_type": "code",
   "execution_count": 25,
   "metadata": {},
   "outputs": [
    {
     "data": {
      "text/html": [
       "5200"
      ],
      "text/latex": [
       "5200"
      ],
      "text/markdown": [
       "5200"
      ],
      "text/plain": [
       "[1] 5200"
      ]
     },
     "metadata": {},
     "output_type": "display_data"
    }
   ],
   "source": [
    "g <- gtex[which(gtex$Description%in% df$Gene),c('Description','Heart...Atrial.Appendage',\n",
    "                                                               'Heart...Left.Ventricle','Artery...Aorta',\n",
    "                                                               'Artery...Coronary',\n",
    "                                                               'Brain...Amygdala','Brain...Cortex','Brain...Cerebellum','Brain...Hypothalamus','Bladder',\n",
    "                                                               'Breast...Mammary.Tissue','Colon...Sigmoid','Esophagus...Muscularis','Fallopian.Tube',\n",
    "                                                               'Adrenal.Gland','Kidney...Cortex','Liver','Lung','Pancreas','Prostate','Spleen',\n",
    "                                                               'Thyroid','Whole.Blood')]\n",
    "names(g) = c(\"Gene\",\"Adult Atrium\",\"Adult Left Ventricle\",\"Aortic Artery\",\"Coronary Artery\",\"Amygdala\",\n",
    "                  \"Cortex\",\"Cerebellum\",\n",
    "                  \"Hypothalamus\",\"Bladder\",\"Mammary Tissue\",\"Sigmoid Colon\",\"Espohagus Muscularis\",\"Fallopian Tube\",\n",
    "                  \"Adrenal Gland\",\"Kidney\",\"Liver\",\"Lung\",\"Pancreas\",\"Prostate\",\"Spleen\",\"Thyroid\",\"Whole Blood\")\n",
    "  \n",
    "row.names(g) <- g$Gene\n",
    "g <- g[,c(-1)]\n",
    "  \n",
    "g$heart_avg = rowMeans(g[,c(\"Adult Atrium\",\"Adult Left Ventricle\")])\n",
    "g$other_avg = rowMeans(g[,c(-1,-2,-23)])\n",
    "g$heart_specificity = g$heart_avg / rowSums(g[,c(-1,-2,-23)])\n",
    "df$specificity_score = g$heart_specificity[match(df$Gene, row.names(g))]\n",
    "nrow(df)"
   ]
  },
  {
   "cell_type": "markdown",
   "metadata": {},
   "source": [
    "## Save out table of characteristics for manuscript"
   ]
  },
  {
   "cell_type": "code",
   "execution_count": 26,
   "metadata": {},
   "outputs": [
    {
     "data": {
      "text/html": [
       "<table>\n",
       "<thead><tr><th scope=col>Gene</th><th scope=col>alias</th><th scope=col>CHROM</th><th scope=col>POS</th><th scope=col>REF</th><th scope=col>ALT</th><th scope=col>Blinded.ID</th><th scope=col>Variant.Class</th><th scope=col>variant_type</th><th scope=col>Interactome</th><th scope=col>...</th><th scope=col>Heart.Expression.Percentile.Rank</th><th scope=col>total_connections</th><th scope=col>dnv_node_degree</th><th scope=col>corrected_dnv_node_degree</th><th scope=col>chd_node_degree</th><th scope=col>corrected_chd_node_degree</th><th scope=col>p_haploinsufficient</th><th scope=col>n_mutations</th><th scope=col>mutperkb</th><th scope=col>specificity_score</th></tr></thead>\n",
       "<tbody>\n",
       "\t<tr><td>9-Sep                 </td><td>SEPT9                 </td><td>17                    </td><td> 75484879             </td><td>C                     </td><td>T                     </td><td>SSC05717              </td><td>misD                  </td><td>Control Non-synonymous</td><td>Non-interactome       </td><td>...                   </td><td>92.364685             </td><td>25                    </td><td> 4                    </td><td>0.16000000            </td><td>0                     </td><td>0.00000000            </td><td>   NA                 </td><td>NA                    </td><td>       NA             </td><td>         NA           </td></tr>\n",
       "\t<tr><td>A2M                   </td><td>A2M                   </td><td>12                    </td><td>  9265970             </td><td>A                     </td><td>G                     </td><td>14397                 </td><td>mis                   </td><td>Control Non-synonymous</td><td>Non-interactome       </td><td>...                   </td><td>33.295628             </td><td>87                    </td><td>16                    </td><td>0.18390805            </td><td>1                     </td><td>0.01149425            </td><td>0.264                 </td><td> 2                    </td><td>0.4522840             </td><td>0.016150049           </td></tr>\n",
       "\t<tr><td>A3GALT2               </td><td>A3GALT2               </td><td>1                     </td><td> 33777757             </td><td>C                     </td><td>G                     </td><td>1-07571               </td><td>mis                   </td><td>Case Non-synonymous   </td><td>Non-interactome       </td><td>...                   </td><td>       NA             </td><td> 0                    </td><td> 0                    </td><td>       NaN            </td><td>0                     </td><td>       NaN            </td><td>0.090                 </td><td> 1                    </td><td>0.9803922             </td><td>0.009409438           </td></tr>\n",
       "\t<tr><td>AAAS                  </td><td>AAAS                  </td><td>12                    </td><td> 53701325             </td><td>G                     </td><td>C                     </td><td>1-02674               </td><td>mis                   </td><td>Case Non-synonymous   </td><td>Non-interactome       </td><td>...                   </td><td>80.148182             </td><td>47                    </td><td>47                    </td><td>1.00000000            </td><td>0                     </td><td>0.00000000            </td><td>0.619                 </td><td> 4                    </td><td>2.4420024             </td><td>0.022944931           </td></tr>\n",
       "\t<tr><td>AACS                  </td><td>AACS                  </td><td>12                    </td><td>125621409             </td><td>C                     </td><td>T                     </td><td>GT04016012            </td><td>mis                   </td><td>Case Non-synonymous   </td><td>Non-interactome       </td><td>...                   </td><td>45.834512             </td><td> 0                    </td><td> 0                    </td><td>       NaN            </td><td>0                     </td><td>       NaN            </td><td>0.159                 </td><td> 2                    </td><td>0.9920635             </td><td>0.022971941           </td></tr>\n",
       "\t<tr><td>AAK1                  </td><td>AAK1                  </td><td>2                     </td><td> 69748004             </td><td>C                     </td><td>T                     </td><td>1-06459               </td><td>mis                   </td><td>Case Non-synonymous   </td><td>Non-interactome       </td><td>...                   </td><td>83.530343             </td><td> 7                    </td><td> 7                    </td><td>1.00000000            </td><td>0                     </td><td>0.00000000            </td><td>0.085                 </td><td> 2                    </td><td>0.6937218             </td><td>0.031645830           </td></tr>\n",
       "\t<tr><td>AAMP                  </td><td>AAMP                  </td><td>2                     </td><td>219130141             </td><td>T                     </td><td>A                     </td><td>11984                 </td><td>mis                   </td><td>Control Non-synonymous</td><td>Non-interactome       </td><td>...                   </td><td>93.648549             </td><td>12                    </td><td> 1                    </td><td>0.08333333            </td><td>0                     </td><td>0.00000000            </td><td>0.423                 </td><td>NA                    </td><td>       NA             </td><td>0.023836931           </td></tr>\n",
       "\t<tr><td>AASS                  </td><td>AASS                  </td><td>7                     </td><td>121769559             </td><td>C                     </td><td>T                     </td><td>1-00100               </td><td>syn                   </td><td>Case Synonymous       </td><td>Non-interactome       </td><td>...                   </td><td>23.923986             </td><td> 1                    </td><td> 1                    </td><td>1.00000000            </td><td>0                     </td><td>0.00000000            </td><td>0.450                 </td><td> 2                    </td><td>0.7199424             </td><td>0.024173806           </td></tr>\n",
       "\t<tr><td>AATK                  </td><td>AATK                  </td><td>17                    </td><td> 79094043             </td><td>G                     </td><td>T                     </td><td>1-08754               </td><td>syn                   </td><td>Case Synonymous       </td><td>Non-interactome       </td><td>...                   </td><td>30.733556             </td><td> 2                    </td><td> 0                    </td><td>0.00000000            </td><td>0                     </td><td>0.00000000            </td><td>0.213                 </td><td> 2                    </td><td>0.4852014             </td><td>0.006143793           </td></tr>\n",
       "\t<tr><td>ABAT                  </td><td>ABAT                  </td><td>16                    </td><td>  8870306             </td><td>C                     </td><td>T                     </td><td>1-04638               </td><td>mis                   </td><td>Case Non-synonymous   </td><td>Non-interactome       </td><td>...                   </td><td>86.567502             </td><td> 1                    </td><td> 1                    </td><td>1.00000000            </td><td>0                     </td><td>0.00000000            </td><td>0.369                 </td><td> 1                    </td><td>0.6666667             </td><td>0.006440546           </td></tr>\n",
       "\t<tr><td>ABCA12                </td><td>ABCA12                </td><td>2                     </td><td>215809744             </td><td>C                     </td><td>T                     </td><td>1-15672               </td><td>misD                  </td><td>Case Non-synonymous   </td><td>Non-interactome       </td><td>...                   </td><td>24.189808             </td><td> 2                    </td><td> 2                    </td><td>1.00000000            </td><td>0                     </td><td>0.00000000            </td><td>0.133                 </td><td> 2                    </td><td>0.2569043             </td><td>0.009856770           </td></tr>\n",
       "\t<tr><td>ABCA12                </td><td>ABCA12                </td><td>2                     </td><td>215917234             </td><td>C                     </td><td>T                     </td><td>12994                 </td><td>mis                   </td><td>Control Non-synonymous</td><td>Non-interactome       </td><td>...                   </td><td>24.189808             </td><td> 2                    </td><td> 2                    </td><td>1.00000000            </td><td>0                     </td><td>0.00000000            </td><td>0.133                 </td><td> 2                    </td><td>0.2569043             </td><td>0.009856770           </td></tr>\n",
       "\t<tr><td>ABCA12                </td><td>ABCA12                </td><td>2                     </td><td>215818801             </td><td>G                     </td><td>T                     </td><td>11405                 </td><td>mis                   </td><td>Control Non-synonymous</td><td>Non-interactome       </td><td>...                   </td><td>24.189808             </td><td> 2                    </td><td> 2                    </td><td>1.00000000            </td><td>0                     </td><td>0.00000000            </td><td>0.133                 </td><td> 2                    </td><td>0.2569043             </td><td>0.009856770           </td></tr>\n",
       "\t<tr><td>ABCA13                </td><td>ABCA13                </td><td>7                     </td><td> 48237892             </td><td>T                     </td><td>G                     </td><td>1-07342               </td><td>syn                   </td><td>Case Synonymous       </td><td>Non-interactome       </td><td>...                   </td><td>14.246932             </td><td> 2                    </td><td> 2                    </td><td>1.00000000            </td><td>0                     </td><td>0.00000000            </td><td>0.091                 </td><td>15                    </td><td>0.9885330             </td><td>0.002044809           </td></tr>\n",
       "\t<tr><td>ABCA13                </td><td>ABCA13                </td><td>7                     </td><td> 48315282             </td><td>C                     </td><td>A                     </td><td>11513                 </td><td>mis                   </td><td>Control Non-synonymous</td><td>Non-interactome       </td><td>...                   </td><td>14.246932             </td><td> 2                    </td><td> 2                    </td><td>1.00000000            </td><td>0                     </td><td>0.00000000            </td><td>0.091                 </td><td>15                    </td><td>0.9885330             </td><td>0.002044809           </td></tr>\n",
       "\t<tr><td>ABCA13                </td><td>ABCA13                </td><td>7                     </td><td> 48313603             </td><td>C                     </td><td>G                     </td><td>1-05977               </td><td>mis                   </td><td>Case Non-synonymous   </td><td>Non-interactome       </td><td>...                   </td><td>14.246932             </td><td> 2                    </td><td> 2                    </td><td>1.00000000            </td><td>0                     </td><td>0.00000000            </td><td>0.091                 </td><td>15                    </td><td>0.9885330             </td><td>0.002044809           </td></tr>\n",
       "\t<tr><td>ABCA13                </td><td>ABCA13                </td><td>7                     </td><td> 48287896             </td><td>G                     </td><td>C                     </td><td>1-01866               </td><td>mis                   </td><td>Case Non-synonymous   </td><td>Non-interactome       </td><td>...                   </td><td>14.246932             </td><td> 2                    </td><td> 2                    </td><td>1.00000000            </td><td>0                     </td><td>0.00000000            </td><td>0.091                 </td><td>15                    </td><td>0.9885330             </td><td>0.002044809           </td></tr>\n",
       "\t<tr><td>ABCA3                 </td><td>ABCA3                 </td><td>16                    </td><td>  2358475             </td><td>G                     </td><td>A                     </td><td>14095                 </td><td>mis                   </td><td>Control Non-synonymous</td><td>Non-interactome       </td><td>...                   </td><td>76.392738             </td><td> 7                    </td><td> 0                    </td><td>0.00000000            </td><td>0                     </td><td>0.00000000            </td><td>0.117                 </td><td>NA                    </td><td>       NA             </td><td>0.008299036           </td></tr>\n",
       "\t<tr><td>ABCA4                 </td><td>ABCA4                 </td><td>1                     </td><td> 94574138             </td><td>A                     </td><td>G                     </td><td>1-02035               </td><td>mis                   </td><td>Case Non-synonymous   </td><td>Non-interactome       </td><td>...                   </td><td>41.315536             </td><td> 4                    </td><td> 4                    </td><td>1.00000000            </td><td>0                     </td><td>0.00000000            </td><td>0.083                 </td><td> 4                    </td><td>0.5865963             </td><td>0.011724990           </td></tr>\n",
       "\t<tr><td>ABCA4                 </td><td>ABCA4                 </td><td>1                     </td><td> 94495150             </td><td>G                     </td><td>C                     </td><td>13093                 </td><td>misD                  </td><td>Control Non-synonymous</td><td>Non-interactome       </td><td>...                   </td><td>41.315536             </td><td> 4                    </td><td> 4                    </td><td>1.00000000            </td><td>0                     </td><td>0.00000000            </td><td>0.083                 </td><td> 4                    </td><td>0.5865963             </td><td>0.011724990           </td></tr>\n",
       "\t<tr><td>ABCA7                 </td><td>ABCA7                 </td><td>19                    </td><td>  1056184             </td><td>G                     </td><td>A                     </td><td>1-03865               </td><td>mis                   </td><td>Case Non-synonymous   </td><td>Non-interactome       </td><td>...                   </td><td>54.239014             </td><td> 1                    </td><td> 1                    </td><td>1.00000000            </td><td>0                     </td><td>0.00000000            </td><td>0.048                 </td><td> 3                    </td><td>0.4659832             </td><td>0.006900874           </td></tr>\n",
       "\t<tr><td>ABCA8                 </td><td>ABCA8                 </td><td>17                    </td><td> 66925280             </td><td>C                     </td><td>A                     </td><td>1-05296               </td><td>syn                   </td><td>Case Synonymous       </td><td>Non-interactome       </td><td>...                   </td><td>34.918839             </td><td> 0                    </td><td> 0                    </td><td>       NaN            </td><td>0                     </td><td>       NaN            </td><td>0.049                 </td><td> 6                    </td><td>1.2650221             </td><td>0.063035706           </td></tr>\n",
       "\t<tr><td>ABCA8                 </td><td>ABCA8                 </td><td>17                    </td><td> 66924150             </td><td>C                     </td><td>T                     </td><td>1-00416               </td><td>mis                   </td><td>Case Non-synonymous   </td><td>Non-interactome       </td><td>...                   </td><td>34.918839             </td><td> 0                    </td><td> 0                    </td><td>       NaN            </td><td>0                     </td><td>       NaN            </td><td>0.049                 </td><td> 6                    </td><td>1.2650221             </td><td>0.063035706           </td></tr>\n",
       "\t<tr><td>ABCB11                </td><td>ABCB11                </td><td>2                     </td><td>169780296             </td><td>G                     </td><td>A                     </td><td>11251                 </td><td>misD                  </td><td>Control Non-synonymous</td><td>Non-interactome       </td><td>...                   </td><td> 9.484758             </td><td> 4                    </td><td> 0                    </td><td>0.00000000            </td><td>0                     </td><td>0.00000000            </td><td>0.099                 </td><td> 2                    </td><td>0.5046682             </td><td>0.003078259           </td></tr>\n",
       "\t<tr><td>ABCB6                 </td><td>ABCB6                 </td><td>2                     </td><td>220082869             </td><td>G                     </td><td>C                     </td><td>1-01951               </td><td>mis                   </td><td>Case Non-synonymous   </td><td>Non-interactome       </td><td>...                   </td><td>       NA             </td><td>11                    </td><td>11                    </td><td>1.00000000            </td><td>0                     </td><td>0.00000000            </td><td>0.107                 </td><td> 5                    </td><td>1.9794141             </td><td>0.020926142           </td></tr>\n",
       "\t<tr><td>ABCC1                 </td><td>ABCC1                 </td><td>16                    </td><td> 16230394             </td><td>G                     </td><td>A                     </td><td>11008                 </td><td>syn                   </td><td>Control Synonymous    </td><td>Non-interactome       </td><td>...                   </td><td>37.085007             </td><td>22                    </td><td> 1                    </td><td>0.04545455            </td><td>0                     </td><td>0.00000000            </td><td>0.201                 </td><td>NA                    </td><td>       NA             </td><td>0.018334936           </td></tr>\n",
       "\t<tr><td>ABCC11                </td><td>ABCC11                </td><td>16                    </td><td> 48261823             </td><td>C                     </td><td>T                     </td><td>14316                 </td><td>mis                   </td><td>Control Non-synonymous</td><td>Non-interactome       </td><td>...                   </td><td>       NA             </td><td> 0                    </td><td> 0                    </td><td>       NaN            </td><td>0                     </td><td>       NaN            </td><td>0.214                 </td><td> 4                    </td><td>0.9647853             </td><td>0.003878159           </td></tr>\n",
       "\t<tr><td>ABCC2                 </td><td>ABCC2                 </td><td>10                    </td><td>101578577             </td><td>C                     </td><td>T                     </td><td>1-12717               </td><td>misD                  </td><td>Case Non-synonymous   </td><td>Non-interactome       </td><td>...                   </td><td>16.124654             </td><td> 3                    </td><td> 3                    </td><td>1.00000000            </td><td>0                     </td><td>0.00000000            </td><td>0.092                 </td><td> 4                    </td><td>0.8629989             </td><td>0.001926853           </td></tr>\n",
       "\t<tr><td>ABCC3                 </td><td>ABCC3                 </td><td>17                    </td><td> 48762187             </td><td>C                     </td><td>T                     </td><td>1-06692               </td><td>non                   </td><td>Case Non-synonymous   </td><td>Non-interactome       </td><td>...                   </td><td>32.809230             </td><td> 3                    </td><td> 3                    </td><td>1.00000000            </td><td>0                     </td><td>0.00000000            </td><td>0.101                 </td><td> 2                    </td><td>0.4365859             </td><td>0.001344981           </td></tr>\n",
       "\t<tr><td>ABCC6                 </td><td>ABCC6                 </td><td>16                    </td><td> 16272712             </td><td>G                     </td><td>A                     </td><td>13621                 </td><td>syn                   </td><td>Control Synonymous    </td><td>Non-interactome       </td><td>...                   </td><td>10.304847             </td><td> 1                    </td><td> 0                    </td><td>0.00000000            </td><td>0                     </td><td>0.00000000            </td><td>0.107                 </td><td> 2                    </td><td>0.4435573             </td><td>0.004246741           </td></tr>\n",
       "\t<tr><td>...</td><td>...</td><td>...</td><td>...</td><td>...</td><td>...</td><td>...</td><td>...</td><td>...</td><td>...</td><td>   </td><td>...</td><td>...</td><td>...</td><td>...</td><td>...</td><td>...</td><td>...</td><td>...</td><td>...</td><td>...</td></tr>\n",
       "\t<tr><td>ZNF766                </td><td>ZNF766                </td><td>19                    </td><td> 52793553             </td><td>A                     </td><td>AT                    </td><td>1-01678               </td><td>frameshift            </td><td>Case Non-synonymous   </td><td>Non-interactome       </td><td>...                   </td><td>52.63843              </td><td> 2                    </td><td> 2                    </td><td>1.00000000            </td><td>0                     </td><td>0.00000000            </td><td>0.157                 </td><td> 2                    </td><td>1.4245014             </td><td>0.021795397           </td></tr>\n",
       "\t<tr><td>ZNF77                 </td><td>ZNF77                 </td><td>19                    </td><td>  2933528             </td><td>C                     </td><td>A                     </td><td>SSC06838              </td><td>mis                   </td><td>Control Non-synonymous</td><td>Non-interactome       </td><td>...                   </td><td>      NA              </td><td> 6                    </td><td> 2                    </td><td>0.33333333            </td><td>0                     </td><td>0.00000000            </td><td>0.161                 </td><td>NA                    </td><td>       NA             </td><td>0.020801978           </td></tr>\n",
       "\t<tr><td>ZNF780A               </td><td>ZNF780A               </td><td>19                    </td><td> 40580566             </td><td>G                     </td><td>C                     </td><td>12285                 </td><td>mis                   </td><td>Control Non-synonymous</td><td>Non-interactome       </td><td>...                   </td><td>34.09309              </td><td> 1                    </td><td> 1                    </td><td>1.00000000            </td><td>0                     </td><td>0.00000000            </td><td>0.107                 </td><td> 2                    </td><td>1.0384216             </td><td>0.018919220           </td></tr>\n",
       "\t<tr><td>ZNF780A               </td><td>ZNF780A               </td><td>19                    </td><td> 40581783             </td><td>C                     </td><td>T                     </td><td>14008                 </td><td>mis                   </td><td>Control Non-synonymous</td><td>Non-interactome       </td><td>...                   </td><td>34.09309              </td><td> 1                    </td><td> 1                    </td><td>1.00000000            </td><td>0                     </td><td>0.00000000            </td><td>0.107                 </td><td> 2                    </td><td>1.0384216             </td><td>0.018919220           </td></tr>\n",
       "\t<tr><td>ZNF780A               </td><td>ZNF780A               </td><td>19                    </td><td> 40580705             </td><td>T                     </td><td>C                     </td><td>14018                 </td><td>syn                   </td><td>Control Synonymous    </td><td>Non-interactome       </td><td>...                   </td><td>34.09309              </td><td> 1                    </td><td> 1                    </td><td>1.00000000            </td><td>0                     </td><td>0.00000000            </td><td>0.107                 </td><td> 2                    </td><td>1.0384216             </td><td>0.018919220           </td></tr>\n",
       "\t<tr><td>ZNF780B               </td><td>ZNF780B               </td><td>19                    </td><td> 40553282             </td><td>C                     </td><td>T                     </td><td>11622                 </td><td>mis                   </td><td>Control Non-synonymous</td><td>Non-interactome       </td><td>...                   </td><td>45.53475              </td><td> 0                    </td><td> 0                    </td><td>       NaN            </td><td>0                     </td><td>       NaN            </td><td>0.111                 </td><td> 1                    </td><td>0.4001601             </td><td>0.034352712           </td></tr>\n",
       "\t<tr><td>ZNF782                </td><td>ZNF782                </td><td>9                     </td><td> 99581083             </td><td>G                     </td><td>A                     </td><td>1-06370               </td><td>mis                   </td><td>Case Non-synonymous   </td><td>Non-interactome       </td><td>...                   </td><td>      NA              </td><td> 0                    </td><td> 0                    </td><td>       NaN            </td><td>0                     </td><td>       NaN            </td><td>0.127                 </td><td> 4                    </td><td>1.9074869             </td><td>0.013399622           </td></tr>\n",
       "\t<tr><td>ZNF786                </td><td>ZNF786                </td><td>7                     </td><td>148769528             </td><td>G                     </td><td>C                     </td><td>13859                 </td><td>mis                   </td><td>Control Non-synonymous</td><td>Non-interactome       </td><td>...                   </td><td>29.29133              </td><td>11                    </td><td> 1                    </td><td>0.09090909            </td><td>0                     </td><td>0.00000000            </td><td>0.111                 </td><td>NA                    </td><td>       NA             </td><td>0.013596324           </td></tr>\n",
       "\t<tr><td>ZNF79                 </td><td>ZNF79                 </td><td>9                     </td><td>130207133             </td><td>G                     </td><td>T                     </td><td>1-02338               </td><td>mis                   </td><td>Case Non-synonymous   </td><td>Non-interactome       </td><td>...                   </td><td>      NA              </td><td> 4                    </td><td> 4                    </td><td>1.00000000            </td><td>0                     </td><td>0.00000000            </td><td>0.281                 </td><td> 5                    </td><td>3.3467202             </td><td>0.020825638           </td></tr>\n",
       "\t<tr><td>ZNF814                </td><td>ZNF814                </td><td>19                    </td><td> 58385008             </td><td>A                     </td><td>T                     </td><td>1-04949               </td><td>mis                   </td><td>Case Non-synonymous   </td><td>Non-interactome       </td><td>...                   </td><td>38.56682              </td><td> 0                    </td><td> 0                    </td><td>       NaN            </td><td>0                     </td><td>       NaN            </td><td>   NA                 </td><td> 1                    </td><td>0.3898635             </td><td>0.021342082           </td></tr>\n",
       "\t<tr><td>ZNF829                </td><td>ZNF829                </td><td>19                    </td><td> 37383058             </td><td>T                     </td><td>C                     </td><td>1-06236               </td><td>mis                   </td><td>Case Non-synonymous   </td><td>Non-interactome       </td><td>...                   </td><td>      NA              </td><td> 3                    </td><td> 3                    </td><td>1.00000000            </td><td>0                     </td><td>0.00000000            </td><td>0.088                 </td><td> 2                    </td><td>1.2995452             </td><td>0.022396328           </td></tr>\n",
       "\t<tr><td>ZNF830                </td><td>ZNF830                </td><td>17                    </td><td> 33289423             </td><td>G                     </td><td>A                     </td><td>11775                 </td><td>mis                   </td><td>Control Non-synonymous</td><td>Non-interactome       </td><td>...                   </td><td>57.35535              </td><td> 9                    </td><td> 1                    </td><td>0.11111111            </td><td>0                     </td><td>0.00000000            </td><td>0.167                 </td><td>NA                    </td><td>       NA             </td><td>0.018009256           </td></tr>\n",
       "\t<tr><td>ZNF835                </td><td>ZNF835                </td><td>19                    </td><td> 57176092             </td><td>T                     </td><td>C                     </td><td>14339                 </td><td>mis                   </td><td>Control Non-synonymous</td><td>Non-interactome       </td><td>...                   </td><td>      NA              </td><td> 1                    </td><td> 0                    </td><td>0.00000000            </td><td>0                     </td><td>0.00000000            </td><td>   NA                 </td><td>NA                    </td><td>       NA             </td><td>0.020944193           </td></tr>\n",
       "\t<tr><td>ZNF853                </td><td>ZNF853                </td><td>7                     </td><td>  6656905             </td><td>G                     </td><td>C                     </td><td>1-07175               </td><td>mis                   </td><td>Case Non-synonymous   </td><td>Non-interactome       </td><td>...                   </td><td>      NA              </td><td> 0                    </td><td> 0                    </td><td>       NaN            </td><td>0                     </td><td>       NaN            </td><td>   NA                 </td><td> 1                    </td><td>0.5058169             </td><td>0.026733917           </td></tr>\n",
       "\t<tr><td>ZNF878                </td><td>ZNF878                </td><td>19                    </td><td> 12155806             </td><td>T                     </td><td>C                     </td><td>1-01132               </td><td>mis                   </td><td>Case Non-synonymous   </td><td>Non-interactome       </td><td>...                   </td><td>      NA              </td><td> 0                    </td><td> 0                    </td><td>       NaN            </td><td>0                     </td><td>       NaN            </td><td>   NA                 </td><td> 2                    </td><td>1.2554928             </td><td>0.016023983           </td></tr>\n",
       "\t<tr><td>ZNFX1                 </td><td>ZNFX1                 </td><td>20                    </td><td> 47887228             </td><td>C                     </td><td>T                     </td><td>1-03696               </td><td>misD                  </td><td>Case Non-synonymous   </td><td>Non-interactome       </td><td>...                   </td><td>65.63543              </td><td> 9                    </td><td> 9                    </td><td>1.00000000            </td><td>1                     </td><td>0.11111111            </td><td>0.175                 </td><td> 3                    </td><td>0.5213764             </td><td>0.021277555           </td></tr>\n",
       "\t<tr><td>ZNFX1                 </td><td>ZNFX1                 </td><td>20                    </td><td> 47864195             </td><td>T                     </td><td>C                     </td><td>1-02254               </td><td>mis                   </td><td>Case Non-synonymous   </td><td>Non-interactome       </td><td>...                   </td><td>65.63543              </td><td> 9                    </td><td> 9                    </td><td>1.00000000            </td><td>1                     </td><td>0.11111111            </td><td>0.175                 </td><td> 3                    </td><td>0.5213764             </td><td>0.021277555           </td></tr>\n",
       "\t<tr><td>ZP1                   </td><td>ZP1                   </td><td>11                    </td><td> 60638760             </td><td>G                     </td><td>A                     </td><td>1-10653               </td><td>misD                  </td><td>Case Non-synonymous   </td><td>Non-interactome       </td><td>...                   </td><td>17.81008              </td><td> 3                    </td><td> 3                    </td><td>1.00000000            </td><td>0                     </td><td>0.00000000            </td><td>0.112                 </td><td> 3                    </td><td>1.5673981             </td><td>0.014441928           </td></tr>\n",
       "\t<tr><td>ZP1                   </td><td>ZP1                   </td><td>11                    </td><td> 60637182             </td><td>TCCTC                 </td><td>T                     </td><td>14018                 </td><td>frameshift            </td><td>Control Non-synonymous</td><td>Non-interactome       </td><td>...                   </td><td>17.81008              </td><td> 3                    </td><td> 3                    </td><td>1.00000000            </td><td>0                     </td><td>0.00000000            </td><td>0.112                 </td><td> 3                    </td><td>1.5673981             </td><td>0.014441928           </td></tr>\n",
       "\t<tr><td>ZP4                   </td><td>ZP4                   </td><td>1                     </td><td>238053472             </td><td>G                     </td><td>A                     </td><td>1-09567               </td><td>syn                   </td><td>Case Synonymous       </td><td>Non-interactome       </td><td>...                   </td><td>      NA              </td><td> 5                    </td><td> 1                    </td><td>0.20000000            </td><td>0                     </td><td>0.00000000            </td><td>0.128                 </td><td> 3                    </td><td>1.8518519             </td><td>        NaN           </td></tr>\n",
       "\t<tr><td>ZSCAN12               </td><td>ZSCAN12               </td><td>6                     </td><td> 28365980             </td><td>C                     </td><td>T                     </td><td>1-02814               </td><td>mis                   </td><td>Case Non-synonymous   </td><td>Non-interactome       </td><td>...                   </td><td>46.04943              </td><td> 0                    </td><td> 0                    </td><td>       NaN            </td><td>0                     </td><td>       NaN            </td><td>0.572                 </td><td> 2                    </td><td>1.1037528             </td><td>0.016549989           </td></tr>\n",
       "\t<tr><td>ZSCAN2                </td><td>ZSCAN2                </td><td>15                    </td><td> 85164635             </td><td>A                     </td><td>G                     </td><td>1-01076               </td><td>syn                   </td><td>Case Synonymous       </td><td>Non-interactome       </td><td>...                   </td><td>44.48278              </td><td> 1                    </td><td> 1                    </td><td>1.00000000            </td><td>1                     </td><td>1.00000000            </td><td>0.616                 </td><td> 1                    </td><td>0.5428882             </td><td>0.019272787           </td></tr>\n",
       "\t<tr><td>ZSCAN20               </td><td>ZSCAN20               </td><td>1                     </td><td> 33954136             </td><td>G                     </td><td>T                     </td><td>1-00877               </td><td>mis                   </td><td>Case Non-synonymous   </td><td>Non-interactome       </td><td>...                   </td><td>42.83129              </td><td> 1                    </td><td> 1                    </td><td>1.00000000            </td><td>0                     </td><td>0.00000000            </td><td>0.369                 </td><td> 1                    </td><td>0.3195909             </td><td>0.030444118           </td></tr>\n",
       "\t<tr><td>ZSWIM4                </td><td>ZSWIM4                </td><td>19                    </td><td> 13915878             </td><td>G                     </td><td>A                     </td><td>14563                 </td><td>mis                   </td><td>Control Non-synonymous</td><td>Non-interactome       </td><td>...                   </td><td>60.04751              </td><td> 0                    </td><td> 0                    </td><td>       NaN            </td><td>0                     </td><td>       NaN            </td><td>0.200                 </td><td> 3                    </td><td>1.0111223             </td><td>0.020999745           </td></tr>\n",
       "\t<tr><td>ZSWIM6                </td><td>ZSWIM6                </td><td>5                     </td><td> 60768572             </td><td>C                     </td><td>T                     </td><td>SSC07834              </td><td>syn                   </td><td>Control Synonymous    </td><td>Non-interactome       </td><td>...                   </td><td>56.24116              </td><td> 0                    </td><td> 0                    </td><td>       NaN            </td><td>0                     </td><td>       NaN            </td><td>0.591                 </td><td> 1                    </td><td>0.2743484             </td><td>0.013905971           </td></tr>\n",
       "\t<tr><td>ZSWIM6                </td><td>ZSWIM6                </td><td>5                     </td><td> 60826000             </td><td>C                     </td><td>A                     </td><td>1-03260               </td><td>mis                   </td><td>Case Non-synonymous   </td><td>Non-interactome       </td><td>...                   </td><td>56.24116              </td><td> 0                    </td><td> 0                    </td><td>       NaN            </td><td>0                     </td><td>       NaN            </td><td>0.591                 </td><td> 1                    </td><td>0.2743484             </td><td>0.013905971           </td></tr>\n",
       "\t<tr><td>ZSWIM8                </td><td>ZSWIM8                </td><td>10                    </td><td> 75551724             </td><td>G                     </td><td>A                     </td><td>1-04504               </td><td>mis                   </td><td>Case Non-synonymous   </td><td>Interactome           </td><td>...                   </td><td>92.94158              </td><td> 6                    </td><td> 6                    </td><td>1.00000000            </td><td>0                     </td><td>0.00000000            </td><td>   NA                 </td><td> 3                    </td><td>0.5428882             </td><td>0.015753447           </td></tr>\n",
       "\t<tr><td>ZW10                  </td><td>ZW10                  </td><td>11                    </td><td>113614530             </td><td>T                     </td><td>C                     </td><td>GT04012081            </td><td>mis                   </td><td>Case Non-synonymous   </td><td>Non-interactome       </td><td>...                   </td><td>60.75448              </td><td>56                    </td><td>56                    </td><td>1.00000000            </td><td>2                     </td><td>0.03571429            </td><td>0.404                 </td><td> 1                    </td><td>0.4278990             </td><td>0.023471587           </td></tr>\n",
       "\t<tr><td>ZW10                  </td><td>ZW10                  </td><td>11                    </td><td>113631634             </td><td>G                     </td><td>A                     </td><td>11474                 </td><td>mis                   </td><td>Control Non-synonymous</td><td>Non-interactome       </td><td>...                   </td><td>60.75448              </td><td>56                    </td><td>56                    </td><td>1.00000000            </td><td>2                     </td><td>0.03571429            </td><td>0.404                 </td><td> 1                    </td><td>0.4278990             </td><td>0.023471587           </td></tr>\n",
       "\t<tr><td>ZYG11A                </td><td>ZYG11A                </td><td>1                     </td><td> 53323026             </td><td>C                     </td><td>T                     </td><td>11472                 </td><td>mis                   </td><td>Control Non-synonymous</td><td>Non-interactome       </td><td>...                   </td><td>17.34065              </td><td> 0                    </td><td> 0                    </td><td>       NaN            </td><td>0                     </td><td>       NaN            </td><td>0.111                 </td><td> 3                    </td><td>1.3175231             </td><td>0.002702426           </td></tr>\n",
       "</tbody>\n",
       "</table>\n"
      ],
      "text/latex": [
       "\\begin{tabular}{r|lllllllllllllllllllllllllllll}\n",
       " Gene & alias & CHROM & POS & REF & ALT & Blinded.ID & Variant.Class & variant\\_type & Interactome & ... & Heart.Expression.Percentile.Rank & total\\_connections & dnv\\_node\\_degree & corrected\\_dnv\\_node\\_degree & chd\\_node\\_degree & corrected\\_chd\\_node\\_degree & p\\_haploinsufficient & n\\_mutations & mutperkb & specificity\\_score\\\\\n",
       "\\hline\n",
       "\t 9-Sep                  & SEPT9                  & 17                     &  75484879              & C                      & T                      & SSC05717               & misD                   & Control Non-synonymous & Non-interactome        & ...                    & 92.364685              & 25                     &  4                     & 0.16000000             & 0                      & 0.00000000             &    NA                  & NA                     &        NA              &          NA           \\\\\n",
       "\t A2M                    & A2M                    & 12                     &   9265970              & A                      & G                      & 14397                  & mis                    & Control Non-synonymous & Non-interactome        & ...                    & 33.295628              & 87                     & 16                     & 0.18390805             & 1                      & 0.01149425             & 0.264                  &  2                     & 0.4522840              & 0.016150049           \\\\\n",
       "\t A3GALT2                & A3GALT2                & 1                      &  33777757              & C                      & G                      & 1-07571                & mis                    & Case Non-synonymous    & Non-interactome        & ...                    &        NA              &  0                     &  0                     &        NaN             & 0                      &        NaN             & 0.090                  &  1                     & 0.9803922              & 0.009409438           \\\\\n",
       "\t AAAS                   & AAAS                   & 12                     &  53701325              & G                      & C                      & 1-02674                & mis                    & Case Non-synonymous    & Non-interactome        & ...                    & 80.148182              & 47                     & 47                     & 1.00000000             & 0                      & 0.00000000             & 0.619                  &  4                     & 2.4420024              & 0.022944931           \\\\\n",
       "\t AACS                   & AACS                   & 12                     & 125621409              & C                      & T                      & GT04016012             & mis                    & Case Non-synonymous    & Non-interactome        & ...                    & 45.834512              &  0                     &  0                     &        NaN             & 0                      &        NaN             & 0.159                  &  2                     & 0.9920635              & 0.022971941           \\\\\n",
       "\t AAK1                   & AAK1                   & 2                      &  69748004              & C                      & T                      & 1-06459                & mis                    & Case Non-synonymous    & Non-interactome        & ...                    & 83.530343              &  7                     &  7                     & 1.00000000             & 0                      & 0.00000000             & 0.085                  &  2                     & 0.6937218              & 0.031645830           \\\\\n",
       "\t AAMP                   & AAMP                   & 2                      & 219130141              & T                      & A                      & 11984                  & mis                    & Control Non-synonymous & Non-interactome        & ...                    & 93.648549              & 12                     &  1                     & 0.08333333             & 0                      & 0.00000000             & 0.423                  & NA                     &        NA              & 0.023836931           \\\\\n",
       "\t AASS                   & AASS                   & 7                      & 121769559              & C                      & T                      & 1-00100                & syn                    & Case Synonymous        & Non-interactome        & ...                    & 23.923986              &  1                     &  1                     & 1.00000000             & 0                      & 0.00000000             & 0.450                  &  2                     & 0.7199424              & 0.024173806           \\\\\n",
       "\t AATK                   & AATK                   & 17                     &  79094043              & G                      & T                      & 1-08754                & syn                    & Case Synonymous        & Non-interactome        & ...                    & 30.733556              &  2                     &  0                     & 0.00000000             & 0                      & 0.00000000             & 0.213                  &  2                     & 0.4852014              & 0.006143793           \\\\\n",
       "\t ABAT                   & ABAT                   & 16                     &   8870306              & C                      & T                      & 1-04638                & mis                    & Case Non-synonymous    & Non-interactome        & ...                    & 86.567502              &  1                     &  1                     & 1.00000000             & 0                      & 0.00000000             & 0.369                  &  1                     & 0.6666667              & 0.006440546           \\\\\n",
       "\t ABCA12                 & ABCA12                 & 2                      & 215809744              & C                      & T                      & 1-15672                & misD                   & Case Non-synonymous    & Non-interactome        & ...                    & 24.189808              &  2                     &  2                     & 1.00000000             & 0                      & 0.00000000             & 0.133                  &  2                     & 0.2569043              & 0.009856770           \\\\\n",
       "\t ABCA12                 & ABCA12                 & 2                      & 215917234              & C                      & T                      & 12994                  & mis                    & Control Non-synonymous & Non-interactome        & ...                    & 24.189808              &  2                     &  2                     & 1.00000000             & 0                      & 0.00000000             & 0.133                  &  2                     & 0.2569043              & 0.009856770           \\\\\n",
       "\t ABCA12                 & ABCA12                 & 2                      & 215818801              & G                      & T                      & 11405                  & mis                    & Control Non-synonymous & Non-interactome        & ...                    & 24.189808              &  2                     &  2                     & 1.00000000             & 0                      & 0.00000000             & 0.133                  &  2                     & 0.2569043              & 0.009856770           \\\\\n",
       "\t ABCA13                 & ABCA13                 & 7                      &  48237892              & T                      & G                      & 1-07342                & syn                    & Case Synonymous        & Non-interactome        & ...                    & 14.246932              &  2                     &  2                     & 1.00000000             & 0                      & 0.00000000             & 0.091                  & 15                     & 0.9885330              & 0.002044809           \\\\\n",
       "\t ABCA13                 & ABCA13                 & 7                      &  48315282              & C                      & A                      & 11513                  & mis                    & Control Non-synonymous & Non-interactome        & ...                    & 14.246932              &  2                     &  2                     & 1.00000000             & 0                      & 0.00000000             & 0.091                  & 15                     & 0.9885330              & 0.002044809           \\\\\n",
       "\t ABCA13                 & ABCA13                 & 7                      &  48313603              & C                      & G                      & 1-05977                & mis                    & Case Non-synonymous    & Non-interactome        & ...                    & 14.246932              &  2                     &  2                     & 1.00000000             & 0                      & 0.00000000             & 0.091                  & 15                     & 0.9885330              & 0.002044809           \\\\\n",
       "\t ABCA13                 & ABCA13                 & 7                      &  48287896              & G                      & C                      & 1-01866                & mis                    & Case Non-synonymous    & Non-interactome        & ...                    & 14.246932              &  2                     &  2                     & 1.00000000             & 0                      & 0.00000000             & 0.091                  & 15                     & 0.9885330              & 0.002044809           \\\\\n",
       "\t ABCA3                  & ABCA3                  & 16                     &   2358475              & G                      & A                      & 14095                  & mis                    & Control Non-synonymous & Non-interactome        & ...                    & 76.392738              &  7                     &  0                     & 0.00000000             & 0                      & 0.00000000             & 0.117                  & NA                     &        NA              & 0.008299036           \\\\\n",
       "\t ABCA4                  & ABCA4                  & 1                      &  94574138              & A                      & G                      & 1-02035                & mis                    & Case Non-synonymous    & Non-interactome        & ...                    & 41.315536              &  4                     &  4                     & 1.00000000             & 0                      & 0.00000000             & 0.083                  &  4                     & 0.5865963              & 0.011724990           \\\\\n",
       "\t ABCA4                  & ABCA4                  & 1                      &  94495150              & G                      & C                      & 13093                  & misD                   & Control Non-synonymous & Non-interactome        & ...                    & 41.315536              &  4                     &  4                     & 1.00000000             & 0                      & 0.00000000             & 0.083                  &  4                     & 0.5865963              & 0.011724990           \\\\\n",
       "\t ABCA7                  & ABCA7                  & 19                     &   1056184              & G                      & A                      & 1-03865                & mis                    & Case Non-synonymous    & Non-interactome        & ...                    & 54.239014              &  1                     &  1                     & 1.00000000             & 0                      & 0.00000000             & 0.048                  &  3                     & 0.4659832              & 0.006900874           \\\\\n",
       "\t ABCA8                  & ABCA8                  & 17                     &  66925280              & C                      & A                      & 1-05296                & syn                    & Case Synonymous        & Non-interactome        & ...                    & 34.918839              &  0                     &  0                     &        NaN             & 0                      &        NaN             & 0.049                  &  6                     & 1.2650221              & 0.063035706           \\\\\n",
       "\t ABCA8                  & ABCA8                  & 17                     &  66924150              & C                      & T                      & 1-00416                & mis                    & Case Non-synonymous    & Non-interactome        & ...                    & 34.918839              &  0                     &  0                     &        NaN             & 0                      &        NaN             & 0.049                  &  6                     & 1.2650221              & 0.063035706           \\\\\n",
       "\t ABCB11                 & ABCB11                 & 2                      & 169780296              & G                      & A                      & 11251                  & misD                   & Control Non-synonymous & Non-interactome        & ...                    &  9.484758              &  4                     &  0                     & 0.00000000             & 0                      & 0.00000000             & 0.099                  &  2                     & 0.5046682              & 0.003078259           \\\\\n",
       "\t ABCB6                  & ABCB6                  & 2                      & 220082869              & G                      & C                      & 1-01951                & mis                    & Case Non-synonymous    & Non-interactome        & ...                    &        NA              & 11                     & 11                     & 1.00000000             & 0                      & 0.00000000             & 0.107                  &  5                     & 1.9794141              & 0.020926142           \\\\\n",
       "\t ABCC1                  & ABCC1                  & 16                     &  16230394              & G                      & A                      & 11008                  & syn                    & Control Synonymous     & Non-interactome        & ...                    & 37.085007              & 22                     &  1                     & 0.04545455             & 0                      & 0.00000000             & 0.201                  & NA                     &        NA              & 0.018334936           \\\\\n",
       "\t ABCC11                 & ABCC11                 & 16                     &  48261823              & C                      & T                      & 14316                  & mis                    & Control Non-synonymous & Non-interactome        & ...                    &        NA              &  0                     &  0                     &        NaN             & 0                      &        NaN             & 0.214                  &  4                     & 0.9647853              & 0.003878159           \\\\\n",
       "\t ABCC2                  & ABCC2                  & 10                     & 101578577              & C                      & T                      & 1-12717                & misD                   & Case Non-synonymous    & Non-interactome        & ...                    & 16.124654              &  3                     &  3                     & 1.00000000             & 0                      & 0.00000000             & 0.092                  &  4                     & 0.8629989              & 0.001926853           \\\\\n",
       "\t ABCC3                  & ABCC3                  & 17                     &  48762187              & C                      & T                      & 1-06692                & non                    & Case Non-synonymous    & Non-interactome        & ...                    & 32.809230              &  3                     &  3                     & 1.00000000             & 0                      & 0.00000000             & 0.101                  &  2                     & 0.4365859              & 0.001344981           \\\\\n",
       "\t ABCC6                  & ABCC6                  & 16                     &  16272712              & G                      & A                      & 13621                  & syn                    & Control Synonymous     & Non-interactome        & ...                    & 10.304847              &  1                     &  0                     & 0.00000000             & 0                      & 0.00000000             & 0.107                  &  2                     & 0.4435573              & 0.004246741           \\\\\n",
       "\t ... & ... & ... & ... & ... & ... & ... & ... & ... & ... &     & ... & ... & ... & ... & ... & ... & ... & ... & ... & ...\\\\\n",
       "\t ZNF766                 & ZNF766                 & 19                     &  52793553              & A                      & AT                     & 1-01678                & frameshift             & Case Non-synonymous    & Non-interactome        & ...                    & 52.63843               &  2                     &  2                     & 1.00000000             & 0                      & 0.00000000             & 0.157                  &  2                     & 1.4245014              & 0.021795397           \\\\\n",
       "\t ZNF77                  & ZNF77                  & 19                     &   2933528              & C                      & A                      & SSC06838               & mis                    & Control Non-synonymous & Non-interactome        & ...                    &       NA               &  6                     &  2                     & 0.33333333             & 0                      & 0.00000000             & 0.161                  & NA                     &        NA              & 0.020801978           \\\\\n",
       "\t ZNF780A                & ZNF780A                & 19                     &  40580566              & G                      & C                      & 12285                  & mis                    & Control Non-synonymous & Non-interactome        & ...                    & 34.09309               &  1                     &  1                     & 1.00000000             & 0                      & 0.00000000             & 0.107                  &  2                     & 1.0384216              & 0.018919220           \\\\\n",
       "\t ZNF780A                & ZNF780A                & 19                     &  40581783              & C                      & T                      & 14008                  & mis                    & Control Non-synonymous & Non-interactome        & ...                    & 34.09309               &  1                     &  1                     & 1.00000000             & 0                      & 0.00000000             & 0.107                  &  2                     & 1.0384216              & 0.018919220           \\\\\n",
       "\t ZNF780A                & ZNF780A                & 19                     &  40580705              & T                      & C                      & 14018                  & syn                    & Control Synonymous     & Non-interactome        & ...                    & 34.09309               &  1                     &  1                     & 1.00000000             & 0                      & 0.00000000             & 0.107                  &  2                     & 1.0384216              & 0.018919220           \\\\\n",
       "\t ZNF780B                & ZNF780B                & 19                     &  40553282              & C                      & T                      & 11622                  & mis                    & Control Non-synonymous & Non-interactome        & ...                    & 45.53475               &  0                     &  0                     &        NaN             & 0                      &        NaN             & 0.111                  &  1                     & 0.4001601              & 0.034352712           \\\\\n",
       "\t ZNF782                 & ZNF782                 & 9                      &  99581083              & G                      & A                      & 1-06370                & mis                    & Case Non-synonymous    & Non-interactome        & ...                    &       NA               &  0                     &  0                     &        NaN             & 0                      &        NaN             & 0.127                  &  4                     & 1.9074869              & 0.013399622           \\\\\n",
       "\t ZNF786                 & ZNF786                 & 7                      & 148769528              & G                      & C                      & 13859                  & mis                    & Control Non-synonymous & Non-interactome        & ...                    & 29.29133               & 11                     &  1                     & 0.09090909             & 0                      & 0.00000000             & 0.111                  & NA                     &        NA              & 0.013596324           \\\\\n",
       "\t ZNF79                  & ZNF79                  & 9                      & 130207133              & G                      & T                      & 1-02338                & mis                    & Case Non-synonymous    & Non-interactome        & ...                    &       NA               &  4                     &  4                     & 1.00000000             & 0                      & 0.00000000             & 0.281                  &  5                     & 3.3467202              & 0.020825638           \\\\\n",
       "\t ZNF814                 & ZNF814                 & 19                     &  58385008              & A                      & T                      & 1-04949                & mis                    & Case Non-synonymous    & Non-interactome        & ...                    & 38.56682               &  0                     &  0                     &        NaN             & 0                      &        NaN             &    NA                  &  1                     & 0.3898635              & 0.021342082           \\\\\n",
       "\t ZNF829                 & ZNF829                 & 19                     &  37383058              & T                      & C                      & 1-06236                & mis                    & Case Non-synonymous    & Non-interactome        & ...                    &       NA               &  3                     &  3                     & 1.00000000             & 0                      & 0.00000000             & 0.088                  &  2                     & 1.2995452              & 0.022396328           \\\\\n",
       "\t ZNF830                 & ZNF830                 & 17                     &  33289423              & G                      & A                      & 11775                  & mis                    & Control Non-synonymous & Non-interactome        & ...                    & 57.35535               &  9                     &  1                     & 0.11111111             & 0                      & 0.00000000             & 0.167                  & NA                     &        NA              & 0.018009256           \\\\\n",
       "\t ZNF835                 & ZNF835                 & 19                     &  57176092              & T                      & C                      & 14339                  & mis                    & Control Non-synonymous & Non-interactome        & ...                    &       NA               &  1                     &  0                     & 0.00000000             & 0                      & 0.00000000             &    NA                  & NA                     &        NA              & 0.020944193           \\\\\n",
       "\t ZNF853                 & ZNF853                 & 7                      &   6656905              & G                      & C                      & 1-07175                & mis                    & Case Non-synonymous    & Non-interactome        & ...                    &       NA               &  0                     &  0                     &        NaN             & 0                      &        NaN             &    NA                  &  1                     & 0.5058169              & 0.026733917           \\\\\n",
       "\t ZNF878                 & ZNF878                 & 19                     &  12155806              & T                      & C                      & 1-01132                & mis                    & Case Non-synonymous    & Non-interactome        & ...                    &       NA               &  0                     &  0                     &        NaN             & 0                      &        NaN             &    NA                  &  2                     & 1.2554928              & 0.016023983           \\\\\n",
       "\t ZNFX1                  & ZNFX1                  & 20                     &  47887228              & C                      & T                      & 1-03696                & misD                   & Case Non-synonymous    & Non-interactome        & ...                    & 65.63543               &  9                     &  9                     & 1.00000000             & 1                      & 0.11111111             & 0.175                  &  3                     & 0.5213764              & 0.021277555           \\\\\n",
       "\t ZNFX1                  & ZNFX1                  & 20                     &  47864195              & T                      & C                      & 1-02254                & mis                    & Case Non-synonymous    & Non-interactome        & ...                    & 65.63543               &  9                     &  9                     & 1.00000000             & 1                      & 0.11111111             & 0.175                  &  3                     & 0.5213764              & 0.021277555           \\\\\n",
       "\t ZP1                    & ZP1                    & 11                     &  60638760              & G                      & A                      & 1-10653                & misD                   & Case Non-synonymous    & Non-interactome        & ...                    & 17.81008               &  3                     &  3                     & 1.00000000             & 0                      & 0.00000000             & 0.112                  &  3                     & 1.5673981              & 0.014441928           \\\\\n",
       "\t ZP1                    & ZP1                    & 11                     &  60637182              & TCCTC                  & T                      & 14018                  & frameshift             & Control Non-synonymous & Non-interactome        & ...                    & 17.81008               &  3                     &  3                     & 1.00000000             & 0                      & 0.00000000             & 0.112                  &  3                     & 1.5673981              & 0.014441928           \\\\\n",
       "\t ZP4                    & ZP4                    & 1                      & 238053472              & G                      & A                      & 1-09567                & syn                    & Case Synonymous        & Non-interactome        & ...                    &       NA               &  5                     &  1                     & 0.20000000             & 0                      & 0.00000000             & 0.128                  &  3                     & 1.8518519              &         NaN           \\\\\n",
       "\t ZSCAN12                & ZSCAN12                & 6                      &  28365980              & C                      & T                      & 1-02814                & mis                    & Case Non-synonymous    & Non-interactome        & ...                    & 46.04943               &  0                     &  0                     &        NaN             & 0                      &        NaN             & 0.572                  &  2                     & 1.1037528              & 0.016549989           \\\\\n",
       "\t ZSCAN2                 & ZSCAN2                 & 15                     &  85164635              & A                      & G                      & 1-01076                & syn                    & Case Synonymous        & Non-interactome        & ...                    & 44.48278               &  1                     &  1                     & 1.00000000             & 1                      & 1.00000000             & 0.616                  &  1                     & 0.5428882              & 0.019272787           \\\\\n",
       "\t ZSCAN20                & ZSCAN20                & 1                      &  33954136              & G                      & T                      & 1-00877                & mis                    & Case Non-synonymous    & Non-interactome        & ...                    & 42.83129               &  1                     &  1                     & 1.00000000             & 0                      & 0.00000000             & 0.369                  &  1                     & 0.3195909              & 0.030444118           \\\\\n",
       "\t ZSWIM4                 & ZSWIM4                 & 19                     &  13915878              & G                      & A                      & 14563                  & mis                    & Control Non-synonymous & Non-interactome        & ...                    & 60.04751               &  0                     &  0                     &        NaN             & 0                      &        NaN             & 0.200                  &  3                     & 1.0111223              & 0.020999745           \\\\\n",
       "\t ZSWIM6                 & ZSWIM6                 & 5                      &  60768572              & C                      & T                      & SSC07834               & syn                    & Control Synonymous     & Non-interactome        & ...                    & 56.24116               &  0                     &  0                     &        NaN             & 0                      &        NaN             & 0.591                  &  1                     & 0.2743484              & 0.013905971           \\\\\n",
       "\t ZSWIM6                 & ZSWIM6                 & 5                      &  60826000              & C                      & A                      & 1-03260                & mis                    & Case Non-synonymous    & Non-interactome        & ...                    & 56.24116               &  0                     &  0                     &        NaN             & 0                      &        NaN             & 0.591                  &  1                     & 0.2743484              & 0.013905971           \\\\\n",
       "\t ZSWIM8                 & ZSWIM8                 & 10                     &  75551724              & G                      & A                      & 1-04504                & mis                    & Case Non-synonymous    & Interactome            & ...                    & 92.94158               &  6                     &  6                     & 1.00000000             & 0                      & 0.00000000             &    NA                  &  3                     & 0.5428882              & 0.015753447           \\\\\n",
       "\t ZW10                   & ZW10                   & 11                     & 113614530              & T                      & C                      & GT04012081             & mis                    & Case Non-synonymous    & Non-interactome        & ...                    & 60.75448               & 56                     & 56                     & 1.00000000             & 2                      & 0.03571429             & 0.404                  &  1                     & 0.4278990              & 0.023471587           \\\\\n",
       "\t ZW10                   & ZW10                   & 11                     & 113631634              & G                      & A                      & 11474                  & mis                    & Control Non-synonymous & Non-interactome        & ...                    & 60.75448               & 56                     & 56                     & 1.00000000             & 2                      & 0.03571429             & 0.404                  &  1                     & 0.4278990              & 0.023471587           \\\\\n",
       "\t ZYG11A                 & ZYG11A                 & 1                      &  53323026              & C                      & T                      & 11472                  & mis                    & Control Non-synonymous & Non-interactome        & ...                    & 17.34065               &  0                     &  0                     &        NaN             & 0                      &        NaN             & 0.111                  &  3                     & 1.3175231              & 0.002702426           \\\\\n",
       "\\end{tabular}\n"
      ],
      "text/markdown": [
       "\n",
       "| Gene | alias | CHROM | POS | REF | ALT | Blinded.ID | Variant.Class | variant_type | Interactome | ... | Heart.Expression.Percentile.Rank | total_connections | dnv_node_degree | corrected_dnv_node_degree | chd_node_degree | corrected_chd_node_degree | p_haploinsufficient | n_mutations | mutperkb | specificity_score |\n",
       "|---|---|---|---|---|---|---|---|---|---|---|---|---|---|---|---|---|---|---|---|---|\n",
       "| 9-Sep                  | SEPT9                  | 17                     |  75484879              | C                      | T                      | SSC05717               | misD                   | Control Non-synonymous | Non-interactome        | ...                    | 92.364685              | 25                     |  4                     | 0.16000000             | 0                      | 0.00000000             |    NA                  | NA                     |        NA              |          NA            |\n",
       "| A2M                    | A2M                    | 12                     |   9265970              | A                      | G                      | 14397                  | mis                    | Control Non-synonymous | Non-interactome        | ...                    | 33.295628              | 87                     | 16                     | 0.18390805             | 1                      | 0.01149425             | 0.264                  |  2                     | 0.4522840              | 0.016150049            |\n",
       "| A3GALT2                | A3GALT2                | 1                      |  33777757              | C                      | G                      | 1-07571                | mis                    | Case Non-synonymous    | Non-interactome        | ...                    |        NA              |  0                     |  0                     |        NaN             | 0                      |        NaN             | 0.090                  |  1                     | 0.9803922              | 0.009409438            |\n",
       "| AAAS                   | AAAS                   | 12                     |  53701325              | G                      | C                      | 1-02674                | mis                    | Case Non-synonymous    | Non-interactome        | ...                    | 80.148182              | 47                     | 47                     | 1.00000000             | 0                      | 0.00000000             | 0.619                  |  4                     | 2.4420024              | 0.022944931            |\n",
       "| AACS                   | AACS                   | 12                     | 125621409              | C                      | T                      | GT04016012             | mis                    | Case Non-synonymous    | Non-interactome        | ...                    | 45.834512              |  0                     |  0                     |        NaN             | 0                      |        NaN             | 0.159                  |  2                     | 0.9920635              | 0.022971941            |\n",
       "| AAK1                   | AAK1                   | 2                      |  69748004              | C                      | T                      | 1-06459                | mis                    | Case Non-synonymous    | Non-interactome        | ...                    | 83.530343              |  7                     |  7                     | 1.00000000             | 0                      | 0.00000000             | 0.085                  |  2                     | 0.6937218              | 0.031645830            |\n",
       "| AAMP                   | AAMP                   | 2                      | 219130141              | T                      | A                      | 11984                  | mis                    | Control Non-synonymous | Non-interactome        | ...                    | 93.648549              | 12                     |  1                     | 0.08333333             | 0                      | 0.00000000             | 0.423                  | NA                     |        NA              | 0.023836931            |\n",
       "| AASS                   | AASS                   | 7                      | 121769559              | C                      | T                      | 1-00100                | syn                    | Case Synonymous        | Non-interactome        | ...                    | 23.923986              |  1                     |  1                     | 1.00000000             | 0                      | 0.00000000             | 0.450                  |  2                     | 0.7199424              | 0.024173806            |\n",
       "| AATK                   | AATK                   | 17                     |  79094043              | G                      | T                      | 1-08754                | syn                    | Case Synonymous        | Non-interactome        | ...                    | 30.733556              |  2                     |  0                     | 0.00000000             | 0                      | 0.00000000             | 0.213                  |  2                     | 0.4852014              | 0.006143793            |\n",
       "| ABAT                   | ABAT                   | 16                     |   8870306              | C                      | T                      | 1-04638                | mis                    | Case Non-synonymous    | Non-interactome        | ...                    | 86.567502              |  1                     |  1                     | 1.00000000             | 0                      | 0.00000000             | 0.369                  |  1                     | 0.6666667              | 0.006440546            |\n",
       "| ABCA12                 | ABCA12                 | 2                      | 215809744              | C                      | T                      | 1-15672                | misD                   | Case Non-synonymous    | Non-interactome        | ...                    | 24.189808              |  2                     |  2                     | 1.00000000             | 0                      | 0.00000000             | 0.133                  |  2                     | 0.2569043              | 0.009856770            |\n",
       "| ABCA12                 | ABCA12                 | 2                      | 215917234              | C                      | T                      | 12994                  | mis                    | Control Non-synonymous | Non-interactome        | ...                    | 24.189808              |  2                     |  2                     | 1.00000000             | 0                      | 0.00000000             | 0.133                  |  2                     | 0.2569043              | 0.009856770            |\n",
       "| ABCA12                 | ABCA12                 | 2                      | 215818801              | G                      | T                      | 11405                  | mis                    | Control Non-synonymous | Non-interactome        | ...                    | 24.189808              |  2                     |  2                     | 1.00000000             | 0                      | 0.00000000             | 0.133                  |  2                     | 0.2569043              | 0.009856770            |\n",
       "| ABCA13                 | ABCA13                 | 7                      |  48237892              | T                      | G                      | 1-07342                | syn                    | Case Synonymous        | Non-interactome        | ...                    | 14.246932              |  2                     |  2                     | 1.00000000             | 0                      | 0.00000000             | 0.091                  | 15                     | 0.9885330              | 0.002044809            |\n",
       "| ABCA13                 | ABCA13                 | 7                      |  48315282              | C                      | A                      | 11513                  | mis                    | Control Non-synonymous | Non-interactome        | ...                    | 14.246932              |  2                     |  2                     | 1.00000000             | 0                      | 0.00000000             | 0.091                  | 15                     | 0.9885330              | 0.002044809            |\n",
       "| ABCA13                 | ABCA13                 | 7                      |  48313603              | C                      | G                      | 1-05977                | mis                    | Case Non-synonymous    | Non-interactome        | ...                    | 14.246932              |  2                     |  2                     | 1.00000000             | 0                      | 0.00000000             | 0.091                  | 15                     | 0.9885330              | 0.002044809            |\n",
       "| ABCA13                 | ABCA13                 | 7                      |  48287896              | G                      | C                      | 1-01866                | mis                    | Case Non-synonymous    | Non-interactome        | ...                    | 14.246932              |  2                     |  2                     | 1.00000000             | 0                      | 0.00000000             | 0.091                  | 15                     | 0.9885330              | 0.002044809            |\n",
       "| ABCA3                  | ABCA3                  | 16                     |   2358475              | G                      | A                      | 14095                  | mis                    | Control Non-synonymous | Non-interactome        | ...                    | 76.392738              |  7                     |  0                     | 0.00000000             | 0                      | 0.00000000             | 0.117                  | NA                     |        NA              | 0.008299036            |\n",
       "| ABCA4                  | ABCA4                  | 1                      |  94574138              | A                      | G                      | 1-02035                | mis                    | Case Non-synonymous    | Non-interactome        | ...                    | 41.315536              |  4                     |  4                     | 1.00000000             | 0                      | 0.00000000             | 0.083                  |  4                     | 0.5865963              | 0.011724990            |\n",
       "| ABCA4                  | ABCA4                  | 1                      |  94495150              | G                      | C                      | 13093                  | misD                   | Control Non-synonymous | Non-interactome        | ...                    | 41.315536              |  4                     |  4                     | 1.00000000             | 0                      | 0.00000000             | 0.083                  |  4                     | 0.5865963              | 0.011724990            |\n",
       "| ABCA7                  | ABCA7                  | 19                     |   1056184              | G                      | A                      | 1-03865                | mis                    | Case Non-synonymous    | Non-interactome        | ...                    | 54.239014              |  1                     |  1                     | 1.00000000             | 0                      | 0.00000000             | 0.048                  |  3                     | 0.4659832              | 0.006900874            |\n",
       "| ABCA8                  | ABCA8                  | 17                     |  66925280              | C                      | A                      | 1-05296                | syn                    | Case Synonymous        | Non-interactome        | ...                    | 34.918839              |  0                     |  0                     |        NaN             | 0                      |        NaN             | 0.049                  |  6                     | 1.2650221              | 0.063035706            |\n",
       "| ABCA8                  | ABCA8                  | 17                     |  66924150              | C                      | T                      | 1-00416                | mis                    | Case Non-synonymous    | Non-interactome        | ...                    | 34.918839              |  0                     |  0                     |        NaN             | 0                      |        NaN             | 0.049                  |  6                     | 1.2650221              | 0.063035706            |\n",
       "| ABCB11                 | ABCB11                 | 2                      | 169780296              | G                      | A                      | 11251                  | misD                   | Control Non-synonymous | Non-interactome        | ...                    |  9.484758              |  4                     |  0                     | 0.00000000             | 0                      | 0.00000000             | 0.099                  |  2                     | 0.5046682              | 0.003078259            |\n",
       "| ABCB6                  | ABCB6                  | 2                      | 220082869              | G                      | C                      | 1-01951                | mis                    | Case Non-synonymous    | Non-interactome        | ...                    |        NA              | 11                     | 11                     | 1.00000000             | 0                      | 0.00000000             | 0.107                  |  5                     | 1.9794141              | 0.020926142            |\n",
       "| ABCC1                  | ABCC1                  | 16                     |  16230394              | G                      | A                      | 11008                  | syn                    | Control Synonymous     | Non-interactome        | ...                    | 37.085007              | 22                     |  1                     | 0.04545455             | 0                      | 0.00000000             | 0.201                  | NA                     |        NA              | 0.018334936            |\n",
       "| ABCC11                 | ABCC11                 | 16                     |  48261823              | C                      | T                      | 14316                  | mis                    | Control Non-synonymous | Non-interactome        | ...                    |        NA              |  0                     |  0                     |        NaN             | 0                      |        NaN             | 0.214                  |  4                     | 0.9647853              | 0.003878159            |\n",
       "| ABCC2                  | ABCC2                  | 10                     | 101578577              | C                      | T                      | 1-12717                | misD                   | Case Non-synonymous    | Non-interactome        | ...                    | 16.124654              |  3                     |  3                     | 1.00000000             | 0                      | 0.00000000             | 0.092                  |  4                     | 0.8629989              | 0.001926853            |\n",
       "| ABCC3                  | ABCC3                  | 17                     |  48762187              | C                      | T                      | 1-06692                | non                    | Case Non-synonymous    | Non-interactome        | ...                    | 32.809230              |  3                     |  3                     | 1.00000000             | 0                      | 0.00000000             | 0.101                  |  2                     | 0.4365859              | 0.001344981            |\n",
       "| ABCC6                  | ABCC6                  | 16                     |  16272712              | G                      | A                      | 13621                  | syn                    | Control Synonymous     | Non-interactome        | ...                    | 10.304847              |  1                     |  0                     | 0.00000000             | 0                      | 0.00000000             | 0.107                  |  2                     | 0.4435573              | 0.004246741            |\n",
       "| ... | ... | ... | ... | ... | ... | ... | ... | ... | ... |     | ... | ... | ... | ... | ... | ... | ... | ... | ... | ... |\n",
       "| ZNF766                 | ZNF766                 | 19                     |  52793553              | A                      | AT                     | 1-01678                | frameshift             | Case Non-synonymous    | Non-interactome        | ...                    | 52.63843               |  2                     |  2                     | 1.00000000             | 0                      | 0.00000000             | 0.157                  |  2                     | 1.4245014              | 0.021795397            |\n",
       "| ZNF77                  | ZNF77                  | 19                     |   2933528              | C                      | A                      | SSC06838               | mis                    | Control Non-synonymous | Non-interactome        | ...                    |       NA               |  6                     |  2                     | 0.33333333             | 0                      | 0.00000000             | 0.161                  | NA                     |        NA              | 0.020801978            |\n",
       "| ZNF780A                | ZNF780A                | 19                     |  40580566              | G                      | C                      | 12285                  | mis                    | Control Non-synonymous | Non-interactome        | ...                    | 34.09309               |  1                     |  1                     | 1.00000000             | 0                      | 0.00000000             | 0.107                  |  2                     | 1.0384216              | 0.018919220            |\n",
       "| ZNF780A                | ZNF780A                | 19                     |  40581783              | C                      | T                      | 14008                  | mis                    | Control Non-synonymous | Non-interactome        | ...                    | 34.09309               |  1                     |  1                     | 1.00000000             | 0                      | 0.00000000             | 0.107                  |  2                     | 1.0384216              | 0.018919220            |\n",
       "| ZNF780A                | ZNF780A                | 19                     |  40580705              | T                      | C                      | 14018                  | syn                    | Control Synonymous     | Non-interactome        | ...                    | 34.09309               |  1                     |  1                     | 1.00000000             | 0                      | 0.00000000             | 0.107                  |  2                     | 1.0384216              | 0.018919220            |\n",
       "| ZNF780B                | ZNF780B                | 19                     |  40553282              | C                      | T                      | 11622                  | mis                    | Control Non-synonymous | Non-interactome        | ...                    | 45.53475               |  0                     |  0                     |        NaN             | 0                      |        NaN             | 0.111                  |  1                     | 0.4001601              | 0.034352712            |\n",
       "| ZNF782                 | ZNF782                 | 9                      |  99581083              | G                      | A                      | 1-06370                | mis                    | Case Non-synonymous    | Non-interactome        | ...                    |       NA               |  0                     |  0                     |        NaN             | 0                      |        NaN             | 0.127                  |  4                     | 1.9074869              | 0.013399622            |\n",
       "| ZNF786                 | ZNF786                 | 7                      | 148769528              | G                      | C                      | 13859                  | mis                    | Control Non-synonymous | Non-interactome        | ...                    | 29.29133               | 11                     |  1                     | 0.09090909             | 0                      | 0.00000000             | 0.111                  | NA                     |        NA              | 0.013596324            |\n",
       "| ZNF79                  | ZNF79                  | 9                      | 130207133              | G                      | T                      | 1-02338                | mis                    | Case Non-synonymous    | Non-interactome        | ...                    |       NA               |  4                     |  4                     | 1.00000000             | 0                      | 0.00000000             | 0.281                  |  5                     | 3.3467202              | 0.020825638            |\n",
       "| ZNF814                 | ZNF814                 | 19                     |  58385008              | A                      | T                      | 1-04949                | mis                    | Case Non-synonymous    | Non-interactome        | ...                    | 38.56682               |  0                     |  0                     |        NaN             | 0                      |        NaN             |    NA                  |  1                     | 0.3898635              | 0.021342082            |\n",
       "| ZNF829                 | ZNF829                 | 19                     |  37383058              | T                      | C                      | 1-06236                | mis                    | Case Non-synonymous    | Non-interactome        | ...                    |       NA               |  3                     |  3                     | 1.00000000             | 0                      | 0.00000000             | 0.088                  |  2                     | 1.2995452              | 0.022396328            |\n",
       "| ZNF830                 | ZNF830                 | 17                     |  33289423              | G                      | A                      | 11775                  | mis                    | Control Non-synonymous | Non-interactome        | ...                    | 57.35535               |  9                     |  1                     | 0.11111111             | 0                      | 0.00000000             | 0.167                  | NA                     |        NA              | 0.018009256            |\n",
       "| ZNF835                 | ZNF835                 | 19                     |  57176092              | T                      | C                      | 14339                  | mis                    | Control Non-synonymous | Non-interactome        | ...                    |       NA               |  1                     |  0                     | 0.00000000             | 0                      | 0.00000000             |    NA                  | NA                     |        NA              | 0.020944193            |\n",
       "| ZNF853                 | ZNF853                 | 7                      |   6656905              | G                      | C                      | 1-07175                | mis                    | Case Non-synonymous    | Non-interactome        | ...                    |       NA               |  0                     |  0                     |        NaN             | 0                      |        NaN             |    NA                  |  1                     | 0.5058169              | 0.026733917            |\n",
       "| ZNF878                 | ZNF878                 | 19                     |  12155806              | T                      | C                      | 1-01132                | mis                    | Case Non-synonymous    | Non-interactome        | ...                    |       NA               |  0                     |  0                     |        NaN             | 0                      |        NaN             |    NA                  |  2                     | 1.2554928              | 0.016023983            |\n",
       "| ZNFX1                  | ZNFX1                  | 20                     |  47887228              | C                      | T                      | 1-03696                | misD                   | Case Non-synonymous    | Non-interactome        | ...                    | 65.63543               |  9                     |  9                     | 1.00000000             | 1                      | 0.11111111             | 0.175                  |  3                     | 0.5213764              | 0.021277555            |\n",
       "| ZNFX1                  | ZNFX1                  | 20                     |  47864195              | T                      | C                      | 1-02254                | mis                    | Case Non-synonymous    | Non-interactome        | ...                    | 65.63543               |  9                     |  9                     | 1.00000000             | 1                      | 0.11111111             | 0.175                  |  3                     | 0.5213764              | 0.021277555            |\n",
       "| ZP1                    | ZP1                    | 11                     |  60638760              | G                      | A                      | 1-10653                | misD                   | Case Non-synonymous    | Non-interactome        | ...                    | 17.81008               |  3                     |  3                     | 1.00000000             | 0                      | 0.00000000             | 0.112                  |  3                     | 1.5673981              | 0.014441928            |\n",
       "| ZP1                    | ZP1                    | 11                     |  60637182              | TCCTC                  | T                      | 14018                  | frameshift             | Control Non-synonymous | Non-interactome        | ...                    | 17.81008               |  3                     |  3                     | 1.00000000             | 0                      | 0.00000000             | 0.112                  |  3                     | 1.5673981              | 0.014441928            |\n",
       "| ZP4                    | ZP4                    | 1                      | 238053472              | G                      | A                      | 1-09567                | syn                    | Case Synonymous        | Non-interactome        | ...                    |       NA               |  5                     |  1                     | 0.20000000             | 0                      | 0.00000000             | 0.128                  |  3                     | 1.8518519              |         NaN            |\n",
       "| ZSCAN12                | ZSCAN12                | 6                      |  28365980              | C                      | T                      | 1-02814                | mis                    | Case Non-synonymous    | Non-interactome        | ...                    | 46.04943               |  0                     |  0                     |        NaN             | 0                      |        NaN             | 0.572                  |  2                     | 1.1037528              | 0.016549989            |\n",
       "| ZSCAN2                 | ZSCAN2                 | 15                     |  85164635              | A                      | G                      | 1-01076                | syn                    | Case Synonymous        | Non-interactome        | ...                    | 44.48278               |  1                     |  1                     | 1.00000000             | 1                      | 1.00000000             | 0.616                  |  1                     | 0.5428882              | 0.019272787            |\n",
       "| ZSCAN20                | ZSCAN20                | 1                      |  33954136              | G                      | T                      | 1-00877                | mis                    | Case Non-synonymous    | Non-interactome        | ...                    | 42.83129               |  1                     |  1                     | 1.00000000             | 0                      | 0.00000000             | 0.369                  |  1                     | 0.3195909              | 0.030444118            |\n",
       "| ZSWIM4                 | ZSWIM4                 | 19                     |  13915878              | G                      | A                      | 14563                  | mis                    | Control Non-synonymous | Non-interactome        | ...                    | 60.04751               |  0                     |  0                     |        NaN             | 0                      |        NaN             | 0.200                  |  3                     | 1.0111223              | 0.020999745            |\n",
       "| ZSWIM6                 | ZSWIM6                 | 5                      |  60768572              | C                      | T                      | SSC07834               | syn                    | Control Synonymous     | Non-interactome        | ...                    | 56.24116               |  0                     |  0                     |        NaN             | 0                      |        NaN             | 0.591                  |  1                     | 0.2743484              | 0.013905971            |\n",
       "| ZSWIM6                 | ZSWIM6                 | 5                      |  60826000              | C                      | A                      | 1-03260                | mis                    | Case Non-synonymous    | Non-interactome        | ...                    | 56.24116               |  0                     |  0                     |        NaN             | 0                      |        NaN             | 0.591                  |  1                     | 0.2743484              | 0.013905971            |\n",
       "| ZSWIM8                 | ZSWIM8                 | 10                     |  75551724              | G                      | A                      | 1-04504                | mis                    | Case Non-synonymous    | Interactome            | ...                    | 92.94158               |  6                     |  6                     | 1.00000000             | 0                      | 0.00000000             |    NA                  |  3                     | 0.5428882              | 0.015753447            |\n",
       "| ZW10                   | ZW10                   | 11                     | 113614530              | T                      | C                      | GT04012081             | mis                    | Case Non-synonymous    | Non-interactome        | ...                    | 60.75448               | 56                     | 56                     | 1.00000000             | 2                      | 0.03571429             | 0.404                  |  1                     | 0.4278990              | 0.023471587            |\n",
       "| ZW10                   | ZW10                   | 11                     | 113631634              | G                      | A                      | 11474                  | mis                    | Control Non-synonymous | Non-interactome        | ...                    | 60.75448               | 56                     | 56                     | 1.00000000             | 2                      | 0.03571429             | 0.404                  |  1                     | 0.4278990              | 0.023471587            |\n",
       "| ZYG11A                 | ZYG11A                 | 1                      |  53323026              | C                      | T                      | 11472                  | mis                    | Control Non-synonymous | Non-interactome        | ...                    | 17.34065               |  0                     |  0                     |        NaN             | 0                      |        NaN             | 0.111                  |  3                     | 1.3175231              | 0.002702426            |\n",
       "\n"
      ],
      "text/plain": [
       "     Gene    alias   CHROM POS       REF   ALT Blinded.ID Variant.Class\n",
       "1    9-Sep   SEPT9   17     75484879 C     T   SSC05717   misD         \n",
       "2    A2M     A2M     12      9265970 A     G   14397      mis          \n",
       "3    A3GALT2 A3GALT2 1      33777757 C     G   1-07571    mis          \n",
       "4    AAAS    AAAS    12     53701325 G     C   1-02674    mis          \n",
       "5    AACS    AACS    12    125621409 C     T   GT04016012 mis          \n",
       "6    AAK1    AAK1    2      69748004 C     T   1-06459    mis          \n",
       "7    AAMP    AAMP    2     219130141 T     A   11984      mis          \n",
       "8    AASS    AASS    7     121769559 C     T   1-00100    syn          \n",
       "9    AATK    AATK    17     79094043 G     T   1-08754    syn          \n",
       "10   ABAT    ABAT    16      8870306 C     T   1-04638    mis          \n",
       "11   ABCA12  ABCA12  2     215809744 C     T   1-15672    misD         \n",
       "12   ABCA12  ABCA12  2     215917234 C     T   12994      mis          \n",
       "13   ABCA12  ABCA12  2     215818801 G     T   11405      mis          \n",
       "14   ABCA13  ABCA13  7      48237892 T     G   1-07342    syn          \n",
       "15   ABCA13  ABCA13  7      48315282 C     A   11513      mis          \n",
       "16   ABCA13  ABCA13  7      48313603 C     G   1-05977    mis          \n",
       "17   ABCA13  ABCA13  7      48287896 G     C   1-01866    mis          \n",
       "18   ABCA3   ABCA3   16      2358475 G     A   14095      mis          \n",
       "19   ABCA4   ABCA4   1      94574138 A     G   1-02035    mis          \n",
       "20   ABCA4   ABCA4   1      94495150 G     C   13093      misD         \n",
       "21   ABCA7   ABCA7   19      1056184 G     A   1-03865    mis          \n",
       "22   ABCA8   ABCA8   17     66925280 C     A   1-05296    syn          \n",
       "23   ABCA8   ABCA8   17     66924150 C     T   1-00416    mis          \n",
       "24   ABCB11  ABCB11  2     169780296 G     A   11251      misD         \n",
       "25   ABCB6   ABCB6   2     220082869 G     C   1-01951    mis          \n",
       "26   ABCC1   ABCC1   16     16230394 G     A   11008      syn          \n",
       "27   ABCC11  ABCC11  16     48261823 C     T   14316      mis          \n",
       "28   ABCC2   ABCC2   10    101578577 C     T   1-12717    misD         \n",
       "29   ABCC3   ABCC3   17     48762187 C     T   1-06692    non          \n",
       "30   ABCC6   ABCC6   16     16272712 G     A   13621      syn          \n",
       "...  ...     ...     ...   ...       ...   ... ...        ...          \n",
       "5171 ZNF766  ZNF766  19     52793553 A     AT  1-01678    frameshift   \n",
       "5172 ZNF77   ZNF77   19      2933528 C     A   SSC06838   mis          \n",
       "5173 ZNF780A ZNF780A 19     40580566 G     C   12285      mis          \n",
       "5174 ZNF780A ZNF780A 19     40581783 C     T   14008      mis          \n",
       "5175 ZNF780A ZNF780A 19     40580705 T     C   14018      syn          \n",
       "5176 ZNF780B ZNF780B 19     40553282 C     T   11622      mis          \n",
       "5177 ZNF782  ZNF782  9      99581083 G     A   1-06370    mis          \n",
       "5178 ZNF786  ZNF786  7     148769528 G     C   13859      mis          \n",
       "5179 ZNF79   ZNF79   9     130207133 G     T   1-02338    mis          \n",
       "5180 ZNF814  ZNF814  19     58385008 A     T   1-04949    mis          \n",
       "5181 ZNF829  ZNF829  19     37383058 T     C   1-06236    mis          \n",
       "5182 ZNF830  ZNF830  17     33289423 G     A   11775      mis          \n",
       "5183 ZNF835  ZNF835  19     57176092 T     C   14339      mis          \n",
       "5184 ZNF853  ZNF853  7       6656905 G     C   1-07175    mis          \n",
       "5185 ZNF878  ZNF878  19     12155806 T     C   1-01132    mis          \n",
       "5186 ZNFX1   ZNFX1   20     47887228 C     T   1-03696    misD         \n",
       "5187 ZNFX1   ZNFX1   20     47864195 T     C   1-02254    mis          \n",
       "5188 ZP1     ZP1     11     60638760 G     A   1-10653    misD         \n",
       "5189 ZP1     ZP1     11     60637182 TCCTC T   14018      frameshift   \n",
       "5190 ZP4     ZP4     1     238053472 G     A   1-09567    syn          \n",
       "5191 ZSCAN12 ZSCAN12 6      28365980 C     T   1-02814    mis          \n",
       "5192 ZSCAN2  ZSCAN2  15     85164635 A     G   1-01076    syn          \n",
       "5193 ZSCAN20 ZSCAN20 1      33954136 G     T   1-00877    mis          \n",
       "5194 ZSWIM4  ZSWIM4  19     13915878 G     A   14563      mis          \n",
       "5195 ZSWIM6  ZSWIM6  5      60768572 C     T   SSC07834   syn          \n",
       "5196 ZSWIM6  ZSWIM6  5      60826000 C     A   1-03260    mis          \n",
       "5197 ZSWIM8  ZSWIM8  10     75551724 G     A   1-04504    mis          \n",
       "5198 ZW10    ZW10    11    113614530 T     C   GT04012081 mis          \n",
       "5199 ZW10    ZW10    11    113631634 G     A   11474      mis          \n",
       "5200 ZYG11A  ZYG11A  1      53323026 C     T   11472      mis          \n",
       "     variant_type           Interactome     ...\n",
       "1    Control Non-synonymous Non-interactome ...\n",
       "2    Control Non-synonymous Non-interactome ...\n",
       "3    Case Non-synonymous    Non-interactome ...\n",
       "4    Case Non-synonymous    Non-interactome ...\n",
       "5    Case Non-synonymous    Non-interactome ...\n",
       "6    Case Non-synonymous    Non-interactome ...\n",
       "7    Control Non-synonymous Non-interactome ...\n",
       "8    Case Synonymous        Non-interactome ...\n",
       "9    Case Synonymous        Non-interactome ...\n",
       "10   Case Non-synonymous    Non-interactome ...\n",
       "11   Case Non-synonymous    Non-interactome ...\n",
       "12   Control Non-synonymous Non-interactome ...\n",
       "13   Control Non-synonymous Non-interactome ...\n",
       "14   Case Synonymous        Non-interactome ...\n",
       "15   Control Non-synonymous Non-interactome ...\n",
       "16   Case Non-synonymous    Non-interactome ...\n",
       "17   Case Non-synonymous    Non-interactome ...\n",
       "18   Control Non-synonymous Non-interactome ...\n",
       "19   Case Non-synonymous    Non-interactome ...\n",
       "20   Control Non-synonymous Non-interactome ...\n",
       "21   Case Non-synonymous    Non-interactome ...\n",
       "22   Case Synonymous        Non-interactome ...\n",
       "23   Case Non-synonymous    Non-interactome ...\n",
       "24   Control Non-synonymous Non-interactome ...\n",
       "25   Case Non-synonymous    Non-interactome ...\n",
       "26   Control Synonymous     Non-interactome ...\n",
       "27   Control Non-synonymous Non-interactome ...\n",
       "28   Case Non-synonymous    Non-interactome ...\n",
       "29   Case Non-synonymous    Non-interactome ...\n",
       "30   Control Synonymous     Non-interactome ...\n",
       "...  ...                    ...                \n",
       "5171 Case Non-synonymous    Non-interactome ...\n",
       "5172 Control Non-synonymous Non-interactome ...\n",
       "5173 Control Non-synonymous Non-interactome ...\n",
       "5174 Control Non-synonymous Non-interactome ...\n",
       "5175 Control Synonymous     Non-interactome ...\n",
       "5176 Control Non-synonymous Non-interactome ...\n",
       "5177 Case Non-synonymous    Non-interactome ...\n",
       "5178 Control Non-synonymous Non-interactome ...\n",
       "5179 Case Non-synonymous    Non-interactome ...\n",
       "5180 Case Non-synonymous    Non-interactome ...\n",
       "5181 Case Non-synonymous    Non-interactome ...\n",
       "5182 Control Non-synonymous Non-interactome ...\n",
       "5183 Control Non-synonymous Non-interactome ...\n",
       "5184 Case Non-synonymous    Non-interactome ...\n",
       "5185 Case Non-synonymous    Non-interactome ...\n",
       "5186 Case Non-synonymous    Non-interactome ...\n",
       "5187 Case Non-synonymous    Non-interactome ...\n",
       "5188 Case Non-synonymous    Non-interactome ...\n",
       "5189 Control Non-synonymous Non-interactome ...\n",
       "5190 Case Synonymous        Non-interactome ...\n",
       "5191 Case Non-synonymous    Non-interactome ...\n",
       "5192 Case Synonymous        Non-interactome ...\n",
       "5193 Case Non-synonymous    Non-interactome ...\n",
       "5194 Control Non-synonymous Non-interactome ...\n",
       "5195 Control Synonymous     Non-interactome ...\n",
       "5196 Case Non-synonymous    Non-interactome ...\n",
       "5197 Case Non-synonymous    Interactome     ...\n",
       "5198 Case Non-synonymous    Non-interactome ...\n",
       "5199 Control Non-synonymous Non-interactome ...\n",
       "5200 Control Non-synonymous Non-interactome ...\n",
       "     Heart.Expression.Percentile.Rank total_connections dnv_node_degree\n",
       "1    92.364685                        25                 4             \n",
       "2    33.295628                        87                16             \n",
       "3           NA                         0                 0             \n",
       "4    80.148182                        47                47             \n",
       "5    45.834512                         0                 0             \n",
       "6    83.530343                         7                 7             \n",
       "7    93.648549                        12                 1             \n",
       "8    23.923986                         1                 1             \n",
       "9    30.733556                         2                 0             \n",
       "10   86.567502                         1                 1             \n",
       "11   24.189808                         2                 2             \n",
       "12   24.189808                         2                 2             \n",
       "13   24.189808                         2                 2             \n",
       "14   14.246932                         2                 2             \n",
       "15   14.246932                         2                 2             \n",
       "16   14.246932                         2                 2             \n",
       "17   14.246932                         2                 2             \n",
       "18   76.392738                         7                 0             \n",
       "19   41.315536                         4                 4             \n",
       "20   41.315536                         4                 4             \n",
       "21   54.239014                         1                 1             \n",
       "22   34.918839                         0                 0             \n",
       "23   34.918839                         0                 0             \n",
       "24    9.484758                         4                 0             \n",
       "25          NA                        11                11             \n",
       "26   37.085007                        22                 1             \n",
       "27          NA                         0                 0             \n",
       "28   16.124654                         3                 3             \n",
       "29   32.809230                         3                 3             \n",
       "30   10.304847                         1                 0             \n",
       "...  ...                              ...               ...            \n",
       "5171 52.63843                          2                 2             \n",
       "5172       NA                          6                 2             \n",
       "5173 34.09309                          1                 1             \n",
       "5174 34.09309                          1                 1             \n",
       "5175 34.09309                          1                 1             \n",
       "5176 45.53475                          0                 0             \n",
       "5177       NA                          0                 0             \n",
       "5178 29.29133                         11                 1             \n",
       "5179       NA                          4                 4             \n",
       "5180 38.56682                          0                 0             \n",
       "5181       NA                          3                 3             \n",
       "5182 57.35535                          9                 1             \n",
       "5183       NA                          1                 0             \n",
       "5184       NA                          0                 0             \n",
       "5185       NA                          0                 0             \n",
       "5186 65.63543                          9                 9             \n",
       "5187 65.63543                          9                 9             \n",
       "5188 17.81008                          3                 3             \n",
       "5189 17.81008                          3                 3             \n",
       "5190       NA                          5                 1             \n",
       "5191 46.04943                          0                 0             \n",
       "5192 44.48278                          1                 1             \n",
       "5193 42.83129                          1                 1             \n",
       "5194 60.04751                          0                 0             \n",
       "5195 56.24116                          0                 0             \n",
       "5196 56.24116                          0                 0             \n",
       "5197 92.94158                          6                 6             \n",
       "5198 60.75448                         56                56             \n",
       "5199 60.75448                         56                56             \n",
       "5200 17.34065                          0                 0             \n",
       "     corrected_dnv_node_degree chd_node_degree corrected_chd_node_degree\n",
       "1    0.16000000                0               0.00000000               \n",
       "2    0.18390805                1               0.01149425               \n",
       "3           NaN                0                      NaN               \n",
       "4    1.00000000                0               0.00000000               \n",
       "5           NaN                0                      NaN               \n",
       "6    1.00000000                0               0.00000000               \n",
       "7    0.08333333                0               0.00000000               \n",
       "8    1.00000000                0               0.00000000               \n",
       "9    0.00000000                0               0.00000000               \n",
       "10   1.00000000                0               0.00000000               \n",
       "11   1.00000000                0               0.00000000               \n",
       "12   1.00000000                0               0.00000000               \n",
       "13   1.00000000                0               0.00000000               \n",
       "14   1.00000000                0               0.00000000               \n",
       "15   1.00000000                0               0.00000000               \n",
       "16   1.00000000                0               0.00000000               \n",
       "17   1.00000000                0               0.00000000               \n",
       "18   0.00000000                0               0.00000000               \n",
       "19   1.00000000                0               0.00000000               \n",
       "20   1.00000000                0               0.00000000               \n",
       "21   1.00000000                0               0.00000000               \n",
       "22          NaN                0                      NaN               \n",
       "23          NaN                0                      NaN               \n",
       "24   0.00000000                0               0.00000000               \n",
       "25   1.00000000                0               0.00000000               \n",
       "26   0.04545455                0               0.00000000               \n",
       "27          NaN                0                      NaN               \n",
       "28   1.00000000                0               0.00000000               \n",
       "29   1.00000000                0               0.00000000               \n",
       "30   0.00000000                0               0.00000000               \n",
       "...  ...                       ...             ...                      \n",
       "5171 1.00000000                0               0.00000000               \n",
       "5172 0.33333333                0               0.00000000               \n",
       "5173 1.00000000                0               0.00000000               \n",
       "5174 1.00000000                0               0.00000000               \n",
       "5175 1.00000000                0               0.00000000               \n",
       "5176        NaN                0                      NaN               \n",
       "5177        NaN                0                      NaN               \n",
       "5178 0.09090909                0               0.00000000               \n",
       "5179 1.00000000                0               0.00000000               \n",
       "5180        NaN                0                      NaN               \n",
       "5181 1.00000000                0               0.00000000               \n",
       "5182 0.11111111                0               0.00000000               \n",
       "5183 0.00000000                0               0.00000000               \n",
       "5184        NaN                0                      NaN               \n",
       "5185        NaN                0                      NaN               \n",
       "5186 1.00000000                1               0.11111111               \n",
       "5187 1.00000000                1               0.11111111               \n",
       "5188 1.00000000                0               0.00000000               \n",
       "5189 1.00000000                0               0.00000000               \n",
       "5190 0.20000000                0               0.00000000               \n",
       "5191        NaN                0                      NaN               \n",
       "5192 1.00000000                1               1.00000000               \n",
       "5193 1.00000000                0               0.00000000               \n",
       "5194        NaN                0                      NaN               \n",
       "5195        NaN                0                      NaN               \n",
       "5196        NaN                0                      NaN               \n",
       "5197 1.00000000                0               0.00000000               \n",
       "5198 1.00000000                2               0.03571429               \n",
       "5199 1.00000000                2               0.03571429               \n",
       "5200        NaN                0                      NaN               \n",
       "     p_haploinsufficient n_mutations mutperkb  specificity_score\n",
       "1       NA               NA                 NA          NA      \n",
       "2    0.264                2          0.4522840 0.016150049      \n",
       "3    0.090                1          0.9803922 0.009409438      \n",
       "4    0.619                4          2.4420024 0.022944931      \n",
       "5    0.159                2          0.9920635 0.022971941      \n",
       "6    0.085                2          0.6937218 0.031645830      \n",
       "7    0.423               NA                 NA 0.023836931      \n",
       "8    0.450                2          0.7199424 0.024173806      \n",
       "9    0.213                2          0.4852014 0.006143793      \n",
       "10   0.369                1          0.6666667 0.006440546      \n",
       "11   0.133                2          0.2569043 0.009856770      \n",
       "12   0.133                2          0.2569043 0.009856770      \n",
       "13   0.133                2          0.2569043 0.009856770      \n",
       "14   0.091               15          0.9885330 0.002044809      \n",
       "15   0.091               15          0.9885330 0.002044809      \n",
       "16   0.091               15          0.9885330 0.002044809      \n",
       "17   0.091               15          0.9885330 0.002044809      \n",
       "18   0.117               NA                 NA 0.008299036      \n",
       "19   0.083                4          0.5865963 0.011724990      \n",
       "20   0.083                4          0.5865963 0.011724990      \n",
       "21   0.048                3          0.4659832 0.006900874      \n",
       "22   0.049                6          1.2650221 0.063035706      \n",
       "23   0.049                6          1.2650221 0.063035706      \n",
       "24   0.099                2          0.5046682 0.003078259      \n",
       "25   0.107                5          1.9794141 0.020926142      \n",
       "26   0.201               NA                 NA 0.018334936      \n",
       "27   0.214                4          0.9647853 0.003878159      \n",
       "28   0.092                4          0.8629989 0.001926853      \n",
       "29   0.101                2          0.4365859 0.001344981      \n",
       "30   0.107                2          0.4435573 0.004246741      \n",
       "...  ...                 ...         ...       ...              \n",
       "5171 0.157                2          1.4245014 0.021795397      \n",
       "5172 0.161               NA                 NA 0.020801978      \n",
       "5173 0.107                2          1.0384216 0.018919220      \n",
       "5174 0.107                2          1.0384216 0.018919220      \n",
       "5175 0.107                2          1.0384216 0.018919220      \n",
       "5176 0.111                1          0.4001601 0.034352712      \n",
       "5177 0.127                4          1.9074869 0.013399622      \n",
       "5178 0.111               NA                 NA 0.013596324      \n",
       "5179 0.281                5          3.3467202 0.020825638      \n",
       "5180    NA                1          0.3898635 0.021342082      \n",
       "5181 0.088                2          1.2995452 0.022396328      \n",
       "5182 0.167               NA                 NA 0.018009256      \n",
       "5183    NA               NA                 NA 0.020944193      \n",
       "5184    NA                1          0.5058169 0.026733917      \n",
       "5185    NA                2          1.2554928 0.016023983      \n",
       "5186 0.175                3          0.5213764 0.021277555      \n",
       "5187 0.175                3          0.5213764 0.021277555      \n",
       "5188 0.112                3          1.5673981 0.014441928      \n",
       "5189 0.112                3          1.5673981 0.014441928      \n",
       "5190 0.128                3          1.8518519         NaN      \n",
       "5191 0.572                2          1.1037528 0.016549989      \n",
       "5192 0.616                1          0.5428882 0.019272787      \n",
       "5193 0.369                1          0.3195909 0.030444118      \n",
       "5194 0.200                3          1.0111223 0.020999745      \n",
       "5195 0.591                1          0.2743484 0.013905971      \n",
       "5196 0.591                1          0.2743484 0.013905971      \n",
       "5197    NA                3          0.5428882 0.015753447      \n",
       "5198 0.404                1          0.4278990 0.023471587      \n",
       "5199 0.404                1          0.4278990 0.023471587      \n",
       "5200 0.111                3          1.3175231 0.002702426      "
      ]
     },
     "metadata": {},
     "output_type": "display_data"
    }
   ],
   "source": [
    "df"
   ]
  },
  {
   "cell_type": "code",
   "execution_count": 27,
   "metadata": {},
   "outputs": [
    {
     "data": {
      "text/html": [
       "<ol class=list-inline>\n",
       "\t<li>'Gene'</li>\n",
       "\t<li>'alias'</li>\n",
       "\t<li>'CHROM'</li>\n",
       "\t<li>'POS'</li>\n",
       "\t<li>'REF'</li>\n",
       "\t<li>'ALT'</li>\n",
       "\t<li>'Blinded.ID'</li>\n",
       "\t<li>'Variant.Class'</li>\n",
       "\t<li>'variant_type'</li>\n",
       "\t<li>'Interactome'</li>\n",
       "\t<li>'variant_type_2'</li>\n",
       "\t<li>'CADD.score'</li>\n",
       "\t<li>'PHRED.score'</li>\n",
       "\t<li>'oe_mis'</li>\n",
       "\t<li>'oe_lof'</li>\n",
       "\t<li>'oe_syn'</li>\n",
       "\t<li>'pLI'</li>\n",
       "\t<li>'cds_length'</li>\n",
       "\t<li>'oe'</li>\n",
       "\t<li>'Heart.Expression.Percentile.Rank'</li>\n",
       "\t<li>'total_connections'</li>\n",
       "\t<li>'dnv_node_degree'</li>\n",
       "\t<li>'corrected_dnv_node_degree'</li>\n",
       "\t<li>'chd_node_degree'</li>\n",
       "\t<li>'corrected_chd_node_degree'</li>\n",
       "\t<li>'p_haploinsufficient'</li>\n",
       "\t<li>'n_mutations'</li>\n",
       "\t<li>'mutperkb'</li>\n",
       "\t<li>'specificity_score'</li>\n",
       "</ol>\n"
      ],
      "text/latex": [
       "\\begin{enumerate*}\n",
       "\\item 'Gene'\n",
       "\\item 'alias'\n",
       "\\item 'CHROM'\n",
       "\\item 'POS'\n",
       "\\item 'REF'\n",
       "\\item 'ALT'\n",
       "\\item 'Blinded.ID'\n",
       "\\item 'Variant.Class'\n",
       "\\item 'variant\\_type'\n",
       "\\item 'Interactome'\n",
       "\\item 'variant\\_type\\_2'\n",
       "\\item 'CADD.score'\n",
       "\\item 'PHRED.score'\n",
       "\\item 'oe\\_mis'\n",
       "\\item 'oe\\_lof'\n",
       "\\item 'oe\\_syn'\n",
       "\\item 'pLI'\n",
       "\\item 'cds\\_length'\n",
       "\\item 'oe'\n",
       "\\item 'Heart.Expression.Percentile.Rank'\n",
       "\\item 'total\\_connections'\n",
       "\\item 'dnv\\_node\\_degree'\n",
       "\\item 'corrected\\_dnv\\_node\\_degree'\n",
       "\\item 'chd\\_node\\_degree'\n",
       "\\item 'corrected\\_chd\\_node\\_degree'\n",
       "\\item 'p\\_haploinsufficient'\n",
       "\\item 'n\\_mutations'\n",
       "\\item 'mutperkb'\n",
       "\\item 'specificity\\_score'\n",
       "\\end{enumerate*}\n"
      ],
      "text/markdown": [
       "1. 'Gene'\n",
       "2. 'alias'\n",
       "3. 'CHROM'\n",
       "4. 'POS'\n",
       "5. 'REF'\n",
       "6. 'ALT'\n",
       "7. 'Blinded.ID'\n",
       "8. 'Variant.Class'\n",
       "9. 'variant_type'\n",
       "10. 'Interactome'\n",
       "11. 'variant_type_2'\n",
       "12. 'CADD.score'\n",
       "13. 'PHRED.score'\n",
       "14. 'oe_mis'\n",
       "15. 'oe_lof'\n",
       "16. 'oe_syn'\n",
       "17. 'pLI'\n",
       "18. 'cds_length'\n",
       "19. 'oe'\n",
       "20. 'Heart.Expression.Percentile.Rank'\n",
       "21. 'total_connections'\n",
       "22. 'dnv_node_degree'\n",
       "23. 'corrected_dnv_node_degree'\n",
       "24. 'chd_node_degree'\n",
       "25. 'corrected_chd_node_degree'\n",
       "26. 'p_haploinsufficient'\n",
       "27. 'n_mutations'\n",
       "28. 'mutperkb'\n",
       "29. 'specificity_score'\n",
       "\n",
       "\n"
      ],
      "text/plain": [
       " [1] \"Gene\"                             \"alias\"                           \n",
       " [3] \"CHROM\"                            \"POS\"                             \n",
       " [5] \"REF\"                              \"ALT\"                             \n",
       " [7] \"Blinded.ID\"                       \"Variant.Class\"                   \n",
       " [9] \"variant_type\"                     \"Interactome\"                     \n",
       "[11] \"variant_type_2\"                   \"CADD.score\"                      \n",
       "[13] \"PHRED.score\"                      \"oe_mis\"                          \n",
       "[15] \"oe_lof\"                           \"oe_syn\"                          \n",
       "[17] \"pLI\"                              \"cds_length\"                      \n",
       "[19] \"oe\"                               \"Heart.Expression.Percentile.Rank\"\n",
       "[21] \"total_connections\"                \"dnv_node_degree\"                 \n",
       "[23] \"corrected_dnv_node_degree\"        \"chd_node_degree\"                 \n",
       "[25] \"corrected_chd_node_degree\"        \"p_haploinsufficient\"             \n",
       "[27] \"n_mutations\"                      \"mutperkb\"                        \n",
       "[29] \"specificity_score\"               "
      ]
     },
     "metadata": {},
     "output_type": "display_data"
    }
   ],
   "source": [
    "names(df)\n",
    "df <- df[,c('Gene','CHROM','POS','REF','ALT','Blinded.ID','Variant.Class','variant_type',\n",
    "            'Interactome','variant_type_2','CADD.score','PHRED.score','oe','pLI','cds_length',\n",
    "            'Heart.Expression.Percentile.Rank', 'total_connections','dnv_node_degree','corrected_dnv_node_degree',\n",
    "            'chd_node_degree','corrected_chd_node_degree','p_haploinsufficient','mutperkb','specificity_score')]"
   ]
  },
  {
   "cell_type": "code",
   "execution_count": 28,
   "metadata": {},
   "outputs": [],
   "source": [
    "write.table(df, file = \"../manuscript/tables/variant_characteristics.tsv\", sep=\"\\t\",\n",
    "           quote=FALSE, row.names = FALSE)"
   ]
  },
  {
   "cell_type": "markdown",
   "metadata": {},
   "source": [
    "## Properties of reference variants"
   ]
  },
  {
   "cell_type": "code",
   "execution_count": 29,
   "metadata": {},
   "outputs": [],
   "source": [
    "ref = read.csv('../data/variants/reference_variants.csv', stringsAsFactors = FALSE)"
   ]
  },
  {
   "cell_type": "code",
   "execution_count": 30,
   "metadata": {},
   "outputs": [],
   "source": [
    "ref = ref[,c('Gene','CHR','POS','REF','ALT','Blinded.ID','ExonicFunc.refGene','CADD.score','PHRED.score')]\n",
    "names(ref)[which(names(ref)==\"CHR\")] <- \"CHROM\"\n",
    "names(ref)[which(names(ref)=='ExonicFunc.refGene')] <- \"Variant.Class\""
   ]
  },
  {
   "cell_type": "code",
   "execution_count": 31,
   "metadata": {},
   "outputs": [
    {
     "data": {
      "text/html": [
       "<table>\n",
       "<thead><tr><th scope=col>Gene</th><th scope=col>CHROM</th><th scope=col>POS</th><th scope=col>REF</th><th scope=col>ALT</th><th scope=col>Blinded.ID</th><th scope=col>Variant.Class</th><th scope=col>CADD.score</th><th scope=col>PHRED.score</th></tr></thead>\n",
       "<tbody>\n",
       "\t<tr><td>GATA4    </td><td> 8       </td><td> 11607722</td><td>G        </td><td>A        </td><td>GATA4    </td><td>misD     </td><td>4.027798 </td><td>28.300   </td></tr>\n",
       "\t<tr><td>NKX2-5   </td><td> 5       </td><td>172660192</td><td>C        </td><td>A        </td><td>OLIGO    </td><td>misD     </td><td>1.651977 </td><td>16.520   </td></tr>\n",
       "\t<tr><td>MKL2     </td><td>16       </td><td> 14341127</td><td>G        </td><td>T        </td><td>OLIGO    </td><td>misD     </td><td>3.082313 </td><td>23.800   </td></tr>\n",
       "\t<tr><td>MYH7     </td><td>20       </td><td> 23898536</td><td>G        </td><td>A        </td><td>OLIGO    </td><td>misD     </td><td>0.023524 </td><td> 2.992   </td></tr>\n",
       "\t<tr><td>NKX2-5   </td><td> 5       </td><td>172660387</td><td>T        </td><td>G        </td><td>NKX25    </td><td>misD     </td><td>0.476938 </td><td> 9.166   </td></tr>\n",
       "\t<tr><td>TBX5     </td><td>12       </td><td>114839635</td><td>C        </td><td>T        </td><td>TBX5     </td><td>misD     </td><td>4.471066 </td><td>32.000   </td></tr>\n",
       "</tbody>\n",
       "</table>\n"
      ],
      "text/latex": [
       "\\begin{tabular}{r|lllllllll}\n",
       " Gene & CHROM & POS & REF & ALT & Blinded.ID & Variant.Class & CADD.score & PHRED.score\\\\\n",
       "\\hline\n",
       "\t GATA4     &  8        &  11607722 & G         & A         & GATA4     & misD      & 4.027798  & 28.300   \\\\\n",
       "\t NKX2-5    &  5        & 172660192 & C         & A         & OLIGO     & misD      & 1.651977  & 16.520   \\\\\n",
       "\t MKL2      & 16        &  14341127 & G         & T         & OLIGO     & misD      & 3.082313  & 23.800   \\\\\n",
       "\t MYH7      & 20        &  23898536 & G         & A         & OLIGO     & misD      & 0.023524  &  2.992   \\\\\n",
       "\t NKX2-5    &  5        & 172660387 & T         & G         & NKX25     & misD      & 0.476938  &  9.166   \\\\\n",
       "\t TBX5      & 12        & 114839635 & C         & T         & TBX5      & misD      & 4.471066  & 32.000   \\\\\n",
       "\\end{tabular}\n"
      ],
      "text/markdown": [
       "\n",
       "| Gene | CHROM | POS | REF | ALT | Blinded.ID | Variant.Class | CADD.score | PHRED.score |\n",
       "|---|---|---|---|---|---|---|---|---|\n",
       "| GATA4     |  8        |  11607722 | G         | A         | GATA4     | misD      | 4.027798  | 28.300    |\n",
       "| NKX2-5    |  5        | 172660192 | C         | A         | OLIGO     | misD      | 1.651977  | 16.520    |\n",
       "| MKL2      | 16        |  14341127 | G         | T         | OLIGO     | misD      | 3.082313  | 23.800    |\n",
       "| MYH7      | 20        |  23898536 | G         | A         | OLIGO     | misD      | 0.023524  |  2.992    |\n",
       "| NKX2-5    |  5        | 172660387 | T         | G         | NKX25     | misD      | 0.476938  |  9.166    |\n",
       "| TBX5      | 12        | 114839635 | C         | T         | TBX5      | misD      | 4.471066  | 32.000    |\n",
       "\n"
      ],
      "text/plain": [
       "  Gene   CHROM POS       REF ALT Blinded.ID Variant.Class CADD.score\n",
       "1 GATA4   8     11607722 G   A   GATA4      misD          4.027798  \n",
       "2 NKX2-5  5    172660192 C   A   OLIGO      misD          1.651977  \n",
       "3 MKL2   16     14341127 G   T   OLIGO      misD          3.082313  \n",
       "4 MYH7   20     23898536 G   A   OLIGO      misD          0.023524  \n",
       "5 NKX2-5  5    172660387 T   G   NKX25      misD          0.476938  \n",
       "6 TBX5   12    114839635 C   T   TBX5       misD          4.471066  \n",
       "  PHRED.score\n",
       "1 28.300     \n",
       "2 16.520     \n",
       "3 23.800     \n",
       "4  2.992     \n",
       "5  9.166     \n",
       "6 32.000     "
      ]
     },
     "metadata": {},
     "output_type": "display_data"
    }
   ],
   "source": [
    "ref"
   ]
  },
  {
   "cell_type": "code",
   "execution_count": 32,
   "metadata": {},
   "outputs": [],
   "source": [
    "ref$Interactome = ifelse(ref$Gene %in% gt_interactome, \"Interactome\", \"Non-interactome\")\n",
    "ref = merge(ref, gnomad[,c('gene','oe_mis','oe_lof','oe_syn','pLI','cds_length')], \n",
    "            by.x='Gene', by.y='gene', all.x = TRUE)\n",
    "ref = merge(ref, hhe_df, by.x='Gene', by.y='Gene', all.x = TRUE)\n",
    "ref = merge(ref, gene_conn, by.x='Gene', by.y='Gene', all.x = TRUE)"
   ]
  },
  {
   "cell_type": "code",
   "execution_count": 33,
   "metadata": {},
   "outputs": [],
   "source": [
    "# Create column with relevant oe score (oe_mis for missense variants, oe_lof for loss-of-function variants)\n",
    "ref$oe = NA\n",
    "\n",
    "for(i in c(1:nrow(ref))){\n",
    "    if (ref$Variant.Class[i] %in% c(\"mis\",\"misD\")){\n",
    "        ref$oe[i] = ref$oe_mis[i]\n",
    "    } else if(ref$Variant.Class[i] %in% c(\"non\",\"frameshift\",\"startloss\",\"splice\",\"stoploss\")){\n",
    "        ref$oe[i] = ref$oe_lof[i]\n",
    "    } else if(ref$Variant.Class[i] == 'syn'){\n",
    "        ref$oe[i] = ref$oe_syn[i]\n",
    "    }\n",
    "}"
   ]
  },
  {
   "cell_type": "code",
   "execution_count": 34,
   "metadata": {},
   "outputs": [],
   "source": [
    "ref = merge(ref, haploinsufficiency[,c('Gene','p_haploinsufficient')])\n",
    "ref = merge(ref, gene_counts, all.x=TRUE)\n",
    "ref$mutperkb = (ref$n_mutations / ref$cds_length) * 1000\n",
    "ref$specificity_score = g$heart_specificity[match(ref$Gene, row.names(g))]"
   ]
  },
  {
   "cell_type": "code",
   "execution_count": 35,
   "metadata": {},
   "outputs": [],
   "source": [
    "ref <- ref[,c('Gene','CHROM','POS','REF','ALT','Blinded.ID','Variant.Class',\n",
    "            'Interactome','CADD.score','PHRED.score','oe','pLI','cds_length',\n",
    "            'Heart.Expression.Percentile.Rank', 'total_connections','dnv_node_degree','corrected_dnv_node_degree',\n",
    "            'chd_node_degree','corrected_chd_node_degree','p_haploinsufficient','mutperkb','specificity_score')]\n",
    "\n",
    "write.table(ref, file = \"../intermediate/reference_variant_characteristics.tsv\", sep=\"\\t\",\n",
    "           quote=FALSE, row.names = FALSE)"
   ]
  },
  {
   "cell_type": "code",
   "execution_count": null,
   "metadata": {},
   "outputs": [],
   "source": []
  }
 ],
 "metadata": {
  "kernelspec": {
   "display_name": "R",
   "language": "R",
   "name": "ir"
  },
  "language_info": {
   "codemirror_mode": "r",
   "file_extension": ".r",
   "mimetype": "text/x-r-source",
   "name": "R",
   "pygments_lexer": "r",
   "version": "3.6.1"
  }
 },
 "nbformat": 4,
 "nbformat_minor": 4
}
