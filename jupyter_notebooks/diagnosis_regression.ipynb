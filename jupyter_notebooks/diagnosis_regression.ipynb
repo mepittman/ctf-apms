{
 "cells": [
  {
   "cell_type": "markdown",
   "metadata": {},
   "source": [
    "# diagnosis_regression.ipynb\n",
    "\n",
    "This notebook uses de novo variant data from a large cohort of individuals with cardiac defects$^{1}$ to relate diagnosis categories to risk of having a de novo variant in a GATA4-TBX5 interactome gene.\n",
    "\n",
    "$^{1}$Jin, Sheng Chih, Jason Homsy, Samir Zaidi, Qiongshi Lu, Sarah Morton, Steven R. DePalma, Xue Zeng, et al. 2017. “Contribution of Rare Inherited and de Novo Variants in 2,871 Congenital Heart Disease Probands.” Nature Genetics 49 (11): 1593–1601."
   ]
  },
  {
   "cell_type": "code",
   "execution_count": 1,
   "metadata": {},
   "outputs": [],
   "source": [
    "diagnoses = read.csv('../data/variants/diagnoses.csv', stringsAsFactors=FALSE)\n",
    "\n",
    "categories = read.csv('../data/databases/diagnostic_categories.csv',header=TRUE, \n",
    "                      stringsAsFactors=FALSE)\n",
    "categories = categories[,c(1:2)]\n",
    "names(categories) = c(\"DIAGNOSES\",\"CATEGORY\")"
   ]
  },
  {
   "cell_type": "code",
   "execution_count": 3,
   "metadata": {},
   "outputs": [
    {
     "data": {
      "text/html": [
       "<table>\n",
       "<thead><tr><th scope=col>Blinded.ID</th><th scope=col>DIAGNOSES</th></tr></thead>\n",
       "<tbody>\n",
       "\t<tr><td>1-01074                                                                           </td><td>AORTIC STENOSIS AND REGURGITATION (MIXED AORTIC VALVE DISEASE)                    </td></tr>\n",
       "\t<tr><td>1-01074                                                                           </td><td>BICOMMISSURAL AORTIC VALVE                                                        </td></tr>\n",
       "\t<tr><td>1-01074                                                                           </td><td>SCREENER DIAGNOSIS: LEFT-SIDED OBSTRUCTIVE LESION                                 </td></tr>\n",
       "\t<tr><td>1-01074                                                                           </td><td>AORTIC STENOSIS AND REGURGITATION                                                 </td></tr>\n",
       "\t<tr><td>1-03156                                                                           </td><td>SCREENER DIAGNOSIS: CONOTRUNCAL ABNORMALITY                                       </td></tr>\n",
       "\t<tr><td>1-03156                                                                           </td><td>TETRALOGY OF FALLOT WITH PULMONARY ATRESIA AND MULTIPLE AORTOPULMONARY COLLATERALS</td></tr>\n",
       "</tbody>\n",
       "</table>\n"
      ],
      "text/latex": [
       "\\begin{tabular}{r|ll}\n",
       " Blinded.ID & DIAGNOSES\\\\\n",
       "\\hline\n",
       "\t 1-01074                                                                            & AORTIC STENOSIS AND REGURGITATION (MIXED AORTIC VALVE DISEASE)                    \\\\\n",
       "\t 1-01074                                                                            & BICOMMISSURAL AORTIC VALVE                                                        \\\\\n",
       "\t 1-01074                                                                            & SCREENER DIAGNOSIS: LEFT-SIDED OBSTRUCTIVE LESION                                 \\\\\n",
       "\t 1-01074                                                                            & AORTIC STENOSIS AND REGURGITATION                                                 \\\\\n",
       "\t 1-03156                                                                            & SCREENER DIAGNOSIS: CONOTRUNCAL ABNORMALITY                                       \\\\\n",
       "\t 1-03156                                                                            & TETRALOGY OF FALLOT WITH PULMONARY ATRESIA AND MULTIPLE AORTOPULMONARY COLLATERALS\\\\\n",
       "\\end{tabular}\n"
      ],
      "text/markdown": [
       "\n",
       "| Blinded.ID | DIAGNOSES |\n",
       "|---|---|\n",
       "| 1-01074                                                                            | AORTIC STENOSIS AND REGURGITATION (MIXED AORTIC VALVE DISEASE)                     |\n",
       "| 1-01074                                                                            | BICOMMISSURAL AORTIC VALVE                                                         |\n",
       "| 1-01074                                                                            | SCREENER DIAGNOSIS: LEFT-SIDED OBSTRUCTIVE LESION                                  |\n",
       "| 1-01074                                                                            | AORTIC STENOSIS AND REGURGITATION                                                  |\n",
       "| 1-03156                                                                            | SCREENER DIAGNOSIS: CONOTRUNCAL ABNORMALITY                                        |\n",
       "| 1-03156                                                                            | TETRALOGY OF FALLOT WITH PULMONARY ATRESIA AND MULTIPLE AORTOPULMONARY COLLATERALS |\n",
       "\n"
      ],
      "text/plain": [
       "  Blinded.ID\n",
       "1 1-01074   \n",
       "2 1-01074   \n",
       "3 1-01074   \n",
       "4 1-01074   \n",
       "5 1-03156   \n",
       "6 1-03156   \n",
       "  DIAGNOSES                                                                         \n",
       "1 AORTIC STENOSIS AND REGURGITATION (MIXED AORTIC VALVE DISEASE)                    \n",
       "2 BICOMMISSURAL AORTIC VALVE                                                        \n",
       "3 SCREENER DIAGNOSIS: LEFT-SIDED OBSTRUCTIVE LESION                                 \n",
       "4 AORTIC STENOSIS AND REGURGITATION                                                 \n",
       "5 SCREENER DIAGNOSIS: CONOTRUNCAL ABNORMALITY                                       \n",
       "6 TETRALOGY OF FALLOT WITH PULMONARY ATRESIA AND MULTIPLE AORTOPULMONARY COLLATERALS"
      ]
     },
     "metadata": {},
     "output_type": "display_data"
    }
   ],
   "source": [
    "# Match each proband to their individual diagnoses\n",
    "diag_list = c()\n",
    "diag_df = data.frame(matrix(ncol=2, nrow=0))\n",
    "colnames(diag_df) = c(\"Blinded.ID\", \"DIAGNOSES\")\n",
    "\n",
    "for (i in 1:nrow(diagnoses)){\n",
    "  \n",
    "  my_diags = c()\n",
    "  my_id = diagnoses[i,'Blinded.ID']\n",
    "  \n",
    "  if( diagnoses[i,'Cohort'] == \"PCGC\"){\n",
    "    diags = strsplit(diagnoses[i,'Cardiac.Diagnoses'],\" \\\\| \")\n",
    "    for(j in diags){\n",
    "      diag_list = c(diag_list, trimws(j))\n",
    "      my_diags = c(my_diags,trimws(j))\n",
    "    }\n",
    "  } else if(diagnoses[i,'Cohort'] == 'PHN' & grepl(';',diagnoses[i, 'Cardiac.Diagnoses'])){\n",
    "    diags = strsplit(diagnoses[i,'Cardiac.Diagnoses'],\";\")\n",
    "    for(j in diags){\n",
    "      diag_list = c(diag_list, toupper(trimws(j)))\n",
    "      my_diags = c(my_diags, toupper(trimws(j)))\n",
    "    }\n",
    "  } else{\n",
    "    diags = strsplit(diagnoses[i,'Cardiac.Diagnoses'],\", \")\n",
    "    for(j in diags){\n",
    "      diag_list = c(diag_list, toupper(trimws(j)))\n",
    "      my_diags = c(my_diags, toupper(trimws(j)))\n",
    "    }\n",
    "  }\n",
    "  \n",
    "  df = data.frame(Blinded.ID = rep(my_id, length(my_diags)), DIAGNOSES = my_diags)\n",
    "  diag_df = rbind(diag_df, df)\n",
    "  \n",
    "}\n",
    "\n",
    "head(diag_df)"
   ]
  },
  {
   "cell_type": "code",
   "execution_count": 4,
   "metadata": {},
   "outputs": [
    {
     "data": {
      "text/html": [
       "<table>\n",
       "<thead><tr><th></th><th scope=col>Blinded.ID</th><th scope=col>DIAGNOSES</th><th scope=col>Category</th></tr></thead>\n",
       "<tbody>\n",
       "\t<tr><th scope=row>4</th><td>1-01074                              </td><td>AORTIC STENOSIS AND REGURGITATION    </td><td>Semilunar valvular                   </td></tr>\n",
       "\t<tr><th scope=row>7</th><td>1-03156                              </td><td>TETRALOGY OF FALLOT                  </td><td>Conotruncal (septation and spiraling)</td></tr>\n",
       "\t<tr><th scope=row>13</th><td>1-05629                              </td><td>AORTIC REGURGITATION                 </td><td>Semilunar valvular                   </td></tr>\n",
       "\t<tr><th scope=row>16</th><td>1-06450                              </td><td>TETRALOGY OF FALLOT                  </td><td>Conotruncal (septation and spiraling)</td></tr>\n",
       "\t<tr><th scope=row>20</th><td>1-07571                              </td><td>TETRALOGY OF FALLOT                  </td><td>Conotruncal (septation and spiraling)</td></tr>\n",
       "\t<tr><th scope=row>24</th><td>1-09580                              </td><td>TETRALOGY OF FALLOT                  </td><td>Conotruncal (septation and spiraling)</td></tr>\n",
       "</tbody>\n",
       "</table>\n"
      ],
      "text/latex": [
       "\\begin{tabular}{r|lll}\n",
       "  & Blinded.ID & DIAGNOSES & Category\\\\\n",
       "\\hline\n",
       "\t4 & 1-01074                               & AORTIC STENOSIS AND REGURGITATION     & Semilunar valvular                   \\\\\n",
       "\t7 & 1-03156                               & TETRALOGY OF FALLOT                   & Conotruncal (septation and spiraling)\\\\\n",
       "\t13 & 1-05629                               & AORTIC REGURGITATION                  & Semilunar valvular                   \\\\\n",
       "\t16 & 1-06450                               & TETRALOGY OF FALLOT                   & Conotruncal (septation and spiraling)\\\\\n",
       "\t20 & 1-07571                               & TETRALOGY OF FALLOT                   & Conotruncal (septation and spiraling)\\\\\n",
       "\t24 & 1-09580                               & TETRALOGY OF FALLOT                   & Conotruncal (septation and spiraling)\\\\\n",
       "\\end{tabular}\n"
      ],
      "text/markdown": [
       "\n",
       "| <!--/--> | Blinded.ID | DIAGNOSES | Category |\n",
       "|---|---|---|---|\n",
       "| 4 | 1-01074                               | AORTIC STENOSIS AND REGURGITATION     | Semilunar valvular                    |\n",
       "| 7 | 1-03156                               | TETRALOGY OF FALLOT                   | Conotruncal (septation and spiraling) |\n",
       "| 13 | 1-05629                               | AORTIC REGURGITATION                  | Semilunar valvular                    |\n",
       "| 16 | 1-06450                               | TETRALOGY OF FALLOT                   | Conotruncal (septation and spiraling) |\n",
       "| 20 | 1-07571                               | TETRALOGY OF FALLOT                   | Conotruncal (septation and spiraling) |\n",
       "| 24 | 1-09580                               | TETRALOGY OF FALLOT                   | Conotruncal (septation and spiraling) |\n",
       "\n"
      ],
      "text/plain": [
       "   Blinded.ID DIAGNOSES                        \n",
       "4  1-01074    AORTIC STENOSIS AND REGURGITATION\n",
       "7  1-03156    TETRALOGY OF FALLOT              \n",
       "13 1-05629    AORTIC REGURGITATION             \n",
       "16 1-06450    TETRALOGY OF FALLOT              \n",
       "20 1-07571    TETRALOGY OF FALLOT              \n",
       "24 1-09580    TETRALOGY OF FALLOT              \n",
       "   Category                             \n",
       "4  Semilunar valvular                   \n",
       "7  Conotruncal (septation and spiraling)\n",
       "13 Semilunar valvular                   \n",
       "16 Conotruncal (septation and spiraling)\n",
       "20 Conotruncal (septation and spiraling)\n",
       "24 Conotruncal (septation and spiraling)"
      ]
     },
     "metadata": {},
     "output_type": "display_data"
    }
   ],
   "source": [
    "# Merge with refined categories\n",
    "diag_df$Category = categories$CATEGORY[match(diag_df$DIAGNOSES, categories$DIAGNOSES)]\n",
    "diag_df = diag_df[complete.cases(diag_df), ]\n",
    "head(diag_df)"
   ]
  },
  {
   "cell_type": "code",
   "execution_count": 5,
   "metadata": {},
   "outputs": [
    {
     "data": {
      "text/html": [
       "<table>\n",
       "<thead><tr><th scope=col>Blinded.ID</th><th scope=col>interactome_dnv_count</th></tr></thead>\n",
       "<tbody>\n",
       "\t<tr><td>1-00005</td><td>0      </td></tr>\n",
       "\t<tr><td>1-00009</td><td>0      </td></tr>\n",
       "\t<tr><td>1-00018</td><td>0      </td></tr>\n",
       "\t<tr><td>1-00030</td><td>0      </td></tr>\n",
       "\t<tr><td>1-00045</td><td>0      </td></tr>\n",
       "\t<tr><td>1-00057</td><td>0      </td></tr>\n",
       "</tbody>\n",
       "</table>\n"
      ],
      "text/latex": [
       "\\begin{tabular}{r|ll}\n",
       " Blinded.ID & interactome\\_dnv\\_count\\\\\n",
       "\\hline\n",
       "\t 1-00005 & 0      \\\\\n",
       "\t 1-00009 & 0      \\\\\n",
       "\t 1-00018 & 0      \\\\\n",
       "\t 1-00030 & 0      \\\\\n",
       "\t 1-00045 & 0      \\\\\n",
       "\t 1-00057 & 0      \\\\\n",
       "\\end{tabular}\n"
      ],
      "text/markdown": [
       "\n",
       "| Blinded.ID | interactome_dnv_count |\n",
       "|---|---|\n",
       "| 1-00005 | 0       |\n",
       "| 1-00009 | 0       |\n",
       "| 1-00018 | 0       |\n",
       "| 1-00030 | 0       |\n",
       "| 1-00045 | 0       |\n",
       "| 1-00057 | 0       |\n",
       "\n"
      ],
      "text/plain": [
       "  Blinded.ID interactome_dnv_count\n",
       "1 1-00005    0                    \n",
       "2 1-00009    0                    \n",
       "3 1-00018    0                    \n",
       "4 1-00030    0                    \n",
       "5 1-00045    0                    \n",
       "6 1-00057    0                    "
      ]
     },
     "metadata": {},
     "output_type": "display_data"
    }
   ],
   "source": [
    "# Find the number of de novo mutations each proband has in interactome genes\n",
    "gene_table = read.table(\"../intermediate/interactome_lists/GATA4-TBX5_genes.txt\", \n",
    "                        stringsAsFactors = FALSE)\n",
    "interactome = gene_table$V1\n",
    "\n",
    "dnv_cases = read.csv('../data/variants/DNV_cases_v10v11.csv', stringsAsFactors = FALSE)\n",
    "dnv_ctrls = read.csv('../data/variants/DNV_ctrls.csv', stringsAsFactors = FALSE)\n",
    "\n",
    "dnv_cases = dnv_cases[which(dnv_cases$Variant.Class != 'syn'),]\n",
    "dnv_ctrls = dnv_ctrls[which(dnv_ctrls$Variant.Class != 'syn'),]\n",
    "\n",
    "dnv_cases$interactome <- ifelse(dnv_cases$Gene %in% interactome, 1, 0)\n",
    "dnv_ctrls$interactome <- ifelse(dnv_ctrls$Gene %in% interactome, 1, 0)\n",
    "\n",
    "case_var_count = aggregate(dnv_cases$interactome, by=list(Category=dnv_cases$Blinded.ID), \n",
    "                           FUN=sum)\n",
    "ctrl_var_count = aggregate(dnv_ctrls$interactome, by=list(Category=dnv_ctrls$Blinded.ID), \n",
    "                           FUN=sum)\n",
    "\n",
    "var_count = rbind(case_var_count, ctrl_var_count)\n",
    "names(var_count) = c(\"Blinded.ID\",\"interactome_dnv_count\")\n",
    "head(var_count)"
   ]
  },
  {
   "cell_type": "code",
   "execution_count": 7,
   "metadata": {},
   "outputs": [
    {
     "data": {
      "text/html": [
       "<table>\n",
       "<thead><tr><th scope=col>Blinded.ID</th><th scope=col>interactome_dnv_count</th><th scope=col>Semilunar valvular</th><th scope=col>Conotruncal (septation and spiraling)</th><th scope=col>Single Ventricle Defect</th><th scope=col>Septation</th><th scope=col>AV valvular</th><th scope=col>Arterial vascular anomaly</th><th scope=col>Coronary anomaly</th><th scope=col>Situs (Van Praag/Anderson)</th><th scope=col>Venous vascular anomaly</th><th scope=col>AV Canal</th><th scope=col>L/R Asymmetry</th><th scope=col>Misc</th><th scope=col>Cardiomyopathy</th></tr></thead>\n",
       "<tbody>\n",
       "\t<tr><td>1-00005</td><td>0      </td><td>0      </td><td>1      </td><td>0      </td><td>1      </td><td>0      </td><td>1      </td><td>0      </td><td>0      </td><td>0      </td><td>0      </td><td>0      </td><td>0      </td><td>0      </td></tr>\n",
       "\t<tr><td>1-00009</td><td>0      </td><td>1      </td><td>1      </td><td>1      </td><td>0      </td><td>0      </td><td>0      </td><td>0      </td><td>1      </td><td>0      </td><td>0      </td><td>0      </td><td>0      </td><td>0      </td></tr>\n",
       "\t<tr><td>1-00018</td><td>0      </td><td>1      </td><td>0      </td><td>1      </td><td>1      </td><td>1      </td><td>1      </td><td>0      </td><td>0      </td><td>1      </td><td>0      </td><td>0      </td><td>0      </td><td>0      </td></tr>\n",
       "\t<tr><td>1-00030</td><td>0      </td><td>1      </td><td>0      </td><td>1      </td><td>1      </td><td>1      </td><td>1      </td><td>0      </td><td>0      </td><td>0      </td><td>0      </td><td>0      </td><td>0      </td><td>0      </td></tr>\n",
       "\t<tr><td>1-00045</td><td>0      </td><td>1      </td><td>1      </td><td>0      </td><td>0      </td><td>0      </td><td>0      </td><td>0      </td><td>0      </td><td>0      </td><td>0      </td><td>0      </td><td>0      </td><td>0      </td></tr>\n",
       "\t<tr><td>1-00057</td><td>0      </td><td>0      </td><td>1      </td><td>0      </td><td>1      </td><td>0      </td><td>0      </td><td>0      </td><td>0      </td><td>0      </td><td>0      </td><td>0      </td><td>0      </td><td>0      </td></tr>\n",
       "</tbody>\n",
       "</table>\n"
      ],
      "text/latex": [
       "\\begin{tabular}{r|lllllllllllllll}\n",
       " Blinded.ID & interactome\\_dnv\\_count & Semilunar valvular & Conotruncal (septation and spiraling) & Single Ventricle Defect & Septation & AV valvular & Arterial vascular anomaly & Coronary anomaly & Situs (Van Praag/Anderson) & Venous vascular anomaly & AV Canal & L/R Asymmetry & Misc & Cardiomyopathy\\\\\n",
       "\\hline\n",
       "\t 1-00005 & 0       & 0       & 1       & 0       & 1       & 0       & 1       & 0       & 0       & 0       & 0       & 0       & 0       & 0      \\\\\n",
       "\t 1-00009 & 0       & 1       & 1       & 1       & 0       & 0       & 0       & 0       & 1       & 0       & 0       & 0       & 0       & 0      \\\\\n",
       "\t 1-00018 & 0       & 1       & 0       & 1       & 1       & 1       & 1       & 0       & 0       & 1       & 0       & 0       & 0       & 0      \\\\\n",
       "\t 1-00030 & 0       & 1       & 0       & 1       & 1       & 1       & 1       & 0       & 0       & 0       & 0       & 0       & 0       & 0      \\\\\n",
       "\t 1-00045 & 0       & 1       & 1       & 0       & 0       & 0       & 0       & 0       & 0       & 0       & 0       & 0       & 0       & 0      \\\\\n",
       "\t 1-00057 & 0       & 0       & 1       & 0       & 1       & 0       & 0       & 0       & 0       & 0       & 0       & 0       & 0       & 0      \\\\\n",
       "\\end{tabular}\n"
      ],
      "text/markdown": [
       "\n",
       "| Blinded.ID | interactome_dnv_count | Semilunar valvular | Conotruncal (septation and spiraling) | Single Ventricle Defect | Septation | AV valvular | Arterial vascular anomaly | Coronary anomaly | Situs (Van Praag/Anderson) | Venous vascular anomaly | AV Canal | L/R Asymmetry | Misc | Cardiomyopathy |\n",
       "|---|---|---|---|---|---|---|---|---|---|---|---|---|---|---|\n",
       "| 1-00005 | 0       | 0       | 1       | 0       | 1       | 0       | 1       | 0       | 0       | 0       | 0       | 0       | 0       | 0       |\n",
       "| 1-00009 | 0       | 1       | 1       | 1       | 0       | 0       | 0       | 0       | 1       | 0       | 0       | 0       | 0       | 0       |\n",
       "| 1-00018 | 0       | 1       | 0       | 1       | 1       | 1       | 1       | 0       | 0       | 1       | 0       | 0       | 0       | 0       |\n",
       "| 1-00030 | 0       | 1       | 0       | 1       | 1       | 1       | 1       | 0       | 0       | 0       | 0       | 0       | 0       | 0       |\n",
       "| 1-00045 | 0       | 1       | 1       | 0       | 0       | 0       | 0       | 0       | 0       | 0       | 0       | 0       | 0       | 0       |\n",
       "| 1-00057 | 0       | 0       | 1       | 0       | 1       | 0       | 0       | 0       | 0       | 0       | 0       | 0       | 0       | 0       |\n",
       "\n"
      ],
      "text/plain": [
       "  Blinded.ID interactome_dnv_count Semilunar valvular\n",
       "1 1-00005    0                     0                 \n",
       "2 1-00009    0                     1                 \n",
       "3 1-00018    0                     1                 \n",
       "4 1-00030    0                     1                 \n",
       "5 1-00045    0                     1                 \n",
       "6 1-00057    0                     0                 \n",
       "  Conotruncal (septation and spiraling) Single Ventricle Defect Septation\n",
       "1 1                                     0                       1        \n",
       "2 1                                     1                       0        \n",
       "3 0                                     1                       1        \n",
       "4 0                                     1                       1        \n",
       "5 1                                     0                       0        \n",
       "6 1                                     0                       1        \n",
       "  AV valvular Arterial vascular anomaly Coronary anomaly\n",
       "1 0           1                         0               \n",
       "2 0           0                         0               \n",
       "3 1           1                         0               \n",
       "4 1           1                         0               \n",
       "5 0           0                         0               \n",
       "6 0           0                         0               \n",
       "  Situs (Van Praag/Anderson) Venous vascular anomaly AV Canal L/R Asymmetry\n",
       "1 0                          0                       0        0            \n",
       "2 1                          0                       0        0            \n",
       "3 0                          1                       0        0            \n",
       "4 0                          0                       0        0            \n",
       "5 0                          0                       0        0            \n",
       "6 0                          0                       0        0            \n",
       "  Misc Cardiomyopathy\n",
       "1 0    0             \n",
       "2 0    0             \n",
       "3 0    0             \n",
       "4 0    0             \n",
       "5 0    0             \n",
       "6 0    0             "
      ]
     },
     "metadata": {},
     "output_type": "display_data"
    }
   ],
   "source": [
    "# Append dummy variable columns based on diagnoses of each blinded ID\n",
    "variable_list = unique(diag_df$Category)\n",
    "\n",
    "variable_test = head(variable_list)\n",
    "for(diagnosis in variable_list){\n",
    "  var_count[,diagnosis] = 0\n",
    "  \n",
    "  focal_df = diag_df[which(diag_df$Category == diagnosis),]\n",
    "  var_count[which(var_count$Blinded.ID %in% focal_df$Blinded.ID), diagnosis] <- 1\n",
    "  \n",
    "}\n",
    "\n",
    "# Remove Syndromic and Arrythmia categories\n",
    "var_count$`Arrhythmia/conduction defects` <- NULL\n",
    "var_count$Syndromic <- NULL\n",
    "\n",
    "head(var_count)"
   ]
  },
  {
   "cell_type": "code",
   "execution_count": 8,
   "metadata": {},
   "outputs": [
    {
     "data": {
      "text/plain": [
       "\n",
       "Call:\n",
       "glm(formula = interactome_dnv_count ~ ., family = poisson(link = \"log\"), \n",
       "    data = X)\n",
       "\n",
       "Deviance Residuals: \n",
       "    Min       1Q   Median       3Q      Max  \n",
       "-0.6076  -0.2912  -0.2275  -0.2106   3.7250  \n",
       "\n",
       "Coefficients:\n",
       "                                        Estimate Std. Error z value Pr(>|z|)\n",
       "(Intercept)                             -3.80885    0.17485 -21.784  < 2e-16\n",
       "`Arterial vascular anomaly`              0.63594    0.23251   2.735  0.00624\n",
       "Septation                                0.49362    0.22566   2.187  0.02871\n",
       "Cardiomyopathy                           0.67872    0.46820   1.450  0.14716\n",
       "`AV Canal`                               0.52439    0.42714   1.228  0.21956\n",
       "`Coronary anomaly`                       0.52275    0.40548   1.289  0.19732\n",
       "`Conotruncal (septation and spiraling)`  0.15470    0.22717   0.681  0.49588\n",
       "`L/R Asymmetry`                         -0.23663    0.62124  -0.381  0.70328\n",
       "`Venous vascular anomaly`               -0.14822    0.36072  -0.411  0.68115\n",
       "`Semilunar valvular`                     0.04467    0.24273   0.184  0.85399\n",
       "`AV valvular`                           -0.06866    0.32039  -0.214  0.83032\n",
       "`Single Ventricle Defect`               -0.05186    0.34788  -0.149  0.88150\n",
       "Misc                                    -0.18238    0.60718  -0.300  0.76389\n",
       "`Situs (Van Praag/Anderson)`            -0.02812    0.51107  -0.055  0.95612\n",
       "                                           \n",
       "(Intercept)                             ***\n",
       "`Arterial vascular anomaly`             ** \n",
       "Septation                               *  \n",
       "Cardiomyopathy                             \n",
       "`AV Canal`                                 \n",
       "`Coronary anomaly`                         \n",
       "`Conotruncal (septation and spiraling)`    \n",
       "`L/R Asymmetry`                            \n",
       "`Venous vascular anomaly`                  \n",
       "`Semilunar valvular`                       \n",
       "`AV valvular`                              \n",
       "`Single Ventricle Defect`                  \n",
       "Misc                                       \n",
       "`Situs (Van Praag/Anderson)`               \n",
       "---\n",
       "Signif. codes:  0 ‘***’ 0.001 ‘**’ 0.01 ‘*’ 0.05 ‘.’ 0.1 ‘ ’ 1\n",
       "\n",
       "(Dispersion parameter for poisson family taken to be 1)\n",
       "\n",
       "    Null deviance: 636.80  on 2633  degrees of freedom\n",
       "Residual deviance: 611.73  on 2620  degrees of freedom\n",
       "AIC: 826.96\n",
       "\n",
       "Number of Fisher Scoring iterations: 6\n"
      ]
     },
     "metadata": {},
     "output_type": "display_data"
    },
    {
     "data": {
      "text/html": [
       "<table>\n",
       "<thead><tr><th></th><th scope=col>Estimate</th><th scope=col>Std..Error</th><th scope=col>z.value</th><th scope=col>Pr...z..</th></tr></thead>\n",
       "<tbody>\n",
       "\t<tr><th scope=row>(Intercept)</th><td>-3.8088470   </td><td>0.1748459    </td><td>-21.784027   </td><td>3.288547e-105</td></tr>\n",
       "\t<tr><th scope=row>`Arterial vascular anomaly`</th><td> 0.6359357   </td><td>0.2325138    </td><td>  2.735044   </td><td> 6.237186e-03</td></tr>\n",
       "\t<tr><th scope=row>Septation</th><td> 0.4936187   </td><td>0.2256555    </td><td>  2.187487   </td><td> 2.870696e-02</td></tr>\n",
       "</tbody>\n",
       "</table>\n"
      ],
      "text/latex": [
       "\\begin{tabular}{r|llll}\n",
       "  & Estimate & Std..Error & z.value & Pr...z..\\\\\n",
       "\\hline\n",
       "\t(Intercept) & -3.8088470    & 0.1748459     & -21.784027    & 3.288547e-105\\\\\n",
       "\t`Arterial vascular anomaly` &  0.6359357    & 0.2325138     &   2.735044    &  6.237186e-03\\\\\n",
       "\tSeptation &  0.4936187    & 0.2256555     &   2.187487    &  2.870696e-02\\\\\n",
       "\\end{tabular}\n"
      ],
      "text/markdown": [
       "\n",
       "| <!--/--> | Estimate | Std..Error | z.value | Pr...z.. |\n",
       "|---|---|---|---|---|\n",
       "| (Intercept) | -3.8088470    | 0.1748459     | -21.784027    | 3.288547e-105 |\n",
       "| `Arterial vascular anomaly` |  0.6359357    | 0.2325138     |   2.735044    |  6.237186e-03 |\n",
       "| Septation |  0.4936187    | 0.2256555     |   2.187487    |  2.870696e-02 |\n",
       "\n"
      ],
      "text/plain": [
       "                            Estimate   Std..Error z.value    Pr...z..     \n",
       "(Intercept)                 -3.8088470 0.1748459  -21.784027 3.288547e-105\n",
       "`Arterial vascular anomaly`  0.6359357 0.2325138    2.735044  6.237186e-03\n",
       "Septation                    0.4936187 0.2256555    2.187487  2.870696e-02"
      ]
     },
     "metadata": {},
     "output_type": "display_data"
    }
   ],
   "source": [
    "# Order as desired and fit to a poisson model\n",
    "\n",
    "df = var_count[,c('Blinded.ID','interactome_dnv_count','Arterial vascular anomaly',\n",
    "                  'Septation','Cardiomyopathy','AV Canal', 'Coronary anomaly',\n",
    "                  'Conotruncal (septation and spiraling)','L/R Asymmetry',\n",
    "                  'Venous vascular anomaly','Semilunar valvular','AV valvular',\n",
    "                  'Single Ventricle Defect','Misc', 'Situs (Van Praag/Anderson)')]\n",
    "X = df[2:ncol(df)]\n",
    "row.names(X) = df$Blinded.ID\n",
    "poisson.model <- glm(interactome_dnv_count~., data=X, family=poisson(link=\"log\"))\n",
    "summary(poisson.model)\n",
    "\n",
    "result_df <- data.frame(summary(poisson.model)$coefficients)\n",
    "result_df[which(result_df$Pr...z.. < 0.1),]"
   ]
  },
  {
   "cell_type": "code",
   "execution_count": 9,
   "metadata": {},
   "outputs": [],
   "source": [
    "# Install packages that give conda environments grief\n",
    "\n",
    "if (! 'jtools' %in% installed.packages()[,'Package']){\n",
    "    install.packages('jtools')\n",
    "}\n",
    "\n",
    "if (! 'ggstance' %in% installed.packages()[,'Package']){\n",
    "    install.packages('ggstance')\n",
    "}"
   ]
  },
  {
   "cell_type": "code",
   "execution_count": 10,
   "metadata": {},
   "outputs": [
    {
     "name": "stderr",
     "output_type": "stream",
     "text": [
      "Registered S3 methods overwritten by 'broom':\n",
      "  method            from  \n",
      "  tidy.glht         jtools\n",
      "  tidy.summary.glht jtools\n",
      "Loading required namespace: broom.mixed\n"
     ]
    },
    {
     "data": {
      "text/html": [
       "<strong>png:</strong> 2"
      ],
      "text/latex": [
       "\\textbf{png:} 2"
      ],
      "text/markdown": [
       "**png:** 2"
      ],
      "text/plain": [
       "png \n",
       "  2 "
      ]
     },
     "metadata": {},
     "output_type": "display_data"
    }
   ],
   "source": [
    "# Visualization\n",
    "library(jtools)\n",
    "library(ggplot2)\n",
    "pdf(\"../manuscript/figures/diagnostic_category_regression_lenient-septation.pdf\")\n",
    "p <- plot_summs(poisson.model, scale = TRUE, exp=TRUE)\n",
    "p + labs(x=\"Relative Risk (95% Confidence)\")\n",
    "\n",
    "dev.off()"
   ]
  },
  {
   "cell_type": "code",
   "execution_count": 11,
   "metadata": {},
   "outputs": [
    {
     "name": "stderr",
     "output_type": "stream",
     "text": [
      "Loading required namespace: broom.mixed\n"
     ]
    },
    {
     "data": {
      "image/png": "[encoded data removed]",
      "text/plain": [
       "plot without title"
      ]
     },
     "metadata": {},
     "output_type": "display_data"
    }
   ],
   "source": [
    "p <- plot_summs(poisson.model, scale = TRUE, exp=TRUE)\n",
    "p + labs(x=\"Relative Risk (95% Confidence)\")"
   ]
  },
  {
   "cell_type": "markdown",
   "metadata": {},
   "source": [
    "### Save out data: how many probands per diagnosis? How many interactome mutations?"
   ]
  },
  {
   "cell_type": "code",
   "execution_count": 12,
   "metadata": {},
   "outputs": [
    {
     "data": {
      "text/html": [
       "<dl class=dl-horizontal>\n",
       "\t<dt>Semilunar valvular</dt>\n",
       "\t\t<dd>782</dd>\n",
       "\t<dt>Conotruncal (septation and spiraling)</dt>\n",
       "\t\t<dd>912</dd>\n",
       "\t<dt>Single Ventricle Defect</dt>\n",
       "\t\t<dd>370</dd>\n",
       "\t<dt>Septation</dt>\n",
       "\t\t<dd>893</dd>\n",
       "\t<dt>AV valvular</dt>\n",
       "\t\t<dd>436</dd>\n",
       "\t<dt>Arterial vascular anomaly</dt>\n",
       "\t\t<dd>525</dd>\n",
       "\t<dt>Coronary anomaly</dt>\n",
       "\t\t<dd>103</dd>\n",
       "\t<dt>Situs (Van Praag/Anderson)</dt>\n",
       "\t\t<dd>110</dd>\n",
       "\t<dt>Venous vascular anomaly</dt>\n",
       "\t\t<dd>266</dd>\n",
       "\t<dt>AV Canal</dt>\n",
       "\t\t<dd>114</dd>\n",
       "\t<dt>L/R Asymmetry</dt>\n",
       "\t\t<dd>96</dd>\n",
       "\t<dt>Misc</dt>\n",
       "\t\t<dd>81</dd>\n",
       "\t<dt>Cardiomyopathy</dt>\n",
       "\t\t<dd>58</dd>\n",
       "</dl>\n"
      ],
      "text/latex": [
       "\\begin{description*}\n",
       "\\item[Semilunar valvular] 782\n",
       "\\item[Conotruncal (septation and spiraling)] 912\n",
       "\\item[Single Ventricle Defect] 370\n",
       "\\item[Septation] 893\n",
       "\\item[AV valvular] 436\n",
       "\\item[Arterial vascular anomaly] 525\n",
       "\\item[Coronary anomaly] 103\n",
       "\\item[Situs (Van Praag/Anderson)] 110\n",
       "\\item[Venous vascular anomaly] 266\n",
       "\\item[AV Canal] 114\n",
       "\\item[L/R Asymmetry] 96\n",
       "\\item[Misc] 81\n",
       "\\item[Cardiomyopathy] 58\n",
       "\\end{description*}\n"
      ],
      "text/markdown": [
       "Semilunar valvular\n",
       ":   782Conotruncal (septation and spiraling)\n",
       ":   912Single Ventricle Defect\n",
       ":   370Septation\n",
       ":   893AV valvular\n",
       ":   436Arterial vascular anomaly\n",
       ":   525Coronary anomaly\n",
       ":   103Situs (Van Praag/Anderson)\n",
       ":   110Venous vascular anomaly\n",
       ":   266AV Canal\n",
       ":   114L/R Asymmetry\n",
       ":   96Misc\n",
       ":   81Cardiomyopathy\n",
       ":   58\n",
       "\n"
      ],
      "text/plain": [
       "                   Semilunar valvular Conotruncal (septation and spiraling) \n",
       "                                  782                                   912 \n",
       "              Single Ventricle Defect                             Septation \n",
       "                                  370                                   893 \n",
       "                          AV valvular             Arterial vascular anomaly \n",
       "                                  436                                   525 \n",
       "                     Coronary anomaly            Situs (Van Praag/Anderson) \n",
       "                                  103                                   110 \n",
       "              Venous vascular anomaly                              AV Canal \n",
       "                                  266                                   114 \n",
       "                        L/R Asymmetry                                  Misc \n",
       "                                   96                                    81 \n",
       "                       Cardiomyopathy \n",
       "                                   58 "
      ]
     },
     "metadata": {},
     "output_type": "display_data"
    }
   ],
   "source": [
    "n_probands = colSums(var_count[,c(3:ncol(var_count))])\n",
    "n_probands"
   ]
  },
  {
   "cell_type": "code",
   "execution_count": 13,
   "metadata": {},
   "outputs": [],
   "source": [
    "get_n_mutations <- function(diagnosis, vdf){\n",
    "    \n",
    "    dat = vdf[which(vdf[,diagnosis]==1),]\n",
    "    count = sum(dat$interactome_dnv_count)\n",
    "    \n",
    "    return(count)\n",
    "}"
   ]
  },
  {
   "cell_type": "code",
   "execution_count": 14,
   "metadata": {},
   "outputs": [
    {
     "data": {
      "text/html": [
       "<table>\n",
       "<thead><tr><th></th><th scope=col>Estimate</th><th scope=col>Std..Error</th><th scope=col>z.value</th><th scope=col>Pr...z..</th><th scope=col>Number.of.Probands</th><th scope=col>Total.Interactome.Mutations</th></tr></thead>\n",
       "<tbody>\n",
       "\t<tr><th scope=row>(Intercept)</th><td>-3.80884703  </td><td>0.1748459    </td><td>-21.7840274  </td><td>3.288547e-105</td><td>NA           </td><td>NA           </td></tr>\n",
       "\t<tr><th scope=row>`Arterial vascular anomaly`</th><td> 0.63593567  </td><td>0.2325138    </td><td>  2.7350444  </td><td> 6.237186e-03</td><td>525          </td><td>34           </td></tr>\n",
       "\t<tr><th scope=row>Septation</th><td> 0.49361866  </td><td>0.2256555    </td><td>  2.1874874  </td><td> 2.870696e-02</td><td>893          </td><td>48           </td></tr>\n",
       "\t<tr><th scope=row>Cardiomyopathy</th><td> 0.67871573  </td><td>0.4681972    </td><td>  1.4496365  </td><td> 1.471599e-01</td><td>58           </td><td>5            </td></tr>\n",
       "\t<tr><th scope=row>`AV Canal`</th><td> 0.52439306  </td><td>0.4271393    </td><td>  1.2276864  </td><td> 2.195647e-01</td><td>114          </td><td>7            </td></tr>\n",
       "\t<tr><th scope=row>`Coronary anomaly`</th><td> 0.52275238  </td><td>0.4054766    </td><td>  1.2892294  </td><td> 1.973183e-01</td><td>103          </td><td>7            </td></tr>\n",
       "\t<tr><th scope=row>`Conotruncal (septation and spiraling)`</th><td> 0.15470045  </td><td>0.2271737    </td><td>  0.6809788  </td><td> 4.958849e-01</td><td>912          </td><td>42           </td></tr>\n",
       "\t<tr><th scope=row>`L/R Asymmetry`</th><td>-0.23662757  </td><td>0.6212351    </td><td> -0.3808986  </td><td> 7.032785e-01</td><td>96           </td><td>4            </td></tr>\n",
       "\t<tr><th scope=row>`Venous vascular anomaly`</th><td>-0.14821547  </td><td>0.3607180    </td><td> -0.4108902  </td><td> 6.811531e-01</td><td>266          </td><td>11           </td></tr>\n",
       "\t<tr><th scope=row>`Semilunar valvular`</th><td> 0.04466967  </td><td>0.2427254    </td><td>  0.1840338  </td><td> 8.539870e-01</td><td>782          </td><td>36           </td></tr>\n",
       "\t<tr><th scope=row>`AV valvular`</th><td>-0.06865553  </td><td>0.3203877    </td><td> -0.2142889  </td><td> 8.303218e-01</td><td>436          </td><td>19           </td></tr>\n",
       "\t<tr><th scope=row>`Single Ventricle Defect`</th><td>-0.05185776  </td><td>0.3478793    </td><td> -0.1490683  </td><td> 8.814998e-01</td><td>370          </td><td>16           </td></tr>\n",
       "\t<tr><th scope=row>Misc</th><td>-0.18238113  </td><td>0.6071805    </td><td> -0.3003738  </td><td> 7.638920e-01</td><td>81           </td><td>3            </td></tr>\n",
       "\t<tr><th scope=row>`Situs (Van Praag/Anderson)`</th><td>-0.02811874  </td><td>0.5110667    </td><td> -0.0550197  </td><td> 9.561228e-01</td><td>110          </td><td>5            </td></tr>\n",
       "</tbody>\n",
       "</table>\n"
      ],
      "text/latex": [
       "\\begin{tabular}{r|llllll}\n",
       "  & Estimate & Std..Error & z.value & Pr...z.. & Number.of.Probands & Total.Interactome.Mutations\\\\\n",
       "\\hline\n",
       "\t(Intercept) & -3.80884703   & 0.1748459     & -21.7840274   & 3.288547e-105 & NA            & NA           \\\\\n",
       "\t`Arterial vascular anomaly` &  0.63593567   & 0.2325138     &   2.7350444   &  6.237186e-03 & 525           & 34           \\\\\n",
       "\tSeptation &  0.49361866   & 0.2256555     &   2.1874874   &  2.870696e-02 & 893           & 48           \\\\\n",
       "\tCardiomyopathy &  0.67871573   & 0.4681972     &   1.4496365   &  1.471599e-01 & 58            & 5            \\\\\n",
       "\t`AV Canal` &  0.52439306   & 0.4271393     &   1.2276864   &  2.195647e-01 & 114           & 7            \\\\\n",
       "\t`Coronary anomaly` &  0.52275238   & 0.4054766     &   1.2892294   &  1.973183e-01 & 103           & 7            \\\\\n",
       "\t`Conotruncal (septation and spiraling)` &  0.15470045   & 0.2271737     &   0.6809788   &  4.958849e-01 & 912           & 42           \\\\\n",
       "\t`L/R Asymmetry` & -0.23662757   & 0.6212351     &  -0.3808986   &  7.032785e-01 & 96            & 4            \\\\\n",
       "\t`Venous vascular anomaly` & -0.14821547   & 0.3607180     &  -0.4108902   &  6.811531e-01 & 266           & 11           \\\\\n",
       "\t`Semilunar valvular` &  0.04466967   & 0.2427254     &   0.1840338   &  8.539870e-01 & 782           & 36           \\\\\n",
       "\t`AV valvular` & -0.06865553   & 0.3203877     &  -0.2142889   &  8.303218e-01 & 436           & 19           \\\\\n",
       "\t`Single Ventricle Defect` & -0.05185776   & 0.3478793     &  -0.1490683   &  8.814998e-01 & 370           & 16           \\\\\n",
       "\tMisc & -0.18238113   & 0.6071805     &  -0.3003738   &  7.638920e-01 & 81            & 3            \\\\\n",
       "\t`Situs (Van Praag/Anderson)` & -0.02811874   & 0.5110667     &  -0.0550197   &  9.561228e-01 & 110           & 5            \\\\\n",
       "\\end{tabular}\n"
      ],
      "text/markdown": [
       "\n",
       "| <!--/--> | Estimate | Std..Error | z.value | Pr...z.. | Number.of.Probands | Total.Interactome.Mutations |\n",
       "|---|---|---|---|---|---|---|\n",
       "| (Intercept) | -3.80884703   | 0.1748459     | -21.7840274   | 3.288547e-105 | NA            | NA            |\n",
       "| `Arterial vascular anomaly` |  0.63593567   | 0.2325138     |   2.7350444   |  6.237186e-03 | 525           | 34            |\n",
       "| Septation |  0.49361866   | 0.2256555     |   2.1874874   |  2.870696e-02 | 893           | 48            |\n",
       "| Cardiomyopathy |  0.67871573   | 0.4681972     |   1.4496365   |  1.471599e-01 | 58            | 5             |\n",
       "| `AV Canal` |  0.52439306   | 0.4271393     |   1.2276864   |  2.195647e-01 | 114           | 7             |\n",
       "| `Coronary anomaly` |  0.52275238   | 0.4054766     |   1.2892294   |  1.973183e-01 | 103           | 7             |\n",
       "| `Conotruncal (septation and spiraling)` |  0.15470045   | 0.2271737     |   0.6809788   |  4.958849e-01 | 912           | 42            |\n",
       "| `L/R Asymmetry` | -0.23662757   | 0.6212351     |  -0.3808986   |  7.032785e-01 | 96            | 4             |\n",
       "| `Venous vascular anomaly` | -0.14821547   | 0.3607180     |  -0.4108902   |  6.811531e-01 | 266           | 11            |\n",
       "| `Semilunar valvular` |  0.04466967   | 0.2427254     |   0.1840338   |  8.539870e-01 | 782           | 36            |\n",
       "| `AV valvular` | -0.06865553   | 0.3203877     |  -0.2142889   |  8.303218e-01 | 436           | 19            |\n",
       "| `Single Ventricle Defect` | -0.05185776   | 0.3478793     |  -0.1490683   |  8.814998e-01 | 370           | 16            |\n",
       "| Misc | -0.18238113   | 0.6071805     |  -0.3003738   |  7.638920e-01 | 81            | 3             |\n",
       "| `Situs (Van Praag/Anderson)` | -0.02811874   | 0.5110667     |  -0.0550197   |  9.561228e-01 | 110           | 5             |\n",
       "\n"
      ],
      "text/plain": [
       "                                        Estimate    Std..Error z.value    \n",
       "(Intercept)                             -3.80884703 0.1748459  -21.7840274\n",
       "`Arterial vascular anomaly`              0.63593567 0.2325138    2.7350444\n",
       "Septation                                0.49361866 0.2256555    2.1874874\n",
       "Cardiomyopathy                           0.67871573 0.4681972    1.4496365\n",
       "`AV Canal`                               0.52439306 0.4271393    1.2276864\n",
       "`Coronary anomaly`                       0.52275238 0.4054766    1.2892294\n",
       "`Conotruncal (septation and spiraling)`  0.15470045 0.2271737    0.6809788\n",
       "`L/R Asymmetry`                         -0.23662757 0.6212351   -0.3808986\n",
       "`Venous vascular anomaly`               -0.14821547 0.3607180   -0.4108902\n",
       "`Semilunar valvular`                     0.04466967 0.2427254    0.1840338\n",
       "`AV valvular`                           -0.06865553 0.3203877   -0.2142889\n",
       "`Single Ventricle Defect`               -0.05185776 0.3478793   -0.1490683\n",
       "Misc                                    -0.18238113 0.6071805   -0.3003738\n",
       "`Situs (Van Praag/Anderson)`            -0.02811874 0.5110667   -0.0550197\n",
       "                                        Pr...z..      Number.of.Probands\n",
       "(Intercept)                             3.288547e-105 NA                \n",
       "`Arterial vascular anomaly`              6.237186e-03 525               \n",
       "Septation                                2.870696e-02 893               \n",
       "Cardiomyopathy                           1.471599e-01 58                \n",
       "`AV Canal`                               2.195647e-01 114               \n",
       "`Coronary anomaly`                       1.973183e-01 103               \n",
       "`Conotruncal (septation and spiraling)`  4.958849e-01 912               \n",
       "`L/R Asymmetry`                          7.032785e-01 96                \n",
       "`Venous vascular anomaly`                6.811531e-01 266               \n",
       "`Semilunar valvular`                     8.539870e-01 782               \n",
       "`AV valvular`                            8.303218e-01 436               \n",
       "`Single Ventricle Defect`                8.814998e-01 370               \n",
       "Misc                                     7.638920e-01 81                \n",
       "`Situs (Van Praag/Anderson)`             9.561228e-01 110               \n",
       "                                        Total.Interactome.Mutations\n",
       "(Intercept)                             NA                         \n",
       "`Arterial vascular anomaly`             34                         \n",
       "Septation                               48                         \n",
       "Cardiomyopathy                          5                          \n",
       "`AV Canal`                              7                          \n",
       "`Coronary anomaly`                      7                          \n",
       "`Conotruncal (septation and spiraling)` 42                         \n",
       "`L/R Asymmetry`                         4                          \n",
       "`Venous vascular anomaly`               11                         \n",
       "`Semilunar valvular`                    36                         \n",
       "`AV valvular`                           19                         \n",
       "`Single Ventricle Defect`               16                         \n",
       "Misc                                    3                          \n",
       "`Situs (Van Praag/Anderson)`            5                          "
      ]
     },
     "metadata": {},
     "output_type": "display_data"
    }
   ],
   "source": [
    "result_df$Number.of.Probands = 'NA'\n",
    "result_df$Total.Interactome.Mutations = 'NA'\n",
    "\n",
    "for (i in c(2:nrow(result_df))){\n",
    "    diagnosis = gsub('`','',row.names(result_df)[i])\n",
    "    result_df[i,'Number.of.Probands'] = n_probands[diagnosis]\n",
    "    result_df[i,'Total.Interactome.Mutations'] = get_n_mutations(diagnosis,var_count)\n",
    "}\n",
    "result_df"
   ]
  },
  {
   "cell_type": "code",
   "execution_count": 15,
   "metadata": {},
   "outputs": [
    {
     "data": {
      "text/html": [
       "<table>\n",
       "<thead><tr><th></th><th scope=col>Estimate</th><th scope=col>Std..Error</th><th scope=col>z.value</th><th scope=col>Pr...z..</th><th scope=col>Number.of.Probands</th><th scope=col>Total.Interactome.Mutations</th><th scope=col>Relative.Risk</th></tr></thead>\n",
       "<tbody>\n",
       "\t<tr><th scope=row>(Intercept)</th><td>-3.80884703  </td><td>0.1748459    </td><td>-21.7840274  </td><td>3.288547e-105</td><td>NA           </td><td>NA           </td><td>0.02217373   </td></tr>\n",
       "\t<tr><th scope=row>`Arterial vascular anomaly`</th><td> 0.63593567  </td><td>0.2325138    </td><td>  2.7350444  </td><td> 6.237186e-03</td><td>525          </td><td>34           </td><td>1.88878860   </td></tr>\n",
       "\t<tr><th scope=row>Septation</th><td> 0.49361866  </td><td>0.2256555    </td><td>  2.1874874  </td><td> 2.870696e-02</td><td>893          </td><td>48           </td><td>1.63823372   </td></tr>\n",
       "\t<tr><th scope=row>Cardiomyopathy</th><td> 0.67871573  </td><td>0.4681972    </td><td>  1.4496365  </td><td> 1.471599e-01</td><td>58           </td><td>5            </td><td>1.97134437   </td></tr>\n",
       "\t<tr><th scope=row>`AV Canal`</th><td> 0.52439306  </td><td>0.4271393    </td><td>  1.2276864  </td><td> 2.195647e-01</td><td>114          </td><td>7            </td><td>1.68943315   </td></tr>\n",
       "\t<tr><th scope=row>`Coronary anomaly`</th><td> 0.52275238  </td><td>0.4054766    </td><td>  1.2892294  </td><td> 1.973183e-01</td><td>103          </td><td>7            </td><td>1.68666361   </td></tr>\n",
       "\t<tr><th scope=row>`Conotruncal (septation and spiraling)`</th><td> 0.15470045  </td><td>0.2271737    </td><td>  0.6809788  </td><td> 4.958849e-01</td><td>912          </td><td>42           </td><td>1.16730824   </td></tr>\n",
       "\t<tr><th scope=row>`L/R Asymmetry`</th><td>-0.23662757  </td><td>0.6212351    </td><td> -0.3808986  </td><td> 7.032785e-01</td><td>96           </td><td>4            </td><td>0.78928518   </td></tr>\n",
       "\t<tr><th scope=row>`Venous vascular anomaly`</th><td>-0.14821547  </td><td>0.3607180    </td><td> -0.4108902  </td><td> 6.811531e-01</td><td>266          </td><td>11           </td><td>0.86224530   </td></tr>\n",
       "\t<tr><th scope=row>`Semilunar valvular`</th><td> 0.04466967  </td><td>0.2427254    </td><td>  0.1840338  </td><td> 8.539870e-01</td><td>782          </td><td>36           </td><td>1.04568238   </td></tr>\n",
       "\t<tr><th scope=row>`AV valvular`</th><td>-0.06865553  </td><td>0.3203877    </td><td> -0.2142889  </td><td> 8.303218e-01</td><td>436          </td><td>19           </td><td>0.93364824   </td></tr>\n",
       "\t<tr><th scope=row>`Single Ventricle Defect`</th><td>-0.05185776  </td><td>0.3478793    </td><td> -0.1490683  </td><td> 8.814998e-01</td><td>370          </td><td>16           </td><td>0.94946391   </td></tr>\n",
       "\t<tr><th scope=row>Misc</th><td>-0.18238113  </td><td>0.6071805    </td><td> -0.3003738  </td><td> 7.638920e-01</td><td>81           </td><td>3            </td><td>0.83328369   </td></tr>\n",
       "\t<tr><th scope=row>`Situs (Van Praag/Anderson)`</th><td>-0.02811874  </td><td>0.5110667    </td><td> -0.0550197  </td><td> 9.561228e-01</td><td>110          </td><td>5            </td><td>0.97227291   </td></tr>\n",
       "</tbody>\n",
       "</table>\n"
      ],
      "text/latex": [
       "\\begin{tabular}{r|lllllll}\n",
       "  & Estimate & Std..Error & z.value & Pr...z.. & Number.of.Probands & Total.Interactome.Mutations & Relative.Risk\\\\\n",
       "\\hline\n",
       "\t(Intercept) & -3.80884703   & 0.1748459     & -21.7840274   & 3.288547e-105 & NA            & NA            & 0.02217373   \\\\\n",
       "\t`Arterial vascular anomaly` &  0.63593567   & 0.2325138     &   2.7350444   &  6.237186e-03 & 525           & 34            & 1.88878860   \\\\\n",
       "\tSeptation &  0.49361866   & 0.2256555     &   2.1874874   &  2.870696e-02 & 893           & 48            & 1.63823372   \\\\\n",
       "\tCardiomyopathy &  0.67871573   & 0.4681972     &   1.4496365   &  1.471599e-01 & 58            & 5             & 1.97134437   \\\\\n",
       "\t`AV Canal` &  0.52439306   & 0.4271393     &   1.2276864   &  2.195647e-01 & 114           & 7             & 1.68943315   \\\\\n",
       "\t`Coronary anomaly` &  0.52275238   & 0.4054766     &   1.2892294   &  1.973183e-01 & 103           & 7             & 1.68666361   \\\\\n",
       "\t`Conotruncal (septation and spiraling)` &  0.15470045   & 0.2271737     &   0.6809788   &  4.958849e-01 & 912           & 42            & 1.16730824   \\\\\n",
       "\t`L/R Asymmetry` & -0.23662757   & 0.6212351     &  -0.3808986   &  7.032785e-01 & 96            & 4             & 0.78928518   \\\\\n",
       "\t`Venous vascular anomaly` & -0.14821547   & 0.3607180     &  -0.4108902   &  6.811531e-01 & 266           & 11            & 0.86224530   \\\\\n",
       "\t`Semilunar valvular` &  0.04466967   & 0.2427254     &   0.1840338   &  8.539870e-01 & 782           & 36            & 1.04568238   \\\\\n",
       "\t`AV valvular` & -0.06865553   & 0.3203877     &  -0.2142889   &  8.303218e-01 & 436           & 19            & 0.93364824   \\\\\n",
       "\t`Single Ventricle Defect` & -0.05185776   & 0.3478793     &  -0.1490683   &  8.814998e-01 & 370           & 16            & 0.94946391   \\\\\n",
       "\tMisc & -0.18238113   & 0.6071805     &  -0.3003738   &  7.638920e-01 & 81            & 3             & 0.83328369   \\\\\n",
       "\t`Situs (Van Praag/Anderson)` & -0.02811874   & 0.5110667     &  -0.0550197   &  9.561228e-01 & 110           & 5             & 0.97227291   \\\\\n",
       "\\end{tabular}\n"
      ],
      "text/markdown": [
       "\n",
       "| <!--/--> | Estimate | Std..Error | z.value | Pr...z.. | Number.of.Probands | Total.Interactome.Mutations | Relative.Risk |\n",
       "|---|---|---|---|---|---|---|---|\n",
       "| (Intercept) | -3.80884703   | 0.1748459     | -21.7840274   | 3.288547e-105 | NA            | NA            | 0.02217373    |\n",
       "| `Arterial vascular anomaly` |  0.63593567   | 0.2325138     |   2.7350444   |  6.237186e-03 | 525           | 34            | 1.88878860    |\n",
       "| Septation |  0.49361866   | 0.2256555     |   2.1874874   |  2.870696e-02 | 893           | 48            | 1.63823372    |\n",
       "| Cardiomyopathy |  0.67871573   | 0.4681972     |   1.4496365   |  1.471599e-01 | 58            | 5             | 1.97134437    |\n",
       "| `AV Canal` |  0.52439306   | 0.4271393     |   1.2276864   |  2.195647e-01 | 114           | 7             | 1.68943315    |\n",
       "| `Coronary anomaly` |  0.52275238   | 0.4054766     |   1.2892294   |  1.973183e-01 | 103           | 7             | 1.68666361    |\n",
       "| `Conotruncal (septation and spiraling)` |  0.15470045   | 0.2271737     |   0.6809788   |  4.958849e-01 | 912           | 42            | 1.16730824    |\n",
       "| `L/R Asymmetry` | -0.23662757   | 0.6212351     |  -0.3808986   |  7.032785e-01 | 96            | 4             | 0.78928518    |\n",
       "| `Venous vascular anomaly` | -0.14821547   | 0.3607180     |  -0.4108902   |  6.811531e-01 | 266           | 11            | 0.86224530    |\n",
       "| `Semilunar valvular` |  0.04466967   | 0.2427254     |   0.1840338   |  8.539870e-01 | 782           | 36            | 1.04568238    |\n",
       "| `AV valvular` | -0.06865553   | 0.3203877     |  -0.2142889   |  8.303218e-01 | 436           | 19            | 0.93364824    |\n",
       "| `Single Ventricle Defect` | -0.05185776   | 0.3478793     |  -0.1490683   |  8.814998e-01 | 370           | 16            | 0.94946391    |\n",
       "| Misc | -0.18238113   | 0.6071805     |  -0.3003738   |  7.638920e-01 | 81            | 3             | 0.83328369    |\n",
       "| `Situs (Van Praag/Anderson)` | -0.02811874   | 0.5110667     |  -0.0550197   |  9.561228e-01 | 110           | 5             | 0.97227291    |\n",
       "\n"
      ],
      "text/plain": [
       "                                        Estimate    Std..Error z.value    \n",
       "(Intercept)                             -3.80884703 0.1748459  -21.7840274\n",
       "`Arterial vascular anomaly`              0.63593567 0.2325138    2.7350444\n",
       "Septation                                0.49361866 0.2256555    2.1874874\n",
       "Cardiomyopathy                           0.67871573 0.4681972    1.4496365\n",
       "`AV Canal`                               0.52439306 0.4271393    1.2276864\n",
       "`Coronary anomaly`                       0.52275238 0.4054766    1.2892294\n",
       "`Conotruncal (septation and spiraling)`  0.15470045 0.2271737    0.6809788\n",
       "`L/R Asymmetry`                         -0.23662757 0.6212351   -0.3808986\n",
       "`Venous vascular anomaly`               -0.14821547 0.3607180   -0.4108902\n",
       "`Semilunar valvular`                     0.04466967 0.2427254    0.1840338\n",
       "`AV valvular`                           -0.06865553 0.3203877   -0.2142889\n",
       "`Single Ventricle Defect`               -0.05185776 0.3478793   -0.1490683\n",
       "Misc                                    -0.18238113 0.6071805   -0.3003738\n",
       "`Situs (Van Praag/Anderson)`            -0.02811874 0.5110667   -0.0550197\n",
       "                                        Pr...z..      Number.of.Probands\n",
       "(Intercept)                             3.288547e-105 NA                \n",
       "`Arterial vascular anomaly`              6.237186e-03 525               \n",
       "Septation                                2.870696e-02 893               \n",
       "Cardiomyopathy                           1.471599e-01 58                \n",
       "`AV Canal`                               2.195647e-01 114               \n",
       "`Coronary anomaly`                       1.973183e-01 103               \n",
       "`Conotruncal (septation and spiraling)`  4.958849e-01 912               \n",
       "`L/R Asymmetry`                          7.032785e-01 96                \n",
       "`Venous vascular anomaly`                6.811531e-01 266               \n",
       "`Semilunar valvular`                     8.539870e-01 782               \n",
       "`AV valvular`                            8.303218e-01 436               \n",
       "`Single Ventricle Defect`                8.814998e-01 370               \n",
       "Misc                                     7.638920e-01 81                \n",
       "`Situs (Van Praag/Anderson)`             9.561228e-01 110               \n",
       "                                        Total.Interactome.Mutations\n",
       "(Intercept)                             NA                         \n",
       "`Arterial vascular anomaly`             34                         \n",
       "Septation                               48                         \n",
       "Cardiomyopathy                          5                          \n",
       "`AV Canal`                              7                          \n",
       "`Coronary anomaly`                      7                          \n",
       "`Conotruncal (septation and spiraling)` 42                         \n",
       "`L/R Asymmetry`                         4                          \n",
       "`Venous vascular anomaly`               11                         \n",
       "`Semilunar valvular`                    36                         \n",
       "`AV valvular`                           19                         \n",
       "`Single Ventricle Defect`               16                         \n",
       "Misc                                    3                          \n",
       "`Situs (Van Praag/Anderson)`            5                          \n",
       "                                        Relative.Risk\n",
       "(Intercept)                             0.02217373   \n",
       "`Arterial vascular anomaly`             1.88878860   \n",
       "Septation                               1.63823372   \n",
       "Cardiomyopathy                          1.97134437   \n",
       "`AV Canal`                              1.68943315   \n",
       "`Coronary anomaly`                      1.68666361   \n",
       "`Conotruncal (septation and spiraling)` 1.16730824   \n",
       "`L/R Asymmetry`                         0.78928518   \n",
       "`Venous vascular anomaly`               0.86224530   \n",
       "`Semilunar valvular`                    1.04568238   \n",
       "`AV valvular`                           0.93364824   \n",
       "`Single Ventricle Defect`               0.94946391   \n",
       "Misc                                    0.83328369   \n",
       "`Situs (Van Praag/Anderson)`            0.97227291   "
      ]
     },
     "metadata": {},
     "output_type": "display_data"
    }
   ],
   "source": [
    "result_df$Relative.Risk = exp(result_df$Estimate)\n",
    "result_df"
   ]
  },
  {
   "cell_type": "code",
   "execution_count": 16,
   "metadata": {},
   "outputs": [],
   "source": [
    "names(result_df) <- c('Regression.Coefficient', 'Std.Error','z.score','p.value',\n",
    "                      'N.probands.with.diagnosis','N.interactome.mutations.in.probands',\n",
    "                      'Relative.Risk')\n",
    "row.names(result_df) <- gsub('`','',row.names(result_df))"
   ]
  },
  {
   "cell_type": "code",
   "execution_count": 17,
   "metadata": {},
   "outputs": [],
   "source": [
    "result_df = result_df[,c('Regression.Coefficient','Relative.Risk','Std.Error','z.score',\n",
    "                         'p.value','N.probands.with.diagnosis',\n",
    "                         'N.interactome.mutations.in.probands')]\n",
    "\n",
    "write.csv(result_df, '../manuscript/tables/diagnostic_regression.csv', \n",
    "          quote=FALSE)"
   ]
  }
 ],
 "metadata": {
  "kernelspec": {
   "display_name": "R",
   "language": "R",
   "name": "ir"
  },
  "language_info": {
   "codemirror_mode": "r",
   "file_extension": ".r",
   "mimetype": "text/x-r-source",
   "name": "R",
   "pygments_lexer": "r",
   "version": "3.6.1"
  }
 },
 "nbformat": 4,
 "nbformat_minor": 4
}
