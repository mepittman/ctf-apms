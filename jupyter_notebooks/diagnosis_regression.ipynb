{
 "cells": [
  {
   "cell_type": "markdown",
   "metadata": {},
   "source": [
    "# diagnosis_regression.ipynb\n",
    "\n",
    "This notebook uses de novo variant data from a large cohort of individuals with cardiac defects$^{1}$ to relate diagnosis categories to risk of having a de novo variant in a GATA4-TBX5 interactome gene.\n",
    "\n",
    "$^{1}$Jin, Sheng Chih, Jason Homsy, Samir Zaidi, Qiongshi Lu, Sarah Morton, Steven R. DePalma, Xue Zeng, et al. 2017. “Contribution of Rare Inherited and de Novo Variants in 2,871 Congenital Heart Disease Probands.” Nature Genetics 49 (11): 1593–1601."
   ]
  },
  {
   "cell_type": "code",
   "execution_count": 1,
   "metadata": {},
   "outputs": [],
   "source": [
    "diagnoses = read.csv('../data/variants/diagnoses.csv', stringsAsFactors=FALSE)\n",
    "\n",
    "categories = read.csv('../data/databases/diagnostic_categories.csv',header=TRUE, \n",
    "                      stringsAsFactors=FALSE)\n",
    "categories = categories[,c(1:2)]\n",
    "names(categories) = c(\"DIAGNOSES\",\"CATEGORY\")"
   ]
  },
  {
   "cell_type": "code",
   "execution_count": 2,
   "metadata": {},
   "outputs": [
    {
     "data": {
      "text/html": [
       "<table>\n",
       "<thead><tr><th scope=col>Blinded.ID</th><th scope=col>DIAGNOSES</th></tr></thead>\n",
       "<tbody>\n",
       "\t<tr><td>1-01074                                                                           </td><td>AORTIC STENOSIS AND REGURGITATION (MIXED AORTIC VALVE DISEASE)                    </td></tr>\n",
       "\t<tr><td>1-01074                                                                           </td><td>BICOMMISSURAL AORTIC VALVE                                                        </td></tr>\n",
       "\t<tr><td>1-01074                                                                           </td><td>SCREENER DIAGNOSIS: LEFT-SIDED OBSTRUCTIVE LESION                                 </td></tr>\n",
       "\t<tr><td>1-01074                                                                           </td><td>AORTIC STENOSIS AND REGURGITATION                                                 </td></tr>\n",
       "\t<tr><td>1-03156                                                                           </td><td>SCREENER DIAGNOSIS: CONOTRUNCAL ABNORMALITY                                       </td></tr>\n",
       "\t<tr><td>1-03156                                                                           </td><td>TETRALOGY OF FALLOT WITH PULMONARY ATRESIA AND MULTIPLE AORTOPULMONARY COLLATERALS</td></tr>\n",
       "</tbody>\n",
       "</table>\n"
      ],
      "text/latex": [
       "\\begin{tabular}{r|ll}\n",
       " Blinded.ID & DIAGNOSES\\\\\n",
       "\\hline\n",
       "\t 1-01074                                                                            & AORTIC STENOSIS AND REGURGITATION (MIXED AORTIC VALVE DISEASE)                    \\\\\n",
       "\t 1-01074                                                                            & BICOMMISSURAL AORTIC VALVE                                                        \\\\\n",
       "\t 1-01074                                                                            & SCREENER DIAGNOSIS: LEFT-SIDED OBSTRUCTIVE LESION                                 \\\\\n",
       "\t 1-01074                                                                            & AORTIC STENOSIS AND REGURGITATION                                                 \\\\\n",
       "\t 1-03156                                                                            & SCREENER DIAGNOSIS: CONOTRUNCAL ABNORMALITY                                       \\\\\n",
       "\t 1-03156                                                                            & TETRALOGY OF FALLOT WITH PULMONARY ATRESIA AND MULTIPLE AORTOPULMONARY COLLATERALS\\\\\n",
       "\\end{tabular}\n"
      ],
      "text/markdown": [
       "\n",
       "| Blinded.ID | DIAGNOSES |\n",
       "|---|---|\n",
       "| 1-01074                                                                            | AORTIC STENOSIS AND REGURGITATION (MIXED AORTIC VALVE DISEASE)                     |\n",
       "| 1-01074                                                                            | BICOMMISSURAL AORTIC VALVE                                                         |\n",
       "| 1-01074                                                                            | SCREENER DIAGNOSIS: LEFT-SIDED OBSTRUCTIVE LESION                                  |\n",
       "| 1-01074                                                                            | AORTIC STENOSIS AND REGURGITATION                                                  |\n",
       "| 1-03156                                                                            | SCREENER DIAGNOSIS: CONOTRUNCAL ABNORMALITY                                        |\n",
       "| 1-03156                                                                            | TETRALOGY OF FALLOT WITH PULMONARY ATRESIA AND MULTIPLE AORTOPULMONARY COLLATERALS |\n",
       "\n"
      ],
      "text/plain": [
       "  Blinded.ID\n",
       "1 1-01074   \n",
       "2 1-01074   \n",
       "3 1-01074   \n",
       "4 1-01074   \n",
       "5 1-03156   \n",
       "6 1-03156   \n",
       "  DIAGNOSES                                                                         \n",
       "1 AORTIC STENOSIS AND REGURGITATION (MIXED AORTIC VALVE DISEASE)                    \n",
       "2 BICOMMISSURAL AORTIC VALVE                                                        \n",
       "3 SCREENER DIAGNOSIS: LEFT-SIDED OBSTRUCTIVE LESION                                 \n",
       "4 AORTIC STENOSIS AND REGURGITATION                                                 \n",
       "5 SCREENER DIAGNOSIS: CONOTRUNCAL ABNORMALITY                                       \n",
       "6 TETRALOGY OF FALLOT WITH PULMONARY ATRESIA AND MULTIPLE AORTOPULMONARY COLLATERALS"
      ]
     },
     "metadata": {},
     "output_type": "display_data"
    }
   ],
   "source": [
    "# Match each proband to their individual diagnoses\n",
    "diag_list = c()\n",
    "diag_df = data.frame(matrix(ncol=2, nrow=0))\n",
    "colnames(diag_df) = c(\"Blinded.ID\", \"DIAGNOSES\")\n",
    "\n",
    "for (i in 1:nrow(diagnoses)){\n",
    "  \n",
    "  my_diags = c()\n",
    "  my_id = diagnoses[i,'Blinded.ID']\n",
    "  \n",
    "  if( diagnoses[i,'Cohort'] == \"PCGC\"){\n",
    "    diags = strsplit(diagnoses[i,'Cardiac.Diagnoses'],\" \\\\| \")\n",
    "    for(j in diags){\n",
    "      diag_list = c(diag_list, trimws(j))\n",
    "      my_diags = c(my_diags,trimws(j))\n",
    "    }\n",
    "  } else if(diagnoses[i,'Cohort'] == 'PHN' & grepl(';',diagnoses[i, 'Cardiac.Diagnoses'])){\n",
    "    diags = strsplit(diagnoses[i,'Cardiac.Diagnoses'],\";\")\n",
    "    for(j in diags){\n",
    "      diag_list = c(diag_list, toupper(trimws(j)))\n",
    "      my_diags = c(my_diags, toupper(trimws(j)))\n",
    "    }\n",
    "  } else{\n",
    "    diags = strsplit(diagnoses[i,'Cardiac.Diagnoses'],\", \")\n",
    "    for(j in diags){\n",
    "      diag_list = c(diag_list, toupper(trimws(j)))\n",
    "      my_diags = c(my_diags, toupper(trimws(j)))\n",
    "    }\n",
    "  }\n",
    "  \n",
    "  df = data.frame(Blinded.ID = rep(my_id, length(my_diags)), DIAGNOSES = my_diags)\n",
    "  diag_df = rbind(diag_df, df)\n",
    "  \n",
    "}\n",
    "\n",
    "head(diag_df)"
   ]
  },
  {
   "cell_type": "code",
   "execution_count": 3,
   "metadata": {},
   "outputs": [
    {
     "data": {
      "text/html": [
       "<table>\n",
       "<thead><tr><th></th><th scope=col>Blinded.ID</th><th scope=col>DIAGNOSES</th><th scope=col>Category</th></tr></thead>\n",
       "<tbody>\n",
       "\t<tr><th scope=row>4</th><td>1-01074                              </td><td>AORTIC STENOSIS AND REGURGITATION    </td><td>Semilunar valvular                   </td></tr>\n",
       "\t<tr><th scope=row>7</th><td>1-03156                              </td><td>TETRALOGY OF FALLOT                  </td><td>Conotruncal (septation and spiraling)</td></tr>\n",
       "\t<tr><th scope=row>13</th><td>1-05629                              </td><td>AORTIC REGURGITATION                 </td><td>Semilunar valvular                   </td></tr>\n",
       "\t<tr><th scope=row>16</th><td>1-06450                              </td><td>TETRALOGY OF FALLOT                  </td><td>Conotruncal (septation and spiraling)</td></tr>\n",
       "\t<tr><th scope=row>20</th><td>1-07571                              </td><td>TETRALOGY OF FALLOT                  </td><td>Conotruncal (septation and spiraling)</td></tr>\n",
       "\t<tr><th scope=row>24</th><td>1-09580                              </td><td>TETRALOGY OF FALLOT                  </td><td>Conotruncal (septation and spiraling)</td></tr>\n",
       "</tbody>\n",
       "</table>\n"
      ],
      "text/latex": [
       "\\begin{tabular}{r|lll}\n",
       "  & Blinded.ID & DIAGNOSES & Category\\\\\n",
       "\\hline\n",
       "\t4 & 1-01074                               & AORTIC STENOSIS AND REGURGITATION     & Semilunar valvular                   \\\\\n",
       "\t7 & 1-03156                               & TETRALOGY OF FALLOT                   & Conotruncal (septation and spiraling)\\\\\n",
       "\t13 & 1-05629                               & AORTIC REGURGITATION                  & Semilunar valvular                   \\\\\n",
       "\t16 & 1-06450                               & TETRALOGY OF FALLOT                   & Conotruncal (septation and spiraling)\\\\\n",
       "\t20 & 1-07571                               & TETRALOGY OF FALLOT                   & Conotruncal (septation and spiraling)\\\\\n",
       "\t24 & 1-09580                               & TETRALOGY OF FALLOT                   & Conotruncal (septation and spiraling)\\\\\n",
       "\\end{tabular}\n"
      ],
      "text/markdown": [
       "\n",
       "| <!--/--> | Blinded.ID | DIAGNOSES | Category |\n",
       "|---|---|---|---|\n",
       "| 4 | 1-01074                               | AORTIC STENOSIS AND REGURGITATION     | Semilunar valvular                    |\n",
       "| 7 | 1-03156                               | TETRALOGY OF FALLOT                   | Conotruncal (septation and spiraling) |\n",
       "| 13 | 1-05629                               | AORTIC REGURGITATION                  | Semilunar valvular                    |\n",
       "| 16 | 1-06450                               | TETRALOGY OF FALLOT                   | Conotruncal (septation and spiraling) |\n",
       "| 20 | 1-07571                               | TETRALOGY OF FALLOT                   | Conotruncal (septation and spiraling) |\n",
       "| 24 | 1-09580                               | TETRALOGY OF FALLOT                   | Conotruncal (septation and spiraling) |\n",
       "\n"
      ],
      "text/plain": [
       "   Blinded.ID DIAGNOSES                        \n",
       "4  1-01074    AORTIC STENOSIS AND REGURGITATION\n",
       "7  1-03156    TETRALOGY OF FALLOT              \n",
       "13 1-05629    AORTIC REGURGITATION             \n",
       "16 1-06450    TETRALOGY OF FALLOT              \n",
       "20 1-07571    TETRALOGY OF FALLOT              \n",
       "24 1-09580    TETRALOGY OF FALLOT              \n",
       "   Category                             \n",
       "4  Semilunar valvular                   \n",
       "7  Conotruncal (septation and spiraling)\n",
       "13 Semilunar valvular                   \n",
       "16 Conotruncal (septation and spiraling)\n",
       "20 Conotruncal (septation and spiraling)\n",
       "24 Conotruncal (septation and spiraling)"
      ]
     },
     "metadata": {},
     "output_type": "display_data"
    }
   ],
   "source": [
    "# Merge with refined categories\n",
    "diag_df$Category = categories$CATEGORY[match(diag_df$DIAGNOSES, categories$DIAGNOSES)]\n",
    "diag_df = diag_df[complete.cases(diag_df), ]\n",
    "head(diag_df)"
   ]
  },
  {
   "cell_type": "code",
   "execution_count": 4,
   "metadata": {},
   "outputs": [
    {
     "data": {
      "text/html": [
       "<table>\n",
       "<thead><tr><th scope=col>Blinded.ID</th><th scope=col>interactome_dnv_count</th></tr></thead>\n",
       "<tbody>\n",
       "\t<tr><td>1-00005</td><td>0      </td></tr>\n",
       "\t<tr><td>1-00009</td><td>0      </td></tr>\n",
       "\t<tr><td>1-00018</td><td>0      </td></tr>\n",
       "\t<tr><td>1-00030</td><td>0      </td></tr>\n",
       "\t<tr><td>1-00045</td><td>0      </td></tr>\n",
       "\t<tr><td>1-00057</td><td>0      </td></tr>\n",
       "</tbody>\n",
       "</table>\n"
      ],
      "text/latex": [
       "\\begin{tabular}{r|ll}\n",
       " Blinded.ID & interactome\\_dnv\\_count\\\\\n",
       "\\hline\n",
       "\t 1-00005 & 0      \\\\\n",
       "\t 1-00009 & 0      \\\\\n",
       "\t 1-00018 & 0      \\\\\n",
       "\t 1-00030 & 0      \\\\\n",
       "\t 1-00045 & 0      \\\\\n",
       "\t 1-00057 & 0      \\\\\n",
       "\\end{tabular}\n"
      ],
      "text/markdown": [
       "\n",
       "| Blinded.ID | interactome_dnv_count |\n",
       "|---|---|\n",
       "| 1-00005 | 0       |\n",
       "| 1-00009 | 0       |\n",
       "| 1-00018 | 0       |\n",
       "| 1-00030 | 0       |\n",
       "| 1-00045 | 0       |\n",
       "| 1-00057 | 0       |\n",
       "\n"
      ],
      "text/plain": [
       "  Blinded.ID interactome_dnv_count\n",
       "1 1-00005    0                    \n",
       "2 1-00009    0                    \n",
       "3 1-00018    0                    \n",
       "4 1-00030    0                    \n",
       "5 1-00045    0                    \n",
       "6 1-00057    0                    "
      ]
     },
     "metadata": {},
     "output_type": "display_data"
    }
   ],
   "source": [
    "# Find the number of de novo mutations each proband has in interactome genes\n",
    "gene_table = read.table(\"../intermediate/interactome_lists/GATA4-TBX5_genes.txt\", \n",
    "                        stringsAsFactors = FALSE)\n",
    "interactome = gene_table$V1\n",
    "\n",
    "dnv_cases = read.csv('../data/variants/DNV_cases_v10v11.csv', stringsAsFactors = FALSE)\n",
    "dnv_ctrls = read.csv('../data/variants/DNV_ctrls.csv', stringsAsFactors = FALSE)\n",
    "\n",
    "dnv_cases = dnv_cases[which(dnv_cases$Variant.Class != 'syn'),]\n",
    "dnv_ctrls = dnv_ctrls[which(dnv_ctrls$Variant.Class != 'syn'),]\n",
    "\n",
    "dnv_cases$interactome <- ifelse(dnv_cases$Gene %in% interactome, 1, 0)\n",
    "dnv_ctrls$interactome <- ifelse(dnv_ctrls$Gene %in% interactome, 1, 0)\n",
    "\n",
    "case_var_count = aggregate(dnv_cases$interactome, by=list(Category=dnv_cases$Blinded.ID), \n",
    "                           FUN=sum)\n",
    "ctrl_var_count = aggregate(dnv_ctrls$interactome, by=list(Category=dnv_ctrls$Blinded.ID), \n",
    "                           FUN=sum)\n",
    "\n",
    "var_count = rbind(case_var_count, ctrl_var_count)\n",
    "names(var_count) = c(\"Blinded.ID\",\"interactome_dnv_count\")\n",
    "head(var_count)"
   ]
  },
  {
   "cell_type": "code",
   "execution_count": 5,
   "metadata": {},
   "outputs": [
    {
     "data": {
      "text/html": [
       "<table>\n",
       "<thead><tr><th scope=col>Blinded.ID</th><th scope=col>interactome_dnv_count</th><th scope=col>Semilunar valvular</th><th scope=col>Conotruncal (septation and spiraling)</th><th scope=col>Single Ventricle Defect</th><th scope=col>Septation</th><th scope=col>AV valvular</th><th scope=col>Arterial vascular anomaly</th><th scope=col>Coronary anomaly</th><th scope=col>Situs (Van Praag/Anderson)</th><th scope=col>Venous vascular anomaly</th><th scope=col>AV Canal</th><th scope=col>L/R Asymmetry</th><th scope=col>Misc</th><th scope=col>Cardiomyopathy</th></tr></thead>\n",
       "<tbody>\n",
       "\t<tr><td>1-00005</td><td>0      </td><td>0      </td><td>1      </td><td>0      </td><td>1      </td><td>0      </td><td>1      </td><td>0      </td><td>0      </td><td>0      </td><td>0      </td><td>0      </td><td>0      </td><td>0      </td></tr>\n",
       "\t<tr><td>1-00009</td><td>0      </td><td>1      </td><td>1      </td><td>1      </td><td>0      </td><td>0      </td><td>0      </td><td>0      </td><td>1      </td><td>0      </td><td>0      </td><td>0      </td><td>0      </td><td>0      </td></tr>\n",
       "\t<tr><td>1-00018</td><td>0      </td><td>1      </td><td>0      </td><td>1      </td><td>1      </td><td>1      </td><td>1      </td><td>0      </td><td>0      </td><td>1      </td><td>0      </td><td>0      </td><td>0      </td><td>0      </td></tr>\n",
       "\t<tr><td>1-00030</td><td>0      </td><td>1      </td><td>0      </td><td>1      </td><td>1      </td><td>1      </td><td>1      </td><td>0      </td><td>0      </td><td>0      </td><td>0      </td><td>0      </td><td>0      </td><td>0      </td></tr>\n",
       "\t<tr><td>1-00045</td><td>0      </td><td>1      </td><td>1      </td><td>0      </td><td>0      </td><td>0      </td><td>0      </td><td>0      </td><td>0      </td><td>0      </td><td>0      </td><td>0      </td><td>0      </td><td>0      </td></tr>\n",
       "\t<tr><td>1-00057</td><td>0      </td><td>0      </td><td>1      </td><td>0      </td><td>1      </td><td>0      </td><td>0      </td><td>0      </td><td>0      </td><td>0      </td><td>0      </td><td>0      </td><td>0      </td><td>0      </td></tr>\n",
       "</tbody>\n",
       "</table>\n"
      ],
      "text/latex": [
       "\\begin{tabular}{r|lllllllllllllll}\n",
       " Blinded.ID & interactome\\_dnv\\_count & Semilunar valvular & Conotruncal (septation and spiraling) & Single Ventricle Defect & Septation & AV valvular & Arterial vascular anomaly & Coronary anomaly & Situs (Van Praag/Anderson) & Venous vascular anomaly & AV Canal & L/R Asymmetry & Misc & Cardiomyopathy\\\\\n",
       "\\hline\n",
       "\t 1-00005 & 0       & 0       & 1       & 0       & 1       & 0       & 1       & 0       & 0       & 0       & 0       & 0       & 0       & 0      \\\\\n",
       "\t 1-00009 & 0       & 1       & 1       & 1       & 0       & 0       & 0       & 0       & 1       & 0       & 0       & 0       & 0       & 0      \\\\\n",
       "\t 1-00018 & 0       & 1       & 0       & 1       & 1       & 1       & 1       & 0       & 0       & 1       & 0       & 0       & 0       & 0      \\\\\n",
       "\t 1-00030 & 0       & 1       & 0       & 1       & 1       & 1       & 1       & 0       & 0       & 0       & 0       & 0       & 0       & 0      \\\\\n",
       "\t 1-00045 & 0       & 1       & 1       & 0       & 0       & 0       & 0       & 0       & 0       & 0       & 0       & 0       & 0       & 0      \\\\\n",
       "\t 1-00057 & 0       & 0       & 1       & 0       & 1       & 0       & 0       & 0       & 0       & 0       & 0       & 0       & 0       & 0      \\\\\n",
       "\\end{tabular}\n"
      ],
      "text/markdown": [
       "\n",
       "| Blinded.ID | interactome_dnv_count | Semilunar valvular | Conotruncal (septation and spiraling) | Single Ventricle Defect | Septation | AV valvular | Arterial vascular anomaly | Coronary anomaly | Situs (Van Praag/Anderson) | Venous vascular anomaly | AV Canal | L/R Asymmetry | Misc | Cardiomyopathy |\n",
       "|---|---|---|---|---|---|---|---|---|---|---|---|---|---|---|\n",
       "| 1-00005 | 0       | 0       | 1       | 0       | 1       | 0       | 1       | 0       | 0       | 0       | 0       | 0       | 0       | 0       |\n",
       "| 1-00009 | 0       | 1       | 1       | 1       | 0       | 0       | 0       | 0       | 1       | 0       | 0       | 0       | 0       | 0       |\n",
       "| 1-00018 | 0       | 1       | 0       | 1       | 1       | 1       | 1       | 0       | 0       | 1       | 0       | 0       | 0       | 0       |\n",
       "| 1-00030 | 0       | 1       | 0       | 1       | 1       | 1       | 1       | 0       | 0       | 0       | 0       | 0       | 0       | 0       |\n",
       "| 1-00045 | 0       | 1       | 1       | 0       | 0       | 0       | 0       | 0       | 0       | 0       | 0       | 0       | 0       | 0       |\n",
       "| 1-00057 | 0       | 0       | 1       | 0       | 1       | 0       | 0       | 0       | 0       | 0       | 0       | 0       | 0       | 0       |\n",
       "\n"
      ],
      "text/plain": [
       "  Blinded.ID interactome_dnv_count Semilunar valvular\n",
       "1 1-00005    0                     0                 \n",
       "2 1-00009    0                     1                 \n",
       "3 1-00018    0                     1                 \n",
       "4 1-00030    0                     1                 \n",
       "5 1-00045    0                     1                 \n",
       "6 1-00057    0                     0                 \n",
       "  Conotruncal (septation and spiraling) Single Ventricle Defect Septation\n",
       "1 1                                     0                       1        \n",
       "2 1                                     1                       0        \n",
       "3 0                                     1                       1        \n",
       "4 0                                     1                       1        \n",
       "5 1                                     0                       0        \n",
       "6 1                                     0                       1        \n",
       "  AV valvular Arterial vascular anomaly Coronary anomaly\n",
       "1 0           1                         0               \n",
       "2 0           0                         0               \n",
       "3 1           1                         0               \n",
       "4 1           1                         0               \n",
       "5 0           0                         0               \n",
       "6 0           0                         0               \n",
       "  Situs (Van Praag/Anderson) Venous vascular anomaly AV Canal L/R Asymmetry\n",
       "1 0                          0                       0        0            \n",
       "2 1                          0                       0        0            \n",
       "3 0                          1                       0        0            \n",
       "4 0                          0                       0        0            \n",
       "5 0                          0                       0        0            \n",
       "6 0                          0                       0        0            \n",
       "  Misc Cardiomyopathy\n",
       "1 0    0             \n",
       "2 0    0             \n",
       "3 0    0             \n",
       "4 0    0             \n",
       "5 0    0             \n",
       "6 0    0             "
      ]
     },
     "metadata": {},
     "output_type": "display_data"
    }
   ],
   "source": [
    "# Append dummy variable columns based on diagnoses of each blinded ID\n",
    "variable_list = unique(diag_df$Category)\n",
    "\n",
    "variable_test = head(variable_list)\n",
    "for(diagnosis in variable_list){\n",
    "  var_count[,diagnosis] = 0\n",
    "  \n",
    "  focal_df = diag_df[which(diag_df$Category == diagnosis),]\n",
    "  var_count[which(var_count$Blinded.ID %in% focal_df$Blinded.ID), diagnosis] <- 1\n",
    "  \n",
    "}\n",
    "\n",
    "# Remove Syndromic and Arrythmia categories\n",
    "var_count$`Arrhythmia/conduction defects` <- NULL\n",
    "var_count$Syndromic <- NULL\n",
    "\n",
    "head(var_count)"
   ]
  },
  {
   "cell_type": "code",
   "execution_count": 6,
   "metadata": {},
   "outputs": [
    {
     "data": {
      "text/plain": [
       "\n",
       "Call:\n",
       "glm(formula = interactome_dnv_count ~ ., family = poisson(link = \"log\"), \n",
       "    data = X)\n",
       "\n",
       "Deviance Residuals: \n",
       "    Min       1Q   Median       3Q      Max  \n",
       "-0.5987  -0.2925  -0.2314  -0.2170   3.7013  \n",
       "\n",
       "Coefficients:\n",
       "                                        Estimate Std. Error z value Pr(>|z|)\n",
       "(Intercept)                             -3.74911    0.17084 -21.945  < 2e-16\n",
       "`Arterial vascular anomaly`              0.62137    0.23129   2.686  0.00722\n",
       "Septation                                0.46844    0.22351   2.096  0.03609\n",
       "Cardiomyopathy                           0.67242    0.46798   1.437  0.15076\n",
       "`AV Canal`                               0.51077    0.42633   1.198  0.23089\n",
       "`Coronary anomaly`                       0.51512    0.40519   1.271  0.20361\n",
       "`Conotruncal (septation and spiraling)`  0.12891    0.22557   0.572  0.56766\n",
       "`L/R Asymmetry`                         -0.22418    0.62020  -0.361  0.71775\n",
       "`Venous vascular anomaly`               -0.15441    0.36008  -0.429  0.66806\n",
       "`Semilunar valvular`                     0.02948    0.24149   0.122  0.90282\n",
       "`AV valvular`                           -0.07912    0.31921  -0.248  0.80425\n",
       "`Single Ventricle Defect`               -0.05249    0.34661  -0.151  0.87963\n",
       "Misc                                    -0.18898    0.60679  -0.311  0.75546\n",
       "`Situs (Van Praag/Anderson)`            -0.02285    0.51079  -0.045  0.96432\n",
       "                                           \n",
       "(Intercept)                             ***\n",
       "`Arterial vascular anomaly`             ** \n",
       "Septation                               *  \n",
       "Cardiomyopathy                             \n",
       "`AV Canal`                                 \n",
       "`Coronary anomaly`                         \n",
       "`Conotruncal (septation and spiraling)`    \n",
       "`L/R Asymmetry`                            \n",
       "`Venous vascular anomaly`                  \n",
       "`Semilunar valvular`                       \n",
       "`AV valvular`                              \n",
       "`Single Ventricle Defect`                  \n",
       "Misc                                       \n",
       "`Situs (Van Praag/Anderson)`               \n",
       "---\n",
       "Signif. codes:  0 ‘***’ 0.001 ‘**’ 0.01 ‘*’ 0.05 ‘.’ 0.1 ‘ ’ 1\n",
       "\n",
       "(Dispersion parameter for poisson family taken to be 1)\n",
       "\n",
       "    Null deviance: 646.05  on 2633  degrees of freedom\n",
       "Residual deviance: 622.85  on 2620  degrees of freedom\n",
       "AIC: 842.08\n",
       "\n",
       "Number of Fisher Scoring iterations: 6\n"
      ]
     },
     "metadata": {},
     "output_type": "display_data"
    },
    {
     "data": {
      "text/html": [
       "<table>\n",
       "<thead><tr><th></th><th scope=col>Estimate</th><th scope=col>Std..Error</th><th scope=col>z.value</th><th scope=col>Pr...z..</th></tr></thead>\n",
       "<tbody>\n",
       "\t<tr><th scope=row>(Intercept)</th><td>-3.7491090   </td><td>0.1708412    </td><td>-21.944990   </td><td>9.668964e-107</td></tr>\n",
       "\t<tr><th scope=row>`Arterial vascular anomaly`</th><td> 0.6213661   </td><td>0.2312924    </td><td>  2.686497   </td><td> 7.220567e-03</td></tr>\n",
       "\t<tr><th scope=row>Septation</th><td> 0.4684429   </td><td>0.2235084    </td><td>  2.095863   </td><td> 3.609438e-02</td></tr>\n",
       "</tbody>\n",
       "</table>\n"
      ],
      "text/latex": [
       "\\begin{tabular}{r|llll}\n",
       "  & Estimate & Std..Error & z.value & Pr...z..\\\\\n",
       "\\hline\n",
       "\t(Intercept) & -3.7491090    & 0.1708412     & -21.944990    & 9.668964e-107\\\\\n",
       "\t`Arterial vascular anomaly` &  0.6213661    & 0.2312924     &   2.686497    &  7.220567e-03\\\\\n",
       "\tSeptation &  0.4684429    & 0.2235084     &   2.095863    &  3.609438e-02\\\\\n",
       "\\end{tabular}\n"
      ],
      "text/markdown": [
       "\n",
       "| <!--/--> | Estimate | Std..Error | z.value | Pr...z.. |\n",
       "|---|---|---|---|---|\n",
       "| (Intercept) | -3.7491090    | 0.1708412     | -21.944990    | 9.668964e-107 |\n",
       "| `Arterial vascular anomaly` |  0.6213661    | 0.2312924     |   2.686497    |  7.220567e-03 |\n",
       "| Septation |  0.4684429    | 0.2235084     |   2.095863    |  3.609438e-02 |\n",
       "\n"
      ],
      "text/plain": [
       "                            Estimate   Std..Error z.value    Pr...z..     \n",
       "(Intercept)                 -3.7491090 0.1708412  -21.944990 9.668964e-107\n",
       "`Arterial vascular anomaly`  0.6213661 0.2312924    2.686497  7.220567e-03\n",
       "Septation                    0.4684429 0.2235084    2.095863  3.609438e-02"
      ]
     },
     "metadata": {},
     "output_type": "display_data"
    }
   ],
   "source": [
    "# Order as desired and fit to a poisson model\n",
    "\n",
    "df = var_count[,c('Blinded.ID','interactome_dnv_count','Arterial vascular anomaly',\n",
    "                  'Septation','Cardiomyopathy','AV Canal', 'Coronary anomaly',\n",
    "                  'Conotruncal (septation and spiraling)','L/R Asymmetry',\n",
    "                  'Venous vascular anomaly','Semilunar valvular','AV valvular',\n",
    "                  'Single Ventricle Defect','Misc', 'Situs (Van Praag/Anderson)')]\n",
    "X = df[2:ncol(df)]\n",
    "row.names(X) = df$Blinded.ID\n",
    "poisson.model <- glm(interactome_dnv_count~., data=X, family=poisson(link=\"log\"))\n",
    "summary(poisson.model)\n",
    "\n",
    "result_df <- data.frame(summary(poisson.model)$coefficients)\n",
    "result_df[which(result_df$Pr...z.. < 0.1),]"
   ]
  },
  {
   "cell_type": "code",
   "execution_count": 7,
   "metadata": {},
   "outputs": [],
   "source": [
    "# Install packages that give conda environments grief\n",
    "\n",
    "if (! 'jtools' %in% installed.packages()[,'Package']){\n",
    "    install.packages('jtools')\n",
    "}\n",
    "\n",
    "if (! 'ggstance' %in% installed.packages()[,'Package']){\n",
    "    install.packages('ggstance')\n",
    "}"
   ]
  },
  {
   "cell_type": "code",
   "execution_count": 8,
   "metadata": {},
   "outputs": [
    {
     "name": "stderr",
     "output_type": "stream",
     "text": [
      "Registered S3 methods overwritten by 'broom':\n",
      "  method            from  \n",
      "  tidy.glht         jtools\n",
      "  tidy.summary.glht jtools\n",
      "Loading required namespace: broom.mixed\n"
     ]
    },
    {
     "data": {
      "text/html": [
       "<strong>png:</strong> 2"
      ],
      "text/latex": [
       "\\textbf{png:} 2"
      ],
      "text/markdown": [
       "**png:** 2"
      ],
      "text/plain": [
       "png \n",
       "  2 "
      ]
     },
     "metadata": {},
     "output_type": "display_data"
    }
   ],
   "source": [
    "# Visualization\n",
    "library(jtools)\n",
    "library(ggplot2)\n",
    "pdf(\"../manuscript/figures/diagnostic_category_regression.pdf\")\n",
    "p <- plot_summs(poisson.model, scale = TRUE, exp=TRUE)\n",
    "p + labs(x=\"Relative Risk (95% Confidence)\")\n",
    "\n",
    "dev.off()"
   ]
  },
  {
   "cell_type": "code",
   "execution_count": 9,
   "metadata": {},
   "outputs": [
    {
     "name": "stderr",
     "output_type": "stream",
     "text": [
      "Loading required namespace: broom.mixed\n"
     ]
    },
    {
     "data": {
      "image/png": "[encoded data removed]",
      "text/plain": [
       "plot without title"
      ]
     },
     "metadata": {},
     "output_type": "display_data"
    }
   ],
   "source": [
    "p <- plot_summs(poisson.model, scale = TRUE, exp=TRUE)\n",
    "p + labs(x=\"Relative Risk (95% Confidence)\")"
   ]
  },
  {
   "cell_type": "markdown",
   "metadata": {},
   "source": [
    "### Save out data: how many probands per diagnosis? How many interactome mutations?"
   ]
  },
  {
   "cell_type": "code",
   "execution_count": 10,
   "metadata": {},
   "outputs": [
    {
     "data": {
      "text/html": [
       "<dl class=dl-horizontal>\n",
       "\t<dt>Semilunar valvular</dt>\n",
       "\t\t<dd>782</dd>\n",
       "\t<dt>Conotruncal (septation and spiraling)</dt>\n",
       "\t\t<dd>912</dd>\n",
       "\t<dt>Single Ventricle Defect</dt>\n",
       "\t\t<dd>370</dd>\n",
       "\t<dt>Septation</dt>\n",
       "\t\t<dd>893</dd>\n",
       "\t<dt>AV valvular</dt>\n",
       "\t\t<dd>436</dd>\n",
       "\t<dt>Arterial vascular anomaly</dt>\n",
       "\t\t<dd>525</dd>\n",
       "\t<dt>Coronary anomaly</dt>\n",
       "\t\t<dd>103</dd>\n",
       "\t<dt>Situs (Van Praag/Anderson)</dt>\n",
       "\t\t<dd>110</dd>\n",
       "\t<dt>Venous vascular anomaly</dt>\n",
       "\t\t<dd>266</dd>\n",
       "\t<dt>AV Canal</dt>\n",
       "\t\t<dd>114</dd>\n",
       "\t<dt>L/R Asymmetry</dt>\n",
       "\t\t<dd>96</dd>\n",
       "\t<dt>Misc</dt>\n",
       "\t\t<dd>81</dd>\n",
       "\t<dt>Cardiomyopathy</dt>\n",
       "\t\t<dd>58</dd>\n",
       "</dl>\n"
      ],
      "text/latex": [
       "\\begin{description*}\n",
       "\\item[Semilunar valvular] 782\n",
       "\\item[Conotruncal (septation and spiraling)] 912\n",
       "\\item[Single Ventricle Defect] 370\n",
       "\\item[Septation] 893\n",
       "\\item[AV valvular] 436\n",
       "\\item[Arterial vascular anomaly] 525\n",
       "\\item[Coronary anomaly] 103\n",
       "\\item[Situs (Van Praag/Anderson)] 110\n",
       "\\item[Venous vascular anomaly] 266\n",
       "\\item[AV Canal] 114\n",
       "\\item[L/R Asymmetry] 96\n",
       "\\item[Misc] 81\n",
       "\\item[Cardiomyopathy] 58\n",
       "\\end{description*}\n"
      ],
      "text/markdown": [
       "Semilunar valvular\n",
       ":   782Conotruncal (septation and spiraling)\n",
       ":   912Single Ventricle Defect\n",
       ":   370Septation\n",
       ":   893AV valvular\n",
       ":   436Arterial vascular anomaly\n",
       ":   525Coronary anomaly\n",
       ":   103Situs (Van Praag/Anderson)\n",
       ":   110Venous vascular anomaly\n",
       ":   266AV Canal\n",
       ":   114L/R Asymmetry\n",
       ":   96Misc\n",
       ":   81Cardiomyopathy\n",
       ":   58\n",
       "\n"
      ],
      "text/plain": [
       "                   Semilunar valvular Conotruncal (septation and spiraling) \n",
       "                                  782                                   912 \n",
       "              Single Ventricle Defect                             Septation \n",
       "                                  370                                   893 \n",
       "                          AV valvular             Arterial vascular anomaly \n",
       "                                  436                                   525 \n",
       "                     Coronary anomaly            Situs (Van Praag/Anderson) \n",
       "                                  103                                   110 \n",
       "              Venous vascular anomaly                              AV Canal \n",
       "                                  266                                   114 \n",
       "                        L/R Asymmetry                                  Misc \n",
       "                                   96                                    81 \n",
       "                       Cardiomyopathy \n",
       "                                   58 "
      ]
     },
     "metadata": {},
     "output_type": "display_data"
    }
   ],
   "source": [
    "n_probands = colSums(var_count[,c(3:ncol(var_count))])\n",
    "n_probands"
   ]
  },
  {
   "cell_type": "code",
   "execution_count": 11,
   "metadata": {},
   "outputs": [],
   "source": [
    "get_n_mutations <- function(diagnosis, vdf){\n",
    "    \n",
    "    dat = vdf[which(vdf[,diagnosis]==1),]\n",
    "    count = sum(dat$interactome_dnv_count)\n",
    "    \n",
    "    return(count)\n",
    "}"
   ]
  },
  {
   "cell_type": "code",
   "execution_count": 12,
   "metadata": {},
   "outputs": [
    {
     "data": {
      "text/html": [
       "<table>\n",
       "<thead><tr><th></th><th scope=col>Estimate</th><th scope=col>Std..Error</th><th scope=col>z.value</th><th scope=col>Pr...z..</th><th scope=col>Number.of.Probands</th><th scope=col>Total.Interactome.Mutations</th></tr></thead>\n",
       "<tbody>\n",
       "\t<tr><th scope=row>(Intercept)</th><td>-3.74910905  </td><td>0.1708412    </td><td>-21.94498976 </td><td>9.668964e-107</td><td>NA           </td><td>NA           </td></tr>\n",
       "\t<tr><th scope=row>`Arterial vascular anomaly`</th><td> 0.62136613  </td><td>0.2312924    </td><td>  2.68649668 </td><td> 7.220567e-03</td><td>525          </td><td>34           </td></tr>\n",
       "\t<tr><th scope=row>Septation</th><td> 0.46844291  </td><td>0.2235084    </td><td>  2.09586264 </td><td> 3.609438e-02</td><td>893          </td><td>48           </td></tr>\n",
       "\t<tr><th scope=row>Cardiomyopathy</th><td> 0.67242341  </td><td>0.4679790    </td><td>  1.43686656 </td><td> 1.507559e-01</td><td>58           </td><td>5            </td></tr>\n",
       "\t<tr><th scope=row>`AV Canal`</th><td> 0.51077111  </td><td>0.4263315    </td><td>  1.19806084 </td><td> 2.308933e-01</td><td>114          </td><td>7            </td></tr>\n",
       "\t<tr><th scope=row>`Coronary anomaly`</th><td> 0.51512129  </td><td>0.4051851    </td><td>  1.27132325 </td><td> 2.036137e-01</td><td>103          </td><td>7            </td></tr>\n",
       "\t<tr><th scope=row>`Conotruncal (septation and spiraling)`</th><td> 0.12891421  </td><td>0.2255684    </td><td>  0.57150841 </td><td> 5.676551e-01</td><td>912          </td><td>42           </td></tr>\n",
       "\t<tr><th scope=row>`L/R Asymmetry`</th><td>-0.22418133  </td><td>0.6201984    </td><td> -0.36146714 </td><td> 7.177503e-01</td><td>96           </td><td>4            </td></tr>\n",
       "\t<tr><th scope=row>`Venous vascular anomaly`</th><td>-0.15440975  </td><td>0.3600837    </td><td> -0.42881628 </td><td> 6.680569e-01</td><td>266          </td><td>11           </td></tr>\n",
       "\t<tr><th scope=row>`Semilunar valvular`</th><td> 0.02948484  </td><td>0.2414900    </td><td>  0.12209549 </td><td> 9.028234e-01</td><td>782          </td><td>36           </td></tr>\n",
       "\t<tr><th scope=row>`AV valvular`</th><td>-0.07911643  </td><td>0.3192096    </td><td> -0.24785100 </td><td> 8.042497e-01</td><td>436          </td><td>19           </td></tr>\n",
       "\t<tr><th scope=row>`Single Ventricle Defect`</th><td>-0.05248885  </td><td>0.3466065    </td><td> -0.15143643 </td><td> 8.796315e-01</td><td>370          </td><td>16           </td></tr>\n",
       "\t<tr><th scope=row>Misc</th><td>-0.18898428  </td><td>0.6067906    </td><td> -0.31144890 </td><td> 7.554594e-01</td><td>81           </td><td>3            </td></tr>\n",
       "\t<tr><th scope=row>`Situs (Van Praag/Anderson)`</th><td>-0.02285065  </td><td>0.5107853    </td><td> -0.04473631 </td><td> 9.643175e-01</td><td>110          </td><td>5            </td></tr>\n",
       "</tbody>\n",
       "</table>\n"
      ],
      "text/latex": [
       "\\begin{tabular}{r|llllll}\n",
       "  & Estimate & Std..Error & z.value & Pr...z.. & Number.of.Probands & Total.Interactome.Mutations\\\\\n",
       "\\hline\n",
       "\t(Intercept) & -3.74910905   & 0.1708412     & -21.94498976  & 9.668964e-107 & NA            & NA           \\\\\n",
       "\t`Arterial vascular anomaly` &  0.62136613   & 0.2312924     &   2.68649668  &  7.220567e-03 & 525           & 34           \\\\\n",
       "\tSeptation &  0.46844291   & 0.2235084     &   2.09586264  &  3.609438e-02 & 893           & 48           \\\\\n",
       "\tCardiomyopathy &  0.67242341   & 0.4679790     &   1.43686656  &  1.507559e-01 & 58            & 5            \\\\\n",
       "\t`AV Canal` &  0.51077111   & 0.4263315     &   1.19806084  &  2.308933e-01 & 114           & 7            \\\\\n",
       "\t`Coronary anomaly` &  0.51512129   & 0.4051851     &   1.27132325  &  2.036137e-01 & 103           & 7            \\\\\n",
       "\t`Conotruncal (septation and spiraling)` &  0.12891421   & 0.2255684     &   0.57150841  &  5.676551e-01 & 912           & 42           \\\\\n",
       "\t`L/R Asymmetry` & -0.22418133   & 0.6201984     &  -0.36146714  &  7.177503e-01 & 96            & 4            \\\\\n",
       "\t`Venous vascular anomaly` & -0.15440975   & 0.3600837     &  -0.42881628  &  6.680569e-01 & 266           & 11           \\\\\n",
       "\t`Semilunar valvular` &  0.02948484   & 0.2414900     &   0.12209549  &  9.028234e-01 & 782           & 36           \\\\\n",
       "\t`AV valvular` & -0.07911643   & 0.3192096     &  -0.24785100  &  8.042497e-01 & 436           & 19           \\\\\n",
       "\t`Single Ventricle Defect` & -0.05248885   & 0.3466065     &  -0.15143643  &  8.796315e-01 & 370           & 16           \\\\\n",
       "\tMisc & -0.18898428   & 0.6067906     &  -0.31144890  &  7.554594e-01 & 81            & 3            \\\\\n",
       "\t`Situs (Van Praag/Anderson)` & -0.02285065   & 0.5107853     &  -0.04473631  &  9.643175e-01 & 110           & 5            \\\\\n",
       "\\end{tabular}\n"
      ],
      "text/markdown": [
       "\n",
       "| <!--/--> | Estimate | Std..Error | z.value | Pr...z.. | Number.of.Probands | Total.Interactome.Mutations |\n",
       "|---|---|---|---|---|---|---|\n",
       "| (Intercept) | -3.74910905   | 0.1708412     | -21.94498976  | 9.668964e-107 | NA            | NA            |\n",
       "| `Arterial vascular anomaly` |  0.62136613   | 0.2312924     |   2.68649668  |  7.220567e-03 | 525           | 34            |\n",
       "| Septation |  0.46844291   | 0.2235084     |   2.09586264  |  3.609438e-02 | 893           | 48            |\n",
       "| Cardiomyopathy |  0.67242341   | 0.4679790     |   1.43686656  |  1.507559e-01 | 58            | 5             |\n",
       "| `AV Canal` |  0.51077111   | 0.4263315     |   1.19806084  |  2.308933e-01 | 114           | 7             |\n",
       "| `Coronary anomaly` |  0.51512129   | 0.4051851     |   1.27132325  |  2.036137e-01 | 103           | 7             |\n",
       "| `Conotruncal (septation and spiraling)` |  0.12891421   | 0.2255684     |   0.57150841  |  5.676551e-01 | 912           | 42            |\n",
       "| `L/R Asymmetry` | -0.22418133   | 0.6201984     |  -0.36146714  |  7.177503e-01 | 96            | 4             |\n",
       "| `Venous vascular anomaly` | -0.15440975   | 0.3600837     |  -0.42881628  |  6.680569e-01 | 266           | 11            |\n",
       "| `Semilunar valvular` |  0.02948484   | 0.2414900     |   0.12209549  |  9.028234e-01 | 782           | 36            |\n",
       "| `AV valvular` | -0.07911643   | 0.3192096     |  -0.24785100  |  8.042497e-01 | 436           | 19            |\n",
       "| `Single Ventricle Defect` | -0.05248885   | 0.3466065     |  -0.15143643  |  8.796315e-01 | 370           | 16            |\n",
       "| Misc | -0.18898428   | 0.6067906     |  -0.31144890  |  7.554594e-01 | 81            | 3             |\n",
       "| `Situs (Van Praag/Anderson)` | -0.02285065   | 0.5107853     |  -0.04473631  |  9.643175e-01 | 110           | 5             |\n",
       "\n"
      ],
      "text/plain": [
       "                                        Estimate    Std..Error z.value     \n",
       "(Intercept)                             -3.74910905 0.1708412  -21.94498976\n",
       "`Arterial vascular anomaly`              0.62136613 0.2312924    2.68649668\n",
       "Septation                                0.46844291 0.2235084    2.09586264\n",
       "Cardiomyopathy                           0.67242341 0.4679790    1.43686656\n",
       "`AV Canal`                               0.51077111 0.4263315    1.19806084\n",
       "`Coronary anomaly`                       0.51512129 0.4051851    1.27132325\n",
       "`Conotruncal (septation and spiraling)`  0.12891421 0.2255684    0.57150841\n",
       "`L/R Asymmetry`                         -0.22418133 0.6201984   -0.36146714\n",
       "`Venous vascular anomaly`               -0.15440975 0.3600837   -0.42881628\n",
       "`Semilunar valvular`                     0.02948484 0.2414900    0.12209549\n",
       "`AV valvular`                           -0.07911643 0.3192096   -0.24785100\n",
       "`Single Ventricle Defect`               -0.05248885 0.3466065   -0.15143643\n",
       "Misc                                    -0.18898428 0.6067906   -0.31144890\n",
       "`Situs (Van Praag/Anderson)`            -0.02285065 0.5107853   -0.04473631\n",
       "                                        Pr...z..      Number.of.Probands\n",
       "(Intercept)                             9.668964e-107 NA                \n",
       "`Arterial vascular anomaly`              7.220567e-03 525               \n",
       "Septation                                3.609438e-02 893               \n",
       "Cardiomyopathy                           1.507559e-01 58                \n",
       "`AV Canal`                               2.308933e-01 114               \n",
       "`Coronary anomaly`                       2.036137e-01 103               \n",
       "`Conotruncal (septation and spiraling)`  5.676551e-01 912               \n",
       "`L/R Asymmetry`                          7.177503e-01 96                \n",
       "`Venous vascular anomaly`                6.680569e-01 266               \n",
       "`Semilunar valvular`                     9.028234e-01 782               \n",
       "`AV valvular`                            8.042497e-01 436               \n",
       "`Single Ventricle Defect`                8.796315e-01 370               \n",
       "Misc                                     7.554594e-01 81                \n",
       "`Situs (Van Praag/Anderson)`             9.643175e-01 110               \n",
       "                                        Total.Interactome.Mutations\n",
       "(Intercept)                             NA                         \n",
       "`Arterial vascular anomaly`             34                         \n",
       "Septation                               48                         \n",
       "Cardiomyopathy                          5                          \n",
       "`AV Canal`                              7                          \n",
       "`Coronary anomaly`                      7                          \n",
       "`Conotruncal (septation and spiraling)` 42                         \n",
       "`L/R Asymmetry`                         4                          \n",
       "`Venous vascular anomaly`               11                         \n",
       "`Semilunar valvular`                    36                         \n",
       "`AV valvular`                           19                         \n",
       "`Single Ventricle Defect`               16                         \n",
       "Misc                                    3                          \n",
       "`Situs (Van Praag/Anderson)`            5                          "
      ]
     },
     "metadata": {},
     "output_type": "display_data"
    }
   ],
   "source": [
    "result_df$Number.of.Probands = 'NA'\n",
    "result_df$Total.Interactome.Mutations = 'NA'\n",
    "\n",
    "for (i in c(2:nrow(result_df))){\n",
    "    diagnosis = gsub('`','',row.names(result_df)[i])\n",
    "    result_df[i,'Number.of.Probands'] = n_probands[diagnosis]\n",
    "    result_df[i,'Total.Interactome.Mutations'] = get_n_mutations(diagnosis,var_count)\n",
    "}\n",
    "result_df"
   ]
  },
  {
   "cell_type": "code",
   "execution_count": 13,
   "metadata": {},
   "outputs": [
    {
     "data": {
      "text/html": [
       "<table>\n",
       "<thead><tr><th></th><th scope=col>Estimate</th><th scope=col>Std..Error</th><th scope=col>z.value</th><th scope=col>Pr...z..</th><th scope=col>Number.of.Probands</th><th scope=col>Total.Interactome.Mutations</th><th scope=col>Relative.Risk</th></tr></thead>\n",
       "<tbody>\n",
       "\t<tr><th scope=row>(Intercept)</th><td>-3.74910905  </td><td>0.1708412    </td><td>-21.94498976 </td><td>9.668964e-107</td><td>NA           </td><td>NA           </td><td>0.02353871   </td></tr>\n",
       "\t<tr><th scope=row>`Arterial vascular anomaly`</th><td> 0.62136613  </td><td>0.2312924    </td><td>  2.68649668 </td><td> 7.220567e-03</td><td>525          </td><td>34           </td><td>1.86146932   </td></tr>\n",
       "\t<tr><th scope=row>Septation</th><td> 0.46844291  </td><td>0.2235084    </td><td>  2.09586264 </td><td> 3.609438e-02</td><td>893          </td><td>48           </td><td>1.59750480   </td></tr>\n",
       "\t<tr><th scope=row>Cardiomyopathy</th><td> 0.67242341  </td><td>0.4679790    </td><td>  1.43686656 </td><td> 1.507559e-01</td><td>58           </td><td>5            </td><td>1.95897898   </td></tr>\n",
       "\t<tr><th scope=row>`AV Canal`</th><td> 0.51077111  </td><td>0.4263315    </td><td>  1.19806084 </td><td> 2.308933e-01</td><td>114          </td><td>7            </td><td>1.66657581   </td></tr>\n",
       "\t<tr><th scope=row>`Coronary anomaly`</th><td> 0.51512129  </td><td>0.4051851    </td><td>  1.27132325 </td><td> 2.036137e-01</td><td>103          </td><td>7            </td><td>1.67384151   </td></tr>\n",
       "\t<tr><th scope=row>`Conotruncal (septation and spiraling)`</th><td> 0.12891421  </td><td>0.2255684    </td><td>  0.57150841 </td><td> 5.676551e-01</td><td>912          </td><td>42           </td><td>1.13759253   </td></tr>\n",
       "\t<tr><th scope=row>`L/R Asymmetry`</th><td>-0.22418133  </td><td>0.6201984    </td><td> -0.36146714 </td><td> 7.177503e-01</td><td>96           </td><td>4            </td><td>0.79917020   </td></tr>\n",
       "\t<tr><th scope=row>`Venous vascular anomaly`</th><td>-0.15440975  </td><td>0.3600837    </td><td> -0.42881628 </td><td> 6.680569e-01</td><td>266          </td><td>11           </td><td>0.85692082   </td></tr>\n",
       "\t<tr><th scope=row>`Semilunar valvular`</th><td> 0.02948484  </td><td>0.2414900    </td><td>  0.12209549 </td><td> 9.028234e-01</td><td>782          </td><td>36           </td><td>1.02992383   </td></tr>\n",
       "\t<tr><th scope=row>`AV valvular`</th><td>-0.07911643  </td><td>0.3192096    </td><td> -0.24785100 </td><td> 8.042497e-01</td><td>436          </td><td>19           </td><td>0.92393235   </td></tr>\n",
       "\t<tr><th scope=row>`Single Ventricle Defect`</th><td>-0.05248885  </td><td>0.3466065    </td><td> -0.15143643 </td><td> 8.796315e-01</td><td>370          </td><td>16           </td><td>0.94886490   </td></tr>\n",
       "\t<tr><th scope=row>Misc</th><td>-0.18898428  </td><td>0.6067906    </td><td> -0.31144890 </td><td> 7.554594e-01</td><td>81           </td><td>3            </td><td>0.82779952   </td></tr>\n",
       "\t<tr><th scope=row>`Situs (Van Praag/Anderson)`</th><td>-0.02285065  </td><td>0.5107853    </td><td> -0.04473631 </td><td> 9.643175e-01</td><td>110          </td><td>5            </td><td>0.97740845   </td></tr>\n",
       "</tbody>\n",
       "</table>\n"
      ],
      "text/latex": [
       "\\begin{tabular}{r|lllllll}\n",
       "  & Estimate & Std..Error & z.value & Pr...z.. & Number.of.Probands & Total.Interactome.Mutations & Relative.Risk\\\\\n",
       "\\hline\n",
       "\t(Intercept) & -3.74910905   & 0.1708412     & -21.94498976  & 9.668964e-107 & NA            & NA            & 0.02353871   \\\\\n",
       "\t`Arterial vascular anomaly` &  0.62136613   & 0.2312924     &   2.68649668  &  7.220567e-03 & 525           & 34            & 1.86146932   \\\\\n",
       "\tSeptation &  0.46844291   & 0.2235084     &   2.09586264  &  3.609438e-02 & 893           & 48            & 1.59750480   \\\\\n",
       "\tCardiomyopathy &  0.67242341   & 0.4679790     &   1.43686656  &  1.507559e-01 & 58            & 5             & 1.95897898   \\\\\n",
       "\t`AV Canal` &  0.51077111   & 0.4263315     &   1.19806084  &  2.308933e-01 & 114           & 7             & 1.66657581   \\\\\n",
       "\t`Coronary anomaly` &  0.51512129   & 0.4051851     &   1.27132325  &  2.036137e-01 & 103           & 7             & 1.67384151   \\\\\n",
       "\t`Conotruncal (septation and spiraling)` &  0.12891421   & 0.2255684     &   0.57150841  &  5.676551e-01 & 912           & 42            & 1.13759253   \\\\\n",
       "\t`L/R Asymmetry` & -0.22418133   & 0.6201984     &  -0.36146714  &  7.177503e-01 & 96            & 4             & 0.79917020   \\\\\n",
       "\t`Venous vascular anomaly` & -0.15440975   & 0.3600837     &  -0.42881628  &  6.680569e-01 & 266           & 11            & 0.85692082   \\\\\n",
       "\t`Semilunar valvular` &  0.02948484   & 0.2414900     &   0.12209549  &  9.028234e-01 & 782           & 36            & 1.02992383   \\\\\n",
       "\t`AV valvular` & -0.07911643   & 0.3192096     &  -0.24785100  &  8.042497e-01 & 436           & 19            & 0.92393235   \\\\\n",
       "\t`Single Ventricle Defect` & -0.05248885   & 0.3466065     &  -0.15143643  &  8.796315e-01 & 370           & 16            & 0.94886490   \\\\\n",
       "\tMisc & -0.18898428   & 0.6067906     &  -0.31144890  &  7.554594e-01 & 81            & 3             & 0.82779952   \\\\\n",
       "\t`Situs (Van Praag/Anderson)` & -0.02285065   & 0.5107853     &  -0.04473631  &  9.643175e-01 & 110           & 5             & 0.97740845   \\\\\n",
       "\\end{tabular}\n"
      ],
      "text/markdown": [
       "\n",
       "| <!--/--> | Estimate | Std..Error | z.value | Pr...z.. | Number.of.Probands | Total.Interactome.Mutations | Relative.Risk |\n",
       "|---|---|---|---|---|---|---|---|\n",
       "| (Intercept) | -3.74910905   | 0.1708412     | -21.94498976  | 9.668964e-107 | NA            | NA            | 0.02353871    |\n",
       "| `Arterial vascular anomaly` |  0.62136613   | 0.2312924     |   2.68649668  |  7.220567e-03 | 525           | 34            | 1.86146932    |\n",
       "| Septation |  0.46844291   | 0.2235084     |   2.09586264  |  3.609438e-02 | 893           | 48            | 1.59750480    |\n",
       "| Cardiomyopathy |  0.67242341   | 0.4679790     |   1.43686656  |  1.507559e-01 | 58            | 5             | 1.95897898    |\n",
       "| `AV Canal` |  0.51077111   | 0.4263315     |   1.19806084  |  2.308933e-01 | 114           | 7             | 1.66657581    |\n",
       "| `Coronary anomaly` |  0.51512129   | 0.4051851     |   1.27132325  |  2.036137e-01 | 103           | 7             | 1.67384151    |\n",
       "| `Conotruncal (septation and spiraling)` |  0.12891421   | 0.2255684     |   0.57150841  |  5.676551e-01 | 912           | 42            | 1.13759253    |\n",
       "| `L/R Asymmetry` | -0.22418133   | 0.6201984     |  -0.36146714  |  7.177503e-01 | 96            | 4             | 0.79917020    |\n",
       "| `Venous vascular anomaly` | -0.15440975   | 0.3600837     |  -0.42881628  |  6.680569e-01 | 266           | 11            | 0.85692082    |\n",
       "| `Semilunar valvular` |  0.02948484   | 0.2414900     |   0.12209549  |  9.028234e-01 | 782           | 36            | 1.02992383    |\n",
       "| `AV valvular` | -0.07911643   | 0.3192096     |  -0.24785100  |  8.042497e-01 | 436           | 19            | 0.92393235    |\n",
       "| `Single Ventricle Defect` | -0.05248885   | 0.3466065     |  -0.15143643  |  8.796315e-01 | 370           | 16            | 0.94886490    |\n",
       "| Misc | -0.18898428   | 0.6067906     |  -0.31144890  |  7.554594e-01 | 81            | 3             | 0.82779952    |\n",
       "| `Situs (Van Praag/Anderson)` | -0.02285065   | 0.5107853     |  -0.04473631  |  9.643175e-01 | 110           | 5             | 0.97740845    |\n",
       "\n"
      ],
      "text/plain": [
       "                                        Estimate    Std..Error z.value     \n",
       "(Intercept)                             -3.74910905 0.1708412  -21.94498976\n",
       "`Arterial vascular anomaly`              0.62136613 0.2312924    2.68649668\n",
       "Septation                                0.46844291 0.2235084    2.09586264\n",
       "Cardiomyopathy                           0.67242341 0.4679790    1.43686656\n",
       "`AV Canal`                               0.51077111 0.4263315    1.19806084\n",
       "`Coronary anomaly`                       0.51512129 0.4051851    1.27132325\n",
       "`Conotruncal (septation and spiraling)`  0.12891421 0.2255684    0.57150841\n",
       "`L/R Asymmetry`                         -0.22418133 0.6201984   -0.36146714\n",
       "`Venous vascular anomaly`               -0.15440975 0.3600837   -0.42881628\n",
       "`Semilunar valvular`                     0.02948484 0.2414900    0.12209549\n",
       "`AV valvular`                           -0.07911643 0.3192096   -0.24785100\n",
       "`Single Ventricle Defect`               -0.05248885 0.3466065   -0.15143643\n",
       "Misc                                    -0.18898428 0.6067906   -0.31144890\n",
       "`Situs (Van Praag/Anderson)`            -0.02285065 0.5107853   -0.04473631\n",
       "                                        Pr...z..      Number.of.Probands\n",
       "(Intercept)                             9.668964e-107 NA                \n",
       "`Arterial vascular anomaly`              7.220567e-03 525               \n",
       "Septation                                3.609438e-02 893               \n",
       "Cardiomyopathy                           1.507559e-01 58                \n",
       "`AV Canal`                               2.308933e-01 114               \n",
       "`Coronary anomaly`                       2.036137e-01 103               \n",
       "`Conotruncal (septation and spiraling)`  5.676551e-01 912               \n",
       "`L/R Asymmetry`                          7.177503e-01 96                \n",
       "`Venous vascular anomaly`                6.680569e-01 266               \n",
       "`Semilunar valvular`                     9.028234e-01 782               \n",
       "`AV valvular`                            8.042497e-01 436               \n",
       "`Single Ventricle Defect`                8.796315e-01 370               \n",
       "Misc                                     7.554594e-01 81                \n",
       "`Situs (Van Praag/Anderson)`             9.643175e-01 110               \n",
       "                                        Total.Interactome.Mutations\n",
       "(Intercept)                             NA                         \n",
       "`Arterial vascular anomaly`             34                         \n",
       "Septation                               48                         \n",
       "Cardiomyopathy                          5                          \n",
       "`AV Canal`                              7                          \n",
       "`Coronary anomaly`                      7                          \n",
       "`Conotruncal (septation and spiraling)` 42                         \n",
       "`L/R Asymmetry`                         4                          \n",
       "`Venous vascular anomaly`               11                         \n",
       "`Semilunar valvular`                    36                         \n",
       "`AV valvular`                           19                         \n",
       "`Single Ventricle Defect`               16                         \n",
       "Misc                                    3                          \n",
       "`Situs (Van Praag/Anderson)`            5                          \n",
       "                                        Relative.Risk\n",
       "(Intercept)                             0.02353871   \n",
       "`Arterial vascular anomaly`             1.86146932   \n",
       "Septation                               1.59750480   \n",
       "Cardiomyopathy                          1.95897898   \n",
       "`AV Canal`                              1.66657581   \n",
       "`Coronary anomaly`                      1.67384151   \n",
       "`Conotruncal (septation and spiraling)` 1.13759253   \n",
       "`L/R Asymmetry`                         0.79917020   \n",
       "`Venous vascular anomaly`               0.85692082   \n",
       "`Semilunar valvular`                    1.02992383   \n",
       "`AV valvular`                           0.92393235   \n",
       "`Single Ventricle Defect`               0.94886490   \n",
       "Misc                                    0.82779952   \n",
       "`Situs (Van Praag/Anderson)`            0.97740845   "
      ]
     },
     "metadata": {},
     "output_type": "display_data"
    }
   ],
   "source": [
    "result_df$Relative.Risk = exp(result_df$Estimate)\n",
    "result_df"
   ]
  },
  {
   "cell_type": "code",
   "execution_count": 14,
   "metadata": {},
   "outputs": [],
   "source": [
    "names(result_df) <- c('Regression.Coefficient', 'Std.Error','z.score','p.value',\n",
    "                      'N.probands.with.diagnosis','N.interactome.mutations.in.probands',\n",
    "                      'Relative.Risk')\n",
    "row.names(result_df) <- gsub('`','',row.names(result_df))"
   ]
  },
  {
   "cell_type": "code",
   "execution_count": 15,
   "metadata": {},
   "outputs": [],
   "source": [
    "result_df = result_df[,c('Regression.Coefficient','Relative.Risk','Std.Error','z.score',\n",
    "                         'p.value','N.probands.with.diagnosis',\n",
    "                         'N.interactome.mutations.in.probands')]\n",
    "\n",
    "write.csv(result_df, '../manuscript/tables/diagnostic_regression.csv', \n",
    "          quote=FALSE)"
   ]
  }
 ],
 "metadata": {
  "kernelspec": {
   "display_name": "R",
   "language": "R",
   "name": "ir"
  },
  "language_info": {
   "codemirror_mode": "r",
   "file_extension": ".r",
   "mimetype": "text/x-r-source",
   "name": "R",
   "pygments_lexer": "r",
   "version": "3.6.1"
  }
 },
 "nbformat": 4,
 "nbformat_minor": 4
}
