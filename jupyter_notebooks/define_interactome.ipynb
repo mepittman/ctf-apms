{
 "cells": [
  {
   "cell_type": "markdown",
   "metadata": {},
   "source": [
    "# define_interactome.ipynb"
   ]
  },
  {
   "cell_type": "markdown",
   "metadata": {},
   "source": [
    "This notebook takes evidence files from Affinity Purification Mass Spctrometry (APMS) experiments and uses the SAINTq method$^{1}$ to score the probability of a protein-protein interaction for bait-prey pairs. \n",
    "\n",
    "$^{1}$Teo G, Koh H, Fermin D, et al. SAINTq: Scoring protein-protein interactions in affinity purification - mass spectrometry experiments with fragment or peptide intensity data. Proteomics. 2016;16(15-16):2238‐2245. doi:10.1002/pmic.201500499"
   ]
  },
  {
   "cell_type": "code",
   "execution_count": 1,
   "metadata": {},
   "outputs": [
    {
     "name": "stderr",
     "output_type": "stream",
     "text": [
      "Registered S3 method overwritten by 'openssl':\n",
      "  method      from\n",
      "  print.bytes Rcpp\n",
      "\n",
      "\n",
      "Registered S3 method overwritten by 'xts':\n",
      "  method     from\n",
      "  as.zoo.xts zoo \n"
     ]
    }
   ],
   "source": [
    "# Required libraries\n",
    "library(artMS)\n",
    "library(biomaRt)"
   ]
  },
  {
   "cell_type": "markdown",
   "metadata": {},
   "source": [
    "## Functions"
   ]
  },
  {
   "cell_type": "code",
   "execution_count": 2,
   "metadata": {},
   "outputs": [],
   "source": [
    "# Function to run artMS and create saintq input files\n",
    "create_artMSfiles <- function(annot_file, ev_file, out_dir, bait){\n",
    "    \n",
    "    ### Confirm that key and evidence file are correctly formatted\n",
    "    keys = read.table(annot_file, na.strings=c(\"\", \"NA\"), sep = \"\\t\", header = TRUE, stringsAsFactors=FALSE)\n",
    "    \n",
    "    # Create bioreplicate column - in the format of 'Condition-(1,2,3)'\n",
    "    if((\"Raw.file\" %in% names(keys)) & (\"Condition\" %in% names(keys))){\n",
    "        suff = ave(keys$Condition, keys$Condition, FUN=seq_along)\n",
    "        keys$BioReplicate = paste0(keys$Condition,'-',suff)\n",
    "    } else {\n",
    "        print(\"Incorrect formatting of annotation file. Check that the Raw.file and Conditon columns exist.\")\n",
    "    }\n",
    "    \n",
    "    # IsotopeLabelType column - if it doesn't exist, 'L' is used for label-free experiments\n",
    "    if(! \"IsotopeLabelType\" %in% names(keys)){\n",
    "        keys$IsotopeLabelType = \"L\"\n",
    "    }\n",
    "    \n",
    "    # Run column - if it doesn't exist, a simple sequence of numbers is used\n",
    "    if(! \"Run\" %in% names(keys)){\n",
    "        keys$Run = seq(1:nrow(keys))\n",
    "    }\n",
    "    \n",
    "    # If the SAINT column doesn't exist, create it ('C' for control runs, 'T' for test runs)\n",
    "    if(! \"SAINT\" %in% names(keys)){\n",
    "        keys$SAINT = ifelse(keys$Condition==\"control\", \"C\", \"T\")\n",
    "    }\n",
    "    \n",
    "    # Rewrite annotation file\n",
    "    write.table(keys, file = annot_file, sep = \"\\t\", quote = FALSE, row.names = FALSE)\n",
    "    \n",
    "    # Write out the contrast string\n",
    "    contrast = write.table(paste0(\"control-\",bait), \n",
    "                         file = paste0(out_dir, \"/contrast_\", bait, \".txt\"),\n",
    "                         quote = FALSE, row.names = FALSE, col.names = FALSE)\n",
    "    \n",
    "    # Create SAINTq inputs\n",
    "    artmsEvidenceToSAINTq(evidence_file = ev_file, \n",
    "                          keys_file = annot_file, \n",
    "                          output_dir = out_dir)\n",
    "}"
   ]
  },
  {
   "cell_type": "code",
   "execution_count": 3,
   "metadata": {},
   "outputs": [],
   "source": [
    "# Function to write a saintq parameter file\n",
    "write_params <- function(input_file, input_level, param_file){\n",
    "    \n",
    "    norm = \"true\"\n",
    "    \n",
    "    if(input_level == \"protein\"){\n",
    "        content = paste0(\"normalize_control=\",norm,\n",
    "                         \"\\ninput_filename=\",input_file,\n",
    "                         \"\\ninput_level=\",input_level,\n",
    "                         \"\\nprotein_colname=Proteins\\ncompress_n_ctrl=100\\ncompress_n_rep=100\")\n",
    "    } else if (input_level == \"peptide\"){\n",
    "        content = paste0(\"normalize_control=\",norm,\n",
    "                         \"\\ninput_filename=\",input_file,\n",
    "                         \"\\ninput_level=\",input_level,\n",
    "                         \"\\nprotein_colname=Proteins\\npep_colname=Sequence\\ncompress_n_ctrl=100\",\n",
    "                         \"\\ncompress_n_rep=100\",\n",
    "                         \"\\nmin_n_pep=3\\nbest_prop_pep=0.5\")\n",
    "  }\n",
    "  \n",
    "  write.table(content, file = param_file, quote = FALSE, col.names = FALSE, row.names = FALSE)\n",
    "    \n",
    "}\n"
   ]
  },
  {
   "cell_type": "code",
   "execution_count": 4,
   "metadata": {},
   "outputs": [],
   "source": [
    "# Function to run saintq for a list of parameters, renaming the output file\n",
    "run_saintq <- function(paramfilePath, infileName, configPath, newPath){\n",
    "    \n",
    "    notebook_dir = getwd()\n",
    "    paramfile = gsub(\"^.*/\", \"\", paramfilePath)\n",
    "    \n",
    "    setwd(configPath)\n",
    "    path2saintq = \"../../../saintq/bin/saintq\"\n",
    "    cmd = paste(path2saintq, paramfile)\n",
    "    system(cmd)\n",
    "    \n",
    "    fname = paste0(\"scores_list__\", infileName,\"__.tsv\")\n",
    "    cmd = paste0(\"mv \", fname, \" \", newPath)\n",
    "    system(cmd)\n",
    "    \n",
    "    setwd(notebook_dir)\n",
    "  \n",
    "}"
   ]
  },
  {
   "cell_type": "markdown",
   "metadata": {},
   "source": [
    "## GATA4 interactome from protein intensity data"
   ]
  },
  {
   "cell_type": "code",
   "execution_count": 5,
   "metadata": {},
   "outputs": [
    {
     "name": "stderr",
     "output_type": "stream",
     "text": [
      ">> GENERATING A SAINTq INPUT FILE \n",
      ">> CHECKING THE keys FILE FIRST \n",
      ">> MERGING FILES \n",
      "--- Making the <Leading.Razor.Protein> the <Proteins> column \n",
      "--- ALL peptides with intensities will be used to generate the \n",
      "      saintq input file (indepependently of the number of spectral counts \n",
      "--- Removing empty protein ids (if any) \n",
      "--- Removing Protein Groups (if any) \n",
      "--- Removing contaminants\n",
      "-- CONTAMINANTS CON__|REV__ REMOVED \n",
      ">> NEW 4 FILES CREATED:\n",
      "\t- saintq-config-peptides\n",
      "\t- saintq-config-proteins\n",
      "\t- saintq_input_peptides.txt\n",
      "\t- saintq_input_proteins.txt\n",
      ">> DONE! \n"
     ]
    }
   ],
   "source": [
    "bait = 'GATA4'\n",
    "input_level = \"protein\"\n",
    "annot_file = paste0(\"../data/apms/\", bait, \"_annotation.txt\")\n",
    "ev_file = paste0(\"../data/apms/\", bait, \"_evidence.txt\")\n",
    "config_dir = paste0(\"../intermediate/saintq_config/\",bait)\n",
    "\n",
    "if (! dir.exists(config_dir)){\n",
    "    dir.create(config_dir)\n",
    "}\n",
    "\n",
    "create_artMSfiles(annot_file, ev_file, config_dir, bait)\n",
    "\n",
    "\n",
    "input_file = paste0(\"saintq_input_proteins.txt\") # note: These input files are the same\n",
    "param_file = paste0(config_dir, \"/\", bait, \"_parameters.txt\")\n",
    "\n",
    "write_params(input_file, input_level, param_file)\n",
    "\n",
    "\n",
    "out_path = paste0(bait, \"_saintq_results.txt\")\n",
    "run_saintq(param_file, input_file, config_dir, out_path) #note: These output files are the same"
   ]
  },
  {
   "cell_type": "markdown",
   "metadata": {},
   "source": [
    "## TBX5 interactome from peptide intensity data"
   ]
  },
  {
   "cell_type": "code",
   "execution_count": 6,
   "metadata": {},
   "outputs": [
    {
     "name": "stderr",
     "output_type": "stream",
     "text": [
      ">> GENERATING A SAINTq INPUT FILE \n",
      ">> CHECKING THE keys FILE FIRST \n",
      ">> MERGING FILES \n",
      "--(-) Raw.files in keys not found in evidence file: qx007857\tqx007859\tqx007861\tqx007863\tqx007865\tqx007867\tqx007875\tqx007877\tqx007879\tqx007881\tqx007883\tqx008455\n",
      "\n",
      "--- Making the <Leading.Razor.Protein> the <Proteins> column \n",
      "--- ALL peptides with intensities will be used to generate the \n",
      "      saintq input file (indepependently of the number of spectral counts \n",
      "--- Removing empty protein ids (if any) \n",
      "--- Removing Protein Groups (if any) \n",
      "--- Removing contaminants\n",
      "-- CONTAMINANTS CON__|REV__ REMOVED \n",
      ">> NEW 4 FILES CREATED:\n",
      "\t- saintq-config-peptides\n",
      "\t- saintq-config-proteins\n",
      "\t- saintq_input_peptides.txt\n",
      "\t- saintq_input_proteins.txt\n",
      ">> DONE! \n"
     ]
    }
   ],
   "source": [
    "bait = 'TBX5'\n",
    "input_level = \"peptide\"\n",
    "annot_file = paste0(\"../data/apms/\", bait, \"_annotation.txt\")\n",
    "ev_file = paste0(\"../data/apms/\", bait, \"_evidence.txt\")\n",
    "config_dir = paste0(\"../intermediate/saintq_config/\",bait)\n",
    "\n",
    "if (! dir.exists(config_dir)){\n",
    "    dir.create(config_dir)\n",
    "}\n",
    "\n",
    "create_artMSfiles(annot_file, ev_file, config_dir, bait)\n",
    "\n",
    "\n",
    "input_file = paste0(\"saintq_input_peptides.txt\")\n",
    "param_file = paste0(config_dir, \"/\", bait, \"_parameters.txt\")\n",
    "\n",
    "write_params(input_file, input_level, param_file)\n",
    "\n",
    "out_path = paste0(bait, \"_saintq_results.txt\")\n",
    "run_saintq(param_file, input_file, config_dir, out_path)"
   ]
  },
  {
   "cell_type": "markdown",
   "metadata": {},
   "source": [
    "## Examine results"
   ]
  },
  {
   "cell_type": "code",
   "execution_count": 7,
   "metadata": {},
   "outputs": [],
   "source": [
    "uniprot_map = read.table(\"../data/databases/uniprot_to_gene.txt\", \n",
    "                         header = TRUE, sep = \"\\t\", stringsAsFactors = FALSE)\n",
    "\n",
    "# Function to read in the saintq results, get gene names, and select significantly-interacting proteins\n",
    "summarize_results <- function(bait, bfdr_cutoff = 0.05){\n",
    "    \n",
    "    tab = read.table(file = paste0('../intermediate/saintq_config/', bait, '/', bait, \"_saintq_results.txt\"), \n",
    "                     sep = \"\\t\", stringsAsFactors = FALSE, fill = TRUE, header = TRUE, comment.char = \"\")\n",
    "    \n",
    "    tab = tab[which(tab$BFDR <= bfdr_cutoff), ]\n",
    "    tab$Gene = uniprot_map$GeneSymbol[match(tab$Prey, uniprot_map$UniProt)]\n",
    "    \n",
    "    return(tab)\n",
    "    \n",
    "}"
   ]
  },
  {
   "cell_type": "code",
   "execution_count": 8,
   "metadata": {},
   "outputs": [],
   "source": [
    "gata_tab = summarize_results(\"GATA4\", 0.001)\n",
    "tbx5_tab = summarize_results(\"TBX5\", 0.05)"
   ]
  },
  {
   "cell_type": "markdown",
   "metadata": {},
   "source": [
    "## Observe nuclear compartment"
   ]
  },
  {
   "cell_type": "code",
   "execution_count": 9,
   "metadata": {},
   "outputs": [
    {
     "data": {
      "text/html": [
       "<ol class=list-inline>\n",
       "\t<li>'Nucleus'</li>\n",
       "\t<li>NA</li>\n",
       "\t<li>'Cytoskeleton'</li>\n",
       "\t<li>'Cytosol'</li>\n",
       "\t<li>'Endosome'</li>\n",
       "\t<li>'Endoplasmic reticulum'</li>\n",
       "\t<li>'nucleus'</li>\n",
       "\t<li>'extracellular or secreted'</li>\n",
       "\t<li>'Extracellular or secreted'</li>\n",
       "\t<li>'Mitochondria'</li>\n",
       "\t<li>'cytosol'</li>\n",
       "\t<li>'plasma membrane'</li>\n",
       "\t<li>'cytoskeleton'</li>\n",
       "\t<li>'Plasma membrane'</li>\n",
       "\t<li>'mitochondria'</li>\n",
       "</ol>\n"
      ],
      "text/latex": [
       "\\begin{enumerate*}\n",
       "\\item 'Nucleus'\n",
       "\\item NA\n",
       "\\item 'Cytoskeleton'\n",
       "\\item 'Cytosol'\n",
       "\\item 'Endosome'\n",
       "\\item 'Endoplasmic reticulum'\n",
       "\\item 'nucleus'\n",
       "\\item 'extracellular or secreted'\n",
       "\\item 'Extracellular or secreted'\n",
       "\\item 'Mitochondria'\n",
       "\\item 'cytosol'\n",
       "\\item 'plasma membrane'\n",
       "\\item 'cytoskeleton'\n",
       "\\item 'Plasma membrane'\n",
       "\\item 'mitochondria'\n",
       "\\end{enumerate*}\n"
      ],
      "text/markdown": [
       "1. 'Nucleus'\n",
       "2. NA\n",
       "3. 'Cytoskeleton'\n",
       "4. 'Cytosol'\n",
       "5. 'Endosome'\n",
       "6. 'Endoplasmic reticulum'\n",
       "7. 'nucleus'\n",
       "8. 'extracellular or secreted'\n",
       "9. 'Extracellular or secreted'\n",
       "10. 'Mitochondria'\n",
       "11. 'cytosol'\n",
       "12. 'plasma membrane'\n",
       "13. 'cytoskeleton'\n",
       "14. 'Plasma membrane'\n",
       "15. 'mitochondria'\n",
       "\n",
       "\n"
      ],
      "text/plain": [
       " [1] \"Nucleus\"                   NA                         \n",
       " [3] \"Cytoskeleton\"              \"Cytosol\"                  \n",
       " [5] \"Endosome\"                  \"Endoplasmic reticulum\"    \n",
       " [7] \"nucleus\"                   \"extracellular or secreted\"\n",
       " [9] \"Extracellular or secreted\" \"Mitochondria\"             \n",
       "[11] \"cytosol\"                   \"plasma membrane\"          \n",
       "[13] \"cytoskeleton\"              \"Plasma membrane\"          \n",
       "[15] \"mitochondria\"             "
      ]
     },
     "metadata": {},
     "output_type": "display_data"
    }
   ],
   "source": [
    "compartments = read.table(\"../data/databases/BINGO_nuclear_localization.txt\",\n",
    "                         sep = \"\\t\", header = TRUE, stringsAsFactors = FALSE)\n",
    "\n",
    "gata_tab$Compartment = compartments$subcellular.location[match(gata_tab$Prey, compartments$UniprotID)]\n",
    "tbx5_tab$Compartment = compartments$subcellular.location[match(tbx5_tab$Prey, compartments$UniprotID)]\n",
    "\n",
    "unique(c(gata_tab$Compartment, tbx5_tab$Compartment))"
   ]
  },
  {
   "cell_type": "code",
   "execution_count": 10,
   "metadata": {},
   "outputs": [],
   "source": [
    "nuclear_s = c(\"nucleus\",\"Nucleus\",NA) \n",
    "gata_genes = gata_tab$Gene[which(gata_tab$Compartment %in% nuclear_s)]\n",
    "tbx5_genes = tbx5_tab$Gene[which(tbx5_tab$Compartment %in% nuclear_s)]"
   ]
  },
  {
   "cell_type": "code",
   "execution_count": 11,
   "metadata": {},
   "outputs": [
    {
     "name": "stdout",
     "output_type": "stream",
     "text": [
      "[1] \"These genes were removed from the interactome due to non-nuclear localization:\"\n"
     ]
    },
    {
     "data": {
      "text/html": [
       "<ol class=list-inline>\n",
       "\t<li>'EPB41L2'</li>\n",
       "\t<li>'CLUH'</li>\n",
       "\t<li>'DNAJC13'</li>\n",
       "\t<li>'ERLIN1'</li>\n",
       "\t<li>'ERLIN2'</li>\n",
       "\t<li>'MYL3'</li>\n",
       "\t<li>'IGLC3; IGLC2'</li>\n",
       "\t<li>'HSPA1B'</li>\n",
       "\t<li>'TNNI1'</li>\n",
       "\t<li>'ATP6V1B2'</li>\n",
       "\t<li>'MDK'</li>\n",
       "\t<li>'YWHAQ'</li>\n",
       "\t<li>'PRSS3'</li>\n",
       "\t<li>'ATP6V1A'</li>\n",
       "\t<li>'TNNT2'</li>\n",
       "\t<li>'MAP1B'</li>\n",
       "\t<li>'HCCS'</li>\n",
       "\t<li>'ATP6V0D1'</li>\n",
       "\t<li>'ACTG1'</li>\n",
       "\t<li>'TUBB4B'</li>\n",
       "\t<li>'TUBB8'</li>\n",
       "\t<li>'WDR81'</li>\n",
       "\t<li>'HTRA1'</li>\n",
       "\t<li>'PANX2'</li>\n",
       "\t<li>'MYADM'</li>\n",
       "\t<li>'PKP4'</li>\n",
       "\t<li>'TUBA1C'</li>\n",
       "\t<li>'NTPCR'</li>\n",
       "\t<li>'TUBB2B'</li>\n",
       "</ol>\n"
      ],
      "text/latex": [
       "\\begin{enumerate*}\n",
       "\\item 'EPB41L2'\n",
       "\\item 'CLUH'\n",
       "\\item 'DNAJC13'\n",
       "\\item 'ERLIN1'\n",
       "\\item 'ERLIN2'\n",
       "\\item 'MYL3'\n",
       "\\item 'IGLC3; IGLC2'\n",
       "\\item 'HSPA1B'\n",
       "\\item 'TNNI1'\n",
       "\\item 'ATP6V1B2'\n",
       "\\item 'MDK'\n",
       "\\item 'YWHAQ'\n",
       "\\item 'PRSS3'\n",
       "\\item 'ATP6V1A'\n",
       "\\item 'TNNT2'\n",
       "\\item 'MAP1B'\n",
       "\\item 'HCCS'\n",
       "\\item 'ATP6V0D1'\n",
       "\\item 'ACTG1'\n",
       "\\item 'TUBB4B'\n",
       "\\item 'TUBB8'\n",
       "\\item 'WDR81'\n",
       "\\item 'HTRA1'\n",
       "\\item 'PANX2'\n",
       "\\item 'MYADM'\n",
       "\\item 'PKP4'\n",
       "\\item 'TUBA1C'\n",
       "\\item 'NTPCR'\n",
       "\\item 'TUBB2B'\n",
       "\\end{enumerate*}\n"
      ],
      "text/markdown": [
       "1. 'EPB41L2'\n",
       "2. 'CLUH'\n",
       "3. 'DNAJC13'\n",
       "4. 'ERLIN1'\n",
       "5. 'ERLIN2'\n",
       "6. 'MYL3'\n",
       "7. 'IGLC3; IGLC2'\n",
       "8. 'HSPA1B'\n",
       "9. 'TNNI1'\n",
       "10. 'ATP6V1B2'\n",
       "11. 'MDK'\n",
       "12. 'YWHAQ'\n",
       "13. 'PRSS3'\n",
       "14. 'ATP6V1A'\n",
       "15. 'TNNT2'\n",
       "16. 'MAP1B'\n",
       "17. 'HCCS'\n",
       "18. 'ATP6V0D1'\n",
       "19. 'ACTG1'\n",
       "20. 'TUBB4B'\n",
       "21. 'TUBB8'\n",
       "22. 'WDR81'\n",
       "23. 'HTRA1'\n",
       "24. 'PANX2'\n",
       "25. 'MYADM'\n",
       "26. 'PKP4'\n",
       "27. 'TUBA1C'\n",
       "28. 'NTPCR'\n",
       "29. 'TUBB2B'\n",
       "\n",
       "\n"
      ],
      "text/plain": [
       " [1] \"EPB41L2\"      \"CLUH\"         \"DNAJC13\"      \"ERLIN1\"       \"ERLIN2\"      \n",
       " [6] \"MYL3\"         \"IGLC3; IGLC2\" \"HSPA1B\"       \"TNNI1\"        \"ATP6V1B2\"    \n",
       "[11] \"MDK\"          \"YWHAQ\"        \"PRSS3\"        \"ATP6V1A\"      \"TNNT2\"       \n",
       "[16] \"MAP1B\"        \"HCCS\"         \"ATP6V0D1\"     \"ACTG1\"        \"TUBB4B\"      \n",
       "[21] \"TUBB8\"        \"WDR81\"        \"HTRA1\"        \"PANX2\"        \"MYADM\"       \n",
       "[26] \"PKP4\"         \"TUBA1C\"       \"NTPCR\"        \"TUBB2B\"      "
      ]
     },
     "metadata": {},
     "output_type": "display_data"
    },
    {
     "data": {
      "text/html": [
       "<ol class=list-inline>\n",
       "\t<li>'ATP1B1'</li>\n",
       "\t<li>'TUBB'</li>\n",
       "\t<li>'ATP5F1A'</li>\n",
       "\t<li>'MARK3'</li>\n",
       "\t<li>'DDOST'</li>\n",
       "\t<li>'MDH2'</li>\n",
       "\t<li>'ATP5PO'</li>\n",
       "\t<li>'RPL37A'</li>\n",
       "\t<li>'HSPE1'</li>\n",
       "\t<li>'TUBA1B'</li>\n",
       "\t<li>'TOMM34'</li>\n",
       "\t<li>'MRPL30'</li>\n",
       "\t<li>'NDRG3'</li>\n",
       "</ol>\n"
      ],
      "text/latex": [
       "\\begin{enumerate*}\n",
       "\\item 'ATP1B1'\n",
       "\\item 'TUBB'\n",
       "\\item 'ATP5F1A'\n",
       "\\item 'MARK3'\n",
       "\\item 'DDOST'\n",
       "\\item 'MDH2'\n",
       "\\item 'ATP5PO'\n",
       "\\item 'RPL37A'\n",
       "\\item 'HSPE1'\n",
       "\\item 'TUBA1B'\n",
       "\\item 'TOMM34'\n",
       "\\item 'MRPL30'\n",
       "\\item 'NDRG3'\n",
       "\\end{enumerate*}\n"
      ],
      "text/markdown": [
       "1. 'ATP1B1'\n",
       "2. 'TUBB'\n",
       "3. 'ATP5F1A'\n",
       "4. 'MARK3'\n",
       "5. 'DDOST'\n",
       "6. 'MDH2'\n",
       "7. 'ATP5PO'\n",
       "8. 'RPL37A'\n",
       "9. 'HSPE1'\n",
       "10. 'TUBA1B'\n",
       "11. 'TOMM34'\n",
       "12. 'MRPL30'\n",
       "13. 'NDRG3'\n",
       "\n",
       "\n"
      ],
      "text/plain": [
       " [1] \"ATP1B1\"  \"TUBB\"    \"ATP5F1A\" \"MARK3\"   \"DDOST\"   \"MDH2\"    \"ATP5PO\" \n",
       " [8] \"RPL37A\"  \"HSPE1\"   \"TUBA1B\"  \"TOMM34\"  \"MRPL30\"  \"NDRG3\"  "
      ]
     },
     "metadata": {},
     "output_type": "display_data"
    }
   ],
   "source": [
    "print(\"These genes were removed from the interactome due to non-nuclear localization:\")\n",
    "gata_tab$Gene[which(!gata_tab$Compartment %in% nuclear_s)]\n",
    "tbx5_tab$Gene[which(!tbx5_tab$Compartment %in% nuclear_s)]"
   ]
  },
  {
   "cell_type": "markdown",
   "metadata": {},
   "source": [
    "## Filtering the interactomes based on RNA-seq expression in WT vs KO"
   ]
  },
  {
   "cell_type": "markdown",
   "metadata": {},
   "source": [
    "We remove any genes that were expressed significantly less in the control (KO) cell line, but had higher peptide intensities in the KO cell line, suggesting that they are false positive interactors. "
   ]
  },
  {
   "cell_type": "markdown",
   "metadata": {},
   "source": [
    "### Imputation and normalization functions"
   ]
  },
  {
   "cell_type": "code",
   "execution_count": 12,
   "metadata": {},
   "outputs": [],
   "source": [
    "replace_all_zeroes <- function(ko_df){\n",
    "    \n",
    "    # Imputation Step 1: \n",
    "    # if there are control rows with all zeroes, replace with 90% of the minimum observed bait value\n",
    "    \n",
    "    zeroes = ko_df[which(rowSums(ko_df)==0), ]\n",
    "\n",
    "    ko_df[ko_df == 0] <- NA\n",
    "    run_mins = apply(ko_df, 2, FUN=min, na.rm=TRUE)\n",
    "    run_mins\n",
    "    ko_df[is.na(ko_df)] <- 0\n",
    "\n",
    "    for(i in c(1:length(run_mins))){\n",
    "        replacement_value = run_mins[i] * 0.9\n",
    "        zeroes[,i] = replacement_value\n",
    "    }\n",
    "    \n",
    "    ko <- ko_df[which(!row.names(ko_df) %in% row.names(zeroes)),] \n",
    "    ko = rbind(ko, zeroes)\n",
    "\n",
    "    return(ko)\n",
    "}\n",
    "\n",
    "\n",
    "replace_missing <- function(ko_df){\n",
    "    \n",
    "    # Imputation Step 2: if the prey protein had an observed intensity value in at least one control run,\n",
    "    # then the missing intensities are replaced by 90% of the lowest observed intensity for the given protein\n",
    "    \n",
    "    ko_df[ko_df == 0] <- NA\n",
    "    ko_df$min = apply(ko_df, 1, FUN=min, na.rm=TRUE)\n",
    "\n",
    "    for (idx in row.names(ko_df)){\n",
    "        replacement_value = 0.9 * ko_df[idx,'min']\n",
    "        ko_df[idx,][is.na(ko_df[idx,])] <- replacement_value\n",
    "    }\n",
    "\n",
    "    ko_df$min <- NULL\n",
    "    return(ko_df)\n",
    "}\n",
    "\n",
    "normalize_intensities <- function(ko_df, wt_df){\n",
    "    # Normalization  - \n",
    "    # the control intensities are altered such that the average total intensity across all bait purifications is\n",
    "    # the same as the average total intensity in the controls\n",
    "\n",
    "    wt_average = mean(colMeans(wt_df))\n",
    "    ko_average = mean(colMeans(ko_df))\n",
    "    ko_factor = wt_average/ko_average\n",
    "    ko = ko_df * ko_factor\n",
    "    \n",
    "    return(ko)\n",
    "}"
   ]
  },
  {
   "cell_type": "code",
   "execution_count": 13,
   "metadata": {},
   "outputs": [],
   "source": [
    "get_blacklist <- function(bait, level, rnaseq){\n",
    "    \n",
    "    # Read data and separate control/bait experiments\n",
    "    dat = read.table(paste0('../intermediate/saintq_config/', bait, '/saintq_input_', level, '.txt'),\n",
    "                 skip=2, sep = \"\\t\", header=TRUE, stringsAsFactors=FALSE)\n",
    "\n",
    "    dat$Sequence <- NULL\n",
    "    \n",
    "    if (level==\"peptides\"){\n",
    "        dat = aggregate(. ~ Proteins, dat, sum)\n",
    "    }\n",
    "    \n",
    "    row.names(dat) = dat$Proteins\n",
    "    dat$Proteins <- NULL\n",
    "\n",
    "    wt_names = names(dat)[which(! grepl(\"control\", names(dat)))]\n",
    "    wt = dat[,c(wt_names)]\n",
    "\n",
    "    ko_names = names(dat)[which(grepl(\"control\", names(dat)))]\n",
    "    ko = dat[,c(ko_names)]\n",
    "    \n",
    "    ko = replace_all_zeroes(ko)\n",
    "    ko = replace_missing(ko)\n",
    "    ko = normalize_intensities(ko, wt)\n",
    "    \n",
    "    # Determine fold change of average intensities across WT and KO lines\n",
    "    wt$wt_avg_intensity = rowMeans(wt)\n",
    "    ko$ko_avg_intensity = rowMeans(ko)\n",
    "\n",
    "    intensities = merge(wt, ko, by=0, all=TRUE)\n",
    "    intensities$logFC_intensity = log2(intensities$ko_avg_intensity/intensities$wt_avg_intensity)\n",
    "    intensities$Gene = uniprot_map$GeneSymbol[match(intensities$Row.names, uniprot_map$UniProt)]\n",
    "\n",
    "    # Merge with RNAseq data and identify prey with lower expression but equal/higher intensity\n",
    "    colname = paste0('logFC.Treatment',substring(bait, 1, 1),'KO')\n",
    "    intensities = merge(intensities, rnaseq[,c(colname, 'FDR','hgnc_symbol')], by.x = \"Gene\", by.y = \"hgnc_symbol\")\n",
    "    blacklist = intensities[which((intensities[,colname] < 0) & (intensities$FDR < 0.05) & \n",
    "                                  (intensities$logFC_intensity > -0.5)),]\n",
    "    \n",
    "    return(blacklist)\n",
    "    \n",
    "}"
   ]
  },
  {
   "cell_type": "code",
   "execution_count": 14,
   "metadata": {},
   "outputs": [],
   "source": [
    "rnaseq = read.csv(\"../data/rnaseq/DifferentialExpressionResults_koStudy_Sigma.csv\")"
   ]
  },
  {
   "cell_type": "code",
   "execution_count": 15,
   "metadata": {},
   "outputs": [],
   "source": [
    "gata4_blacklist = get_blacklist(\"GATA4\",\"proteins\",rnaseq)\n",
    "tbx5_blacklist = get_blacklist(\"TBX5\", \"peptides\",rnaseq)"
   ]
  },
  {
   "cell_type": "code",
   "execution_count": 16,
   "metadata": {},
   "outputs": [
    {
     "data": {
      "text/html": [
       "<table>\n",
       "<thead><tr><th></th><th scope=col>Gene</th><th scope=col>Row.names</th><th scope=col>GATA4.1</th><th scope=col>GATA4.2</th><th scope=col>GATA4.3</th><th scope=col>wt_avg_intensity</th><th scope=col>control.1</th><th scope=col>control.2</th><th scope=col>control.3</th><th scope=col>control.4</th><th scope=col>ko_avg_intensity</th><th scope=col>logFC_intensity</th><th scope=col>logFC.TreatmentGKO</th><th scope=col>FDR</th></tr></thead>\n",
       "<tbody>\n",
       "\t<tr><th scope=row>320</th><td>FRG1       </td><td>Q14331     </td><td>1822100    </td><td>2240000    </td><td>2420700    </td><td>2160933    </td><td>1748479    </td><td>645070.8   </td><td>1853053    </td><td>2400367    </td><td>1661743    </td><td>-0.3789577 </td><td>-0.3123602 </td><td>4.64573e-11</td></tr>\n",
       "</tbody>\n",
       "</table>\n"
      ],
      "text/latex": [
       "\\begin{tabular}{r|llllllllllllll}\n",
       "  & Gene & Row.names & GATA4.1 & GATA4.2 & GATA4.3 & wt\\_avg\\_intensity & control.1 & control.2 & control.3 & control.4 & ko\\_avg\\_intensity & logFC\\_intensity & logFC.TreatmentGKO & FDR\\\\\n",
       "\\hline\n",
       "\t320 & FRG1        & Q14331      & 1822100     & 2240000     & 2420700     & 2160933     & 1748479     & 645070.8    & 1853053     & 2400367     & 1661743     & -0.3789577  & -0.3123602  & 4.64573e-11\\\\\n",
       "\\end{tabular}\n"
      ],
      "text/markdown": [
       "\n",
       "| <!--/--> | Gene | Row.names | GATA4.1 | GATA4.2 | GATA4.3 | wt_avg_intensity | control.1 | control.2 | control.3 | control.4 | ko_avg_intensity | logFC_intensity | logFC.TreatmentGKO | FDR |\n",
       "|---|---|---|---|---|---|---|---|---|---|---|---|---|---|---|\n",
       "| 320 | FRG1        | Q14331      | 1822100     | 2240000     | 2420700     | 2160933     | 1748479     | 645070.8    | 1853053     | 2400367     | 1661743     | -0.3789577  | -0.3123602  | 4.64573e-11 |\n",
       "\n"
      ],
      "text/plain": [
       "    Gene Row.names GATA4.1 GATA4.2 GATA4.3 wt_avg_intensity control.1 control.2\n",
       "320 FRG1 Q14331    1822100 2240000 2420700 2160933          1748479   645070.8 \n",
       "    control.3 control.4 ko_avg_intensity logFC_intensity logFC.TreatmentGKO\n",
       "320 1853053   2400367   1661743          -0.3789577      -0.3123602        \n",
       "    FDR        \n",
       "320 4.64573e-11"
      ]
     },
     "metadata": {},
     "output_type": "display_data"
    },
    {
     "data": {
      "text/html": [
       "<table>\n",
       "<thead><tr><th scope=col>Gene</th><th scope=col>Row.names</th><th scope=col>TBX5.1</th><th scope=col>TBX5.2</th><th scope=col>TBX5.3</th><th scope=col>wt_avg_intensity</th><th scope=col>control.1</th><th scope=col>control.2</th><th scope=col>control.3</th><th scope=col>ko_avg_intensity</th><th scope=col>logFC_intensity</th><th scope=col>logFC.TreatmentTKO</th><th scope=col>FDR</th></tr></thead>\n",
       "<tbody>\n",
       "</tbody>\n",
       "</table>\n"
      ],
      "text/latex": [
       "\\begin{tabular}{r|lllllllllllll}\n",
       " Gene & Row.names & TBX5.1 & TBX5.2 & TBX5.3 & wt\\_avg\\_intensity & control.1 & control.2 & control.3 & ko\\_avg\\_intensity & logFC\\_intensity & logFC.TreatmentTKO & FDR\\\\\n",
       "\\hline\n",
       "\\end{tabular}\n"
      ],
      "text/markdown": [
       "\n",
       "| Gene | Row.names | TBX5.1 | TBX5.2 | TBX5.3 | wt_avg_intensity | control.1 | control.2 | control.3 | ko_avg_intensity | logFC_intensity | logFC.TreatmentTKO | FDR |\n",
       "|---|---|---|---|---|---|---|---|---|---|---|---|---|\n",
       "\n"
      ],
      "text/plain": [
       "     Gene Row.names TBX5.1 TBX5.2 TBX5.3 wt_avg_intensity control.1 control.2\n",
       "     control.3 ko_avg_intensity logFC_intensity logFC.TreatmentTKO FDR"
      ]
     },
     "metadata": {},
     "output_type": "display_data"
    }
   ],
   "source": [
    "gata4_blacklist[which(gata4_blacklist$Gene %in% gata_genes),]\n",
    "tbx5_blacklist[which(tbx5_blacklist$Gene %in% tbx5_genes),]"
   ]
  },
  {
   "cell_type": "markdown",
   "metadata": {},
   "source": [
    "We remove one gene that was scored as interactor of GATA4, but whose change in protein intensity was lower than expected: FRG1. No interactors met the criteria for removal in the TBX5 interactome."
   ]
  },
  {
   "cell_type": "code",
   "execution_count": 17,
   "metadata": {},
   "outputs": [
    {
     "data": {
      "text/html": [
       "205"
      ],
      "text/latex": [
       "205"
      ],
      "text/markdown": [
       "205"
      ],
      "text/plain": [
       "[1] 205"
      ]
     },
     "metadata": {},
     "output_type": "display_data"
    },
    {
     "data": {
      "text/html": [
       "64"
      ],
      "text/latex": [
       "64"
      ],
      "text/markdown": [
       "64"
      ],
      "text/plain": [
       "[1] 64"
      ]
     },
     "metadata": {},
     "output_type": "display_data"
    }
   ],
   "source": [
    "# Merge with bait information and filter genesets\n",
    "gata_tab$GATA4_blacklist = ifelse(gata_tab$Gene %in% gata4_blacklist$Gene, \"blacklisted\", \"not blacklisted\")\n",
    "tbx5_tab$TBX5_blacklist = ifelse(tbx5_tab$Gene %in% tbx5_blacklist$Gene, \"blacklisted\", \"not blacklisted\")\n",
    "\n",
    "gata_genes = gata_genes[which(!gata_genes %in% gata4_blacklist$Gene)]\n",
    "tbx5_genes = tbx5_genes[which(!tbx5_genes %in% tbx5_blacklist$Gene)]\n",
    "\n",
    "length(gata_genes)\n",
    "length(tbx5_genes)"
   ]
  },
  {
   "cell_type": "markdown",
   "metadata": {},
   "source": [
    "## Filtering the interactomes based on cell type co-expression"
   ]
  },
  {
   "cell_type": "markdown",
   "metadata": {},
   "source": [
    "From embryonic mouse scRNA-seq data$^{2}$, we identify the broad embryonic cell populations and specific myocardium cell types in which each bait protein is expressed. For the proteins that interact in the APMS assay, we aim to confirm that these interactions are biologically relevant, based on whether they are expressed in any of the cell types that the baits are observed in.\n",
    "\n",
    "$^{2}$Soysa, T. Yvanka de, Sanjeev S. Ranade, Satoshi Okawa, Srikanth Ravichandran, Yu Huang, Hazel T. Salunga, Amelia Schricker, Antonio Del Sol, Casey A. Gifford, and Deepak Srivastava. 2019. “Single-Cell Analysis of Cardiogenesis Reveals Basis for Organ-Level Developmental Defects.” Nature 572 (7767): 120–24."
   ]
  },
  {
   "cell_type": "code",
   "execution_count": 18,
   "metadata": {},
   "outputs": [
    {
     "data": {
      "text/html": [
       "<table>\n",
       "<thead><tr><th></th><th scope=col>Endocardial.Endothelial</th><th scope=col>Epicardium</th><th scope=col>Lateral.Plate.Mesoderm</th><th scope=col>Multipotent.Progenitors</th><th scope=col>Myocardium</th><th scope=col>Neural.Crest</th><th scope=col>Paraxial.Mesoderm</th><th scope=col>Atrial</th><th scope=col>AVC</th><th scope=col>EMP</th><th scope=col>OFT</th><th scope=col>SV</th><th scope=col>Ventricle</th></tr></thead>\n",
       "<tbody>\n",
       "\t<tr><th scope=row>Gata4</th><td>0.49680854 </td><td>1.0402156  </td><td>0.2585975  </td><td>0.2660332  </td><td>0.7435623  </td><td>0.011926803</td><td>0.010038050</td><td>0.6810797  </td><td>0.8954255  </td><td>0.7898763  </td><td>0.55845915 </td><td>1.211324   </td><td>0.5504972  </td></tr>\n",
       "\t<tr><th scope=row>Tbx5</th><td>0.04964018 </td><td>0.4602037  </td><td>0.1221794  </td><td>0.2131582  </td><td>0.6715903  </td><td>0.005005027</td><td>0.002291352</td><td>0.9706630  </td><td>1.2059016  </td><td>0.6790237  </td><td>0.07208931 </td><td>1.189701   </td><td>0.4328445  </td></tr>\n",
       "</tbody>\n",
       "</table>\n"
      ],
      "text/latex": [
       "\\begin{tabular}{r|lllllllllllll}\n",
       "  & Endocardial.Endothelial & Epicardium & Lateral.Plate.Mesoderm & Multipotent.Progenitors & Myocardium & Neural.Crest & Paraxial.Mesoderm & Atrial & AVC & EMP & OFT & SV & Ventricle\\\\\n",
       "\\hline\n",
       "\tGata4 & 0.49680854  & 1.0402156   & 0.2585975   & 0.2660332   & 0.7435623   & 0.011926803 & 0.010038050 & 0.6810797   & 0.8954255   & 0.7898763   & 0.55845915  & 1.211324    & 0.5504972  \\\\\n",
       "\tTbx5 & 0.04964018  & 0.4602037   & 0.1221794   & 0.2131582   & 0.6715903   & 0.005005027 & 0.002291352 & 0.9706630   & 1.2059016   & 0.6790237   & 0.07208931  & 1.189701    & 0.4328445  \\\\\n",
       "\\end{tabular}\n"
      ],
      "text/markdown": [
       "\n",
       "| <!--/--> | Endocardial.Endothelial | Epicardium | Lateral.Plate.Mesoderm | Multipotent.Progenitors | Myocardium | Neural.Crest | Paraxial.Mesoderm | Atrial | AVC | EMP | OFT | SV | Ventricle |\n",
       "|---|---|---|---|---|---|---|---|---|---|---|---|---|---|\n",
       "| Gata4 | 0.49680854  | 1.0402156   | 0.2585975   | 0.2660332   | 0.7435623   | 0.011926803 | 0.010038050 | 0.6810797   | 0.8954255   | 0.7898763   | 0.55845915  | 1.211324    | 0.5504972   |\n",
       "| Tbx5 | 0.04964018  | 0.4602037   | 0.1221794   | 0.2131582   | 0.6715903   | 0.005005027 | 0.002291352 | 0.9706630   | 1.2059016   | 0.6790237   | 0.07208931  | 1.189701    | 0.4328445   |\n",
       "\n"
      ],
      "text/plain": [
       "      Endocardial.Endothelial Epicardium Lateral.Plate.Mesoderm\n",
       "Gata4 0.49680854              1.0402156  0.2585975             \n",
       "Tbx5  0.04964018              0.4602037  0.1221794             \n",
       "      Multipotent.Progenitors Myocardium Neural.Crest Paraxial.Mesoderm\n",
       "Gata4 0.2660332               0.7435623  0.011926803  0.010038050      \n",
       "Tbx5  0.2131582               0.6715903  0.005005027  0.002291352      \n",
       "      Atrial    AVC       EMP       OFT        SV       Ventricle\n",
       "Gata4 0.6810797 0.8954255 0.7898763 0.55845915 1.211324 0.5504972\n",
       "Tbx5  0.9706630 1.2059016 0.6790237 0.07208931 1.189701 0.4328445"
      ]
     },
     "metadata": {},
     "output_type": "display_data"
    }
   ],
   "source": [
    "broad_expr = read.csv('../data/rnaseq/BroadPopulations_AverageExpression.csv', \n",
    "                      row.names=1, stringsAsFactors=FALSE)\n",
    "myo_expr = read.csv('../data/rnaseq/Myocardium_AverageExpression.csv', \n",
    "                   row.names=1,stringsAsFactors=FALSE)\n",
    "\n",
    "expr = cbind(broad_expr, myo_expr)\n",
    "\n",
    "expr[which(row.names(expr) %in% c(\"Gata4\",\"Tbx5\")),]"
   ]
  },
  {
   "cell_type": "markdown",
   "metadata": {},
   "source": [
    "We identify genes that were not expressed in any cell type that the baits appear in (defined by expression greater than 0.05 tpm), calling them \"non-physiological interactors.\"\n",
    "\n",
    "GATA4 cell types: Endocardial.Endothelial, Epicardium, Lateral.Plate.Mesoderm, Multipotent.Progenitors, Myocardium, Atrial, AVC, EMP, OFT, SV, Ventricle\n",
    "\n",
    "TBX5 cell types: Epicardium, Lateral.Plate.Mesoderm, Multipotent.Progenitors, Myocardium, Atrial, AVC, EMP, SV, Ventricle\n",
    "\n",
    "Both GATA4 and TBX5 were detected at tpm>0.05 in the above listed cell types, so we include any putative interactors expressed at any detectable level in one of these cell types. It should be noted that one could choose a stricter threshold or different filtering criteria in order to emphasize interactions occurring in particular cell types. "
   ]
  },
  {
   "cell_type": "code",
   "execution_count": 19,
   "metadata": {},
   "outputs": [
    {
     "data": {
      "text/html": [
       "<table>\n",
       "<thead><tr><th scope=col>MGI.symbol</th><th scope=col>HGNC.symbol</th></tr></thead>\n",
       "<tbody>\n",
       "\t<tr><td>mt-Nd5 </td><td>MT-ND5 </td></tr>\n",
       "\t<tr><td>mt-Nd2 </td><td>MT-ND2 </td></tr>\n",
       "\t<tr><td>mt-Nd4l</td><td>MT-ND4L</td></tr>\n",
       "\t<tr><td>mt-Nd3 </td><td>MT-ND3 </td></tr>\n",
       "\t<tr><td>mt-Nd6 </td><td>MT-ND6 </td></tr>\n",
       "\t<tr><td>mt-Nd4 </td><td>MT-ND4 </td></tr>\n",
       "</tbody>\n",
       "</table>\n"
      ],
      "text/latex": [
       "\\begin{tabular}{r|ll}\n",
       " MGI.symbol & HGNC.symbol\\\\\n",
       "\\hline\n",
       "\t mt-Nd5  & MT-ND5 \\\\\n",
       "\t mt-Nd2  & MT-ND2 \\\\\n",
       "\t mt-Nd4l & MT-ND4L\\\\\n",
       "\t mt-Nd3  & MT-ND3 \\\\\n",
       "\t mt-Nd6  & MT-ND6 \\\\\n",
       "\t mt-Nd4  & MT-ND4 \\\\\n",
       "\\end{tabular}\n"
      ],
      "text/markdown": [
       "\n",
       "| MGI.symbol | HGNC.symbol |\n",
       "|---|---|\n",
       "| mt-Nd5  | MT-ND5  |\n",
       "| mt-Nd2  | MT-ND2  |\n",
       "| mt-Nd4l | MT-ND4L |\n",
       "| mt-Nd3  | MT-ND3  |\n",
       "| mt-Nd6  | MT-ND6  |\n",
       "| mt-Nd4  | MT-ND4  |\n",
       "\n"
      ],
      "text/plain": [
       "  MGI.symbol HGNC.symbol\n",
       "1 mt-Nd5     MT-ND5     \n",
       "2 mt-Nd2     MT-ND2     \n",
       "3 mt-Nd4l    MT-ND4L    \n",
       "4 mt-Nd3     MT-ND3     \n",
       "5 mt-Nd6     MT-ND6     \n",
       "6 mt-Nd4     MT-ND4     "
      ]
     },
     "metadata": {},
     "output_type": "display_data"
    },
    {
     "data": {
      "text/html": [
       "<table>\n",
       "<thead><tr><th></th><th scope=col>Myocardium</th><th scope=col>Gene</th></tr></thead>\n",
       "<tbody>\n",
       "\t<tr><th scope=row>Xkr4</th><td>0.000338232</td><td>XKR4       </td></tr>\n",
       "\t<tr><th scope=row>Rp1</th><td>0.000440246</td><td>RP1        </td></tr>\n",
       "\t<tr><th scope=row>Sox17</th><td>0.004260234</td><td>SOX17      </td></tr>\n",
       "\t<tr><th scope=row>U6.1</th><td>0.000105483</td><td>NA         </td></tr>\n",
       "\t<tr><th scope=row>Mrpl15</th><td>1.848417926</td><td>MRPL15     </td></tr>\n",
       "\t<tr><th scope=row>Lypla1</th><td>0.765071909</td><td>LYPLA1     </td></tr>\n",
       "</tbody>\n",
       "</table>\n"
      ],
      "text/latex": [
       "\\begin{tabular}{r|ll}\n",
       "  & Myocardium & Gene\\\\\n",
       "\\hline\n",
       "\tXkr4 & 0.000338232 & XKR4       \\\\\n",
       "\tRp1 & 0.000440246 & RP1        \\\\\n",
       "\tSox17 & 0.004260234 & SOX17      \\\\\n",
       "\tU6.1 & 0.000105483 & NA         \\\\\n",
       "\tMrpl15 & 1.848417926 & MRPL15     \\\\\n",
       "\tLypla1 & 0.765071909 & LYPLA1     \\\\\n",
       "\\end{tabular}\n"
      ],
      "text/markdown": [
       "\n",
       "| <!--/--> | Myocardium | Gene |\n",
       "|---|---|---|\n",
       "| Xkr4 | 0.000338232 | XKR4        |\n",
       "| Rp1 | 0.000440246 | RP1         |\n",
       "| Sox17 | 0.004260234 | SOX17       |\n",
       "| U6.1 | 0.000105483 | NA          |\n",
       "| Mrpl15 | 1.848417926 | MRPL15      |\n",
       "| Lypla1 | 0.765071909 | LYPLA1      |\n",
       "\n"
      ],
      "text/plain": [
       "       Myocardium  Gene  \n",
       "Xkr4   0.000338232 XKR4  \n",
       "Rp1    0.000440246 RP1   \n",
       "Sox17  0.004260234 SOX17 \n",
       "U6.1   0.000105483 NA    \n",
       "Mrpl15 1.848417926 MRPL15\n",
       "Lypla1 0.765071909 LYPLA1"
      ]
     },
     "metadata": {},
     "output_type": "display_data"
    },
    {
     "data": {
      "text/html": [
       "<table>\n",
       "<thead><tr><th></th><th scope=col>Myocardium</th><th scope=col>Gene</th></tr></thead>\n",
       "<tbody>\n",
       "\t<tr><th scope=row>Xkr4</th><td>0.000338232</td><td>XKR4       </td></tr>\n",
       "\t<tr><th scope=row>Rp1</th><td>0.000440246</td><td>RP1        </td></tr>\n",
       "\t<tr><th scope=row>Sox17</th><td>0.004260234</td><td>SOX17      </td></tr>\n",
       "\t<tr><th scope=row>U6.1</th><td>0.000105483</td><td>U6.1       </td></tr>\n",
       "\t<tr><th scope=row>Mrpl15</th><td>1.848417926</td><td>MRPL15     </td></tr>\n",
       "\t<tr><th scope=row>Lypla1</th><td>0.765071909</td><td>LYPLA1     </td></tr>\n",
       "</tbody>\n",
       "</table>\n"
      ],
      "text/latex": [
       "\\begin{tabular}{r|ll}\n",
       "  & Myocardium & Gene\\\\\n",
       "\\hline\n",
       "\tXkr4 & 0.000338232 & XKR4       \\\\\n",
       "\tRp1 & 0.000440246 & RP1        \\\\\n",
       "\tSox17 & 0.004260234 & SOX17      \\\\\n",
       "\tU6.1 & 0.000105483 & U6.1       \\\\\n",
       "\tMrpl15 & 1.848417926 & MRPL15     \\\\\n",
       "\tLypla1 & 0.765071909 & LYPLA1     \\\\\n",
       "\\end{tabular}\n"
      ],
      "text/markdown": [
       "\n",
       "| <!--/--> | Myocardium | Gene |\n",
       "|---|---|---|\n",
       "| Xkr4 | 0.000338232 | XKR4        |\n",
       "| Rp1 | 0.000440246 | RP1         |\n",
       "| Sox17 | 0.004260234 | SOX17       |\n",
       "| U6.1 | 0.000105483 | U6.1        |\n",
       "| Mrpl15 | 1.848417926 | MRPL15      |\n",
       "| Lypla1 | 0.765071909 | LYPLA1      |\n",
       "\n"
      ],
      "text/plain": [
       "       Myocardium  Gene  \n",
       "Xkr4   0.000338232 XKR4  \n",
       "Rp1    0.000440246 RP1   \n",
       "Sox17  0.004260234 SOX17 \n",
       "U6.1   0.000105483 U6.1  \n",
       "Mrpl15 1.848417926 MRPL15\n",
       "Lypla1 0.765071909 LYPLA1"
      ]
     },
     "metadata": {},
     "output_type": "display_data"
    }
   ],
   "source": [
    "# Convert from mouse to human gene symbols, as this scRNAseq data is from mice\n",
    "library(biomaRt)\n",
    "\n",
    "mouse_to_human <- function(x){\n",
    "    \n",
    "    human = useMart(\"ensembl\", dataset = \"hsapiens_gene_ensembl\")\n",
    "    mouse = useMart(\"ensembl\", dataset = \"mmusculus_gene_ensembl\")\n",
    "    genes = getLDS(attributes = c(\"mgi_symbol\"), filters = \"mgi_symbol\", values = x , \n",
    "                   mart = mouse, attributesL = c(\"hgnc_symbol\"), martL = human, uniqueRows=F)\n",
    "    return(genes)\n",
    "}\n",
    "\n",
    "human_genes = mouse_to_human(row.names(expr))\n",
    "head(human_genes)\n",
    "\n",
    "expr$Gene = human_genes$HGNC.symbol[match(row.names(expr), human_genes$MGI.symbol)]\n",
    "head(expr[,c('Myocardium','Gene')])\n",
    "\n",
    "# To fill missing data, we insert the uppercase version of mouse symbol\n",
    "expr$Gene[is.na(expr$Gene)] <- toupper(row.names(expr)[is.na(expr$Gene)])\n",
    "head(expr[,c('Myocardium','Gene')])"
   ]
  },
  {
   "cell_type": "code",
   "execution_count": 20,
   "metadata": {},
   "outputs": [],
   "source": [
    "expr = aggregate(.~Gene, data=expr, sum) # Some entries are for the same human gene - we sum the tpm values\n",
    "row.names(expr) <- expr$Gene\n",
    "expr$Gene <- NULL\n",
    "\n",
    "gata4_cols = c(\"Endocardial.Endothelial\",\"Epicardium\",\"Lateral.Plate.Mesoderm\",\"Multipotent.Progenitors\",\n",
    "              \"Myocardium\",\"Atrial\",\"AVC\",\"EMP\",\"OFT\",\"SV\",\"Ventricle\")\n",
    "tbx5_cols = c(\"Epicardium\",\"Lateral.Plate.Mesoderm\",\"Multipotent.Progenitors\",\n",
    "              \"Myocardium\",\"Atrial\",\"AVC\",\"EMP\",\"SV\",\"Ventricle\")\n"
   ]
  },
  {
   "cell_type": "code",
   "execution_count": 21,
   "metadata": {},
   "outputs": [],
   "source": [
    "add_phys_col <- function(cols, tab){\n",
    "    \n",
    "    phys = expr[apply(expr[, cols], MARGIN = 1, function(x) any(x > 0)), ]\n",
    "    non_phys = expr[apply(expr[, cols], MARGIN = 1, function(x) all(x <= 0)), ]\n",
    "    \n",
    "    tab$coexpression = ''\n",
    "    tab$coexpression[which(tab$Gene %in% row.names(phys))] <- \"co-expressed\"\n",
    "    tab$coexpression[which(tab$Gene %in% row.names(non_phys))] <- \"not co-expressed\"\n",
    "                      \n",
    "    return(tab)\n",
    "}\n",
    "\n",
    "                      \n",
    "gata_tab = add_phys_col(gata4_cols, gata_tab)\n",
    "tbx5_tab = add_phys_col(tbx5_cols, tbx5_tab)"
   ]
  },
  {
   "cell_type": "code",
   "execution_count": 22,
   "metadata": {},
   "outputs": [
    {
     "name": "stdout",
     "output_type": "stream",
     "text": [
      "[1] \"Removed from the GATA4 interactome: \"\n",
      "[1] \"Removed from the TBX5 interactome: \"\n"
     ]
    }
   ],
   "source": [
    "nonphys_gata = gata_tab$Gene[which(gata_tab$coexpression == \"not co-expressed\")]\n",
    "nonphys_tbx5 = tbx5_tab$Gene[which(tbx5_tab$coexpression == \"not co-expressed\")]\n",
    "\n",
    "removed_gata = gata_genes[which(gata_genes %in% nonphys_gata)]\n",
    "removed_tbx5 = tbx5_genes[which(tbx5_genes %in% nonphys_tbx5)]\n",
    "\n",
    "print(paste(\"Removed from the GATA4 interactome:\",removed_gata))\n",
    "print(paste(\"Removed from the TBX5 interactome:\",removed_tbx5))"
   ]
  },
  {
   "cell_type": "code",
   "execution_count": 23,
   "metadata": {},
   "outputs": [
    {
     "name": "stdout",
     "output_type": "stream",
     "text": [
      "New interactome size after removing non-physiological interactions:\n",
      "GATA4: 205 \n",
      " TBX5: 77"
     ]
    }
   ],
   "source": [
    "gata_genes = gata_genes[which(!gata_genes %in% nonphys_gata)]\n",
    "tbx5_genes = tbx5_genes[which(!tbx5_genes %in% nonphys_tbx5)]\n",
    "\n",
    "# separate ambiguous complexes into component genes\n",
    "complex = tbx5_genes[grepl(\";\",tbx5_genes)]\n",
    "\n",
    "individual_genes = strsplit(complex,'; ')\n",
    "for (i in individual_genes){\n",
    "    tbx5_genes = c(tbx5_genes, i)\n",
    "}\n",
    "\n",
    "tbx5_genes = tbx5_genes[!grepl(';', tbx5_genes)]\n",
    "\n",
    "cat(\"New interactome size after removing non-physiological interactions:\\n\")\n",
    "cat(paste(\"GATA4:\", length(gata_genes),'\\n','TBX5:', length(tbx5_genes)))"
   ]
  },
  {
   "cell_type": "code",
   "execution_count": 24,
   "metadata": {},
   "outputs": [],
   "source": [
    "# Save lists of the final interactomes to intermediate data folder\n",
    "dir.create(\"../intermediate/interactome_lists\", showWarnings = FALSE)\n",
    "\n",
    "write.table(gata_genes, file = \"../intermediate/interactome_lists/GATA4_genes.txt\",\n",
    "           row.names=FALSE, col.names=FALSE, quote=FALSE)\n",
    "write.table(tbx5_genes, file = \"../intermediate/interactome_lists/TBX5_genes.txt\",\n",
    "           row.names=FALSE, col.names=FALSE, quote=FALSE)\n",
    "\n",
    "combined = unique(c(gata_genes, tbx5_genes))\n",
    "write.table(combined, file = \"../intermediate/interactome_lists/GATA4-TBX5_genes.txt\",\n",
    "           row.names=FALSE, col.names=FALSE, quote=FALSE)"
   ]
  },
  {
   "cell_type": "markdown",
   "metadata": {},
   "source": [
    "## Add details and save out for manuscript"
   ]
  },
  {
   "cell_type": "code",
   "execution_count": 25,
   "metadata": {},
   "outputs": [],
   "source": [
    "g4 = read.table(\"../intermediate/interactome_lists/GATA4_genes.txt\", stringsAsFactors=FALSE)\n",
    "t5 = read.table(\"../intermediate/interactome_lists/TBX5_genes.txt\", stringsAsFactors=FALSE)"
   ]
  },
  {
   "cell_type": "code",
   "execution_count": 26,
   "metadata": {},
   "outputs": [],
   "source": [
    "gata4_genes = g4$V1\n",
    "tbx5_genes = t5$V1"
   ]
  },
  {
   "cell_type": "code",
   "execution_count": 27,
   "metadata": {},
   "outputs": [
    {
     "data": {
      "text/html": [
       "<table>\n",
       "<thead><tr><th></th><th scope=col>Bait</th><th scope=col>Prey</th><th scope=col>X.Rep</th><th scope=col>AvgP</th><th scope=col>BFDR</th><th scope=col>Gene</th><th scope=col>Compartment</th><th scope=col>GATA4_blacklist</th><th scope=col>coexpression</th></tr></thead>\n",
       "<tbody>\n",
       "\t<tr><th scope=row>3</th><td>GATA4          </td><td>A4D1P6         </td><td>3              </td><td>1              </td><td>0              </td><td>WDR91          </td><td>Nucleus        </td><td>not blacklisted</td><td>co-expressed   </td></tr>\n",
       "\t<tr><th scope=row>6</th><td>GATA4          </td><td>A6NHQ2         </td><td>3              </td><td>1              </td><td>0              </td><td>FBLL1          </td><td>Nucleus        </td><td>not blacklisted</td><td>co-expressed   </td></tr>\n",
       "\t<tr><th scope=row>8</th><td>GATA4          </td><td>A7E2V4         </td><td>3              </td><td>1              </td><td>0              </td><td>ZSWIM8         </td><td>Nucleus        </td><td>not blacklisted</td><td>               </td></tr>\n",
       "\t<tr><th scope=row>14</th><td>GATA4          </td><td>O00422         </td><td>3              </td><td>1              </td><td>0              </td><td>SAP18          </td><td>NA             </td><td>not blacklisted</td><td>co-expressed   </td></tr>\n",
       "\t<tr><th scope=row>23</th><td>GATA4          </td><td>O14497         </td><td>3              </td><td>1              </td><td>0              </td><td>ARID1A         </td><td>NA             </td><td>not blacklisted</td><td>co-expressed   </td></tr>\n",
       "\t<tr><th scope=row>26</th><td>GATA4          </td><td>O14646         </td><td>3              </td><td>1              </td><td>0              </td><td>CHD1           </td><td>NA             </td><td>not blacklisted</td><td>co-expressed   </td></tr>\n",
       "</tbody>\n",
       "</table>\n"
      ],
      "text/latex": [
       "\\begin{tabular}{r|lllllllll}\n",
       "  & Bait & Prey & X.Rep & AvgP & BFDR & Gene & Compartment & GATA4\\_blacklist & coexpression\\\\\n",
       "\\hline\n",
       "\t3 & GATA4           & A4D1P6          & 3               & 1               & 0               & WDR91           & Nucleus         & not blacklisted & co-expressed   \\\\\n",
       "\t6 & GATA4           & A6NHQ2          & 3               & 1               & 0               & FBLL1           & Nucleus         & not blacklisted & co-expressed   \\\\\n",
       "\t8 & GATA4           & A7E2V4          & 3               & 1               & 0               & ZSWIM8          & Nucleus         & not blacklisted &                \\\\\n",
       "\t14 & GATA4           & O00422          & 3               & 1               & 0               & SAP18           & NA              & not blacklisted & co-expressed   \\\\\n",
       "\t23 & GATA4           & O14497          & 3               & 1               & 0               & ARID1A          & NA              & not blacklisted & co-expressed   \\\\\n",
       "\t26 & GATA4           & O14646          & 3               & 1               & 0               & CHD1            & NA              & not blacklisted & co-expressed   \\\\\n",
       "\\end{tabular}\n"
      ],
      "text/markdown": [
       "\n",
       "| <!--/--> | Bait | Prey | X.Rep | AvgP | BFDR | Gene | Compartment | GATA4_blacklist | coexpression |\n",
       "|---|---|---|---|---|---|---|---|---|---|\n",
       "| 3 | GATA4           | A4D1P6          | 3               | 1               | 0               | WDR91           | Nucleus         | not blacklisted | co-expressed    |\n",
       "| 6 | GATA4           | A6NHQ2          | 3               | 1               | 0               | FBLL1           | Nucleus         | not blacklisted | co-expressed    |\n",
       "| 8 | GATA4           | A7E2V4          | 3               | 1               | 0               | ZSWIM8          | Nucleus         | not blacklisted |                 |\n",
       "| 14 | GATA4           | O00422          | 3               | 1               | 0               | SAP18           | NA              | not blacklisted | co-expressed    |\n",
       "| 23 | GATA4           | O14497          | 3               | 1               | 0               | ARID1A          | NA              | not blacklisted | co-expressed    |\n",
       "| 26 | GATA4           | O14646          | 3               | 1               | 0               | CHD1            | NA              | not blacklisted | co-expressed    |\n",
       "\n"
      ],
      "text/plain": [
       "   Bait  Prey   X.Rep AvgP BFDR Gene   Compartment GATA4_blacklist coexpression\n",
       "3  GATA4 A4D1P6 3     1    0    WDR91  Nucleus     not blacklisted co-expressed\n",
       "6  GATA4 A6NHQ2 3     1    0    FBLL1  Nucleus     not blacklisted co-expressed\n",
       "8  GATA4 A7E2V4 3     1    0    ZSWIM8 Nucleus     not blacklisted             \n",
       "14 GATA4 O00422 3     1    0    SAP18  NA          not blacklisted co-expressed\n",
       "23 GATA4 O14497 3     1    0    ARID1A NA          not blacklisted co-expressed\n",
       "26 GATA4 O14646 3     1    0    CHD1   NA          not blacklisted co-expressed"
      ]
     },
     "metadata": {},
     "output_type": "display_data"
    }
   ],
   "source": [
    "head(gata_tab)"
   ]
  },
  {
   "cell_type": "markdown",
   "metadata": {},
   "source": [
    "### Identify proteins shared between baits"
   ]
  },
  {
   "cell_type": "code",
   "execution_count": 28,
   "metadata": {},
   "outputs": [
    {
     "data": {
      "text/html": [
       "10"
      ],
      "text/latex": [
       "10"
      ],
      "text/markdown": [
       "10"
      ],
      "text/plain": [
       "[1] 10"
      ]
     },
     "metadata": {},
     "output_type": "display_data"
    }
   ],
   "source": [
    "shared = gata_genes[gata_genes %in% tbx5_genes]\n",
    "\n",
    "gata_tab$GT_shared_interactor <- ifelse(gata_tab$Gene %in% shared, \"shared\", 'not shared')\n",
    "tbx5_tab$GT_shared_interactor <- ifelse(tbx5_tab$Gene %in% shared, \"shared\", 'not shared')\n",
    "\n",
    "length(shared)"
   ]
  },
  {
   "cell_type": "markdown",
   "metadata": {},
   "source": [
    "### Create a column for whether the interaction is known in iRefIndex"
   ]
  },
  {
   "cell_type": "code",
   "execution_count": 29,
   "metadata": {},
   "outputs": [],
   "source": [
    "ppi = read.table('../data/databases/mammalian_iRefIndex.txt',sep=\"\\t\",header=TRUE)\n",
    "\n",
    "known_interaction <- function(bait_uid,prey_list){\n",
    "    df = ppi[which(ppi$uidA == bait_uid),]\n",
    "    bool_array = ifelse(prey_list %in% df$uidB, 'known interactor', 'unknown interactor')\n",
    "}\n",
    "\n",
    "gata_tab$known_interaction = known_interaction(\"P43694\", gata_tab$Prey)\n",
    "tbx5_tab$known_interaction = known_interaction(\"Q99593\", tbx5_tab$Prey)"
   ]
  },
  {
   "cell_type": "code",
   "execution_count": 30,
   "metadata": {},
   "outputs": [
    {
     "data": {
      "text/plain": [
       "\n",
       "  known interactor unknown interactor \n",
       "                 1                234 "
      ]
     },
     "metadata": {},
     "output_type": "display_data"
    }
   ],
   "source": [
    "table(gata_tab$known_interaction)"
   ]
  },
  {
   "cell_type": "code",
   "execution_count": 31,
   "metadata": {},
   "outputs": [
    {
     "data": {
      "text/html": [
       "<table>\n",
       "<thead><tr><th></th><th scope=col>uidA</th><th scope=col>uidB</th><th scope=col>aliasA</th><th scope=col>aliasB</th><th scope=col>interactionType</th></tr></thead>\n",
       "<tbody>\n",
       "\t<tr><th scope=row>223</th><td>P43694                              </td><td>Q02363                              </td><td>GATA4                               </td><td>ID2                                 </td><td>MI:0915(physical association)       </td></tr>\n",
       "\t<tr><th scope=row>235</th><td>P43694                              </td><td>Q02363                              </td><td>GATA4                               </td><td>ID2                                 </td><td>MI:0407(direct interaction)         </td></tr>\n",
       "\t<tr><th scope=row>248</th><td>P43694                              </td><td>Q02363                              </td><td>GATA4                               </td><td>ID2                                 </td><td>MI:0407(direct interaction)         </td></tr>\n",
       "\t<tr><th scope=row>98857</th><td>P43694                              </td><td>P08123                              </td><td>GATA4                               </td><td>COL1A2                              </td><td>psi-mi:MI:0915(physical association)</td></tr>\n",
       "\t<tr><th scope=row>217540</th><td>P43694                              </td><td>P28482                              </td><td>GATA4                               </td><td>MAPK1                               </td><td>MI:0407(direct interaction)         </td></tr>\n",
       "\t<tr><th scope=row>217670</th><td>P43694                              </td><td>Q9Y2Y9                              </td><td>GATA4                               </td><td>KLF13                               </td><td>MI:0915(physical association)       </td></tr>\n",
       "\t<tr><th scope=row>217671</th><td>P43694                              </td><td>Q9Y2Y9                              </td><td>GATA4                               </td><td>KLF13                               </td><td>MI:0915(physical association)       </td></tr>\n",
       "\t<tr><th scope=row>217672</th><td>P43694                              </td><td>Q9Y2Y9                              </td><td>GATA4                               </td><td>KLF13                               </td><td>MI:0915(physical association)       </td></tr>\n",
       "\t<tr><th scope=row>246120</th><td>P43694                              </td><td>Q8IX07                              </td><td>GATA4                               </td><td>ZFPM1                               </td><td>psi-mi:MI:0915(physical association)</td></tr>\n",
       "</tbody>\n",
       "</table>\n"
      ],
      "text/latex": [
       "\\begin{tabular}{r|lllll}\n",
       "  & uidA & uidB & aliasA & aliasB & interactionType\\\\\n",
       "\\hline\n",
       "\t223 & P43694                               & Q02363                               & GATA4                                & ID2                                  & MI:0915(physical association)       \\\\\n",
       "\t235 & P43694                               & Q02363                               & GATA4                                & ID2                                  & MI:0407(direct interaction)         \\\\\n",
       "\t248 & P43694                               & Q02363                               & GATA4                                & ID2                                  & MI:0407(direct interaction)         \\\\\n",
       "\t98857 & P43694                               & P08123                               & GATA4                                & COL1A2                               & psi-mi:MI:0915(physical association)\\\\\n",
       "\t217540 & P43694                               & P28482                               & GATA4                                & MAPK1                                & MI:0407(direct interaction)         \\\\\n",
       "\t217670 & P43694                               & Q9Y2Y9                               & GATA4                                & KLF13                                & MI:0915(physical association)       \\\\\n",
       "\t217671 & P43694                               & Q9Y2Y9                               & GATA4                                & KLF13                                & MI:0915(physical association)       \\\\\n",
       "\t217672 & P43694                               & Q9Y2Y9                               & GATA4                                & KLF13                                & MI:0915(physical association)       \\\\\n",
       "\t246120 & P43694                               & Q8IX07                               & GATA4                                & ZFPM1                                & psi-mi:MI:0915(physical association)\\\\\n",
       "\\end{tabular}\n"
      ],
      "text/markdown": [
       "\n",
       "| <!--/--> | uidA | uidB | aliasA | aliasB | interactionType |\n",
       "|---|---|---|---|---|---|\n",
       "| 223 | P43694                               | Q02363                               | GATA4                                | ID2                                  | MI:0915(physical association)        |\n",
       "| 235 | P43694                               | Q02363                               | GATA4                                | ID2                                  | MI:0407(direct interaction)          |\n",
       "| 248 | P43694                               | Q02363                               | GATA4                                | ID2                                  | MI:0407(direct interaction)          |\n",
       "| 98857 | P43694                               | P08123                               | GATA4                                | COL1A2                               | psi-mi:MI:0915(physical association) |\n",
       "| 217540 | P43694                               | P28482                               | GATA4                                | MAPK1                                | MI:0407(direct interaction)          |\n",
       "| 217670 | P43694                               | Q9Y2Y9                               | GATA4                                | KLF13                                | MI:0915(physical association)        |\n",
       "| 217671 | P43694                               | Q9Y2Y9                               | GATA4                                | KLF13                                | MI:0915(physical association)        |\n",
       "| 217672 | P43694                               | Q9Y2Y9                               | GATA4                                | KLF13                                | MI:0915(physical association)        |\n",
       "| 246120 | P43694                               | Q8IX07                               | GATA4                                | ZFPM1                                | psi-mi:MI:0915(physical association) |\n",
       "\n"
      ],
      "text/plain": [
       "       uidA   uidB   aliasA aliasB interactionType                     \n",
       "223    P43694 Q02363 GATA4  ID2    MI:0915(physical association)       \n",
       "235    P43694 Q02363 GATA4  ID2    MI:0407(direct interaction)         \n",
       "248    P43694 Q02363 GATA4  ID2    MI:0407(direct interaction)         \n",
       "98857  P43694 P08123 GATA4  COL1A2 psi-mi:MI:0915(physical association)\n",
       "217540 P43694 P28482 GATA4  MAPK1  MI:0407(direct interaction)         \n",
       "217670 P43694 Q9Y2Y9 GATA4  KLF13  MI:0915(physical association)       \n",
       "217671 P43694 Q9Y2Y9 GATA4  KLF13  MI:0915(physical association)       \n",
       "217672 P43694 Q9Y2Y9 GATA4  KLF13  MI:0915(physical association)       \n",
       "246120 P43694 Q8IX07 GATA4  ZFPM1  psi-mi:MI:0915(physical association)"
      ]
     },
     "metadata": {},
     "output_type": "display_data"
    }
   ],
   "source": [
    "bait_uid = \"P43694\"\n",
    "df = ppi[which(ppi$uidA == bait_uid),]\n",
    "df"
   ]
  },
  {
   "cell_type": "markdown",
   "metadata": {},
   "source": [
    "### Create a column for whether the gene has been identified as a CHD risk gene previously"
   ]
  },
  {
   "cell_type": "code",
   "execution_count": 32,
   "metadata": {},
   "outputs": [
    {
     "data": {
      "text/html": [
       "<table>\n",
       "<thead><tr><th></th><th scope=col>Bait</th><th scope=col>Prey</th><th scope=col>X.Rep</th><th scope=col>AvgP</th><th scope=col>BFDR</th><th scope=col>Gene</th><th scope=col>Compartment</th><th scope=col>GATA4_blacklist</th><th scope=col>coexpression</th><th scope=col>GT_shared_interactor</th><th scope=col>known_interaction</th><th scope=col>known_CHD_gene</th></tr></thead>\n",
       "<tbody>\n",
       "\t<tr><th scope=row>3</th><td>GATA4             </td><td>A4D1P6            </td><td>3                 </td><td>1                 </td><td>0                 </td><td>WDR91             </td><td>Nucleus           </td><td>not blacklisted   </td><td>co-expressed      </td><td>not shared        </td><td>unknown interactor</td><td>not known CHD     </td></tr>\n",
       "\t<tr><th scope=row>6</th><td>GATA4             </td><td>A6NHQ2            </td><td>3                 </td><td>1                 </td><td>0                 </td><td>FBLL1             </td><td>Nucleus           </td><td>not blacklisted   </td><td>co-expressed      </td><td>not shared        </td><td>unknown interactor</td><td>not known CHD     </td></tr>\n",
       "\t<tr><th scope=row>8</th><td>GATA4             </td><td>A7E2V4            </td><td>3                 </td><td>1                 </td><td>0                 </td><td>ZSWIM8            </td><td>Nucleus           </td><td>not blacklisted   </td><td>                  </td><td>not shared        </td><td>unknown interactor</td><td>not known CHD     </td></tr>\n",
       "\t<tr><th scope=row>14</th><td>GATA4             </td><td>O00422            </td><td>3                 </td><td>1                 </td><td>0                 </td><td>SAP18             </td><td>NA                </td><td>not blacklisted   </td><td>co-expressed      </td><td>not shared        </td><td>unknown interactor</td><td>not known CHD     </td></tr>\n",
       "\t<tr><th scope=row>23</th><td>GATA4             </td><td>O14497            </td><td>3                 </td><td>1                 </td><td>0                 </td><td>ARID1A            </td><td>NA                </td><td>not blacklisted   </td><td>co-expressed      </td><td>not shared        </td><td>unknown interactor</td><td>known CHD         </td></tr>\n",
       "\t<tr><th scope=row>26</th><td>GATA4             </td><td>O14646            </td><td>3                 </td><td>1                 </td><td>0                 </td><td>CHD1              </td><td>NA                </td><td>not blacklisted   </td><td>co-expressed      </td><td>not shared        </td><td>unknown interactor</td><td>not known CHD     </td></tr>\n",
       "</tbody>\n",
       "</table>\n"
      ],
      "text/latex": [
       "\\begin{tabular}{r|llllllllllll}\n",
       "  & Bait & Prey & X.Rep & AvgP & BFDR & Gene & Compartment & GATA4\\_blacklist & coexpression & GT\\_shared\\_interactor & known\\_interaction & known\\_CHD\\_gene\\\\\n",
       "\\hline\n",
       "\t3 & GATA4              & A4D1P6             & 3                  & 1                  & 0                  & WDR91              & Nucleus            & not blacklisted    & co-expressed       & not shared         & unknown interactor & not known CHD     \\\\\n",
       "\t6 & GATA4              & A6NHQ2             & 3                  & 1                  & 0                  & FBLL1              & Nucleus            & not blacklisted    & co-expressed       & not shared         & unknown interactor & not known CHD     \\\\\n",
       "\t8 & GATA4              & A7E2V4             & 3                  & 1                  & 0                  & ZSWIM8             & Nucleus            & not blacklisted    &                    & not shared         & unknown interactor & not known CHD     \\\\\n",
       "\t14 & GATA4              & O00422             & 3                  & 1                  & 0                  & SAP18              & NA                 & not blacklisted    & co-expressed       & not shared         & unknown interactor & not known CHD     \\\\\n",
       "\t23 & GATA4              & O14497             & 3                  & 1                  & 0                  & ARID1A             & NA                 & not blacklisted    & co-expressed       & not shared         & unknown interactor & known CHD         \\\\\n",
       "\t26 & GATA4              & O14646             & 3                  & 1                  & 0                  & CHD1               & NA                 & not blacklisted    & co-expressed       & not shared         & unknown interactor & not known CHD     \\\\\n",
       "\\end{tabular}\n"
      ],
      "text/markdown": [
       "\n",
       "| <!--/--> | Bait | Prey | X.Rep | AvgP | BFDR | Gene | Compartment | GATA4_blacklist | coexpression | GT_shared_interactor | known_interaction | known_CHD_gene |\n",
       "|---|---|---|---|---|---|---|---|---|---|---|---|---|\n",
       "| 3 | GATA4              | A4D1P6             | 3                  | 1                  | 0                  | WDR91              | Nucleus            | not blacklisted    | co-expressed       | not shared         | unknown interactor | not known CHD      |\n",
       "| 6 | GATA4              | A6NHQ2             | 3                  | 1                  | 0                  | FBLL1              | Nucleus            | not blacklisted    | co-expressed       | not shared         | unknown interactor | not known CHD      |\n",
       "| 8 | GATA4              | A7E2V4             | 3                  | 1                  | 0                  | ZSWIM8             | Nucleus            | not blacklisted    |                    | not shared         | unknown interactor | not known CHD      |\n",
       "| 14 | GATA4              | O00422             | 3                  | 1                  | 0                  | SAP18              | NA                 | not blacklisted    | co-expressed       | not shared         | unknown interactor | not known CHD      |\n",
       "| 23 | GATA4              | O14497             | 3                  | 1                  | 0                  | ARID1A             | NA                 | not blacklisted    | co-expressed       | not shared         | unknown interactor | known CHD          |\n",
       "| 26 | GATA4              | O14646             | 3                  | 1                  | 0                  | CHD1               | NA                 | not blacklisted    | co-expressed       | not shared         | unknown interactor | not known CHD      |\n",
       "\n"
      ],
      "text/plain": [
       "   Bait  Prey   X.Rep AvgP BFDR Gene   Compartment GATA4_blacklist coexpression\n",
       "3  GATA4 A4D1P6 3     1    0    WDR91  Nucleus     not blacklisted co-expressed\n",
       "6  GATA4 A6NHQ2 3     1    0    FBLL1  Nucleus     not blacklisted co-expressed\n",
       "8  GATA4 A7E2V4 3     1    0    ZSWIM8 Nucleus     not blacklisted             \n",
       "14 GATA4 O00422 3     1    0    SAP18  NA          not blacklisted co-expressed\n",
       "23 GATA4 O14497 3     1    0    ARID1A NA          not blacklisted co-expressed\n",
       "26 GATA4 O14646 3     1    0    CHD1   NA          not blacklisted co-expressed\n",
       "   GT_shared_interactor known_interaction  known_CHD_gene\n",
       "3  not shared           unknown interactor not known CHD \n",
       "6  not shared           unknown interactor not known CHD \n",
       "8  not shared           unknown interactor not known CHD \n",
       "14 not shared           unknown interactor not known CHD \n",
       "23 not shared           unknown interactor known CHD     \n",
       "26 not shared           unknown interactor not known CHD "
      ]
     },
     "metadata": {},
     "output_type": "display_data"
    }
   ],
   "source": [
    "known = read.table(\"../data/databases/known_CHD_genes.txt\", stringsAsFactors = FALSE)\n",
    "known_genes = known$V1\n",
    "\n",
    "gata_tab$known_CHD_gene <- ifelse(gata_tab$Gene %in% known_genes, \"known CHD\", 'not known CHD')\n",
    "tbx5_tab$known_CHD_gene <- ifelse(tbx5_tab$Gene %in% known_genes, \"known CHD\", 'not known CHD')\n",
    "\n",
    "head(gata_tab)"
   ]
  },
  {
   "cell_type": "code",
   "execution_count": 33,
   "metadata": {},
   "outputs": [
    {
     "data": {
      "text/html": [
       "235"
      ],
      "text/latex": [
       "235"
      ],
      "text/markdown": [
       "235"
      ],
      "text/plain": [
       "[1] 235"
      ]
     },
     "metadata": {},
     "output_type": "display_data"
    }
   ],
   "source": [
    "# Add column to indicate whether we consider it part of the final interactome\n",
    "gata_tab$GT.PPI <- ifelse(gata_tab$Gene %in% gata_genes, 'GT.PPI','non-physiological interaction')\n",
    "tbx5_tab$GT.PPI <- ifelse(tbx5_tab$Gene %in% tbx5_genes, 'GT.PPI','non-physiological interaction')\n",
    "\n",
    "gata_tab = unique(gata_tab)\n",
    "tbx5_tab = unique(tbx5_tab)\n",
    "\n",
    "nrow(gata_tab)"
   ]
  },
  {
   "cell_type": "code",
   "execution_count": 34,
   "metadata": {},
   "outputs": [],
   "source": [
    "write.csv(gata_tab, \"../manuscript/tables/GATA4_interactor_data.csv\", row.names=F, quote=F)\n",
    "write.csv(tbx5_tab, \"../manuscript/tables/TBX5_interactor_data.csv\", row.names=F, quote=F)"
   ]
  },
  {
   "cell_type": "markdown",
   "metadata": {},
   "source": [
    "## Repeat with HEK293T dataset"
   ]
  },
  {
   "cell_type": "markdown",
   "metadata": {},
   "source": [
    "### Create GATA4 HEK interactome"
   ]
  },
  {
   "cell_type": "code",
   "execution_count": 35,
   "metadata": {},
   "outputs": [
    {
     "name": "stderr",
     "output_type": "stream",
     "text": [
      ">> GENERATING A SAINTq INPUT FILE \n",
      ">> CHECKING THE keys FILE FIRST \n",
      ">> MERGING FILES \n",
      "--- Making the <Leading.Razor.Protein> the <Proteins> column \n",
      "--- ALL peptides with intensities will be used to generate the \n",
      "      saintq input file (indepependently of the number of spectral counts \n",
      "--- Removing empty protein ids (if any) \n",
      "--- Removing Protein Groups (if any) \n",
      "--- Removing contaminants\n",
      "-- CONTAMINANTS CON__|REV__ REMOVED \n",
      ">> NEW 4 FILES CREATED:\n",
      "\t- saintq-config-peptides\n",
      "\t- saintq-config-proteins\n",
      "\t- saintq_input_peptides.txt\n",
      "\t- saintq_input_proteins.txt\n",
      ">> DONE! \n"
     ]
    }
   ],
   "source": [
    "bait = 'HEK-GATA4'\n",
    "input_level = \"protein\"\n",
    "annot_file = paste0(\"../data/apms/\", bait, \"_annotation.txt\")\n",
    "ev_file = paste0(\"../data/apms/\", bait, \"_evidence.txt\")\n",
    "config_dir = paste0(\"../intermediate/saintq_config/\",bait)\n",
    "\n",
    "if (! dir.exists(config_dir)){\n",
    "    dir.create(config_dir)\n",
    "}\n",
    "\n",
    "create_artMSfiles(annot_file, ev_file, config_dir, bait)\n",
    "\n",
    "\n",
    "input_file = paste0(\"saintq_input_proteins.txt\")\n",
    "param_file = paste0(config_dir, \"/\", bait, \"_parameters.txt\")\n",
    "\n",
    "write_params(input_file, input_level, param_file)\n",
    "\n",
    "\n",
    "out_path = paste0(bait, \"_saintq_results.txt\")\n",
    "run_saintq(param_file, input_file, config_dir, out_path)"
   ]
  },
  {
   "cell_type": "markdown",
   "metadata": {},
   "source": [
    "### Create TBX5 HEK interactome"
   ]
  },
  {
   "cell_type": "code",
   "execution_count": 36,
   "metadata": {},
   "outputs": [
    {
     "name": "stderr",
     "output_type": "stream",
     "text": [
      ">> GENERATING A SAINTq INPUT FILE \n",
      ">> CHECKING THE keys FILE FIRST \n",
      ">> MERGING FILES \n",
      "--- Making the <Leading.Razor.Protein> the <Proteins> column \n",
      "--- ALL peptides with intensities will be used to generate the \n",
      "      saintq input file (indepependently of the number of spectral counts \n",
      "--- Removing empty protein ids (if any) \n",
      "--- Removing Protein Groups (if any) \n",
      "--- Removing contaminants\n",
      "-- CONTAMINANTS CON__|REV__ REMOVED \n",
      ">> NEW 4 FILES CREATED:\n",
      "\t- saintq-config-peptides\n",
      "\t- saintq-config-proteins\n",
      "\t- saintq_input_peptides.txt\n",
      "\t- saintq_input_proteins.txt\n",
      ">> DONE! \n"
     ]
    }
   ],
   "source": [
    "bait = 'HEK-TBX5'\n",
    "input_level = \"peptide\"\n",
    "annot_file = paste0(\"../data/apms/\", bait, \"_annotation.txt\")\n",
    "ev_file = paste0(\"../data/apms/\", bait, \"_evidence.txt\")\n",
    "config_dir = paste0(\"../intermediate/saintq_config/\",bait)\n",
    "\n",
    "if (! dir.exists(config_dir)){\n",
    "    dir.create(config_dir)\n",
    "}\n",
    "\n",
    "create_artMSfiles(annot_file, ev_file, config_dir, bait)\n",
    "\n",
    "\n",
    "input_file = paste0(\"saintq_input_peptides.txt\")\n",
    "param_file = paste0(config_dir, \"/\", bait, \"_parameters.txt\")\n",
    "\n",
    "write_params(input_file, input_level, param_file)\n",
    "\n",
    "out_path = paste0(bait, \"_saintq_results.txt\")\n",
    "run_saintq(param_file, input_file, config_dir, out_path)"
   ]
  },
  {
   "cell_type": "markdown",
   "metadata": {},
   "source": [
    "#### Filter by compartment and cell-type co-expression"
   ]
  },
  {
   "cell_type": "code",
   "execution_count": 37,
   "metadata": {},
   "outputs": [],
   "source": [
    "hgata_tab = summarize_results(\"HEK-GATA4\", 0.001)\n",
    "htbx5_tab = summarize_results(\"HEK-TBX5\", 0.05)\n",
    "\n",
    "compartments = read.table(\"../data/databases/BINGO_nuclear_localization.txt\",\n",
    "                         sep = \"\\t\", header = TRUE, stringsAsFactors = FALSE)\n",
    "\n",
    "hgata_tab$Compartment = compartments$subcellular.location[match(hgata_tab$Prey, compartments$UniprotID)]\n",
    "htbx5_tab$Compartment = compartments$subcellular.location[match(htbx5_tab$Prey, compartments$UniprotID)]\n",
    "\n",
    "nuclear_s = c(\"nucleus\",\"Nucleus\",NA) \n",
    "hgata_genes = hgata_tab$Gene[which(hgata_tab$Compartment %in% nuclear_s)]\n",
    "htbx5_genes = htbx5_tab$Gene[which(htbx5_tab$Compartment %in% nuclear_s)]"
   ]
  },
  {
   "cell_type": "code",
   "execution_count": 38,
   "metadata": {},
   "outputs": [],
   "source": [
    "# Save out list\n",
    "write.table(hgata_genes, file = \"../intermediate/interactome_lists/HEK-GATA4_genes.txt\",\n",
    "           row.names=FALSE, col.names=FALSE, quote=FALSE)\n",
    "write.table(htbx5_genes, file = \"../intermediate/interactome_lists/HEK-TBX5_genes.txt\",\n",
    "           row.names=FALSE, col.names=FALSE, quote=FALSE)\n",
    "\n",
    "hcombined = unique(c(hgata_genes, htbx5_genes))\n",
    "write.table(hcombined, file = \"../intermediate/interactome_lists/HEKGATA4-HEKTBX5_genes.txt\",\n",
    "           row.names=FALSE, col.names=FALSE, quote=FALSE)"
   ]
  },
  {
   "cell_type": "code",
   "execution_count": 39,
   "metadata": {},
   "outputs": [],
   "source": [
    "# Write out data\n",
    "hgata_tab = hgata_tab[which(hgata_tab$Gene != \"NA\"),]\n",
    "htbx5_tab = htbx5_tab[which(htbx5_tab$Gene != \"NA\"),]\n"
   ]
  },
  {
   "cell_type": "code",
   "execution_count": 40,
   "metadata": {},
   "outputs": [],
   "source": [
    "write.csv(hgata_tab, \"../manuscript/tables/HEK-GATA4_interactor_data.csv\", quote=F, row.names=F)\n",
    "write.csv(htbx5_tab, \"../manuscript/tables/HEK-TBX5_interactor_data.csv\",quote=F, row.names=F)"
   ]
  },
  {
   "cell_type": "code",
   "execution_count": 41,
   "metadata": {},
   "outputs": [
    {
     "name": "stdout",
     "output_type": "stream",
     "text": [
      "[1] \"Old interactome size: \"\n",
      "[1] 142\n",
      "[1] 90\n",
      "[1] \"New interactome size after removing non-physiological interactions: \"\n",
      "[1] 142\n",
      "[1] 90\n"
     ]
    }
   ],
   "source": [
    "hgata_tab = add_phys_col(gata4_cols, hgata_tab)\n",
    "htbx5_tab = add_phys_col(tbx5_cols, htbx5_tab)\n",
    "\n",
    "nonphys_hgata = hgata_tab$Gene[which(hgata_tab$physiological_interaction == \"non-physiological\")]\n",
    "nonphys_htbx5 = htbx5_tab$Gene[which(htbx5_tab$physiological_interaction == \"non-physiological\")]\n",
    "\n",
    "print(\"Old interactome size: \")\n",
    "print(length(hgata_genes))\n",
    "print(length(htbx5_genes))\n",
    "\n",
    "hgata_genes = hgata_genes[which(!hgata_genes %in% nonphys_hgata)]\n",
    "htbx5_genes = htbx5_genes[which(!htbx5_genes %in% nonphys_htbx5)]\n",
    "\n",
    "print(\"New interactome size after removing non-physiological interactions: \")\n",
    "print(length(hgata_genes))\n",
    "print(length(htbx5_genes))"
   ]
  },
  {
   "cell_type": "code",
   "execution_count": 42,
   "metadata": {},
   "outputs": [],
   "source": [
    "# Save out list\n",
    "write.table(hgata_genes, file = \"../intermediate/interactome_lists/HEK-GATA4_genes.txt\",\n",
    "           row.names=FALSE, col.names=FALSE, quote=FALSE)\n",
    "write.table(htbx5_genes, file = \"../intermediate/interactome_lists/HEK-TBX5_genes.txt\",\n",
    "           row.names=FALSE, col.names=FALSE, quote=FALSE)\n",
    "\n",
    "hcombined = unique(c(hgata_genes, htbx5_genes))\n",
    "write.table(hcombined, file = \"../intermediate/interactome_lists/HEKGATA4-HEKTBX5_genes.txt\",\n",
    "           row.names=FALSE, col.names=FALSE, quote=FALSE)"
   ]
  },
  {
   "cell_type": "code",
   "execution_count": null,
   "metadata": {},
   "outputs": [],
   "source": []
  }
 ],
 "metadata": {
  "kernelspec": {
   "display_name": "R",
   "language": "R",
   "name": "ir"
  },
  "language_info": {
   "codemirror_mode": "r",
   "file_extension": ".r",
   "mimetype": "text/x-r-source",
   "name": "R",
   "pygments_lexer": "r",
   "version": "3.6.1"
  }
 },
 "nbformat": 4,
 "nbformat_minor": 4
}
